{
 "cells": [
  {
   "cell_type": "markdown",
   "metadata": {
    "id": "jQneuOPwvl84"
   },
   "source": [
    "____\n",
    "__Universidad Tecnológica Nacional, Buenos Aires__\\\n",
    "__Ingeniería Industrial__\\\n",
    "__Docente: Martin Palazzo__\\\n",
    "__Ciencia de Datos - Curso I5521 - Turno Jueves Noche__\n",
    "____"
   ]
  },
  {
   "cell_type": "code",
   "execution_count": null,
   "metadata": {
    "id": "edwroL3-lQdD"
   },
   "outputs": [],
   "source": [
    "# importamos las librerías necesarias para trabajar.\n",
    "import matplotlib.pyplot as plt\n",
    "import numpy as np\n",
    "import pandas as pd\n",
    "import seaborn as sns\n",
    "from sklearn.datasets import load_breast_cancer\n",
    "from sklearn.decomposition import PCA, KernelPCA\n",
    "from sklearn.model_selection import train_test_split\n",
    "from sklearn.preprocessing import StandardScaler\n"
   ]
  },
  {
   "cell_type": "markdown",
   "metadata": {
    "id": "z_dDlUYNlQdW"
   },
   "source": [
    "# Importamos dataset de Wisconsin Breast Cancer"
   ]
  },
  {
   "cell_type": "code",
   "execution_count": null,
   "metadata": {
    "id": "A8jNEkkJlQdX"
   },
   "outputs": [],
   "source": [
    "\n",
    "data = load_breast_cancer()\n",
    "x = data.data\n",
    "y = data.target"
   ]
  },
  {
   "cell_type": "code",
   "execution_count": null,
   "metadata": {
    "colab": {
     "base_uri": "https://localhost:8080/",
     "height": 35
    },
    "executionInfo": {
     "elapsed": 1724,
     "status": "ok",
     "timestamp": 1601734410429,
     "user": {
      "displayName": "Cluster AI",
      "photoUrl": "https://lh3.googleusercontent.com/a-/AOh14GhieU54HU6iNPdQE71F_fCSeuzFpr1KEUKjfiyo=s64",
      "userId": "16358828312196303941"
     },
     "user_tz": 180
    },
    "id": "J8JDzLZmzzLD",
    "outputId": "eb19212b-c294-4b6c-adc8-07acb1b244a5"
   },
   "outputs": [],
   "source": [
    "type(x)"
   ]
  },
  {
   "cell_type": "code",
   "execution_count": null,
   "metadata": {
    "colab": {
     "base_uri": "https://localhost:8080/",
     "height": 35
    },
    "executionInfo": {
     "elapsed": 917,
     "status": "ok",
     "timestamp": 1601734420971,
     "user": {
      "displayName": "Cluster AI",
      "photoUrl": "https://lh3.googleusercontent.com/a-/AOh14GhieU54HU6iNPdQE71F_fCSeuzFpr1KEUKjfiyo=s64",
      "userId": "16358828312196303941"
     },
     "user_tz": 180
    },
    "id": "q4U2SSFJz4Kj",
    "outputId": "8d07c998-c3b2-403a-f537-ded1e1ac1f23"
   },
   "outputs": [],
   "source": [
    "np.shape(x)"
   ]
  },
  {
   "cell_type": "code",
   "execution_count": null,
   "metadata": {
    "colab": {
     "base_uri": "https://localhost:8080/",
     "height": 35
    },
    "executionInfo": {
     "elapsed": 885,
     "status": "ok",
     "timestamp": 1601734431757,
     "user": {
      "displayName": "Cluster AI",
      "photoUrl": "https://lh3.googleusercontent.com/a-/AOh14GhieU54HU6iNPdQE71F_fCSeuzFpr1KEUKjfiyo=s64",
      "userId": "16358828312196303941"
     },
     "user_tz": 180
    },
    "id": "k-tDCb7wz4WY",
    "outputId": "29f44a55-a001-45d5-901c-993bc1336f9c"
   },
   "outputs": [],
   "source": [
    "type(y)"
   ]
  },
  {
   "cell_type": "code",
   "execution_count": null,
   "metadata": {
    "colab": {
     "base_uri": "https://localhost:8080/",
     "height": 35
    },
    "executionInfo": {
     "elapsed": 1122,
     "status": "ok",
     "timestamp": 1601734444195,
     "user": {
      "displayName": "Cluster AI",
      "photoUrl": "https://lh3.googleusercontent.com/a-/AOh14GhieU54HU6iNPdQE71F_fCSeuzFpr1KEUKjfiyo=s64",
      "userId": "16358828312196303941"
     },
     "user_tz": 180
    },
    "id": "YxYEJh-4z4SW",
    "outputId": "b1cb27a9-d5ff-42e9-d5d8-a353be23e1a7"
   },
   "outputs": [],
   "source": [
    "np.shape(y)"
   ]
  },
  {
   "cell_type": "code",
   "execution_count": null,
   "metadata": {
    "colab": {
     "base_uri": "https://localhost:8080/",
     "height": 269
    },
    "executionInfo": {
     "elapsed": 1356,
     "status": "ok",
     "timestamp": 1601734537103,
     "user": {
      "displayName": "Cluster AI",
      "photoUrl": "https://lh3.googleusercontent.com/a-/AOh14GhieU54HU6iNPdQE71F_fCSeuzFpr1KEUKjfiyo=s64",
      "userId": "16358828312196303941"
     },
     "user_tz": 180
    },
    "id": "MZfOsLgvz4Pi",
    "outputId": "362c9cd9-2732-4341-9e1c-d9b420a17f5c"
   },
   "outputs": [],
   "source": [
    "sns.heatmap(x)\n",
    "plt.show()"
   ]
  },
  {
   "cell_type": "code",
   "execution_count": null,
   "metadata": {
    "colab": {
     "base_uri": "https://localhost:8080/",
     "height": 269
    },
    "executionInfo": {
     "elapsed": 1649,
     "status": "ok",
     "timestamp": 1601734637523,
     "user": {
      "displayName": "Cluster AI",
      "photoUrl": "https://lh3.googleusercontent.com/a-/AOh14GhieU54HU6iNPdQE71F_fCSeuzFpr1KEUKjfiyo=s64",
      "userId": "16358828312196303941"
     },
     "user_tz": 180
    },
    "id": "2g01UCNe0hBc",
    "outputId": "b5830085-7ad7-4e9c-82a9-0be52c114471"
   },
   "outputs": [],
   "source": [
    "sns.heatmap(StandardScaler().fit_transform(x))\n",
    "plt.show()"
   ]
  },
  {
   "cell_type": "markdown",
   "metadata": {
    "id": "MqBO6LUGlQdq"
   },
   "source": [
    "# Separamos nuestros datos en Train y Test"
   ]
  },
  {
   "cell_type": "code",
   "execution_count": null,
   "metadata": {
    "id": "sDw96nVZlQdr"
   },
   "outputs": [],
   "source": [
    "xtrain, xtest, ytrain, ytest = train_test_split(x, y, test_size=0.3, random_state=4)"
   ]
  },
  {
   "cell_type": "markdown",
   "metadata": {
    "id": "0jVykucolQdu"
   },
   "source": [
    "# Realizamos Auto Scaling"
   ]
  },
  {
   "cell_type": "code",
   "execution_count": null,
   "metadata": {
    "colab": {
     "base_uri": "https://localhost:8080/",
     "height": 35
    },
    "executionInfo": {
     "elapsed": 1472,
     "status": "ok",
     "timestamp": 1601734742578,
     "user": {
      "displayName": "Cluster AI",
      "photoUrl": "https://lh3.googleusercontent.com/a-/AOh14GhieU54HU6iNPdQE71F_fCSeuzFpr1KEUKjfiyo=s64",
      "userId": "16358828312196303941"
     },
     "user_tz": 180
    },
    "id": "lV_wS7CVlQdv",
    "outputId": "f1ac8e17-ce37-4268-febd-f1ebc5812075"
   },
   "outputs": [],
   "source": [
    "# Step 4: auto scaling train- set (mean = 0, std = 1)\n",
    "\n",
    "scaler = StandardScaler()\n",
    "scaler.fit(xtrain)"
   ]
  },
  {
   "cell_type": "code",
   "execution_count": null,
   "metadata": {
    "id": "epC7FzfolQdy"
   },
   "outputs": [],
   "source": [
    "xtrain_scal = scaler.transform(xtrain)  \n",
    "xtest_scal = scaler.transform(xtest)  "
   ]
  },
  {
   "cell_type": "code",
   "execution_count": null,
   "metadata": {
    "colab": {
     "base_uri": "https://localhost:8080/",
     "height": 35
    },
    "executionInfo": {
     "elapsed": 1002,
     "status": "ok",
     "timestamp": 1601734934247,
     "user": {
      "displayName": "Cluster AI",
      "photoUrl": "https://lh3.googleusercontent.com/a-/AOh14GhieU54HU6iNPdQE71F_fCSeuzFpr1KEUKjfiyo=s64",
      "userId": "16358828312196303941"
     },
     "user_tz": 180
    },
    "id": "DsMJTeatlQd2",
    "outputId": "5a25beba-9cc0-464a-fcc7-7964bafca504"
   },
   "outputs": [],
   "source": [
    "xtrain_scal.shape"
   ]
  },
  {
   "cell_type": "code",
   "execution_count": null,
   "metadata": {
    "colab": {
     "base_uri": "https://localhost:8080/",
     "height": 287
    },
    "executionInfo": {
     "elapsed": 1249,
     "status": "ok",
     "timestamp": 1601734947208,
     "user": {
      "displayName": "Cluster AI",
      "photoUrl": "https://lh3.googleusercontent.com/a-/AOh14GhieU54HU6iNPdQE71F_fCSeuzFpr1KEUKjfiyo=s64",
      "userId": "16358828312196303941"
     },
     "user_tz": 180
    },
    "id": "PNQiFSlF1434",
    "outputId": "3fb66e01-7c46-4638-a2fa-a7fddd550da4"
   },
   "outputs": [],
   "source": [
    "sns.heatmap(xtrain_scal)"
   ]
  },
  {
   "cell_type": "code",
   "execution_count": null,
   "metadata": {
    "colab": {
     "base_uri": "https://localhost:8080/",
     "height": 287
    },
    "executionInfo": {
     "elapsed": 1344,
     "status": "ok",
     "timestamp": 1601734968407,
     "user": {
      "displayName": "Cluster AI",
      "photoUrl": "https://lh3.googleusercontent.com/a-/AOh14GhieU54HU6iNPdQE71F_fCSeuzFpr1KEUKjfiyo=s64",
      "userId": "16358828312196303941"
     },
     "user_tz": 180
    },
    "id": "6Wy45pNk1-gL",
    "outputId": "e452d65e-d7d5-419e-f4fa-dcd44ac354bb"
   },
   "outputs": [],
   "source": [
    "sns.heatmap(xtest_scal)"
   ]
  },
  {
   "cell_type": "markdown",
   "metadata": {
    "id": "u5OEv8-mlQd5"
   },
   "source": [
    "# Analisis de Componentes Principales (PCA)\n",
    "Vamos a obtener primeros 10 autovalores y autovectores (eigenvalues y eigenvectors) de la matriz de train \"xtrain_scal\". "
   ]
  },
  {
   "cell_type": "code",
   "execution_count": null,
   "metadata": {
    "id": "_C63TGWxlQd6"
   },
   "outputs": [],
   "source": [
    "# cantidad de componentes a extraer\n",
    "n_comps = 10\n",
    "# definimos PCA\n",
    "pca = PCA(n_components= n_comps)\n",
    "# fit_transform del PCA a nuestros datos\n",
    "xpca = pd.DataFrame(pca.fit_transform(xtrain_scal))\n",
    "# obtenemos los auto-valores\n",
    "eigenvalues = pca.explained_variance_ratio_"
   ]
  },
  {
   "cell_type": "code",
   "execution_count": null,
   "metadata": {
    "colab": {
     "base_uri": "https://localhost:8080/",
     "height": 52
    },
    "executionInfo": {
     "elapsed": 597,
     "status": "ok",
     "timestamp": 1601735419612,
     "user": {
      "displayName": "Cluster AI",
      "photoUrl": "https://lh3.googleusercontent.com/a-/AOh14GhieU54HU6iNPdQE71F_fCSeuzFpr1KEUKjfiyo=s64",
      "userId": "16358828312196303941"
     },
     "user_tz": 180
    },
    "id": "00PCC2NS3Do0",
    "outputId": "c696d2ce-032b-4c99-ff5d-f1ca8e546a10"
   },
   "outputs": [],
   "source": [
    "pca.explained_variance_"
   ]
  },
  {
   "cell_type": "code",
   "execution_count": null,
   "metadata": {
    "colab": {
     "base_uri": "https://localhost:8080/",
     "height": 52
    },
    "executionInfo": {
     "elapsed": 805,
     "status": "ok",
     "timestamp": 1601735420144,
     "user": {
      "displayName": "Cluster AI",
      "photoUrl": "https://lh3.googleusercontent.com/a-/AOh14GhieU54HU6iNPdQE71F_fCSeuzFpr1KEUKjfiyo=s64",
      "userId": "16358828312196303941"
     },
     "user_tz": 180
    },
    "id": "jkTDEi9M3Hf_",
    "outputId": "d56a0585-cbcb-4a93-96ae-622de10130dd"
   },
   "outputs": [],
   "source": [
    "pca.explained_variance_ratio_"
   ]
  },
  {
   "cell_type": "code",
   "execution_count": null,
   "metadata": {
    "colab": {
     "base_uri": "https://localhost:8080/",
     "height": 35
    },
    "executionInfo": {
     "elapsed": 1174,
     "status": "ok",
     "timestamp": 1601735421104,
     "user": {
      "displayName": "Cluster AI",
      "photoUrl": "https://lh3.googleusercontent.com/a-/AOh14GhieU54HU6iNPdQE71F_fCSeuzFpr1KEUKjfiyo=s64",
      "userId": "16358828312196303941"
     },
     "user_tz": 180
    },
    "id": "h1qYXDbflQd9",
    "outputId": "7a9250d5-62a0-438d-e2ac-2ce1ceac961f"
   },
   "outputs": [],
   "source": [
    "# observamos el shape de la matriz obtenida del PCA. Ver que nuestro dataset se redujo de 30 a 10 dimensiones\n",
    "xpca.shape"
   ]
  },
  {
   "cell_type": "code",
   "execution_count": null,
   "metadata": {
    "colab": {
     "base_uri": "https://localhost:8080/",
     "height": 287
    },
    "executionInfo": {
     "elapsed": 1465,
     "status": "ok",
     "timestamp": 1601735422897,
     "user": {
      "displayName": "Cluster AI",
      "photoUrl": "https://lh3.googleusercontent.com/a-/AOh14GhieU54HU6iNPdQE71F_fCSeuzFpr1KEUKjfiyo=s64",
      "userId": "16358828312196303941"
     },
     "user_tz": 180
    },
    "id": "-hyVA3KB3Tjh",
    "outputId": "7c0a02c1-3727-4b82-878a-c533b49fb742"
   },
   "outputs": [],
   "source": [
    "sns.heatmap(xpca)"
   ]
  },
  {
   "cell_type": "markdown",
   "metadata": {
    "id": "e7d7pEcXlQeA"
   },
   "source": [
    "# Observamos los autovalores obtenidos del PCA\n",
    "Recordemos que los autovalores significa la variabilidad que \"atrapa\" cada componente principal. Obviamente siempre vamos a priorizar las componentes principales que mayor variabilidad capten de los datos de entrenamiento."
   ]
  },
  {
   "cell_type": "code",
   "execution_count": null,
   "metadata": {},
   "outputs": [],
   "source": [
    "components = range(1,n_comps + 1)\n",
    "plt.bar(components,eigenvalues)\n",
    "plt.xticks(components)\n",
    "plt.title('Explained variance of top ' + str(n_comps) + ' principal components')\n",
    "plt.xlabel('Top ' +str(n_comps) + ' Principal Components')\n",
    "plt.ylabel('Explained Variance')\n",
    "plt.show()"
   ]
  },
  {
   "cell_type": "markdown",
   "metadata": {},
   "source": [
    "Ahora graficaremos la variabilidad explicada acumulada"
   ]
  },
  {
   "cell_type": "code",
   "execution_count": null,
   "metadata": {},
   "outputs": [],
   "source": [
    "fig, ax1 = plt.subplots()\n",
    "\n",
    "components = range(1, n_comps + 1)\n",
    "\n",
    "# Graficar las barras de varianza explicada en el eje izquierdo\n",
    "ax1.bar(components, eigenvalues, label='Explained Variance', color='blue')\n",
    "ax1.set_xlabel('Top ' + str(n_comps) + ' Principal Components')\n",
    "ax1.set_ylabel('Explained Variance', color='blue')\n",
    "ax1.tick_params(axis='y', labelcolor='blue')\n",
    "\n",
    "# Crear un segundo eje para la varianza acumulada\n",
    "ax2 = ax1.twinx()\n",
    "cumulative_variance = np.cumsum(eigenvalues) / np.sum(eigenvalues)\n",
    "\n",
    "# Graficar la varianza acumulada en el eje derecho\n",
    "ax2.plot(components, cumulative_variance, color='red', marker='o', label='Cumulative Variance')\n",
    "ax2.set_ylabel('Cumulative Variance', color='red')\n",
    "ax2.tick_params(axis='y', labelcolor='red')\n",
    "\n",
    "# Configurar el título y las leyendas\n",
    "plt.title('Explained variance of top ' + str(n_comps) + ' principal components')\n",
    "\n",
    "fig.tight_layout()  # Ajustar el layout para que no se superpongan los ejes\n",
    "plt.show()\n"
   ]
  },
  {
   "cell_type": "markdown",
   "metadata": {
    "id": "yO2iacSXlQeE"
   },
   "source": [
    "# Scatter plot del PCA\n",
    "Con las 2 primeras componentes principales **antes** de la selección de variables visualizamos nuestras muestras/samples de train. **Atencion!** vean que estamos visualizando datos de 30 dimensiones en solamente 2 :). Otro punto importante es que con las dos primeras componentes principales captamos el 65 % aprox de la variabilidad de mis datos (hacer explained variance de PC1 + PC2)"
   ]
  },
  {
   "cell_type": "code",
   "execution_count": null,
   "metadata": {
    "colab": {
     "base_uri": "https://localhost:8080/",
     "height": 416
    },
    "executionInfo": {
     "elapsed": 1347,
     "status": "ok",
     "timestamp": 1601736438913,
     "user": {
      "displayName": "Cluster AI",
      "photoUrl": "https://lh3.googleusercontent.com/a-/AOh14GhieU54HU6iNPdQE71F_fCSeuzFpr1KEUKjfiyo=s64",
      "userId": "16358828312196303941"
     },
     "user_tz": 180
    },
    "id": "AscFizNRlQeF",
    "outputId": "f375eb11-d95c-4ff4-cbad-c6c3bcd6764c"
   },
   "outputs": [],
   "source": [
    "sns.set_context(\"talk\", font_scale=0.7)\n",
    "plt.figure(figsize=(9,6))\n",
    "plt.scatter(xpca.loc[(ytrain == 0).ravel(),0],xpca.loc[(ytrain == 0).ravel(),1], alpha = 0.3, label = 'B')\n",
    "plt.scatter(xpca.loc[(ytrain == 1).ravel(),0],xpca.loc[(ytrain == 1).ravel(),1], alpha = 0.3, label = 'M')\n",
    "plt.xlabel('Principal Component 1 , Explainded Variance = ' + str(np.round(eigenvalues[0],2)))\n",
    "plt.ylabel('Principal Component 2 , Explainded Variance = ' + str(np.round(eigenvalues[1],2)))\n",
    "plt.title('Principal Component Analysis before feature selection')\n",
    "plt.legend(loc='upper right')\n",
    "plt.show()"
   ]
  },
  {
   "cell_type": "markdown",
   "metadata": {
    "id": "DLPtXcEVlQeI"
   },
   "source": [
    "Estamos visualizando datos de alta dimension en 2 dimensiones :):):):). Ojo que con las dos primeras componentes visualizamos el 63% de la variabilidad del dataset original. Es decir que sirve para darnos una idea aunque lo que se aconseja es quedarse con las componentes que acumulan aunque sea el 80% de la variabilidad original."
   ]
  },
  {
   "cell_type": "code",
   "execution_count": null,
   "metadata": {
    "id": "eDbAWBK3lQeJ"
   },
   "outputs": [],
   "source": [
    "# vamos a visualizar en 3d\n",
    "from mpl_toolkits.mplot3d import Axes3D"
   ]
  },
  {
   "cell_type": "code",
   "execution_count": null,
   "metadata": {
    "colab": {
     "base_uri": "https://localhost:8080/",
     "height": 248
    },
    "executionInfo": {
     "elapsed": 1486,
     "status": "ok",
     "timestamp": 1601735852227,
     "user": {
      "displayName": "Cluster AI",
      "photoUrl": "https://lh3.googleusercontent.com/a-/AOh14GhieU54HU6iNPdQE71F_fCSeuzFpr1KEUKjfiyo=s64",
      "userId": "16358828312196303941"
     },
     "user_tz": 180
    },
    "id": "zSPhTv7WlQeM",
    "outputId": "172adc55-326c-4b2d-ab90-a0e9812bb264"
   },
   "outputs": [],
   "source": [
    "fig = plt.figure()\n",
    "ax = fig.add_subplot(111, projection='3d')\n",
    "ax.scatter(xpca.iloc[(ytrain == 0).ravel(),0], xpca.iloc[(ytrain == 0).ravel(),1], xpca.iloc[(ytrain == 0).ravel(),2])\n",
    "ax.scatter(xpca.iloc[(ytrain == 1).ravel(),0], xpca.iloc[(ytrain == 1).ravel(),1], xpca.iloc[(ytrain == 1).ravel(),2])\n",
    "ax.set_xlabel('P. Comp. 1')\n",
    "ax.set_ylabel('P. Comp. 2')\n",
    "ax.set_zlabel('P. Comp. 3')\n",
    "plt.show()"
   ]
  },
  {
   "cell_type": "markdown",
   "metadata": {
    "id": "mF6jm7ZOlQeP"
   },
   "source": [
    "# kernel-PCA"
   ]
  },
  {
   "cell_type": "markdown",
   "metadata": {
    "id": "rRqbwzxdlQeP"
   },
   "source": [
    "Computamos el desvio standard de cada feature. Luego decidimos quedarnos con aquellas cuyo STDEV sea mayor a un cuantil determinado. Eso resultara de un vector \"mascara\" booleano que nos serirá para filtrar el dataset original. Vean que este metodo es no supervisado aunque su debilidad es que es univariado."
   ]
  },
  {
   "cell_type": "code",
   "execution_count": null,
   "metadata": {
    "id": "S_UE6NU5lQeV"
   },
   "outputs": [],
   "source": [
    "# cantidad de componentes a extraer\n",
    "n_comps = 100\n",
    "# definimos PCA\n",
    "kpca = KernelPCA(n_components= n_comps, kernel = 'rbf', gamma = 0.05)\n",
    "# fit_transform del PCA a nuestros datos\n",
    "xkpca = pd.DataFrame(kpca.fit_transform(xtrain_scal))\n"
   ]
  },
  {
   "cell_type": "code",
   "execution_count": null,
   "metadata": {
    "colab": {
     "base_uri": "https://localhost:8080/",
     "height": 280
    },
    "executionInfo": {
     "elapsed": 1593,
     "status": "ok",
     "timestamp": 1601736411456,
     "user": {
      "displayName": "Cluster AI",
      "photoUrl": "https://lh3.googleusercontent.com/a-/AOh14GhieU54HU6iNPdQE71F_fCSeuzFpr1KEUKjfiyo=s64",
      "userId": "16358828312196303941"
     },
     "user_tz": 180
    },
    "id": "utrY9pn86HiM",
    "outputId": "a0eb2a9d-cfa6-4b3f-e304-4805d156214a"
   },
   "outputs": [],
   "source": [
    "sns.heatmap(xkpca)\n",
    "plt.show()"
   ]
  },
  {
   "cell_type": "code",
   "execution_count": null,
   "metadata": {
    "colab": {
     "base_uri": "https://localhost:8080/",
     "height": 399
    },
    "executionInfo": {
     "elapsed": 1324,
     "status": "ok",
     "timestamp": 1601736413370,
     "user": {
      "displayName": "Cluster AI",
      "photoUrl": "https://lh3.googleusercontent.com/a-/AOh14GhieU54HU6iNPdQE71F_fCSeuzFpr1KEUKjfiyo=s64",
      "userId": "16358828312196303941"
     },
     "user_tz": 180
    },
    "id": "EIfN1ZqKIHMZ",
    "outputId": "031f1db9-77ab-43ae-fcaf-ca0a6d340400"
   },
   "outputs": [],
   "source": [
    "sns.set_context(\"talk\", font_scale=0.7)\n",
    "plt.figure(figsize=(9,6))\n",
    "plt.scatter(xkpca.loc[(ytrain == 0).ravel(),0],xkpca.loc[(ytrain == 0).ravel(),1], alpha = 0.7, label = 'B')\n",
    "plt.scatter(xkpca.loc[(ytrain == 1).ravel(),0],xkpca.loc[(ytrain == 1).ravel(),1], alpha = 0.7, label = 'M')\n",
    "#plt.xlabel('Principal Component 1 , Explainded Variance = ' + str(np.round(eigenvalues[0],2)))\n",
    "#plt.ylabel('Principal Component 2 , Explainded Variance = ' + str(np.round(eigenvalues[1],2)))\n",
    "plt.title('Principal Component Analysis before feature selection')\n",
    "plt.legend(loc='upper right')\n",
    "plt.show()"
   ]
  },
  {
   "cell_type": "code",
   "execution_count": null,
   "metadata": {
    "colab": {
     "base_uri": "https://localhost:8080/",
     "height": 248
    },
    "executionInfo": {
     "elapsed": 1162,
     "status": "ok",
     "timestamp": 1601736455024,
     "user": {
      "displayName": "Cluster AI",
      "photoUrl": "https://lh3.googleusercontent.com/a-/AOh14GhieU54HU6iNPdQE71F_fCSeuzFpr1KEUKjfiyo=s64",
      "userId": "16358828312196303941"
     },
     "user_tz": 180
    },
    "id": "7U2hPPVQIjVK",
    "outputId": "48e54781-e2b6-43d9-c6e8-c56d0c1737fa"
   },
   "outputs": [],
   "source": [
    "fig = plt.figure()\n",
    "ax = fig.add_subplot(111, projection='3d')\n",
    "ax.scatter(xkpca.iloc[(ytrain == 0).ravel(),0], xkpca.iloc[(ytrain == 0).ravel(),1], xkpca.iloc[(ytrain == 0).ravel(),2])\n",
    "ax.scatter(xkpca.iloc[(ytrain == 1).ravel(),0], xkpca.iloc[(ytrain == 1).ravel(),1], xkpca.iloc[(ytrain == 1).ravel(),2])\n",
    "ax.set_xlabel('P. Comp. 1')\n",
    "ax.set_ylabel('P. Comp. 2')\n",
    "ax.set_zlabel('P. Comp. 3')\n",
    "plt.show()"
   ]
  },
  {
   "cell_type": "markdown",
   "metadata": {
    "id": "u-sR8KFYIq7j"
   },
   "source": [
    "# Asignacion 01:\n",
    "Partiendo de los datos originales crear un nuevo train-test split donde train es el 10% de los datos. Reducir la dimension con PCA y kPCA. Clasificar usando las proyecciones obtenidas con logistic regression. Medir la calidad de la clasificacion en area debajo de la curva y accuracy."
   ]
  },
  {
   "cell_type": "code",
   "execution_count": null,
   "metadata": {},
   "outputs": [],
   "source": [
    "# Imports\n",
    "\n",
    "####################\n",
    "# Importar librerias\n",
    "####################"
   ]
  },
  {
   "cell_type": "code",
   "execution_count": null,
   "metadata": {
    "id": "IyBtiH4FIpKg"
   },
   "outputs": [],
   "source": [
    "# train-test split con 0.9 test size\n",
    "# guardar el split en xtrain , xtest\n",
    "# definir scaler .fit(xtrain)\n",
    "# ...\n",
    "# obtenemos xtrain_scal2 xtest_scal2\n",
    "\n",
    "\n",
    "# aplicar PCA y kPCA sobre el xtrain_scal2\n",
    "\n",
    "# guardar las proyecciones obtenidas en xpca2_train , xpca2_test\n",
    "# guardar las proyecciones obtenidas en xkpca2_train , xkpca2_test\n",
    "\n",
    "# pca2 = PCA(n_comps = ....)\n",
    "# pca2.fit(xtrain_scal2)\n",
    "# zpca2_train = pca2.transform(xtrain_scal2)\n",
    "# zpca2_test = pca2.transform(xtest_scal2)\n",
    "\n",
    "# es decir obtener xkpca2 , xpca2\n",
    "\n",
    "\n",
    "# definir un clasificador logistic regression tanto para entrenarse en la proyeccion del PCA y otro para la del kPCA\n",
    "\n",
    "# lr_pca = LogisticRegression(....blbalabla)\n",
    "# lr_kpca = LogisticRegression(....blbalabla)\n",
    "\n",
    "# lr_pca.fit(zpca2_train)\n",
    "# lr_kpca.fit(zkpca2_train)\n",
    "\n",
    "\n",
    "# una vez que tengo entrenado (fiteado) el modelo -> \n",
    "# ypred_pca = lr_pca.predict(zpca2_test)\n",
    "# ypred_kpca = lr_kpca.predict(zkpca2_test)\n",
    "\n",
    "\n",
    "# acc_lr_pca =  accuracy_score(ypred_pca, ytest)\n",
    "# acc_lr_kpca =  accuracy_score(ypred_kpca, ytest)"
   ]
  }
 ],
 "metadata": {
  "colab": {
   "collapsed_sections": [],
   "name": "clusterai_2021_clase08_pca_breast_ejercicios.ipynb",
   "provenance": []
  },
  "kernelspec": {
   "display_name": "Python 3",
   "language": "python",
   "name": "python3"
  },
  "language_info": {
   "codemirror_mode": {
    "name": "ipython",
    "version": 3
   },
   "file_extension": ".py",
   "mimetype": "text/x-python",
   "name": "python",
   "nbconvert_exporter": "python",
   "pygments_lexer": "ipython3",
   "version": "3.11.2"
  }
 },
 "nbformat": 4,
 "nbformat_minor": 0
}
