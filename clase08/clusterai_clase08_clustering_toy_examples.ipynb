{
 "cells": [
  {
   "cell_type": "markdown",
   "id": "fc1a4fb2",
   "metadata": {},
   "source": [
    "____\n",
    "__Universidad Tecnológica Nacional, Buenos Aires__<br/>\n",
    "__Ingeniería Industrial__<br/>\n",
    "__Cátedra de Ciencia de Datos - Curso I5521 - Turno sabado mañana__<br/>\n",
    "__Elaborado por: Nicolas Aguirre__<br/>\n",
    "____"
   ]
  },
  {
   "cell_type": "markdown",
   "id": "7b74a507",
   "metadata": {},
   "source": [
    "# Imports"
   ]
  },
  {
   "cell_type": "code",
   "execution_count": null,
   "id": "966db1c1",
   "metadata": {},
   "outputs": [],
   "source": [
    "import warnings\n",
    "\n",
    "import matplotlib.pyplot as plt\n",
    "import numpy as np\n",
    "import pandas as pd\n",
    "from scipy.cluster.hierarchy import dendrogram, linkage\n",
    "\n",
    "# Para generar datos\n",
    "from sklearn import datasets\n",
    "\n",
    "# Importamos librerias de Clustering\n",
    "from sklearn.cluster import AgglomerativeClustering, KMeans\n",
    "\n",
    "# Importamos silhouette_score\n",
    "from sklearn.metrics import rand_score, silhouette_score\n",
    "\n",
    "warnings.filterwarnings('ignore')\n",
    "#from helpers import report_clustering_kmeans, report_clustering_hierarchical"
   ]
  },
  {
   "cell_type": "code",
   "execution_count": null,
   "id": "3c30f85e",
   "metadata": {},
   "outputs": [],
   "source": [
    "alumnos = pd.read_csv('alumnes.csv',index_col=0)"
   ]
  },
  {
   "cell_type": "markdown",
   "id": "6ddba15f",
   "metadata": {},
   "source": [
    "# Datasets"
   ]
  },
  {
   "cell_type": "code",
   "execution_count": null,
   "id": "842623a1",
   "metadata": {},
   "outputs": [],
   "source": [
    "# A continuacion vamos a generar datos en donde ver \n",
    "# la respuesta de algunos algoritmos de clustering.\n",
    "\n",
    "# Muestras\n",
    "n_muestras = 750\n",
    "random_state = 10\n",
    "\n",
    "###########\n",
    "# Datasets\n",
    "###########\n",
    "\n",
    "# 2D-Gaussian con misma std\n",
    "gaussian = datasets.make_blobs(n_samples=n_muestras, random_state=8)\n",
    "\n",
    "# 2D-Gaussian con diff. std\n",
    "gaussian_std = datasets.make_blobs(n_samples=n_muestras,\n",
    "                             cluster_std=[0.5, 1.5, 2.5,3.5], # 4 Clases\n",
    "                             centers = [[10,15],[5,5],[-5,10],[-10,-10]], #Centros\n",
    "                                   random_state=8)\n",
    "\n",
    "# Gaussian \"deformada\"\n",
    "X, y = datasets.make_blobs(n_samples=n_muestras,\n",
    "                           random_state=10)\n",
    "transformation = [[0.6, -5], [-0.4, 0.8]]\n",
    "X_tf = np.dot(X, transformation)\n",
    "gaussian_tf = (X_tf, y)\n",
    "\n",
    "#Circulos  + ruido Gaussianos\n",
    "circulos = datasets.make_circles(n_samples=n_muestras, factor=.5,\n",
    "                                      noise=.05)\n",
    "# Medios circulos intercalados\n",
    "lunas = datasets.make_moons(n_samples=n_muestras, noise=.05)\n",
    "\n",
    "\n",
    "\n",
    "# Juntamos todos los datos en una lista\n",
    "dataset_list = [gaussian, gaussian_std, gaussian_tf,circulos, lunas]\n",
    "dataset_name = ['Gaussian', 'Gaussian diff. std','Gaussian Transformed','Circulos','Lunas']"
   ]
  },
  {
   "cell_type": "markdown",
   "id": "3bfff9f2",
   "metadata": {},
   "source": [
    "## Dataset's Plots"
   ]
  },
  {
   "cell_type": "code",
   "execution_count": null,
   "id": "49b8ea55",
   "metadata": {
    "scrolled": true
   },
   "outputs": [],
   "source": [
    "fig, axs = plt.subplots(figsize = (17,4),nrows=1,ncols=5)\n",
    "\n",
    "for i, (dataset_i,name_i) in enumerate(zip(dataset_list,dataset_name)):\n",
    "    x_i = dataset_i[0]\n",
    "    y_i = dataset_i[1]\n",
    "    axs[i].scatter(x_i[:,0],x_i[:,1],c=y_i)\n",
    "    axs[i].set_title(name_i)\n",
    "    axs[i].set_yticks([])\n",
    "    axs[i].set_xticks([])    "
   ]
  },
  {
   "cell_type": "markdown",
   "id": "be640d1a",
   "metadata": {},
   "source": [
    "# Clustering"
   ]
  },
  {
   "cell_type": "markdown",
   "id": "a2e4fbb1",
   "metadata": {},
   "source": [
    "## K-Means"
   ]
  },
  {
   "cell_type": "markdown",
   "id": "3928ee66",
   "metadata": {},
   "source": [
    "**Crearemos una funcion a la que le pasaremos como información el dataset y su nombre.**\n",
    "\n",
    "**Lo que queremos obtener de la funcion (return) son los scores:**\n",
    "\n",
    "    * Silhouette\n",
    "    \n",
    "    * Rand Indx\n",
    "    \n",
    "**Ademas, plotearemos el ground truth, los clusters y los scores.**"
   ]
  },
  {
   "cell_type": "markdown",
   "id": "a7346edb",
   "metadata": {},
   "source": [
    "**Una vez que tenemos definida esta funcion, solo tenemos que pasarle nuestros datos ...**"
   ]
  },
  {
   "cell_type": "code",
   "execution_count": null,
   "id": "1974974e",
   "metadata": {},
   "outputs": [],
   "source": [
    "def report_clustering_kmeans(dataset,dataset_name):\n",
    "    # Listas vacias donde guardar las metricas\n",
    "    dist_cent = []\n",
    "    sil_list = []\n",
    "    rand_list = []\n",
    "    \n",
    "    # Separamos en X e Y\n",
    "    x = dataset[0]\n",
    "    y = dataset[1]\n",
    "    \n",
    "    # Plot para tener de referencia\n",
    "    plt.figure(figsize=(5,5))\n",
    "    plt.scatter(x[:,0],x[:,1],c=y)\n",
    "    plt.title(dataset_name)\n",
    "    plt.show()\n",
    "    \n",
    "    # Plot donde iremos mostrando los resultados\n",
    "    fig,axs = plt.subplots(2,4,figsize=(15,7))\n",
    "    axs = axs.ravel()\n",
    "    for i,k in enumerate(range(2, 10)):\n",
    "        # Creamos el objeto de clustering\n",
    "        cluster = KMeans(n_clusters=k).fit(x)\n",
    "        centers_i = cluster.cluster_centers_ # Centroide de cada cluster\n",
    "        labels_i = cluster.labels_ # Labels de cada muestra\n",
    "        # Silhouttte Score\n",
    "        sil_score_i = silhouette_score(x,labels_i)\n",
    "        sil_list.append(sil_score_i)        \n",
    "        # Rand_Index\n",
    "        rand_index_i = rand_score(y,labels_i)\n",
    "        rand_list.append(rand_index_i)\n",
    "        dist_cent.append(cluster.inertia_)\n",
    "        # Plots de los clusters\n",
    "        axs[i].scatter(x[:,0],x[:,1],c=labels_i)\n",
    "        axs[i].scatter(centers_i[:,0], centers_i[:,1], marker=\"x\", color='r',s=150)\n",
    "        axs[i].set_title('Clusters: ' + str(k))\n",
    "        \n",
    "    plt.show()\n",
    "    # Plot de metricas\n",
    "    fig, axs = plt.subplots(1,3,figsize=(15,5))    \n",
    "    axs[0].plot(range(2, 10), dist_cent, marker='s');\n",
    "    axs[0].set_xlabel('N° K')\n",
    "    axs[0].set_ylabel('Sum of squared distances')\n",
    "    # Silhoute plot\n",
    "    axs[1].plot(range(2, 10), sil_list, marker='s');\n",
    "    axs[1].set_xlabel('N° K')\n",
    "    axs[1].set_ylabel('Silhouette')\n",
    "    # Rand Index plot\n",
    "    axs[2].plot(range(2, 10), rand_list, marker='s');\n",
    "    axs[2].set_xlabel('N° K')\n",
    "    axs[2].set_ylabel('Rand Index')    \n",
    "    plt.show()\n",
    "    # Devolvemos la lista con las metricas\n",
    "    return (sil_list,rand_list)"
   ]
  },
  {
   "cell_type": "markdown",
   "id": "cdf4c8fa",
   "metadata": {},
   "source": [
    "### Gaussian"
   ]
  },
  {
   "cell_type": "code",
   "execution_count": null,
   "id": "bcb085b0",
   "metadata": {},
   "outputs": [],
   "source": [
    "sill_score_gaussian, rand_index_gaussain = report_clustering_kmeans(gaussian,'Gaussian')"
   ]
  },
  {
   "cell_type": "markdown",
   "id": "460f8bbe",
   "metadata": {},
   "source": [
    "**Preguntas?**"
   ]
  },
  {
   "cell_type": "markdown",
   "id": "88161869",
   "metadata": {},
   "source": [
    "### Gaussian Diff. $\\sigma$"
   ]
  },
  {
   "cell_type": "code",
   "execution_count": null,
   "id": "3d150067",
   "metadata": {
    "scrolled": false
   },
   "outputs": [],
   "source": [
    "sill_score_gaussian_std, rand_index_gaussian_std = report_clustering_kmeans(gaussian_std,'Gaussian diff. std')"
   ]
  },
  {
   "cell_type": "code",
   "execution_count": null,
   "id": "54935049",
   "metadata": {},
   "outputs": [],
   "source": [
    "alumnos.loc[np.random.randint(low=1, high=len(alumnos)),'Alumno']"
   ]
  },
  {
   "cell_type": "markdown",
   "id": "8ef8d2a4",
   "metadata": {},
   "source": [
    "**Logramos una clusterizacion perfecta?**"
   ]
  },
  {
   "cell_type": "markdown",
   "id": "40737263",
   "metadata": {},
   "source": [
    "### Gaussian Transformed"
   ]
  },
  {
   "cell_type": "code",
   "execution_count": null,
   "id": "b70e72d4",
   "metadata": {
    "scrolled": false
   },
   "outputs": [],
   "source": [
    "sill_score_gaussian_tf, rand_index_gaussian_tf = report_clustering_kmeans(gaussian_tf,'Gaussian Transformed')"
   ]
  },
  {
   "cell_type": "markdown",
   "id": "bc091957",
   "metadata": {},
   "source": [
    "**Cual K eligirian ustedes?**"
   ]
  },
  {
   "cell_type": "code",
   "execution_count": null,
   "id": "48667532",
   "metadata": {},
   "outputs": [],
   "source": [
    "alumnos.loc[np.random.randint(low=1, high=len(alumnos)),'Alumno']"
   ]
  },
  {
   "cell_type": "markdown",
   "id": "3af212bf",
   "metadata": {},
   "source": [
    "### Circulos"
   ]
  },
  {
   "cell_type": "markdown",
   "id": "e1ae9b22",
   "metadata": {},
   "source": [
    "**Como creen que sera el clustering para este caso?**"
   ]
  },
  {
   "cell_type": "code",
   "execution_count": null,
   "id": "712a5626",
   "metadata": {},
   "outputs": [],
   "source": [
    "alumnos.loc[np.random.randint(low=1, high=len(alumnos)),'Alumno']"
   ]
  },
  {
   "cell_type": "code",
   "execution_count": null,
   "id": "eefcb747",
   "metadata": {
    "scrolled": false
   },
   "outputs": [],
   "source": [
    "sill_score_circulos, rand_index_circulos = report_clustering_kmeans(circulos,'Circulos')"
   ]
  },
  {
   "cell_type": "markdown",
   "id": "4c218d15",
   "metadata": {},
   "source": [
    "**Repitamos nuevamente el clustering y comparemoslo con el previamente realizado ...**\n",
    "\n",
    "1. **Da igual?**\n",
    "\n",
    "2. **Si/No. Porque?**"
   ]
  },
  {
   "cell_type": "code",
   "execution_count": null,
   "id": "c4de2800",
   "metadata": {},
   "outputs": [],
   "source": [
    "alumnos.loc[np.random.randint(low=1, high=len(alumnos)),'Alumno']"
   ]
  },
  {
   "cell_type": "code",
   "execution_count": null,
   "id": "24b6419b",
   "metadata": {},
   "outputs": [],
   "source": [
    "alumnos.loc[np.random.randint(low=1, high=len(alumnos)),'Alumno']"
   ]
  },
  {
   "cell_type": "code",
   "execution_count": null,
   "id": "a3e043c2",
   "metadata": {
    "scrolled": false
   },
   "outputs": [],
   "source": [
    "sill_score_circulos, rand_index_circulos = report_clustering_kmeans(circulos,'Circulos')"
   ]
  },
  {
   "cell_type": "markdown",
   "id": "814fd7ba",
   "metadata": {},
   "source": [
    "### Lunas"
   ]
  },
  {
   "cell_type": "markdown",
   "id": "57b84385",
   "metadata": {},
   "source": [
    "**Por ultimo ... veamos que sucede con esta estructura de datos ...**"
   ]
  },
  {
   "cell_type": "code",
   "execution_count": null,
   "id": "d042b068",
   "metadata": {
    "scrolled": false
   },
   "outputs": [],
   "source": [
    "sill_score_lunas, rand_index_lunas = report_clustering_kmeans(lunas,'Lunas')"
   ]
  },
  {
   "cell_type": "code",
   "execution_count": null,
   "id": "e733b6ce",
   "metadata": {
    "scrolled": true
   },
   "outputs": [],
   "source": [
    "alumnos.loc[np.random.randint(low=1, high=len(alumnos)),'Alumno']"
   ]
  },
  {
   "cell_type": "code",
   "execution_count": null,
   "id": "77d811f1",
   "metadata": {},
   "outputs": [],
   "source": [
    "alumnos.loc[np.random.randint(low=1, high=len(alumnos)),'Alumno']"
   ]
  },
  {
   "cell_type": "markdown",
   "id": "4d60b272",
   "metadata": {},
   "source": [
    "**Que conclusiones podemos sacar sobre K-Means?**"
   ]
  },
  {
   "cell_type": "markdown",
   "id": "e192b151",
   "metadata": {},
   "source": [
    "**Preguntas?**"
   ]
  },
  {
   "cell_type": "markdown",
   "id": "5c15cb11",
   "metadata": {},
   "source": [
    "![Meme](https://img-9gag-fun.9cache.com/photo/a5Rowgg_700bwp.webp)"
   ]
  },
  {
   "cell_type": "markdown",
   "id": "8bd8f982",
   "metadata": {},
   "source": [
    "## Hierarchical"
   ]
  },
  {
   "cell_type": "markdown",
   "id": "66aa2032",
   "metadata": {},
   "source": [
    "**Veamos ahora como se aplica Hierarchical Clustering**"
   ]
  },
  {
   "cell_type": "code",
   "execution_count": null,
   "id": "b0d8f946",
   "metadata": {},
   "outputs": [],
   "source": [
    "# Definimos el linkage\n",
    "x = gaussian[0]\n",
    "Z = linkage(x, 'ward')"
   ]
  },
  {
   "cell_type": "code",
   "execution_count": null,
   "id": "52dcc300",
   "metadata": {},
   "outputs": [],
   "source": [
    "# Threshold de distancia --> Definido por el usuario !\n",
    "dist_cluster = 100"
   ]
  },
  {
   "cell_type": "markdown",
   "id": "b6ccb26b",
   "metadata": {},
   "source": [
    "**Para visualizar $\\rightarrow$ Dedogram**"
   ]
  },
  {
   "cell_type": "code",
   "execution_count": null,
   "id": "65117c86",
   "metadata": {
    "scrolled": false
   },
   "outputs": [],
   "source": [
    "plt.figure(figsize=(25, 10))\n",
    "dendrogram(Z,color_threshold=dist_cluster)\n",
    "plt.axhline(c='k',linestyle='--', y=dist_cluster)\n",
    "plt.show()"
   ]
  },
  {
   "cell_type": "markdown",
   "id": "b477d3be",
   "metadata": {},
   "source": [
    "**De la misma manera que definimos una funcion para K-Means, vamos a hacer lo mismo con  Hierarchical Clustering**"
   ]
  },
  {
   "cell_type": "code",
   "execution_count": null,
   "id": "8707f2df",
   "metadata": {},
   "outputs": [],
   "source": [
    "def report_clustering_hierarchical(dataset,dataset_name,dist_clusters, metric,linkage_name):\n",
    "    \"\"\"\n",
    "    metric/metric: Metrica de la distancia entre puntos\n",
    "\n",
    "        # \"cosine\": Similaridad angular\n",
    "\n",
    "        # \"euclidean\": L2\n",
    "\n",
    "        # \"cityblock\"(Manhattan): L1\n",
    "\n",
    "\n",
    "    linkage_name : Metodo para medir distancias entre clusters\n",
    "\n",
    "        # 'single': \n",
    "        Utiliza la distancia de los dos puntoss más cercanos entre los clústeres para representar la distancia interclúster.\n",
    "\n",
    "        # 'complete':\n",
    "        Utiliza los dos puntos más distantes. Favorece la creacion de clusters esfericos.\n",
    "\n",
    "        # 'average':\n",
    "        Utiliza la distancia media. Menos afectado por outliers\n",
    "\n",
    "        # 'ward': \n",
    "        Unimos clusters de manera tal que la suma de los errores cuadrados al centroide sea la menor.\n",
    "\n",
    "    \"\"\"\n",
    "    # Listas vacias donde guardar las metricas/scores\n",
    "    sil_list = []\n",
    "    rand_list = []\n",
    "    # Separamos en X e Y\n",
    "    x = dataset[0]\n",
    "    y = dataset[1]\n",
    "    \n",
    "    # Plot para tener de referencia\n",
    "    plt.figure(figsize=(5,5))\n",
    "    plt.scatter(x[:,0],x[:,1],c=y)\n",
    "    plt.title(dataset_name)\n",
    "    plt.show()\n",
    "    # Plot donde iremos mostrando los resultados\n",
    "    fig,axs = plt.subplots(2,4,figsize=(15,7))\n",
    "    axs = axs.ravel()\n",
    "    for i , dist_i in enumerate(dist_clusters):\n",
    "        \n",
    "        # Creamos el objeto para clustering con sus parametros\n",
    "        cluster = AgglomerativeClustering(n_clusters=None,\n",
    "                                          distance_threshold = dist_i,\n",
    "                                          metric= metric,\n",
    "                                          linkage=linkage_name)\n",
    "\n",
    "        cluster.fit_predict(x)\n",
    "        # Obtenemos los labels\n",
    "        labels_i = cluster.labels_\n",
    "        n_clusters = len(np.unique(labels_i))\n",
    "        \n",
    "        # Para evitar errores si la cantidad de clusters es 1 ...\n",
    "        if not 1 < n_clusters:\n",
    "            sil_list.append(0)\n",
    "            rand_list.append(0) \n",
    "            continue\n",
    "            \n",
    "        # Silhouette\n",
    "        sil_score = silhouette_score(x,labels_i)\n",
    "        sil_list.append(sil_score)\n",
    "        \n",
    "        # Rand_Index\n",
    "        rand_index_i = rand_score(y,labels_i)\n",
    "        rand_list.append(rand_index_i)   \n",
    "        \n",
    "        # Plots de los clusters\n",
    "        axs[i].scatter(x[:,0],x[:,1],c=labels_i)\n",
    "        axs[i].set_title('Distance: ' + str(dist_i) + ' - N° Clusters: ' + str(n_clusters))\n",
    "\n",
    "    plt.show()\n",
    "    \n",
    "    # Plot de metricas\n",
    "    fig, axs = plt.subplots(1,3,figsize=(15,5))    \n",
    "    axs[0].plot(dist_clusters, sil_list, marker='s');\n",
    "    axs[0].set_xlabel('Threshold distances')\n",
    "    axs[0].set_ylabel('Silhouette')\n",
    "    # Ploteamos el dendomgram del mejor silhouette_score\n",
    "    best_sil = np.argmax(sil_list)\n",
    "    best_dist = dist_clusters[best_sil]\n",
    "    Z = linkage(x, linkage_name)\n",
    "    dendrogram(Z,color_threshold=best_dist,ax=axs[1])\n",
    "    axs[1].axhline(c='k',linestyle='--', y=best_dist)\n",
    "    axs[1].set_title('Dendogram')\n",
    "    axs[2].plot(dist_clusters, rand_list, marker='s');\n",
    "    axs[2].set_xlabel('Threshold distances')\n",
    "    axs[2].set_ylabel('Rand Index')     \n",
    "    plt.show()\n",
    "    return (sil_list,rand_list)"
   ]
  },
  {
   "cell_type": "markdown",
   "id": "b418aa62",
   "metadata": {},
   "source": [
    "**Linkage**"
   ]
  },
  {
   "cell_type": "markdown",
   "id": "fa14e82d",
   "metadata": {},
   "source": [
    "<img src=\"linkage_diagram.svg\" width=\"1000\" height=\"600\">"
   ]
  },
  {
   "cell_type": "markdown",
   "id": "56e94039",
   "metadata": {},
   "source": [
    "### Gaussian"
   ]
  },
  {
   "cell_type": "code",
   "execution_count": null,
   "id": "e098a782",
   "metadata": {},
   "outputs": [],
   "source": [
    "# Listas de threshold de ditancia para comparar ...\n",
    "dist_trhs = [10,20,30,50,100,150,200,250]\n",
    "\n",
    "# Metrica de distancia\n",
    "metric = 'euclidean'\n",
    "# Metodo de union de clusters\n",
    "linkage_method = 'ward'\n",
    "\n",
    "# Llamamos a la funcion previamente creada ...\n",
    "sil_hier_gauss,rand_hier_gauss = report_clustering_hierarchical(gaussian,'Gaussian', \n",
    "                                                dist_trhs, metric, linkage_method)"
   ]
  },
  {
   "cell_type": "markdown",
   "id": "1a13ee8e",
   "metadata": {},
   "source": [
    "### Gaussian Diff. $\\sigma$"
   ]
  },
  {
   "cell_type": "code",
   "execution_count": null,
   "id": "989e1869",
   "metadata": {
    "scrolled": false
   },
   "outputs": [],
   "source": [
    "dist_trhs = [10,20,30,50,100,150,200,250]\n",
    "metric = 'euclidean'\n",
    "linkage_method = 'ward'\n",
    "sil_hier_gaussian_std,rand_hier_gaussian_std = report_clustering_hierarchical(gaussian_std,'Gaussian Std',\n",
    "                                                        dist_trhs, metric, linkage_method)"
   ]
  },
  {
   "cell_type": "markdown",
   "id": "1234416d",
   "metadata": {},
   "source": [
    "### Gaussian Transformed"
   ]
  },
  {
   "cell_type": "code",
   "execution_count": null,
   "id": "5651b9de",
   "metadata": {
    "scrolled": false
   },
   "outputs": [],
   "source": [
    "dist_trhs = [10,20,30,50,100,150,200,250]\n",
    "metric = 'euclidean'\n",
    "linkage_method = 'ward'\n",
    "sil_hier_gaussian_tf, rand_hier_gaussian_tf = report_clustering_hierarchical(gaussian_tf,'Gaussian TF.',\n",
    "                                                       dist_trhs, metric, linkage_method)"
   ]
  },
  {
   "cell_type": "markdown",
   "id": "1e6fb5cc",
   "metadata": {},
   "source": [
    "### Circulos"
   ]
  },
  {
   "cell_type": "code",
   "execution_count": null,
   "id": "80506c93",
   "metadata": {
    "scrolled": false
   },
   "outputs": [],
   "source": [
    "dist_trhs = [1,2,3,5,10,15,20,25]\n",
    "metric = 'euclidean'\n",
    "linkage_method = 'ward'\n",
    "sil_hier_circulos, rand_hier_circulos = report_clustering_hierarchical(circulos,'Circulos',\n",
    "                                                    dist_trhs, metric, linkage_method)"
   ]
  },
  {
   "cell_type": "code",
   "execution_count": null,
   "id": "a07170cd",
   "metadata": {},
   "outputs": [],
   "source": [
    "dist_trhs = [0.01,0.05,0.1,0.15,0.2,0.3]\n",
    "metric = 'cityblock'\n",
    "linkage_method = 'single'\n",
    "sil_hier_circulos, rand_hier_circulos = report_clustering_hierarchical(circulos,'Circulos',\n",
    "                                                    dist_trhs, metric, linkage_method)"
   ]
  },
  {
   "cell_type": "markdown",
   "id": "9037c28c",
   "metadata": {},
   "source": [
    "### Lunas"
   ]
  },
  {
   "cell_type": "code",
   "execution_count": null,
   "id": "38363d10",
   "metadata": {
    "scrolled": false
   },
   "outputs": [],
   "source": [
    "dist_trhs = [0.01,0.05,0.1,0.15,0.2,0.3]\n",
    "metric = 'cityblock'\n",
    "linkage_method = 'single'\n",
    "\n",
    "sil_hier_lunas, rand_hier_lunas = report_clustering_hierarchical(lunas,'Lunas',\n",
    "                                                 dist_trhs, metric, linkage_method)"
   ]
  },
  {
   "cell_type": "markdown",
   "id": "7b8ac05e",
   "metadata": {},
   "source": [
    "**Pregunta:**"
   ]
  },
  {
   "cell_type": "markdown",
   "id": "66a034dc",
   "metadata": {},
   "source": [
    "**Si repitiesemos los experimientos ... variarian los clusterings?**"
   ]
  },
  {
   "cell_type": "code",
   "execution_count": null,
   "id": "1bb32d85",
   "metadata": {},
   "outputs": [],
   "source": [
    "alumnos.loc[np.random.randint(low=1, high=len(alumnos)),'Alumno']"
   ]
  },
  {
   "cell_type": "markdown",
   "id": "507c3a83",
   "metadata": {},
   "source": [
    "# Librerias propias en Python"
   ]
  },
  {
   "cell_type": "markdown",
   "id": "8603dd79",
   "metadata": {},
   "source": [
    "**Veamos como importar nuestro propio paquete de librerias en python**\n",
    "\n",
    "1. Creamos un archivo con la extension *helpers.py*\n",
    "\n",
    "\n",
    "2. Importamos las librerias que vamos a utilizar como encabezado\n",
    "\n",
    "\n",
    "3. Definimos nuestras funciones.\n",
    "\n",
    "\n",
    "4. Guardamos el archivo\n",
    "\n",
    "\n",
    "5. Lo importamos para utilizar\n",
    "\n",
    "\n",
    "**MUY FACIL, PRACTICO Y PROLIJO !**"
   ]
  },
  {
   "cell_type": "code",
   "execution_count": null,
   "id": "f7b5d031",
   "metadata": {},
   "outputs": [],
   "source": []
  }
 ],
 "metadata": {
  "kernelspec": {
   "display_name": "clusterai_2023",
   "language": "python",
   "name": "python3"
  },
  "language_info": {
   "codemirror_mode": {
    "name": "ipython",
    "version": 3
   },
   "file_extension": ".py",
   "mimetype": "text/x-python",
   "name": "python",
   "nbconvert_exporter": "python",
   "pygments_lexer": "ipython3",
   "version": "3.11.4"
  },
  "toc": {
   "base_numbering": 1,
   "nav_menu": {},
   "number_sections": true,
   "sideBar": true,
   "skip_h1_title": false,
   "title_cell": "Table of Contents",
   "title_sidebar": "Contents",
   "toc_cell": false,
   "toc_position": {
    "height": "calc(100% - 180px)",
    "left": "10px",
    "top": "150px",
    "width": "165px"
   },
   "toc_section_display": true,
   "toc_window_display": false
  }
 },
 "nbformat": 4,
 "nbformat_minor": 5
}
