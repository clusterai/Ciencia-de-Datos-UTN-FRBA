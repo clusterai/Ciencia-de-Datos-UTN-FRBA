{
 "cells": [
  {
   "cell_type": "markdown",
   "metadata": {
    "id": "MYJF9F280I6R"
   },
   "source": [
    "____\n",
    "__Universidad Tecnológica Nacional, Buenos Aires__\\\n",
    "__Ingeniería Industrial__\\\n",
    "__Docente: Martin Palazzo__\\\n",
    "__Ciencia de Datos - Curso I5521 - Turno Sabado Mañana__\n",
    "____"
   ]
  },
  {
   "cell_type": "markdown",
   "metadata": {
    "id": "FCF2-b560I6T"
   },
   "source": [
    "# Importamos Librerías"
   ]
  },
  {
   "cell_type": "code",
   "execution_count": null,
   "metadata": {
    "id": "KwxqwDe30I6U"
   },
   "outputs": [],
   "source": [
    "# importamos las librerías necesarias para trabajar.\n",
    "import numpy as np\n",
    "import pandas as pd\n",
    "import matplotlib.pyplot as plt\n",
    "import matplotlib.cm as cm\n",
    "import seaborn as sns\n",
    "from sklearn import preprocessing"
   ]
  },
  {
   "cell_type": "code",
   "execution_count": null,
   "metadata": {
    "id": "v7CGjv3g0I6b"
   },
   "outputs": [],
   "source": [
    "# Importamos librerias de Clustering\n",
    "from sklearn.cluster import KMeans\n",
    "from scipy.cluster.hierarchy import dendrogram, linkage \n",
    "from sklearn.cluster import AgglomerativeClustering\n",
    "from sklearn import metrics"
   ]
  },
  {
   "cell_type": "markdown",
   "metadata": {
    "id": "3jm4zO5k0I6e"
   },
   "source": [
    "# Importamos Dataset"
   ]
  },
  {
   "cell_type": "code",
   "execution_count": null,
   "metadata": {
    "id": "nvCzt5PI0I6e",
    "outputId": "1d3e30ad-f05b-439f-fd51-df7be5335c10"
   },
   "outputs": [],
   "source": [
    "pwd"
   ]
  },
  {
   "cell_type": "code",
   "execution_count": null,
   "metadata": {
    "id": "E16uE9dj0I6i"
   },
   "outputs": [],
   "source": [
    "credit = pd.read_csv('/Users/lrmar/ClusterAI_2024/Clase7/clusterai_clase06_clustering_dataset_credit.csv', delimiter=',')"
   ]
  },
  {
   "cell_type": "code",
   "execution_count": null,
   "metadata": {},
   "outputs": [],
   "source": [
    "credit.tail()"
   ]
  },
  {
   "cell_type": "code",
   "execution_count": null,
   "metadata": {},
   "outputs": [],
   "source": [
    "credit.shape"
   ]
  },
  {
   "cell_type": "markdown",
   "metadata": {
    "id": "XCe3AAAi0I6r"
   },
   "source": [
    "# Preprocesamiento: Valores nulos"
   ]
  },
  {
   "cell_type": "code",
   "execution_count": null,
   "metadata": {
    "id": "LX866tNs0I6s",
    "outputId": "39254e38-4d3e-4d92-d11c-a3b1490dca2b"
   },
   "outputs": [],
   "source": [
    "credit.isnull().sum()"
   ]
  },
  {
   "cell_type": "code",
   "execution_count": null,
   "metadata": {
    "id": "71M1_jxA0I6u"
   },
   "outputs": [],
   "source": [
    "# como son pocas muestras con nulos decidimos quitar las filas que tienen algun valor nulo\n",
    "credit = credit.dropna()"
   ]
  },
  {
   "cell_type": "code",
   "execution_count": null,
   "metadata": {
    "id": "m2pP28KZ0I6x",
    "outputId": "3766324c-9a72-484e-dbef-8b26519c9c03"
   },
   "outputs": [],
   "source": [
    "# revisamos que ninguna columna tenga valores nulos\n",
    "credit.isnull().any()"
   ]
  },
  {
   "cell_type": "code",
   "execution_count": null,
   "metadata": {
    "id": "QRBmfKwZ0I61",
    "outputId": "9818cabe-13ca-42f9-f920-79aebd9da333"
   },
   "outputs": [],
   "source": [
    "credit.shape"
   ]
  },
  {
   "cell_type": "markdown",
   "metadata": {
    "id": "f-eWNSmS0I64"
   },
   "source": [
    "### Seleccionamos las features con las que deseamos trabajar\n",
    "Observemos que la primer columna \"CUST_ID\" no nos sirve para realizar machine learning por eso la descartamos."
   ]
  },
  {
   "cell_type": "code",
   "execution_count": null,
   "metadata": {
    "id": "mGZ3tw9_0I64"
   },
   "outputs": [],
   "source": [
    "x = credit.iloc[:,1:]"
   ]
  },
  {
   "cell_type": "code",
   "execution_count": null,
   "metadata": {
    "id": "6yiztjdl0I67",
    "outputId": "ecd7cf2a-db26-4905-c72b-c6e779d370ec"
   },
   "outputs": [],
   "source": [
    "x.head()"
   ]
  },
  {
   "cell_type": "markdown",
   "metadata": {
    "id": "ULZRN1C20I6-"
   },
   "source": [
    "### Pre procesamiento: Autoscaling\n",
    "Realizamos un autoscaling con los datos, para todas las features. Como no tenemos train y test el standard scaler lo aplicamos a todo el dataset."
   ]
  },
  {
   "cell_type": "code",
   "execution_count": null,
   "metadata": {
    "id": "S2eCpdlj0I6-",
    "outputId": "90ac5c4d-cef1-4cc1-87c5-6997b2025747"
   },
   "outputs": [],
   "source": [
    "scaler = preprocessing.StandardScaler().fit(x)\n",
    "scaler"
   ]
  },
  {
   "cell_type": "code",
   "execution_count": null,
   "metadata": {
    "id": "TDvpZoNX0I7B",
    "outputId": "e8654de0-09e4-4c0b-95ed-bfa5174a6de3"
   },
   "outputs": [],
   "source": [
    "# nuestros datos pre-procesados los guardamos en \"xscal\"\n",
    "xscal = scaler.transform(x)  "
   ]
  },
  {
   "cell_type": "markdown",
   "metadata": {
    "id": "rdYm26W00I7E"
   },
   "source": [
    "### Visualización de los datos post autoscaling"
   ]
  },
  {
   "cell_type": "code",
   "execution_count": null,
   "metadata": {
    "id": "H-p9PtZQ0I7E",
    "outputId": "d2ca6657-ba7f-4742-893d-e7fbc80c4e6f"
   },
   "outputs": [],
   "source": [
    "# visualizamos nuestros datos luego del autoscaling\n",
    "sns.boxplot(data = pd.DataFrame(xscal))\n",
    "plt.xlabel(\"features\")\n",
    "plt.ylabel(\"Valor luego de autoscaling\")\n",
    "plt.show()"
   ]
  },
  {
   "cell_type": "markdown",
   "metadata": {
    "id": "H4vDclIW0I7R"
   },
   "source": [
    "## Clustering con K Means\n",
    "Utilizaremos la matriz de datos con las features originales luego de haber sido auto-escaladas."
   ]
  },
  {
   "cell_type": "code",
   "execution_count": null,
   "metadata": {
    "id": "l0Ih50Qo0I7S"
   },
   "outputs": [],
   "source": [
    "# Generamos un modelo de K-Means con 4 clusters y los datos autoscalados\n",
    "kmeans = KMeans(n_clusters=4, random_state=0).fit(xscal)"
   ]
  },
  {
   "cell_type": "code",
   "execution_count": null,
   "metadata": {
    "id": "MOpsrqKV0I7U",
    "outputId": "537c44cb-416b-4a8d-fc9b-98e88a6a2c84"
   },
   "outputs": [],
   "source": [
    "# una vez realizado el clusering, observamos las labels de cluster asignadas a cada muestra\n",
    "kmeans.labels_"
   ]
  },
  {
   "cell_type": "code",
   "execution_count": null,
   "metadata": {},
   "outputs": [],
   "source": [
    "np.unique(kmeans.labels_)"
   ]
  },
  {
   "cell_type": "code",
   "execution_count": null,
   "metadata": {
    "id": "OWUfbHE80I7W",
    "outputId": "622464c1-6140-47b6-d2d2-74716f6a9c99"
   },
   "outputs": [],
   "source": [
    "# visualizamos los centroides finales de cada cluster. Como pedimos 4 clusters hay 4 centroides.\n",
    "kmeans.cluster_centers_"
   ]
  },
  {
   "cell_type": "code",
   "execution_count": null,
   "metadata": {
    "id": "0o3uhaMr0I7a",
    "outputId": "81b0a906-6ca3-4e2e-8663-85acbe8382da"
   },
   "outputs": [],
   "source": [
    "# Contamos cuantas muestras quedaron en cada cluster\n",
    "sns.countplot(x=pd.Series(kmeans.labels_).astype(int))\n",
    "plt.title(\"Cantidad de muestras por cluster K means\")\n",
    "plt.xlabel(\"Clusters\")\n",
    "plt.show()"
   ]
  },
  {
   "cell_type": "markdown",
   "metadata": {
    "id": "Eh81Mo130I7j"
   },
   "source": [
    "## Clustering Jerárquico (con scipy)"
   ]
  },
  {
   "cell_type": "markdown",
   "metadata": {
    "id": "QorHTOKR0I7j"
   },
   "source": [
    "Generamos un clustering jerárquico. El linkage entre clusters será \"ward\" que implica \"minimizes the variance of the clusters being merged\".  Scipy lo utilizamos para visualizar el dendograma. "
   ]
  },
  {
   "cell_type": "code",
   "execution_count": null,
   "metadata": {
    "id": "HTj1-dH00I7j"
   },
   "outputs": [],
   "source": [
    "# la función dendogram de scipy ofrece visualización del dendograma\n",
    "Z = linkage(xscal, 'ward')"
   ]
  },
  {
   "cell_type": "code",
   "execution_count": null,
   "metadata": {
    "id": "NZePGdwl0I7m",
    "outputId": "840a7bc5-f51b-45e3-c287-7f54a285a225"
   },
   "outputs": [],
   "source": [
    "plt.figure(figsize=(12, 8))\n",
    "dendrogram(Z)\n",
    "plt.show()"
   ]
  },
  {
   "cell_type": "markdown",
   "metadata": {
    "id": "Ot0lfNl80I7o"
   },
   "source": [
    "## Clustering jerárquico con Scikit Learn"
   ]
  },
  {
   "cell_type": "markdown",
   "metadata": {
    "id": "iqMSZfVQ0I7p"
   },
   "source": [
    "Generamos un clustering jerárquico con 4 clusters sobre nuestros datos."
   ]
  },
  {
   "cell_type": "code",
   "execution_count": null,
   "metadata": {
    "id": "NnYPUJcn0I7p"
   },
   "outputs": [],
   "source": [
    "hierclus = AgglomerativeClustering(n_clusters=4).fit(xscal)"
   ]
  },
  {
   "cell_type": "code",
   "execution_count": null,
   "metadata": {
    "id": "wAOHGlv_0I7r",
    "outputId": "aa894a08-bfd5-4b59-9d92-4b8f090310e0"
   },
   "outputs": [],
   "source": [
    "# Observamos las labels de clusters asignadas a cada muestra\n",
    "hierclus.labels_"
   ]
  },
  {
   "cell_type": "code",
   "execution_count": null,
   "metadata": {
    "id": "pG1rwOMF0I7t",
    "outputId": "3431b48a-c3e0-4c65-d4cc-62fae16eddd6"
   },
   "outputs": [],
   "source": [
    "# visualizamos en pantalla cuantas muestras quedaron en cada cluster\n",
    "sns.countplot(x=pd.Series(hierclus.labels_).astype(int))\n",
    "plt.title(\"Cantidad de muestras por cluster K means\")\n",
    "plt.xlabel(\"Clusters\")\n",
    "plt.show()"
   ]
  },
  {
   "cell_type": "markdown",
   "metadata": {
    "id": "sjfKof-d0I7w"
   },
   "source": [
    "## Medición de la calidad de clusters con Silhouette Score\n",
    "Utilizando las etiquetas de clustering obtenidas por cada algoritmo computamos el Silhouette score para ver cuan \"separados\" estan los clusters obtenidos. Cuanto mas alto sea el silhouette score mejor la calidad de cluster obtenida."
   ]
  },
  {
   "cell_type": "code",
   "execution_count": null,
   "metadata": {
    "id": "p5QCynnd0I7x",
    "outputId": "04002372-f331-4841-b591-a93aac29e7e8"
   },
   "outputs": [],
   "source": [
    "# Silhouette score utilizando las etiquetas obtenidas de K-means\n",
    "metrics.silhouette_score(xscal, kmeans.labels_, metric='euclidean')"
   ]
  },
  {
   "cell_type": "code",
   "execution_count": null,
   "metadata": {
    "id": "vaqu8lBY0I7z",
    "outputId": "d4a814b3-a626-4a7b-e4eb-f0c797d29b88"
   },
   "outputs": [],
   "source": [
    "# Silhouette score utilizando las etiquetas obtenidas de Hierarchical clustering\n",
    "metrics.silhouette_score(xscal, hierclus.labels_, metric='euclidean')"
   ]
  },
  {
   "cell_type": "markdown",
   "metadata": {
    "id": "uEaeUDwO0I72"
   },
   "source": [
    "# Asignación\n",
    "Recién comparamos el Silhouette Score para ambos algoritmos con K = 4. Comparar para ambos algoritmos como evoluciona el Silhouette Score para distintos valores de clusters K = 2, 3, 4, 5, 6, 7."
   ]
  },
  {
   "cell_type": "code",
   "execution_count": null,
   "metadata": {
    "id": "F3f1JJCB0I72"
   },
   "outputs": [],
   "source": [
    "#### Codigo Aqui ####\n",
    "#### Codigo Aqui ####\n",
    "#### Codigo Aqui ####\n",
    "#### Codigo Aqui ####"
   ]
  },
  {
   "cell_type": "code",
   "execution_count": null,
   "metadata": {},
   "outputs": [],
   "source": []
  }
 ],
 "metadata": {
  "colab": {
   "collapsed_sections": [],
   "name": "clusterai_2021_clase07_clustering_credit.ipynb",
   "provenance": []
  },
  "kernelspec": {
   "display_name": "Python 3 (ipykernel)",
   "language": "python",
   "name": "python3"
  },
  "language_info": {
   "codemirror_mode": {
    "name": "ipython",
    "version": 3
   },
   "file_extension": ".py",
   "mimetype": "text/x-python",
   "name": "python",
   "nbconvert_exporter": "python",
   "pygments_lexer": "ipython3",
   "version": "3.11.4"
  }
 },
 "nbformat": 4,
 "nbformat_minor": 1
}
