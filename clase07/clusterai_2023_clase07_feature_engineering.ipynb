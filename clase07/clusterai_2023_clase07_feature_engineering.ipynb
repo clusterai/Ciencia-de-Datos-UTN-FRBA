{
 "cells": [
  {
   "cell_type": "code",
   "execution_count": null,
   "metadata": {},
   "outputs": [],
   "source": []
  },
  {
   "cell_type": "markdown",
   "metadata": {},
   "source": [
    "## Prediccion del precio de las propiedades"
   ]
  },
  {
   "cell_type": "markdown",
   "metadata": {},
   "source": [
    "Vamos a utilizar la informacion de https://www.properati.com.ar/ correspondiente a Departamentos y PH de Capital Federal"
   ]
  },
  {
   "cell_type": "markdown",
   "metadata": {},
   "source": [
    "#### Importamos librerias"
   ]
  },
  {
   "cell_type": "code",
   "execution_count": 1,
   "metadata": {},
   "outputs": [],
   "source": [
    "import pandas as pd\n",
    "import numpy as np\n",
    "import matplotlib.pyplot as plt\n",
    "\n",
    "# Configura la opción para desactivar la notación científica\n",
    "pd.set_option('display.float_format', '{:.2f}'.format)\n",
    "\n",
    "# Configurar opciones para poder visualizar todas las columnas\n",
    "pd.set_option('display.max_columns', None)"
   ]
  },
  {
   "cell_type": "code",
   "execution_count": 2,
   "metadata": {},
   "outputs": [
    {
     "data": {
      "text/html": [
       "<div>\n",
       "<style scoped>\n",
       "    .dataframe tbody tr th:only-of-type {\n",
       "        vertical-align: middle;\n",
       "    }\n",
       "\n",
       "    .dataframe tbody tr th {\n",
       "        vertical-align: top;\n",
       "    }\n",
       "\n",
       "    .dataframe thead th {\n",
       "        text-align: right;\n",
       "    }\n",
       "</style>\n",
       "<table border=\"1\" class=\"dataframe\">\n",
       "  <thead>\n",
       "    <tr style=\"text-align: right;\">\n",
       "      <th></th>\n",
       "      <th>Unnamed: 0</th>\n",
       "      <th>id</th>\n",
       "      <th>ad_type</th>\n",
       "      <th>start_date</th>\n",
       "      <th>end_date</th>\n",
       "      <th>created_on</th>\n",
       "      <th>lat</th>\n",
       "      <th>lon</th>\n",
       "      <th>l1</th>\n",
       "      <th>l2</th>\n",
       "      <th>l3</th>\n",
       "      <th>l4</th>\n",
       "      <th>l5</th>\n",
       "      <th>l6</th>\n",
       "      <th>rooms</th>\n",
       "      <th>bedrooms</th>\n",
       "      <th>bathrooms</th>\n",
       "      <th>surface_total</th>\n",
       "      <th>surface_covered</th>\n",
       "      <th>price</th>\n",
       "      <th>currency</th>\n",
       "      <th>price_period</th>\n",
       "      <th>title</th>\n",
       "      <th>description</th>\n",
       "      <th>property_type</th>\n",
       "      <th>operation_type</th>\n",
       "    </tr>\n",
       "  </thead>\n",
       "  <tbody>\n",
       "    <tr>\n",
       "      <th>822</th>\n",
       "      <td>789147</td>\n",
       "      <td>Q6glqSQVOoeVdyuwdaB3SQ==</td>\n",
       "      <td>Propiedad</td>\n",
       "      <td>2021-04-21</td>\n",
       "      <td>2021-07-16</td>\n",
       "      <td>2021-04-21</td>\n",
       "      <td>-34.60</td>\n",
       "      <td>-58.45</td>\n",
       "      <td>Argentina</td>\n",
       "      <td>Capital Federal</td>\n",
       "      <td>Villa Crespo</td>\n",
       "      <td>NaN</td>\n",
       "      <td>NaN</td>\n",
       "      <td>NaN</td>\n",
       "      <td>2.00</td>\n",
       "      <td>1.00</td>\n",
       "      <td>1.00</td>\n",
       "      <td>34.00</td>\n",
       "      <td>34.00</td>\n",
       "      <td>75000.00</td>\n",
       "      <td>USD</td>\n",
       "      <td>NaN</td>\n",
       "      <td>Departamento 2 ambientes  OPORTUNIDAD.</td>\n",
       "      <td>Corredor Responsable: Monica Alejandra Mazza /...</td>\n",
       "      <td>Departamento</td>\n",
       "      <td>Venta</td>\n",
       "    </tr>\n",
       "    <tr>\n",
       "      <th>16705</th>\n",
       "      <td>187119</td>\n",
       "      <td>SJhbYvdR5g5NLWJ0c/SdIQ==</td>\n",
       "      <td>Propiedad</td>\n",
       "      <td>2020-07-29</td>\n",
       "      <td>2020-09-02</td>\n",
       "      <td>2020-07-29</td>\n",
       "      <td>-34.59</td>\n",
       "      <td>-58.44</td>\n",
       "      <td>Argentina</td>\n",
       "      <td>Capital Federal</td>\n",
       "      <td>Villa Crespo</td>\n",
       "      <td>NaN</td>\n",
       "      <td>NaN</td>\n",
       "      <td>NaN</td>\n",
       "      <td>3.00</td>\n",
       "      <td>2.00</td>\n",
       "      <td>1.00</td>\n",
       "      <td>62.00</td>\n",
       "      <td>58.00</td>\n",
       "      <td>165000.00</td>\n",
       "      <td>USD</td>\n",
       "      <td>NaN</td>\n",
       "      <td>DEPTO SEMIPISO 3 AMBIENTES VILLA CRESPO</td>\n",
       "      <td>Corredor Responsable: Maria Badino  - CUCICBA ...</td>\n",
       "      <td>Departamento</td>\n",
       "      <td>Venta</td>\n",
       "    </tr>\n",
       "    <tr>\n",
       "      <th>36071</th>\n",
       "      <td>618870</td>\n",
       "      <td>eL1f3sDw4GWJaksnvDNpHA==</td>\n",
       "      <td>Propiedad</td>\n",
       "      <td>2020-12-03</td>\n",
       "      <td>2021-01-08</td>\n",
       "      <td>2020-12-03</td>\n",
       "      <td>-34.56</td>\n",
       "      <td>-58.46</td>\n",
       "      <td>Argentina</td>\n",
       "      <td>Capital Federal</td>\n",
       "      <td>Nuñez</td>\n",
       "      <td>NaN</td>\n",
       "      <td>NaN</td>\n",
       "      <td>NaN</td>\n",
       "      <td>1.00</td>\n",
       "      <td>0.00</td>\n",
       "      <td>1.00</td>\n",
       "      <td>NaN</td>\n",
       "      <td>NaN</td>\n",
       "      <td>89020.00</td>\n",
       "      <td>USD</td>\n",
       "      <td>NaN</td>\n",
       "      <td>Departamento en Venta en Nuñez, Capital federa...</td>\n",
       "      <td>VENTA DEPARTAMENTO 1 AMBIENTE CABALLITO\\n\\nEmp...</td>\n",
       "      <td>Departamento</td>\n",
       "      <td>Venta</td>\n",
       "    </tr>\n",
       "    <tr>\n",
       "      <th>29123</th>\n",
       "      <td>156237</td>\n",
       "      <td>E/rP7aUfK7QD7WDpyXLxOA==</td>\n",
       "      <td>Propiedad</td>\n",
       "      <td>2020-05-31</td>\n",
       "      <td>2020-09-23</td>\n",
       "      <td>2020-05-31</td>\n",
       "      <td>NaN</td>\n",
       "      <td>NaN</td>\n",
       "      <td>Argentina</td>\n",
       "      <td>Capital Federal</td>\n",
       "      <td>Palermo</td>\n",
       "      <td>NaN</td>\n",
       "      <td>NaN</td>\n",
       "      <td>NaN</td>\n",
       "      <td>2.00</td>\n",
       "      <td>NaN</td>\n",
       "      <td>2.00</td>\n",
       "      <td>64.00</td>\n",
       "      <td>50.00</td>\n",
       "      <td>160000.00</td>\n",
       "      <td>USD</td>\n",
       "      <td>NaN</td>\n",
       "      <td>J Alvarez  1900 - U$D 160.000 - Departamento e...</td>\n",
       "      <td>Departamento de 3 ambientes con Patio.Living C...</td>\n",
       "      <td>Departamento</td>\n",
       "      <td>Venta</td>\n",
       "    </tr>\n",
       "  </tbody>\n",
       "</table>\n",
       "</div>"
      ],
      "text/plain": [
       "       Unnamed: 0                        id    ad_type  start_date  \\\n",
       "822        789147  Q6glqSQVOoeVdyuwdaB3SQ==  Propiedad  2021-04-21   \n",
       "16705      187119  SJhbYvdR5g5NLWJ0c/SdIQ==  Propiedad  2020-07-29   \n",
       "36071      618870  eL1f3sDw4GWJaksnvDNpHA==  Propiedad  2020-12-03   \n",
       "29123      156237  E/rP7aUfK7QD7WDpyXLxOA==  Propiedad  2020-05-31   \n",
       "\n",
       "         end_date  created_on    lat    lon         l1               l2  \\\n",
       "822    2021-07-16  2021-04-21 -34.60 -58.45  Argentina  Capital Federal   \n",
       "16705  2020-09-02  2020-07-29 -34.59 -58.44  Argentina  Capital Federal   \n",
       "36071  2021-01-08  2020-12-03 -34.56 -58.46  Argentina  Capital Federal   \n",
       "29123  2020-09-23  2020-05-31    NaN    NaN  Argentina  Capital Federal   \n",
       "\n",
       "                 l3   l4  l5  l6  rooms  bedrooms  bathrooms  surface_total  \\\n",
       "822    Villa Crespo  NaN NaN NaN   2.00      1.00       1.00          34.00   \n",
       "16705  Villa Crespo  NaN NaN NaN   3.00      2.00       1.00          62.00   \n",
       "36071         Nuñez  NaN NaN NaN   1.00      0.00       1.00            NaN   \n",
       "29123       Palermo  NaN NaN NaN   2.00       NaN       2.00          64.00   \n",
       "\n",
       "       surface_covered     price currency  price_period  \\\n",
       "822              34.00  75000.00      USD           NaN   \n",
       "16705            58.00 165000.00      USD           NaN   \n",
       "36071              NaN  89020.00      USD           NaN   \n",
       "29123            50.00 160000.00      USD           NaN   \n",
       "\n",
       "                                                   title  \\\n",
       "822               Departamento 2 ambientes  OPORTUNIDAD.   \n",
       "16705            DEPTO SEMIPISO 3 AMBIENTES VILLA CRESPO   \n",
       "36071  Departamento en Venta en Nuñez, Capital federa...   \n",
       "29123  J Alvarez  1900 - U$D 160.000 - Departamento e...   \n",
       "\n",
       "                                             description property_type  \\\n",
       "822    Corredor Responsable: Monica Alejandra Mazza /...  Departamento   \n",
       "16705  Corredor Responsable: Maria Badino  - CUCICBA ...  Departamento   \n",
       "36071  VENTA DEPARTAMENTO 1 AMBIENTE CABALLITO\\n\\nEmp...  Departamento   \n",
       "29123  Departamento de 3 ambientes con Patio.Living C...  Departamento   \n",
       "\n",
       "      operation_type  \n",
       "822            Venta  \n",
       "16705          Venta  \n",
       "36071          Venta  \n",
       "29123          Venta  "
      ]
     },
     "execution_count": 2,
     "metadata": {},
     "output_type": "execute_result"
    }
   ],
   "source": [
    "# Importamos el dataset e imprimimos algunos registros\n",
    "df = pd.read_csv(\"./properati_capital.csv\")\n",
    "df.sample(4)"
   ]
  },
  {
   "cell_type": "code",
   "execution_count": 3,
   "metadata": {},
   "outputs": [
    {
     "data": {
      "text/plain": [
       "(38656, 26)"
      ]
     },
     "execution_count": 3,
     "metadata": {},
     "output_type": "execute_result"
    }
   ],
   "source": [
    "# Vemos las dimensiones del dataset\n",
    "df.shape"
   ]
  },
  {
   "cell_type": "markdown",
   "metadata": {},
   "source": [
    "### EDA"
   ]
  },
  {
   "cell_type": "markdown",
   "metadata": {},
   "source": [
    "#### Distribucion del precio"
   ]
  },
  {
   "cell_type": "code",
   "execution_count": 4,
   "metadata": {},
   "outputs": [
    {
     "data": {
      "image/png": "[encoded data removed]",
      "text/plain": [
       "<Figure size 800x600 with 1 Axes>"
      ]
     },
     "metadata": {},
     "output_type": "display_data"
    }
   ],
   "source": [
    "# Crear un boxplot para la columna \"price\"\n",
    "plt.figure(figsize=(8, 6))  # Tamaño opcional del gráfico\n",
    "plt.boxplot(df['price'])\n",
    "plt.title('Boxplot de Precio')\n",
    "plt.ylabel('Precio')\n",
    "plt.show()"
   ]
  },
  {
   "cell_type": "code",
   "execution_count": 5,
   "metadata": {},
   "outputs": [
    {
     "data": {
      "text/plain": [
       "count     38656.00\n",
       "mean     195918.13\n",
       "std      228924.52\n",
       "min       10000.00\n",
       "25%       95593.25\n",
       "50%      139000.00\n",
       "75%      215000.00\n",
       "max     5500000.00\n",
       "Name: price, dtype: float64"
      ]
     },
     "execution_count": 5,
     "metadata": {},
     "output_type": "execute_result"
    }
   ],
   "source": [
    "# Analizamos estadisticamente la columna precio\n",
    "df.price.describe().T"
   ]
  },
  {
   "cell_type": "markdown",
   "metadata": {},
   "source": [
    "Como vemos, tenemos valores atípicos.\n",
    "\n",
    "Por este motivo vamos a evaluar los percentiles 99 y 1"
   ]
  },
  {
   "cell_type": "code",
   "execution_count": 6,
   "metadata": {},
   "outputs": [
    {
     "name": "stdout",
     "output_type": "stream",
     "text": [
      "El valor del percentil 99 es: 1190000.0\n",
      "El valor del percentil 1 es: 47000.0\n"
     ]
    }
   ],
   "source": [
    "# Calcular el percentil 99 de la columna 'price'\n",
    "\n",
    "percentil_99 = df['price'].quantile(0.99)\n",
    "print(f\"El valor del percentil 99 es: {percentil_99}\")\n",
    "percentil_01 = df['price'].quantile(0.01)\n",
    "print(f\"El valor del percentil 1 es: {percentil_01}\")"
   ]
  },
  {
   "cell_type": "code",
   "execution_count": 7,
   "metadata": {},
   "outputs": [
    {
     "data": {
      "text/plain": [
       "(37857, 26)"
      ]
     },
     "execution_count": 7,
     "metadata": {},
     "output_type": "execute_result"
    }
   ],
   "source": [
    "# Nos vamos a quedar con los registros que esten entre estos valores\n",
    "\n",
    "df = df[(df['price'] > percentil_01) & (df['price'] < percentil_99)]\n",
    "df.shape"
   ]
  },
  {
   "cell_type": "markdown",
   "metadata": {},
   "source": [
    "## EDA"
   ]
  },
  {
   "cell_type": "markdown",
   "metadata": {},
   "source": [
    "- Analizaremos las columnas que tenemos y sus tipos de datos\n",
    "- Enriquecemos nuestro dataset con otra fuente de datos\n",
    "- Seleccionaremos las variables relevantes\n",
    "- Tratamiento de valores faltantes\n",
    "- Tratamiendo de valores atípicos\n",
    "- Creacion de nuevas variables\n"
   ]
  },
  {
   "cell_type": "code",
   "execution_count": 8,
   "metadata": {},
   "outputs": [
    {
     "data": {
      "text/plain": [
       "Index(['Unnamed: 0', 'id', 'ad_type', 'start_date', 'end_date', 'created_on',\n",
       "       'lat', 'lon', 'l1', 'l2', 'l3', 'l4', 'l5', 'l6', 'rooms', 'bedrooms',\n",
       "       'bathrooms', 'surface_total', 'surface_covered', 'price', 'currency',\n",
       "       'price_period', 'title', 'description', 'property_type',\n",
       "       'operation_type'],\n",
       "      dtype='object')"
      ]
     },
     "execution_count": 8,
     "metadata": {},
     "output_type": "execute_result"
    }
   ],
   "source": [
    "# Imprimimos los nombres de variables\n",
    "df.columns"
   ]
  },
  {
   "cell_type": "code",
   "execution_count": 9,
   "metadata": {},
   "outputs": [
    {
     "data": {
      "text/plain": [
       "(37857, 24)"
      ]
     },
     "execution_count": 9,
     "metadata": {},
     "output_type": "execute_result"
    }
   ],
   "source": [
    "# Eliminamos las variables \"Unnamed: 0\" y \"id\" ya que son variables keys del dataset y no nos aportan informacion\n",
    "\n",
    "ids_vars = [\"Unnamed: 0\", \"id\"] # creo una lista de las variables que decidimos eliminar\n",
    "df.drop(ids_vars, axis=1,inplace= True) # el parametro inplace nos permite guardar los nuevos cambios dentro de la variable existente\n",
    "df.shape"
   ]
  },
  {
   "cell_type": "markdown",
   "metadata": {},
   "source": [
    "Veamos ahora los tipos de datos de estas columnas"
   ]
  },
  {
   "cell_type": "code",
   "execution_count": 10,
   "metadata": {},
   "outputs": [
    {
     "name": "stdout",
     "output_type": "stream",
     "text": [
      "<class 'pandas.core.frame.DataFrame'>\n",
      "Int64Index: 37857 entries, 0 to 38655\n",
      "Data columns (total 24 columns):\n",
      " #   Column           Non-Null Count  Dtype  \n",
      "---  ------           --------------  -----  \n",
      " 0   ad_type          37857 non-null  object \n",
      " 1   start_date       37857 non-null  object \n",
      " 2   end_date         37857 non-null  object \n",
      " 3   created_on       37857 non-null  object \n",
      " 4   lat              35862 non-null  float64\n",
      " 5   lon              35862 non-null  float64\n",
      " 6   l1               37857 non-null  object \n",
      " 7   l2               37857 non-null  object \n",
      " 8   l3               37727 non-null  object \n",
      " 9   l4               1071 non-null   object \n",
      " 10  l5               0 non-null      float64\n",
      " 11  l6               0 non-null      float64\n",
      " 12  rooms            35341 non-null  float64\n",
      " 13  bedrooms         30495 non-null  float64\n",
      " 14  bathrooms        35557 non-null  float64\n",
      " 15  surface_total    22113 non-null  float64\n",
      " 16  surface_covered  22143 non-null  float64\n",
      " 17  price            37857 non-null  float64\n",
      " 18  currency         37857 non-null  object \n",
      " 19  price_period     0 non-null      float64\n",
      " 20  title            37857 non-null  object \n",
      " 21  description      37857 non-null  object \n",
      " 22  property_type    37857 non-null  object \n",
      " 23  operation_type   37857 non-null  object \n",
      "dtypes: float64(11), object(13)\n",
      "memory usage: 7.2+ MB\n"
     ]
    }
   ],
   "source": [
    "df.info()"
   ]
  },
  {
   "cell_type": "markdown",
   "metadata": {},
   "source": [
    "Vemos que existen variables con muchos valores nulos.\n",
    "\n",
    "Hagamos este análisis de una manera mas precisa."
   ]
  },
  {
   "cell_type": "code",
   "execution_count": 11,
   "metadata": {},
   "outputs": [
    {
     "data": {
      "text/html": [
       "<div>\n",
       "<style scoped>\n",
       "    .dataframe tbody tr th:only-of-type {\n",
       "        vertical-align: middle;\n",
       "    }\n",
       "\n",
       "    .dataframe tbody tr th {\n",
       "        vertical-align: top;\n",
       "    }\n",
       "\n",
       "    .dataframe thead th {\n",
       "        text-align: right;\n",
       "    }\n",
       "</style>\n",
       "<table border=\"1\" class=\"dataframe\">\n",
       "  <thead>\n",
       "    <tr style=\"text-align: right;\">\n",
       "      <th></th>\n",
       "      <th>Missing</th>\n",
       "    </tr>\n",
       "  </thead>\n",
       "  <tbody>\n",
       "    <tr>\n",
       "      <th>l5</th>\n",
       "      <td>1.00</td>\n",
       "    </tr>\n",
       "    <tr>\n",
       "      <th>l6</th>\n",
       "      <td>1.00</td>\n",
       "    </tr>\n",
       "    <tr>\n",
       "      <th>price_period</th>\n",
       "      <td>1.00</td>\n",
       "    </tr>\n",
       "    <tr>\n",
       "      <th>l4</th>\n",
       "      <td>0.97</td>\n",
       "    </tr>\n",
       "    <tr>\n",
       "      <th>surface_total</th>\n",
       "      <td>0.42</td>\n",
       "    </tr>\n",
       "    <tr>\n",
       "      <th>surface_covered</th>\n",
       "      <td>0.42</td>\n",
       "    </tr>\n",
       "    <tr>\n",
       "      <th>bedrooms</th>\n",
       "      <td>0.19</td>\n",
       "    </tr>\n",
       "    <tr>\n",
       "      <th>rooms</th>\n",
       "      <td>0.07</td>\n",
       "    </tr>\n",
       "    <tr>\n",
       "      <th>bathrooms</th>\n",
       "      <td>0.06</td>\n",
       "    </tr>\n",
       "    <tr>\n",
       "      <th>lat</th>\n",
       "      <td>0.05</td>\n",
       "    </tr>\n",
       "    <tr>\n",
       "      <th>lon</th>\n",
       "      <td>0.05</td>\n",
       "    </tr>\n",
       "    <tr>\n",
       "      <th>l3</th>\n",
       "      <td>0.00</td>\n",
       "    </tr>\n",
       "  </tbody>\n",
       "</table>\n",
       "</div>"
      ],
      "text/plain": [
       "                 Missing\n",
       "l5                  1.00\n",
       "l6                  1.00\n",
       "price_period        1.00\n",
       "l4                  0.97\n",
       "surface_total       0.42\n",
       "surface_covered     0.42\n",
       "bedrooms            0.19\n",
       "rooms               0.07\n",
       "bathrooms           0.06\n",
       "lat                 0.05\n",
       "lon                 0.05\n",
       "l3                  0.00"
      ]
     },
     "execution_count": 11,
     "metadata": {},
     "output_type": "execute_result"
    }
   ],
   "source": [
    "# Calculamos % los valores faltantes para cada una de las variables\n",
    "miss = pd.DataFrame(df.isnull().mean(), columns=[\"Missing\"])\n",
    "perc_miss = miss.loc[miss.Missing > 0]\n",
    "perc_miss.sort_values(\"Missing\", ascending = False)"
   ]
  },
  {
   "cell_type": "markdown",
   "metadata": {},
   "source": [
    "Observamos que las variables l6, l5, price_period y l4 contienen un alto % de valores faltantes.\n",
    "\n",
    "Por este motivo vamos a eliminarlos de nuestro dataset"
   ]
  },
  {
   "cell_type": "code",
   "execution_count": 12,
   "metadata": {},
   "outputs": [
    {
     "data": {
      "text/plain": [
       "(37857, 20)"
      ]
     },
     "execution_count": 12,
     "metadata": {},
     "output_type": "execute_result"
    }
   ],
   "source": [
    "# Repetimos el método de eliminar columnas\n",
    "\n",
    "vars_nulls = [\"l6\", \"l5\", \"l4\", \"price_period\"] \n",
    "df.drop(vars_nulls, axis = 1, inplace= True )\n",
    "df.shape "
   ]
  },
  {
   "cell_type": "code",
   "execution_count": 13,
   "metadata": {},
   "outputs": [
    {
     "data": {
      "text/html": [
       "<div>\n",
       "<style scoped>\n",
       "    .dataframe tbody tr th:only-of-type {\n",
       "        vertical-align: middle;\n",
       "    }\n",
       "\n",
       "    .dataframe tbody tr th {\n",
       "        vertical-align: top;\n",
       "    }\n",
       "\n",
       "    .dataframe thead th {\n",
       "        text-align: right;\n",
       "    }\n",
       "</style>\n",
       "<table border=\"1\" class=\"dataframe\">\n",
       "  <thead>\n",
       "    <tr style=\"text-align: right;\">\n",
       "      <th></th>\n",
       "      <th>ad_type</th>\n",
       "      <th>start_date</th>\n",
       "      <th>end_date</th>\n",
       "      <th>created_on</th>\n",
       "      <th>lat</th>\n",
       "      <th>lon</th>\n",
       "      <th>l1</th>\n",
       "      <th>l2</th>\n",
       "      <th>l3</th>\n",
       "      <th>rooms</th>\n",
       "      <th>bedrooms</th>\n",
       "      <th>bathrooms</th>\n",
       "      <th>surface_total</th>\n",
       "      <th>surface_covered</th>\n",
       "      <th>price</th>\n",
       "      <th>currency</th>\n",
       "      <th>title</th>\n",
       "      <th>description</th>\n",
       "      <th>property_type</th>\n",
       "      <th>operation_type</th>\n",
       "    </tr>\n",
       "  </thead>\n",
       "  <tbody>\n",
       "    <tr>\n",
       "      <th>38653</th>\n",
       "      <td>Propiedad</td>\n",
       "      <td>2020-12-31</td>\n",
       "      <td>2021-01-02</td>\n",
       "      <td>2020-12-31</td>\n",
       "      <td>-34.63</td>\n",
       "      <td>-58.44</td>\n",
       "      <td>Argentina</td>\n",
       "      <td>Capital Federal</td>\n",
       "      <td>Caballito</td>\n",
       "      <td>4.00</td>\n",
       "      <td>3.00</td>\n",
       "      <td>2.00</td>\n",
       "      <td>108.00</td>\n",
       "      <td>108.00</td>\n",
       "      <td>273060.00</td>\n",
       "      <td>USD</td>\n",
       "      <td>VENTA DEPARTAMENTO EN POZO EDIFICIO PREMIUM</td>\n",
       "      <td>Corredor Responsable: Ariel Champanier - C.U.C...</td>\n",
       "      <td>Departamento</td>\n",
       "      <td>Venta</td>\n",
       "    </tr>\n",
       "    <tr>\n",
       "      <th>38654</th>\n",
       "      <td>Propiedad</td>\n",
       "      <td>2021-04-30</td>\n",
       "      <td>9999-12-31</td>\n",
       "      <td>2021-04-30</td>\n",
       "      <td>-34.64</td>\n",
       "      <td>-58.49</td>\n",
       "      <td>Argentina</td>\n",
       "      <td>Capital Federal</td>\n",
       "      <td>Velez Sarsfield</td>\n",
       "      <td>1.00</td>\n",
       "      <td>1.00</td>\n",
       "      <td>1.00</td>\n",
       "      <td>NaN</td>\n",
       "      <td>NaN</td>\n",
       "      <td>68100.00</td>\n",
       "      <td>USD</td>\n",
       "      <td>Departamento en Venta en Velez sarsfield, Capi...</td>\n",
       "      <td>Venta de Departamento 2 AMBIENTES en Velez Sar...</td>\n",
       "      <td>Departamento</td>\n",
       "      <td>Venta</td>\n",
       "    </tr>\n",
       "    <tr>\n",
       "      <th>38655</th>\n",
       "      <td>Propiedad</td>\n",
       "      <td>2020-09-26</td>\n",
       "      <td>2020-10-10</td>\n",
       "      <td>2020-09-26</td>\n",
       "      <td>NaN</td>\n",
       "      <td>NaN</td>\n",
       "      <td>Argentina</td>\n",
       "      <td>Capital Federal</td>\n",
       "      <td>Belgrano</td>\n",
       "      <td>2.00</td>\n",
       "      <td>1.00</td>\n",
       "      <td>1.00</td>\n",
       "      <td>47.00</td>\n",
       "      <td>47.00</td>\n",
       "      <td>199000.00</td>\n",
       "      <td>USD</td>\n",
       "      <td>Departamento a Estrenar dos ambientes.</td>\n",
       "      <td>Hermoso departamento, en la mejor zona Bajo B...</td>\n",
       "      <td>Departamento</td>\n",
       "      <td>Venta</td>\n",
       "    </tr>\n",
       "  </tbody>\n",
       "</table>\n",
       "</div>"
      ],
      "text/plain": [
       "         ad_type  start_date    end_date  created_on    lat    lon         l1  \\\n",
       "38653  Propiedad  2020-12-31  2021-01-02  2020-12-31 -34.63 -58.44  Argentina   \n",
       "38654  Propiedad  2021-04-30  9999-12-31  2021-04-30 -34.64 -58.49  Argentina   \n",
       "38655  Propiedad  2020-09-26  2020-10-10  2020-09-26    NaN    NaN  Argentina   \n",
       "\n",
       "                    l2               l3  rooms  bedrooms  bathrooms  \\\n",
       "38653  Capital Federal        Caballito   4.00      3.00       2.00   \n",
       "38654  Capital Federal  Velez Sarsfield   1.00      1.00       1.00   \n",
       "38655  Capital Federal         Belgrano   2.00      1.00       1.00   \n",
       "\n",
       "       surface_total  surface_covered     price currency  \\\n",
       "38653         108.00           108.00 273060.00      USD   \n",
       "38654            NaN              NaN  68100.00      USD   \n",
       "38655          47.00            47.00 199000.00      USD   \n",
       "\n",
       "                                                   title  \\\n",
       "38653        VENTA DEPARTAMENTO EN POZO EDIFICIO PREMIUM   \n",
       "38654  Departamento en Venta en Velez sarsfield, Capi...   \n",
       "38655             Departamento a Estrenar dos ambientes.   \n",
       "\n",
       "                                             description property_type  \\\n",
       "38653  Corredor Responsable: Ariel Champanier - C.U.C...  Departamento   \n",
       "38654  Venta de Departamento 2 AMBIENTES en Velez Sar...  Departamento   \n",
       "38655   Hermoso departamento, en la mejor zona Bajo B...  Departamento   \n",
       "\n",
       "      operation_type  \n",
       "38653          Venta  \n",
       "38654          Venta  \n",
       "38655          Venta  "
      ]
     },
     "execution_count": 13,
     "metadata": {},
     "output_type": "execute_result"
    }
   ],
   "source": [
    "df.tail(3)"
   ]
  },
  {
   "cell_type": "markdown",
   "metadata": {},
   "source": [
    "Sospechamos que existen columnas con un unico valor de dato.\n",
    "\n",
    "Si es asi estas columnas no nos aportan informacion para nuestra futura prediccion"
   ]
  },
  {
   "cell_type": "code",
   "execution_count": 14,
   "metadata": {},
   "outputs": [
    {
     "name": "stdout",
     "output_type": "stream",
     "text": [
      "Variable ad_type: 1\n",
      "Variable l1: 1\n",
      "Variable l2: 1\n",
      "Variable currency: 1\n",
      "Variable property_type: 2\n",
      "Variable operation_type: 1\n"
     ]
    }
   ],
   "source": [
    "# Contamos la cantidad de valores unicos que tiene cada columna\n",
    "\n",
    "for x in df.columns: \n",
    "    unique_vals = df[f\"{x}\"].nunique() # nunique() cuenta la cantidad de valores unicos que tiene una columna\n",
    "    if unique_vals > 2: \n",
    "        None\n",
    "    else:\n",
    "        print(f'Variable {x}:', unique_vals)"
   ]
  },
  {
   "cell_type": "markdown",
   "metadata": {},
   "source": [
    "Podemos ver esto mismo usando el método value_counts()"
   ]
  },
  {
   "cell_type": "code",
   "execution_count": 15,
   "metadata": {},
   "outputs": [
    {
     "data": {
      "text/plain": [
       "Argentina    37857\n",
       "Name: l1, dtype: int64"
      ]
     },
     "execution_count": 15,
     "metadata": {},
     "output_type": "execute_result"
    }
   ],
   "source": [
    "# Vemos los valores para property_type y para l1\n",
    "\n",
    "df.l1.value_counts(dropna=False)"
   ]
  },
  {
   "cell_type": "code",
   "execution_count": 16,
   "metadata": {},
   "outputs": [
    {
     "data": {
      "text/plain": [
       "Departamento    33802\n",
       "PH               4055\n",
       "Name: property_type, dtype: int64"
      ]
     },
     "execution_count": 16,
     "metadata": {},
     "output_type": "execute_result"
    }
   ],
   "source": [
    "df.property_type.value_counts(dropna=False)"
   ]
  },
  {
   "cell_type": "markdown",
   "metadata": {},
   "source": [
    "Property_type tiene sentido que solo tenga dos valores posibles ya que son los tipos de propiedades que queremos predecir.\n",
    "\n",
    "Pero el resto de las variables que tienen valores unicos las eliminaremos."
   ]
  },
  {
   "cell_type": "code",
   "execution_count": 17,
   "metadata": {},
   "outputs": [
    {
     "data": {
      "text/html": [
       "<div>\n",
       "<style scoped>\n",
       "    .dataframe tbody tr th:only-of-type {\n",
       "        vertical-align: middle;\n",
       "    }\n",
       "\n",
       "    .dataframe tbody tr th {\n",
       "        vertical-align: top;\n",
       "    }\n",
       "\n",
       "    .dataframe thead th {\n",
       "        text-align: right;\n",
       "    }\n",
       "</style>\n",
       "<table border=\"1\" class=\"dataframe\">\n",
       "  <thead>\n",
       "    <tr style=\"text-align: right;\">\n",
       "      <th></th>\n",
       "      <th>start_date</th>\n",
       "      <th>end_date</th>\n",
       "      <th>created_on</th>\n",
       "      <th>lat</th>\n",
       "      <th>lon</th>\n",
       "      <th>l3</th>\n",
       "      <th>rooms</th>\n",
       "      <th>bedrooms</th>\n",
       "      <th>bathrooms</th>\n",
       "      <th>surface_total</th>\n",
       "      <th>surface_covered</th>\n",
       "      <th>price</th>\n",
       "      <th>title</th>\n",
       "      <th>description</th>\n",
       "      <th>property_type</th>\n",
       "    </tr>\n",
       "  </thead>\n",
       "  <tbody>\n",
       "    <tr>\n",
       "      <th>0</th>\n",
       "      <td>2020-07-06</td>\n",
       "      <td>2021-04-07</td>\n",
       "      <td>2020-07-06</td>\n",
       "      <td>-34.62</td>\n",
       "      <td>-58.48</td>\n",
       "      <td>Villa del Parque</td>\n",
       "      <td>2.00</td>\n",
       "      <td>1.00</td>\n",
       "      <td>1.00</td>\n",
       "      <td>NaN</td>\n",
       "      <td>NaN</td>\n",
       "      <td>89000.00</td>\n",
       "      <td>Galicia 2800 Depto 2 Ambientes Con Balcón Vill...</td>\n",
       "      <td>XINTEL(JUM-JUM-313)  \\n\\nExcelente departament...</td>\n",
       "      <td>Departamento</td>\n",
       "    </tr>\n",
       "    <tr>\n",
       "      <th>1</th>\n",
       "      <td>2020-07-17</td>\n",
       "      <td>9999-12-31</td>\n",
       "      <td>2020-07-17</td>\n",
       "      <td>-34.62</td>\n",
       "      <td>-58.45</td>\n",
       "      <td>Caballito</td>\n",
       "      <td>3.00</td>\n",
       "      <td>2.00</td>\n",
       "      <td>2.00</td>\n",
       "      <td>NaN</td>\n",
       "      <td>NaN</td>\n",
       "      <td>190000.00</td>\n",
       "      <td>DEPARTAMENTO A ESTRENAR AL FRENTE CON COCHERA</td>\n",
       "      <td>EXCELENTE DPTO A ESTRENAR AL FRENTE CON COCHER...</td>\n",
       "      <td>Departamento</td>\n",
       "    </tr>\n",
       "    <tr>\n",
       "      <th>2</th>\n",
       "      <td>2020-06-19</td>\n",
       "      <td>2020-12-03</td>\n",
       "      <td>2020-06-19</td>\n",
       "      <td>-34.59</td>\n",
       "      <td>-58.43</td>\n",
       "      <td>Palermo</td>\n",
       "      <td>3.00</td>\n",
       "      <td>2.00</td>\n",
       "      <td>2.00</td>\n",
       "      <td>98.00</td>\n",
       "      <td>68.00</td>\n",
       "      <td>360000.00</td>\n",
       "      <td>Excelente departamento 4 ambientes con terraza...</td>\n",
       "      <td>Patio El Salvador . inicio de obra nmarzo 2019...</td>\n",
       "      <td>Departamento</td>\n",
       "    </tr>\n",
       "    <tr>\n",
       "      <th>3</th>\n",
       "      <td>2021-02-24</td>\n",
       "      <td>2021-03-01</td>\n",
       "      <td>2021-02-24</td>\n",
       "      <td>-34.58</td>\n",
       "      <td>-58.49</td>\n",
       "      <td>Villa Urquiza</td>\n",
       "      <td>4.00</td>\n",
       "      <td>4.00</td>\n",
       "      <td>1.00</td>\n",
       "      <td>118.00</td>\n",
       "      <td>96.00</td>\n",
       "      <td>285000.00</td>\n",
       "      <td>Venta depto 4 ambientes/terraza en V. Urquiza</td>\n",
       "      <td>Corredor Responsable: MARIANO AUFSEHER - CPI 4...</td>\n",
       "      <td>Departamento</td>\n",
       "    </tr>\n",
       "    <tr>\n",
       "      <th>4</th>\n",
       "      <td>2020-11-17</td>\n",
       "      <td>2021-04-13</td>\n",
       "      <td>2020-11-17</td>\n",
       "      <td>-34.62</td>\n",
       "      <td>-58.44</td>\n",
       "      <td>Caballito</td>\n",
       "      <td>2.00</td>\n",
       "      <td>11.00</td>\n",
       "      <td>1.00</td>\n",
       "      <td>61.00</td>\n",
       "      <td>52.00</td>\n",
       "      <td>145000.00</td>\n",
       "      <td>Departamento de 2 ambientes c terraza a estrenar</td>\n",
       "      <td>Corredor Responsable: MARCELO GRUNBAUM - CMCPS...</td>\n",
       "      <td>Departamento</td>\n",
       "    </tr>\n",
       "  </tbody>\n",
       "</table>\n",
       "</div>"
      ],
      "text/plain": [
       "   start_date    end_date  created_on    lat    lon                l3  rooms  \\\n",
       "0  2020-07-06  2021-04-07  2020-07-06 -34.62 -58.48  Villa del Parque   2.00   \n",
       "1  2020-07-17  9999-12-31  2020-07-17 -34.62 -58.45         Caballito   3.00   \n",
       "2  2020-06-19  2020-12-03  2020-06-19 -34.59 -58.43           Palermo   3.00   \n",
       "3  2021-02-24  2021-03-01  2021-02-24 -34.58 -58.49     Villa Urquiza   4.00   \n",
       "4  2020-11-17  2021-04-13  2020-11-17 -34.62 -58.44         Caballito   2.00   \n",
       "\n",
       "   bedrooms  bathrooms  surface_total  surface_covered     price  \\\n",
       "0      1.00       1.00            NaN              NaN  89000.00   \n",
       "1      2.00       2.00            NaN              NaN 190000.00   \n",
       "2      2.00       2.00          98.00            68.00 360000.00   \n",
       "3      4.00       1.00         118.00            96.00 285000.00   \n",
       "4     11.00       1.00          61.00            52.00 145000.00   \n",
       "\n",
       "                                               title  \\\n",
       "0  Galicia 2800 Depto 2 Ambientes Con Balcón Vill...   \n",
       "1      DEPARTAMENTO A ESTRENAR AL FRENTE CON COCHERA   \n",
       "2  Excelente departamento 4 ambientes con terraza...   \n",
       "3      Venta depto 4 ambientes/terraza en V. Urquiza   \n",
       "4   Departamento de 2 ambientes c terraza a estrenar   \n",
       "\n",
       "                                         description property_type  \n",
       "0  XINTEL(JUM-JUM-313)  \\n\\nExcelente departament...  Departamento  \n",
       "1  EXCELENTE DPTO A ESTRENAR AL FRENTE CON COCHER...  Departamento  \n",
       "2  Patio El Salvador . inicio de obra nmarzo 2019...  Departamento  \n",
       "3  Corredor Responsable: MARIANO AUFSEHER - CPI 4...  Departamento  \n",
       "4  Corredor Responsable: MARCELO GRUNBAUM - CMCPS...  Departamento  "
      ]
     },
     "execution_count": 17,
     "metadata": {},
     "output_type": "execute_result"
    }
   ],
   "source": [
    "unique_vars = [\"ad_type\", \"l1\", \"l2\", \"currency\", \"operation_type\"] \n",
    "df.drop(unique_vars, axis = 1, inplace= True)\n",
    "df.head() "
   ]
  },
  {
   "cell_type": "markdown",
   "metadata": {},
   "source": [
    "Las variables \"created_on\", \"start_date\", \"end_date\" no son variables útiles para lo que queremos hacer --> las eliminamos\n",
    "\n",
    "Se podrían crear variables muy relevantes para nuestro modelo a partir de la latitud y la longitud pero no las utilizaremos en nuestro entrenamiento.\n",
    "\n",
    "Algunas de las cosas que se pueden hacer pueden encontrar las en este post: https://python.plainenglish.io/how-to-use-geo-location-for-feature-engineering-using-near-by-points-of-interest-563752e6ad26"
   ]
  },
  {
   "cell_type": "code",
   "execution_count": 18,
   "metadata": {},
   "outputs": [
    {
     "data": {
      "text/plain": [
       "(37857, 10)"
      ]
     },
     "execution_count": 18,
     "metadata": {},
     "output_type": "execute_result"
    }
   ],
   "source": [
    "drop_vars = [\"created_on\", \"start_date\", \"end_date\", \"lat\", \"lon\"]\n",
    "df.drop(drop_vars, axis=1, inplace= True)\n",
    "df.shape"
   ]
  },
  {
   "cell_type": "markdown",
   "metadata": {},
   "source": [
    "#### Enriquecimiento del dataset con una fuente externa"
   ]
  },
  {
   "cell_type": "markdown",
   "metadata": {},
   "source": [
    "Importamos un dataset que extraemos de https://mudafy.com.ar/\n",
    "\n",
    "Este contiene la informacion del precio promedio de m2 por barrio"
   ]
  },
  {
   "cell_type": "code",
   "execution_count": 19,
   "metadata": {},
   "outputs": [],
   "source": [
    "df_m2 = pd.read_excel(\"./precio_prom_m2.xlsx\")"
   ]
  },
  {
   "cell_type": "code",
   "execution_count": 20,
   "metadata": {},
   "outputs": [
    {
     "data": {
      "text/html": [
       "<div>\n",
       "<style scoped>\n",
       "    .dataframe tbody tr th:only-of-type {\n",
       "        vertical-align: middle;\n",
       "    }\n",
       "\n",
       "    .dataframe tbody tr th {\n",
       "        vertical-align: top;\n",
       "    }\n",
       "\n",
       "    .dataframe thead th {\n",
       "        text-align: right;\n",
       "    }\n",
       "</style>\n",
       "<table border=\"1\" class=\"dataframe\">\n",
       "  <thead>\n",
       "    <tr style=\"text-align: right;\">\n",
       "      <th></th>\n",
       "      <th>Barrio</th>\n",
       "      <th>Comuna</th>\n",
       "      <th>Valor m2 (USD)</th>\n",
       "    </tr>\n",
       "  </thead>\n",
       "  <tbody>\n",
       "    <tr>\n",
       "      <th>0</th>\n",
       "      <td>Recoleta</td>\n",
       "      <td>Comuna 2</td>\n",
       "      <td>1978</td>\n",
       "    </tr>\n",
       "    <tr>\n",
       "      <th>1</th>\n",
       "      <td>Coghlan</td>\n",
       "      <td>Comuna 12</td>\n",
       "      <td>1803</td>\n",
       "    </tr>\n",
       "    <tr>\n",
       "      <th>2</th>\n",
       "      <td>Villa Urquiza</td>\n",
       "      <td>Comuna 12</td>\n",
       "      <td>1939</td>\n",
       "    </tr>\n",
       "    <tr>\n",
       "      <th>3</th>\n",
       "      <td>Saavedra</td>\n",
       "      <td>Comuna 12</td>\n",
       "      <td>1916</td>\n",
       "    </tr>\n",
       "    <tr>\n",
       "      <th>4</th>\n",
       "      <td>Villa Pueyrredon</td>\n",
       "      <td>Comuna 12</td>\n",
       "      <td>1677</td>\n",
       "    </tr>\n",
       "  </tbody>\n",
       "</table>\n",
       "</div>"
      ],
      "text/plain": [
       "             Barrio     Comuna  Valor m2 (USD)\n",
       "0          Recoleta   Comuna 2            1978\n",
       "1           Coghlan  Comuna 12            1803\n",
       "2     Villa Urquiza  Comuna 12            1939\n",
       "3          Saavedra  Comuna 12            1916\n",
       "4  Villa Pueyrredon  Comuna 12            1677"
      ]
     },
     "execution_count": 20,
     "metadata": {},
     "output_type": "execute_result"
    }
   ],
   "source": [
    "df_m2.head()"
   ]
  },
  {
   "cell_type": "code",
   "execution_count": 21,
   "metadata": {},
   "outputs": [
    {
     "name": "stdout",
     "output_type": "stream",
     "text": [
      "<class 'pandas.core.frame.DataFrame'>\n",
      "RangeIndex: 46 entries, 0 to 45\n",
      "Data columns (total 3 columns):\n",
      " #   Column          Non-Null Count  Dtype \n",
      "---  ------          --------------  ----- \n",
      " 0   Barrio          46 non-null     object\n",
      " 1   Comuna          46 non-null     object\n",
      " 2   Valor m2 (USD)  46 non-null     int64 \n",
      "dtypes: int64(1), object(2)\n",
      "memory usage: 1.2+ KB\n"
     ]
    }
   ],
   "source": [
    "df_m2.info(verbose=True)"
   ]
  },
  {
   "cell_type": "code",
   "execution_count": 22,
   "metadata": {},
   "outputs": [
    {
     "data": {
      "text/plain": [
       "(37857, 12)"
      ]
     },
     "execution_count": 22,
     "metadata": {},
     "output_type": "execute_result"
    }
   ],
   "source": [
    "# Joineamos los dos df para traer las nuevas variables que seran de utildiad\n",
    "\n",
    "df_merged = pd.merge(df, df_m2, left_on = \"l3\", right_on = \"Barrio\", how= 'left')\n",
    "df_merged.drop([\"Barrio\"], axis=1, inplace=True)  # Eliminamos la variable Barrio ya que nos proporciona el mismo tipo de info que l3\n",
    "df_merged.rename(columns={\"Valor m2 (USD)\":\"valor_m2\"}, inplace=True) # Renombramos la variable por un nombre mas sencillo\n",
    "df_merged.shape"
   ]
  },
  {
   "cell_type": "markdown",
   "metadata": {},
   "source": [
    "#### Tratamiento de valores faltantes"
   ]
  },
  {
   "cell_type": "markdown",
   "metadata": {},
   "source": [
    "Volvemos hacer el análisis de missings para ver que tan poblada estan las nuevas variables"
   ]
  },
  {
   "cell_type": "code",
   "execution_count": 23,
   "metadata": {},
   "outputs": [
    {
     "data": {
      "text/html": [
       "<div>\n",
       "<style scoped>\n",
       "    .dataframe tbody tr th:only-of-type {\n",
       "        vertical-align: middle;\n",
       "    }\n",
       "\n",
       "    .dataframe tbody tr th {\n",
       "        vertical-align: top;\n",
       "    }\n",
       "\n",
       "    .dataframe thead th {\n",
       "        text-align: right;\n",
       "    }\n",
       "</style>\n",
       "<table border=\"1\" class=\"dataframe\">\n",
       "  <thead>\n",
       "    <tr style=\"text-align: right;\">\n",
       "      <th></th>\n",
       "      <th>Missing</th>\n",
       "    </tr>\n",
       "  </thead>\n",
       "  <tbody>\n",
       "    <tr>\n",
       "      <th>surface_total</th>\n",
       "      <td>0.42</td>\n",
       "    </tr>\n",
       "    <tr>\n",
       "      <th>surface_covered</th>\n",
       "      <td>0.42</td>\n",
       "    </tr>\n",
       "    <tr>\n",
       "      <th>bedrooms</th>\n",
       "      <td>0.19</td>\n",
       "    </tr>\n",
       "    <tr>\n",
       "      <th>Comuna</th>\n",
       "      <td>0.09</td>\n",
       "    </tr>\n",
       "    <tr>\n",
       "      <th>valor_m2</th>\n",
       "      <td>0.09</td>\n",
       "    </tr>\n",
       "    <tr>\n",
       "      <th>rooms</th>\n",
       "      <td>0.07</td>\n",
       "    </tr>\n",
       "    <tr>\n",
       "      <th>bathrooms</th>\n",
       "      <td>0.06</td>\n",
       "    </tr>\n",
       "    <tr>\n",
       "      <th>l3</th>\n",
       "      <td>0.00</td>\n",
       "    </tr>\n",
       "  </tbody>\n",
       "</table>\n",
       "</div>"
      ],
      "text/plain": [
       "                 Missing\n",
       "surface_total       0.42\n",
       "surface_covered     0.42\n",
       "bedrooms            0.19\n",
       "Comuna              0.09\n",
       "valor_m2            0.09\n",
       "rooms               0.07\n",
       "bathrooms           0.06\n",
       "l3                  0.00"
      ]
     },
     "execution_count": 23,
     "metadata": {},
     "output_type": "execute_result"
    }
   ],
   "source": [
    "miss = pd.DataFrame(df_merged.isnull().mean(), columns=[\"Missing\"])\n",
    "perc_miss = miss.loc[miss.Missing > 0]\n",
    "perc_miss.sort_values(\"Missing\", ascending = False)"
   ]
  },
  {
   "cell_type": "code",
   "execution_count": 24,
   "metadata": {},
   "outputs": [
    {
     "data": {
      "text/html": [
       "<div>\n",
       "<style scoped>\n",
       "    .dataframe tbody tr th:only-of-type {\n",
       "        vertical-align: middle;\n",
       "    }\n",
       "\n",
       "    .dataframe tbody tr th {\n",
       "        vertical-align: top;\n",
       "    }\n",
       "\n",
       "    .dataframe thead th {\n",
       "        text-align: right;\n",
       "    }\n",
       "</style>\n",
       "<table border=\"1\" class=\"dataframe\">\n",
       "  <thead>\n",
       "    <tr style=\"text-align: right;\">\n",
       "      <th></th>\n",
       "      <th>count</th>\n",
       "      <th>mean</th>\n",
       "      <th>std</th>\n",
       "      <th>min</th>\n",
       "      <th>25%</th>\n",
       "      <th>50%</th>\n",
       "      <th>75%</th>\n",
       "      <th>max</th>\n",
       "    </tr>\n",
       "  </thead>\n",
       "  <tbody>\n",
       "    <tr>\n",
       "      <th>bathrooms</th>\n",
       "      <td>35557.00</td>\n",
       "      <td>1.41</td>\n",
       "      <td>0.69</td>\n",
       "      <td>1.00</td>\n",
       "      <td>1.00</td>\n",
       "      <td>1.00</td>\n",
       "      <td>2.00</td>\n",
       "      <td>9.00</td>\n",
       "    </tr>\n",
       "    <tr>\n",
       "      <th>rooms</th>\n",
       "      <td>35341.00</td>\n",
       "      <td>2.54</td>\n",
       "      <td>1.23</td>\n",
       "      <td>1.00</td>\n",
       "      <td>2.00</td>\n",
       "      <td>2.00</td>\n",
       "      <td>3.00</td>\n",
       "      <td>22.00</td>\n",
       "    </tr>\n",
       "    <tr>\n",
       "      <th>bedrooms</th>\n",
       "      <td>30495.00</td>\n",
       "      <td>1.77</td>\n",
       "      <td>1.39</td>\n",
       "      <td>0.00</td>\n",
       "      <td>1.00</td>\n",
       "      <td>2.00</td>\n",
       "      <td>2.00</td>\n",
       "      <td>153.00</td>\n",
       "    </tr>\n",
       "    <tr>\n",
       "      <th>surface_total</th>\n",
       "      <td>22113.00</td>\n",
       "      <td>121.78</td>\n",
       "      <td>1617.91</td>\n",
       "      <td>11.00</td>\n",
       "      <td>43.00</td>\n",
       "      <td>61.00</td>\n",
       "      <td>92.00</td>\n",
       "      <td>140380.00</td>\n",
       "    </tr>\n",
       "    <tr>\n",
       "      <th>surface_covered</th>\n",
       "      <td>22143.00</td>\n",
       "      <td>92.15</td>\n",
       "      <td>969.40</td>\n",
       "      <td>1.00</td>\n",
       "      <td>40.00</td>\n",
       "      <td>55.00</td>\n",
       "      <td>80.00</td>\n",
       "      <td>63660.00</td>\n",
       "    </tr>\n",
       "    <tr>\n",
       "      <th>valor_m2</th>\n",
       "      <td>34441.00</td>\n",
       "      <td>1814.67</td>\n",
       "      <td>328.54</td>\n",
       "      <td>899.00</td>\n",
       "      <td>1570.00</td>\n",
       "      <td>1861.00</td>\n",
       "      <td>2020.00</td>\n",
       "      <td>3993.00</td>\n",
       "    </tr>\n",
       "  </tbody>\n",
       "</table>\n",
       "</div>"
      ],
      "text/plain": [
       "                   count    mean     std    min     25%     50%     75%  \\\n",
       "bathrooms       35557.00    1.41    0.69   1.00    1.00    1.00    2.00   \n",
       "rooms           35341.00    2.54    1.23   1.00    2.00    2.00    3.00   \n",
       "bedrooms        30495.00    1.77    1.39   0.00    1.00    2.00    2.00   \n",
       "surface_total   22113.00  121.78 1617.91  11.00   43.00   61.00   92.00   \n",
       "surface_covered 22143.00   92.15  969.40   1.00   40.00   55.00   80.00   \n",
       "valor_m2        34441.00 1814.67  328.54 899.00 1570.00 1861.00 2020.00   \n",
       "\n",
       "                      max  \n",
       "bathrooms            9.00  \n",
       "rooms               22.00  \n",
       "bedrooms           153.00  \n",
       "surface_total   140380.00  \n",
       "surface_covered  63660.00  \n",
       "valor_m2          3993.00  "
      ]
     },
     "execution_count": 24,
     "metadata": {},
     "output_type": "execute_result"
    }
   ],
   "source": [
    "# Analizamos algunos valores estadísticos de las variables \"bathrooms\", \"rooms\", \"bedrooms\", \"surface_total\", \"surface_covered\", \"valor_m2\"\n",
    "\n",
    "df_merged[[\"bathrooms\", \"rooms\", \"bedrooms\", \"surface_total\", \"surface_covered\", \"valor_m2\"]].describe().T"
   ]
  },
  {
   "cell_type": "markdown",
   "metadata": {},
   "source": [
    "Vemos que existen outliers para algunas de estas columnas, pero esto lo analizaremos luego."
   ]
  },
  {
   "cell_type": "markdown",
   "metadata": {},
   "source": [
    "Ahora nos concentraremos en la imputacion de valores faltantes aplicando distintas estrategias de imputacion segun la variable"
   ]
  },
  {
   "cell_type": "code",
   "execution_count": 25,
   "metadata": {},
   "outputs": [
    {
     "name": "stdout",
     "output_type": "stream",
     "text": [
      "Mediana de 'bathrooms': 1.0\n",
      "Mediana de 'rooms': 2.0\n",
      "Mediana de 'bedrooms': 2.0\n"
     ]
    }
   ],
   "source": [
    "# Para bathrooms, room y bedrooms --> imputaremos con la mediana ya que deberian ser valores enteros\n",
    "\n",
    "\n",
    "# Calculamos la media de cada columna\n",
    "median_bathrooms = df_merged['bathrooms'].median()\n",
    "median_rooms = df_merged['rooms'].median()\n",
    "median_bedrooms = df_merged['bedrooms'].median()\n",
    "\n",
    "# Imprime las medias\n",
    "print(f\"Mediana de 'bathrooms': {median_bathrooms}\")\n",
    "print(f\"Mediana de 'rooms': {median_rooms}\")\n",
    "print(f\"Mediana de 'bedrooms': {median_bedrooms}\")\n"
   ]
  },
  {
   "cell_type": "code",
   "execution_count": 26,
   "metadata": {},
   "outputs": [],
   "source": [
    "# Imputamos los valores\n",
    "\n",
    "df_merged['bathrooms'].fillna(median_bathrooms, inplace=True)\n",
    "df_merged['rooms'].fillna(median_rooms, inplace=True)\n",
    "df_merged['bedrooms'].fillna(median_bedrooms, inplace=True)"
   ]
  },
  {
   "cell_type": "code",
   "execution_count": 27,
   "metadata": {},
   "outputs": [
    {
     "name": "stdout",
     "output_type": "stream",
     "text": [
      "Media de 'surface_total': 121.77945100167322\n",
      "Media de 'surface_covered': 92.15124418552138\n",
      "Media de 'valor_m2': 1814.668186173456\n"
     ]
    }
   ],
   "source": [
    "# Como surface_total, surface_covered y valor_m2 pueden tomar valores decimales utilizamos la media para imputar sus nulos\n",
    "\n",
    "# Calculamos las medias para cada columna\n",
    "mean_surface_total = df_merged['surface_total'].mean()\n",
    "mean_surface_covered = df_merged['surface_covered'].mean()\n",
    "mean_valor_m2 = df_merged['valor_m2'].mean()\n",
    "\n",
    "# Imprimimos las medias\n",
    "print(f\"Media de 'surface_total': {mean_surface_total}\")\n",
    "print(f\"Media de 'surface_covered': {mean_surface_covered}\")\n",
    "print(f\"Media de 'valor_m2': {mean_valor_m2}\")"
   ]
  },
  {
   "cell_type": "code",
   "execution_count": 28,
   "metadata": {},
   "outputs": [],
   "source": [
    "# Imputamos los valores\n",
    "\n",
    "df_merged['surface_total'].fillna(mean_surface_total, inplace=True)\n",
    "df_merged['surface_covered'].fillna(mean_surface_covered, inplace=True)\n",
    "df_merged['valor_m2'].fillna(mean_valor_m2, inplace=True)"
   ]
  },
  {
   "cell_type": "code",
   "execution_count": 29,
   "metadata": {},
   "outputs": [
    {
     "data": {
      "text/html": [
       "<div>\n",
       "<style scoped>\n",
       "    .dataframe tbody tr th:only-of-type {\n",
       "        vertical-align: middle;\n",
       "    }\n",
       "\n",
       "    .dataframe tbody tr th {\n",
       "        vertical-align: top;\n",
       "    }\n",
       "\n",
       "    .dataframe thead th {\n",
       "        text-align: right;\n",
       "    }\n",
       "</style>\n",
       "<table border=\"1\" class=\"dataframe\">\n",
       "  <thead>\n",
       "    <tr style=\"text-align: right;\">\n",
       "      <th></th>\n",
       "      <th>Missing</th>\n",
       "    </tr>\n",
       "  </thead>\n",
       "  <tbody>\n",
       "    <tr>\n",
       "      <th>Comuna</th>\n",
       "      <td>0.09</td>\n",
       "    </tr>\n",
       "    <tr>\n",
       "      <th>l3</th>\n",
       "      <td>0.00</td>\n",
       "    </tr>\n",
       "  </tbody>\n",
       "</table>\n",
       "</div>"
      ],
      "text/plain": [
       "        Missing\n",
       "Comuna     0.09\n",
       "l3         0.00"
      ]
     },
     "execution_count": 29,
     "metadata": {},
     "output_type": "execute_result"
    }
   ],
   "source": [
    "# Verificamos los valores faltantes\n",
    "\n",
    "miss = pd.DataFrame(df_merged.isnull().mean(), columns=[\"Missing\"])\n",
    "perc_miss = miss.loc[miss.Missing > 0]\n",
    "perc_miss.sort_values(\"Missing\", ascending = False)"
   ]
  },
  {
   "cell_type": "markdown",
   "metadata": {},
   "source": [
    "#### Tratamiento de valores atípicos/outliers"
   ]
  },
  {
   "cell_type": "code",
   "execution_count": 30,
   "metadata": {},
   "outputs": [
    {
     "data": {
      "text/html": [
       "<div>\n",
       "<style scoped>\n",
       "    .dataframe tbody tr th:only-of-type {\n",
       "        vertical-align: middle;\n",
       "    }\n",
       "\n",
       "    .dataframe tbody tr th {\n",
       "        vertical-align: top;\n",
       "    }\n",
       "\n",
       "    .dataframe thead th {\n",
       "        text-align: right;\n",
       "    }\n",
       "</style>\n",
       "<table border=\"1\" class=\"dataframe\">\n",
       "  <thead>\n",
       "    <tr style=\"text-align: right;\">\n",
       "      <th></th>\n",
       "      <th>count</th>\n",
       "      <th>mean</th>\n",
       "      <th>std</th>\n",
       "      <th>min</th>\n",
       "      <th>25%</th>\n",
       "      <th>50%</th>\n",
       "      <th>75%</th>\n",
       "      <th>max</th>\n",
       "    </tr>\n",
       "  </thead>\n",
       "  <tbody>\n",
       "    <tr>\n",
       "      <th>bathrooms</th>\n",
       "      <td>37857.00</td>\n",
       "      <td>1.38</td>\n",
       "      <td>0.68</td>\n",
       "      <td>1.00</td>\n",
       "      <td>1.00</td>\n",
       "      <td>1.00</td>\n",
       "      <td>2.00</td>\n",
       "      <td>9.00</td>\n",
       "    </tr>\n",
       "    <tr>\n",
       "      <th>rooms</th>\n",
       "      <td>37857.00</td>\n",
       "      <td>2.50</td>\n",
       "      <td>1.19</td>\n",
       "      <td>1.00</td>\n",
       "      <td>2.00</td>\n",
       "      <td>2.00</td>\n",
       "      <td>3.00</td>\n",
       "      <td>22.00</td>\n",
       "    </tr>\n",
       "    <tr>\n",
       "      <th>bedrooms</th>\n",
       "      <td>37857.00</td>\n",
       "      <td>1.82</td>\n",
       "      <td>1.25</td>\n",
       "      <td>0.00</td>\n",
       "      <td>1.00</td>\n",
       "      <td>2.00</td>\n",
       "      <td>2.00</td>\n",
       "      <td>153.00</td>\n",
       "    </tr>\n",
       "    <tr>\n",
       "      <th>surface_total</th>\n",
       "      <td>37857.00</td>\n",
       "      <td>121.78</td>\n",
       "      <td>1236.52</td>\n",
       "      <td>11.00</td>\n",
       "      <td>55.00</td>\n",
       "      <td>120.00</td>\n",
       "      <td>121.78</td>\n",
       "      <td>140380.00</td>\n",
       "    </tr>\n",
       "    <tr>\n",
       "      <th>surface_covered</th>\n",
       "      <td>37857.00</td>\n",
       "      <td>92.15</td>\n",
       "      <td>741.38</td>\n",
       "      <td>1.00</td>\n",
       "      <td>50.00</td>\n",
       "      <td>92.15</td>\n",
       "      <td>92.15</td>\n",
       "      <td>63660.00</td>\n",
       "    </tr>\n",
       "  </tbody>\n",
       "</table>\n",
       "</div>"
      ],
      "text/plain": [
       "                   count   mean     std   min   25%    50%    75%       max\n",
       "bathrooms       37857.00   1.38    0.68  1.00  1.00   1.00   2.00      9.00\n",
       "rooms           37857.00   2.50    1.19  1.00  2.00   2.00   3.00     22.00\n",
       "bedrooms        37857.00   1.82    1.25  0.00  1.00   2.00   2.00    153.00\n",
       "surface_total   37857.00 121.78 1236.52 11.00 55.00 120.00 121.78 140380.00\n",
       "surface_covered 37857.00  92.15  741.38  1.00 50.00  92.15  92.15  63660.00"
      ]
     },
     "execution_count": 30,
     "metadata": {},
     "output_type": "execute_result"
    }
   ],
   "source": [
    "# Volvemos a imprimir algunas metricas estadísticas para \"bathrooms\", \"rooms\", \"bedrooms\", \"surface_total\", \"surface_covered\"\n",
    "\n",
    "df_merged[[\"bathrooms\", \"rooms\", \"bedrooms\", \"surface_total\", \"surface_covered\"]].describe().T"
   ]
  },
  {
   "cell_type": "markdown",
   "metadata": {},
   "source": [
    "Vamos a utilizar la tecnica de capping para no perder registros para nuestro entrenamiento"
   ]
  },
  {
   "cell_type": "code",
   "execution_count": 31,
   "metadata": {},
   "outputs": [
    {
     "data": {
      "text/html": [
       "<div>\n",
       "<style scoped>\n",
       "    .dataframe tbody tr th:only-of-type {\n",
       "        vertical-align: middle;\n",
       "    }\n",
       "\n",
       "    .dataframe tbody tr th {\n",
       "        vertical-align: top;\n",
       "    }\n",
       "\n",
       "    .dataframe thead th {\n",
       "        text-align: right;\n",
       "    }\n",
       "</style>\n",
       "<table border=\"1\" class=\"dataframe\">\n",
       "  <thead>\n",
       "    <tr style=\"text-align: right;\">\n",
       "      <th></th>\n",
       "      <th>count</th>\n",
       "      <th>mean</th>\n",
       "      <th>std</th>\n",
       "      <th>min</th>\n",
       "      <th>25%</th>\n",
       "      <th>50%</th>\n",
       "      <th>75%</th>\n",
       "      <th>max</th>\n",
       "    </tr>\n",
       "  </thead>\n",
       "  <tbody>\n",
       "    <tr>\n",
       "      <th>bathrooms</th>\n",
       "      <td>37857.00</td>\n",
       "      <td>1.38</td>\n",
       "      <td>0.66</td>\n",
       "      <td>1.00</td>\n",
       "      <td>1.00</td>\n",
       "      <td>1.00</td>\n",
       "      <td>2.00</td>\n",
       "      <td>4.00</td>\n",
       "    </tr>\n",
       "    <tr>\n",
       "      <th>rooms</th>\n",
       "      <td>37857.00</td>\n",
       "      <td>2.49</td>\n",
       "      <td>1.13</td>\n",
       "      <td>1.00</td>\n",
       "      <td>2.00</td>\n",
       "      <td>2.00</td>\n",
       "      <td>3.00</td>\n",
       "      <td>6.00</td>\n",
       "    </tr>\n",
       "    <tr>\n",
       "      <th>bedrooms</th>\n",
       "      <td>37857.00</td>\n",
       "      <td>1.80</td>\n",
       "      <td>0.86</td>\n",
       "      <td>0.00</td>\n",
       "      <td>1.00</td>\n",
       "      <td>2.00</td>\n",
       "      <td>2.00</td>\n",
       "      <td>4.00</td>\n",
       "    </tr>\n",
       "    <tr>\n",
       "      <th>surface_total</th>\n",
       "      <td>37857.00</td>\n",
       "      <td>95.62</td>\n",
       "      <td>43.91</td>\n",
       "      <td>11.00</td>\n",
       "      <td>55.00</td>\n",
       "      <td>120.00</td>\n",
       "      <td>121.78</td>\n",
       "      <td>271.00</td>\n",
       "    </tr>\n",
       "    <tr>\n",
       "      <th>surface_covered</th>\n",
       "      <td>37857.00</td>\n",
       "      <td>77.00</td>\n",
       "      <td>32.46</td>\n",
       "      <td>1.00</td>\n",
       "      <td>50.00</td>\n",
       "      <td>92.15</td>\n",
       "      <td>92.15</td>\n",
       "      <td>211.00</td>\n",
       "    </tr>\n",
       "  </tbody>\n",
       "</table>\n",
       "</div>"
      ],
      "text/plain": [
       "                   count  mean   std   min   25%    50%    75%    max\n",
       "bathrooms       37857.00  1.38  0.66  1.00  1.00   1.00   2.00   4.00\n",
       "rooms           37857.00  2.49  1.13  1.00  2.00   2.00   3.00   6.00\n",
       "bedrooms        37857.00  1.80  0.86  0.00  1.00   2.00   2.00   4.00\n",
       "surface_total   37857.00 95.62 43.91 11.00 55.00 120.00 121.78 271.00\n",
       "surface_covered 37857.00 77.00 32.46  1.00 50.00  92.15  92.15 211.00"
      ]
     },
     "execution_count": 31,
     "metadata": {},
     "output_type": "execute_result"
    }
   ],
   "source": [
    "# Capping superior\n",
    "# Lista de columnas a procesar\n",
    "cap_sup_cols = [\"bathrooms\", \"rooms\", \"bedrooms\", \"surface_total\", \"surface_covered\"]\n",
    "\n",
    "# Iteramos a través de las columnas y reemplazamos los valores que superan el percentil 99\n",
    "for columna in cap_sup_cols:\n",
    "    percentil_99 = np.percentile(df_merged[columna], 99)\n",
    "    df_merged[columna] = np.where(df_merged[columna] > percentil_99, percentil_99, df_merged[columna])\n",
    "    \n",
    "df_merged[[\"bathrooms\", \"rooms\", \"bedrooms\", \"surface_total\", \"surface_covered\"]].describe().T"
   ]
  },
  {
   "cell_type": "code",
   "execution_count": 32,
   "metadata": {},
   "outputs": [
    {
     "data": {
      "text/html": [
       "<div>\n",
       "<style scoped>\n",
       "    .dataframe tbody tr th:only-of-type {\n",
       "        vertical-align: middle;\n",
       "    }\n",
       "\n",
       "    .dataframe tbody tr th {\n",
       "        vertical-align: top;\n",
       "    }\n",
       "\n",
       "    .dataframe thead th {\n",
       "        text-align: right;\n",
       "    }\n",
       "</style>\n",
       "<table border=\"1\" class=\"dataframe\">\n",
       "  <thead>\n",
       "    <tr style=\"text-align: right;\">\n",
       "      <th></th>\n",
       "      <th>count</th>\n",
       "      <th>mean</th>\n",
       "      <th>std</th>\n",
       "      <th>min</th>\n",
       "      <th>25%</th>\n",
       "      <th>50%</th>\n",
       "      <th>75%</th>\n",
       "      <th>max</th>\n",
       "    </tr>\n",
       "  </thead>\n",
       "  <tbody>\n",
       "    <tr>\n",
       "      <th>bathrooms</th>\n",
       "      <td>37857.00</td>\n",
       "      <td>1.38</td>\n",
       "      <td>0.66</td>\n",
       "      <td>1.00</td>\n",
       "      <td>1.00</td>\n",
       "      <td>1.00</td>\n",
       "      <td>2.00</td>\n",
       "      <td>4.00</td>\n",
       "    </tr>\n",
       "    <tr>\n",
       "      <th>rooms</th>\n",
       "      <td>37857.00</td>\n",
       "      <td>2.49</td>\n",
       "      <td>1.13</td>\n",
       "      <td>1.00</td>\n",
       "      <td>2.00</td>\n",
       "      <td>2.00</td>\n",
       "      <td>3.00</td>\n",
       "      <td>6.00</td>\n",
       "    </tr>\n",
       "    <tr>\n",
       "      <th>bedrooms</th>\n",
       "      <td>37857.00</td>\n",
       "      <td>1.80</td>\n",
       "      <td>0.86</td>\n",
       "      <td>0.00</td>\n",
       "      <td>1.00</td>\n",
       "      <td>2.00</td>\n",
       "      <td>2.00</td>\n",
       "      <td>4.00</td>\n",
       "    </tr>\n",
       "    <tr>\n",
       "      <th>surface_total</th>\n",
       "      <td>37857.00</td>\n",
       "      <td>95.65</td>\n",
       "      <td>43.87</td>\n",
       "      <td>26.00</td>\n",
       "      <td>55.00</td>\n",
       "      <td>120.00</td>\n",
       "      <td>121.78</td>\n",
       "      <td>271.00</td>\n",
       "    </tr>\n",
       "    <tr>\n",
       "      <th>surface_covered</th>\n",
       "      <td>37857.00</td>\n",
       "      <td>77.04</td>\n",
       "      <td>32.37</td>\n",
       "      <td>25.00</td>\n",
       "      <td>50.00</td>\n",
       "      <td>92.15</td>\n",
       "      <td>92.15</td>\n",
       "      <td>211.00</td>\n",
       "    </tr>\n",
       "  </tbody>\n",
       "</table>\n",
       "</div>"
      ],
      "text/plain": [
       "                   count  mean   std   min   25%    50%    75%    max\n",
       "bathrooms       37857.00  1.38  0.66  1.00  1.00   1.00   2.00   4.00\n",
       "rooms           37857.00  2.49  1.13  1.00  2.00   2.00   3.00   6.00\n",
       "bedrooms        37857.00  1.80  0.86  0.00  1.00   2.00   2.00   4.00\n",
       "surface_total   37857.00 95.65 43.87 26.00 55.00 120.00 121.78 271.00\n",
       "surface_covered 37857.00 77.04 32.37 25.00 50.00  92.15  92.15 211.00"
      ]
     },
     "execution_count": 32,
     "metadata": {},
     "output_type": "execute_result"
    }
   ],
   "source": [
    "# Capping inferior\n",
    "\n",
    "cap_inf_cols = [\"surface_total\", \"surface_covered\"]\n",
    "\n",
    "# Itera a través de las columnas y reemplaza los valores según la condición\n",
    "for columna in cap_inf_cols:\n",
    "    percentil_1 = np.percentile(df_merged[columna], 1)\n",
    "    df_merged[columna] = np.where(df_merged[columna] < percentil_1, percentil_1, df_merged[columna])\n",
    "\n",
    "df_merged[[\"bathrooms\", \"rooms\", \"bedrooms\", \"surface_total\", \"surface_covered\"]].describe().T"
   ]
  },
  {
   "cell_type": "markdown",
   "metadata": {},
   "source": [
    "#### Búsqueda de keywords en variables de texto"
   ]
  },
  {
   "cell_type": "code",
   "execution_count": 33,
   "metadata": {},
   "outputs": [],
   "source": [
    "# Concatenamos las variables del titulo y la descripcion para trabajar con una unica variable\n",
    "\n",
    "df_merged['title_descr'] = df_merged['description'] + ' ' + df_merged['title']\n",
    "df_merged.drop([\"description\", \"title\"], axis=1, inplace=True) # eliminamos las variables originales"
   ]
  },
  {
   "cell_type": "markdown",
   "metadata": {},
   "source": [
    "Utilizaremos la libreria regex que es de expresiones regulares.\n",
    "\n",
    "Documentacion: https://docs.python.org/3/library/re.html"
   ]
  },
  {
   "cell_type": "code",
   "execution_count": 34,
   "metadata": {},
   "outputs": [],
   "source": [
    "# Importamos la libreria re (regex) \n",
    "import re\n",
    "\n",
    "# Definimos las palabras clave\n",
    "keywords = [\"sum\", \"pileta\", \"amenities\", \"cochera\"]\n",
    "\n",
    "# Crea una columna para cada palabra clave y asigna 0 como valor inicial\n",
    "for keyword in keywords:\n",
    "    df_merged[keyword] = 0\n",
    "\n",
    "# Itera a través de las palabras clave y asigna 1 si se encuentra la palabra clave en 'title_descr'\n",
    "for keyword in keywords:\n",
    "    # La siguiente línea crea un patrón de búsqueda de expresión regular (regex) para la palabra clave actual.\n",
    "    # - El patrón \\b{}\\\\b busca la palabra clave completa como una palabra independiente.\n",
    "    # - El flag re.IGNORECASE hace que la búsqueda sea insensible a mayúsculas y minúsculas.\n",
    "    pattern = re.compile(r'\\b{}\\b'.format(keyword), flags=re.IGNORECASE) #\n",
    "    df_merged[keyword] = df_merged['title_descr'].apply(lambda x: 1 if pattern.search(str(x)) else 0)"
   ]
  },
  {
   "cell_type": "code",
   "execution_count": 35,
   "metadata": {},
   "outputs": [
    {
     "data": {
      "text/plain": [
       "(37857, 15)"
      ]
     },
     "execution_count": 35,
     "metadata": {},
     "output_type": "execute_result"
    }
   ],
   "source": [
    "df_merged.shape"
   ]
  },
  {
   "cell_type": "code",
   "execution_count": 37,
   "metadata": {},
   "outputs": [
    {
     "name": "stdout",
     "output_type": "stream",
     "text": [
      "Value Counts para 'sum':\n",
      "0    31303\n",
      "1     6554\n",
      "Name: sum, dtype: int64\n",
      "\n",
      "Value Counts para 'pileta':\n",
      "0    34128\n",
      "1     3729\n",
      "Name: pileta, dtype: int64\n",
      "\n",
      "Value Counts para 'amenities':\n",
      "0    31811\n",
      "1     6046\n",
      "Name: amenities, dtype: int64\n",
      "\n",
      "Value Counts para 'cochera':\n",
      "0    29815\n",
      "1     8042\n",
      "Name: cochera, dtype: int64\n",
      "\n"
     ]
    }
   ],
   "source": [
    "# Iteramos a través de las columnas creadas y realiza un value_counts para cada una\n",
    "\n",
    "for keyword_column in keywords:\n",
    "    value_counts_keyword = df_merged[keyword_column].value_counts()\n",
    "    print(f\"Value Counts para '{keyword_column}':\")\n",
    "    print(value_counts_keyword)\n",
    "    print()"
   ]
  },
  {
   "cell_type": "code",
   "execution_count": 38,
   "metadata": {},
   "outputs": [],
   "source": [
    "# Ahora que tenemos nuestras columnas creadas podemos eliminar la columna de texto\n",
    "df_merged.drop([\"title_descr\"], axis= 1, inplace=True)"
   ]
  },
  {
   "cell_type": "code",
   "execution_count": 39,
   "metadata": {},
   "outputs": [
    {
     "data": {
      "text/plain": [
       "(37857, 14)"
      ]
     },
     "execution_count": 39,
     "metadata": {},
     "output_type": "execute_result"
    }
   ],
   "source": [
    "\n",
    "df_merged.shape"
   ]
  },
  {
   "cell_type": "markdown",
   "metadata": {},
   "source": [
    "#### Variables Categóricas"
   ]
  },
  {
   "cell_type": "markdown",
   "metadata": {},
   "source": []
  }
 ],
 "metadata": {
  "kernelspec": {
   "display_name": "Python 3.10.6 64-bit",
   "language": "python",
   "name": "python3"
  },
  "language_info": {
   "codemirror_mode": {
    "name": "ipython",
    "version": 3
   },
   "file_extension": ".py",
   "mimetype": "text/x-python",
   "name": "python",
   "nbconvert_exporter": "python",
   "pygments_lexer": "ipython3",
   "version": "3.10.6"
  },
  "orig_nbformat": 4,
  "vscode": {
   "interpreter": {
    "hash": "c63d8c7d738c2960218a10995aedf0a7f67a49a231e71037adf0440953cdb45b"
   }
  }
 },
 "nbformat": 4,
 "nbformat_minor": 2
}
