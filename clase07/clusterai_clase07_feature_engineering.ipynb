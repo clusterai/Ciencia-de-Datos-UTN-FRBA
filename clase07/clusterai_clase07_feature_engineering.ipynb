{
  "cells": [
    {
      "cell_type": "markdown",
      "metadata": {
        "id": "3_GuIjb3z3aZ"
      },
      "source": [
        "____\n",
        "__Universidad Tecnologica Nacional, Buenos Aires__<br/>\n",
        "__Ingeniería Industrial__<br/>\n",
        "__Cátedra de Ciencia de Datos - Curso I5521 - Turno Jueves a la noche__<br/>\n",
        "__Clase_07: Ingeniería de Atributos__<br/>\n",
        "__Autor: Santiago Chas__\n",
        "____"
      ]
    },
    {
      "cell_type": "markdown",
      "metadata": {
        "id": "BXHw2hEQz3ae"
      },
      "source": [
        "## Prediccion del precio de las propiedades"
      ]
    },
    {
      "cell_type": "markdown",
      "metadata": {
        "id": "UAs3xusGz3ae"
      },
      "source": [
        "Vamos a utilizar la informacion de https://www.properati.com.ar/ correspondiente a Departamentos y PH de Capital Federal"
      ]
    },
    {
      "cell_type": "markdown",
      "metadata": {
        "id": "0hZC592Tz3af"
      },
      "source": [
        "#### Importamos librerias"
      ]
    },
    {
      "cell_type": "code",
      "execution_count": 1,
      "metadata": {
        "id": "G66f_NYDz3af"
      },
      "outputs": [],
      "source": [
        "import pandas as pd\n",
        "import numpy as np\n",
        "import matplotlib.pyplot as plt\n",
        "\n",
        "# Configura la opción para desactivar la notación científica\n",
        "pd.set_option('display.float_format', '{:.2f}'.format)\n",
        "\n",
        "# Configurar opciones para poder visualizar todas las columnas\n",
        "pd.set_option('display.max_columns', None)"
      ]
    },
    {
      "cell_type": "code",
      "execution_count": 2,
      "metadata": {
        "id": "DYiXyliUz3ah"
      },
      "outputs": [
        {
          "data": {
            "text/html": [
              "<div>\n",
              "<style scoped>\n",
              "    .dataframe tbody tr th:only-of-type {\n",
              "        vertical-align: middle;\n",
              "    }\n",
              "\n",
              "    .dataframe tbody tr th {\n",
              "        vertical-align: top;\n",
              "    }\n",
              "\n",
              "    .dataframe thead th {\n",
              "        text-align: right;\n",
              "    }\n",
              "</style>\n",
              "<table border=\"1\" class=\"dataframe\">\n",
              "  <thead>\n",
              "    <tr style=\"text-align: right;\">\n",
              "      <th></th>\n",
              "      <th>Unnamed: 0</th>\n",
              "      <th>id</th>\n",
              "      <th>ad_type</th>\n",
              "      <th>start_date</th>\n",
              "      <th>end_date</th>\n",
              "      <th>created_on</th>\n",
              "      <th>lat</th>\n",
              "      <th>lon</th>\n",
              "      <th>l1</th>\n",
              "      <th>l2</th>\n",
              "      <th>l3</th>\n",
              "      <th>l4</th>\n",
              "      <th>l5</th>\n",
              "      <th>l6</th>\n",
              "      <th>rooms</th>\n",
              "      <th>bedrooms</th>\n",
              "      <th>bathrooms</th>\n",
              "      <th>surface_total</th>\n",
              "      <th>surface_covered</th>\n",
              "      <th>price</th>\n",
              "      <th>currency</th>\n",
              "      <th>price_period</th>\n",
              "      <th>title</th>\n",
              "      <th>description</th>\n",
              "      <th>property_type</th>\n",
              "      <th>operation_type</th>\n",
              "    </tr>\n",
              "  </thead>\n",
              "  <tbody>\n",
              "    <tr>\n",
              "      <th>10710</th>\n",
              "      <td>711845</td>\n",
              "      <td>CFECYdxxist2Qiu9PYIuMw==</td>\n",
              "      <td>Propiedad</td>\n",
              "      <td>2020-08-11</td>\n",
              "      <td>2020-11-05</td>\n",
              "      <td>2020-08-11</td>\n",
              "      <td>-34.61</td>\n",
              "      <td>-58.39</td>\n",
              "      <td>Argentina</td>\n",
              "      <td>Capital Federal</td>\n",
              "      <td>Congreso</td>\n",
              "      <td>NaN</td>\n",
              "      <td>NaN</td>\n",
              "      <td>NaN</td>\n",
              "      <td>4.00</td>\n",
              "      <td>2.00</td>\n",
              "      <td>1.00</td>\n",
              "      <td>141.00</td>\n",
              "      <td>136.00</td>\n",
              "      <td>175000.00</td>\n",
              "      <td>USD</td>\n",
              "      <td>NaN</td>\n",
              "      <td>PH ANTIGUO REFACCIONADO FTE BALCON 4 AMB.+ E/P...</td>\n",
              "      <td>Corredor Responsable: Ariel Champanier - C.U.C...</td>\n",
              "      <td>PH</td>\n",
              "      <td>Venta</td>\n",
              "    </tr>\n",
              "    <tr>\n",
              "      <th>29945</th>\n",
              "      <td>767184</td>\n",
              "      <td>Mx+TYbvslK5bPPLZ8MVmOQ==</td>\n",
              "      <td>Propiedad</td>\n",
              "      <td>2020-11-07</td>\n",
              "      <td>2021-03-27</td>\n",
              "      <td>2020-11-07</td>\n",
              "      <td>-34.55</td>\n",
              "      <td>-58.46</td>\n",
              "      <td>Argentina</td>\n",
              "      <td>Capital Federal</td>\n",
              "      <td>Nuñez</td>\n",
              "      <td>NaN</td>\n",
              "      <td>NaN</td>\n",
              "      <td>NaN</td>\n",
              "      <td>3.00</td>\n",
              "      <td>2.00</td>\n",
              "      <td>1.00</td>\n",
              "      <td>NaN</td>\n",
              "      <td>NaN</td>\n",
              "      <td>365000.00</td>\n",
              "      <td>USD</td>\n",
              "      <td>NaN</td>\n",
              "      <td>La Lucila - Departamento Venta USD 365.000</td>\n",
              "      <td>Dos Torres residenciales de lujo entre el Av. ...</td>\n",
              "      <td>Departamento</td>\n",
              "      <td>Venta</td>\n",
              "    </tr>\n",
              "    <tr>\n",
              "      <th>12655</th>\n",
              "      <td>530298</td>\n",
              "      <td>IA2XSySJcqCgMXtTL9DgHw==</td>\n",
              "      <td>Propiedad</td>\n",
              "      <td>2020-05-30</td>\n",
              "      <td>2020-09-17</td>\n",
              "      <td>2020-05-30</td>\n",
              "      <td>-34.57</td>\n",
              "      <td>-58.45</td>\n",
              "      <td>Argentina</td>\n",
              "      <td>Capital Federal</td>\n",
              "      <td>Belgrano</td>\n",
              "      <td>NaN</td>\n",
              "      <td>NaN</td>\n",
              "      <td>NaN</td>\n",
              "      <td>1.00</td>\n",
              "      <td>0.00</td>\n",
              "      <td>1.00</td>\n",
              "      <td>NaN</td>\n",
              "      <td>NaN</td>\n",
              "      <td>85000.00</td>\n",
              "      <td>USD</td>\n",
              "      <td>NaN</td>\n",
              "      <td>Departamento en Venta en Belgrano, Capital fed...</td>\n",
              "      <td>Excelente monoambiente ubicado a 1 cuadra Subt...</td>\n",
              "      <td>Departamento</td>\n",
              "      <td>Venta</td>\n",
              "    </tr>\n",
              "    <tr>\n",
              "      <th>16519</th>\n",
              "      <td>868904</td>\n",
              "      <td>C+MKR5fP6Wm6wM4CujQmDQ==</td>\n",
              "      <td>Propiedad</td>\n",
              "      <td>2021-04-27</td>\n",
              "      <td>2021-05-19</td>\n",
              "      <td>2021-04-27</td>\n",
              "      <td>-34.62</td>\n",
              "      <td>-58.40</td>\n",
              "      <td>Argentina</td>\n",
              "      <td>Capital Federal</td>\n",
              "      <td>Balvanera</td>\n",
              "      <td>NaN</td>\n",
              "      <td>NaN</td>\n",
              "      <td>NaN</td>\n",
              "      <td>2.00</td>\n",
              "      <td>1.00</td>\n",
              "      <td>1.00</td>\n",
              "      <td>64.00</td>\n",
              "      <td>56.00</td>\n",
              "      <td>99000.00</td>\n",
              "      <td>USD</td>\n",
              "      <td>NaN</td>\n",
              "      <td>VENTA Ph 2 amb patio PB en Balvanera - OPORTUN...</td>\n",
              "      <td>Corredor Responsable: Martin Macagno - CUCICBA...</td>\n",
              "      <td>PH</td>\n",
              "      <td>Venta</td>\n",
              "    </tr>\n",
              "  </tbody>\n",
              "</table>\n",
              "</div>"
            ],
            "text/plain": [
              "       Unnamed: 0                        id    ad_type  start_date  \\\n",
              "10710      711845  CFECYdxxist2Qiu9PYIuMw==  Propiedad  2020-08-11   \n",
              "29945      767184  Mx+TYbvslK5bPPLZ8MVmOQ==  Propiedad  2020-11-07   \n",
              "12655      530298  IA2XSySJcqCgMXtTL9DgHw==  Propiedad  2020-05-30   \n",
              "16519      868904  C+MKR5fP6Wm6wM4CujQmDQ==  Propiedad  2021-04-27   \n",
              "\n",
              "         end_date  created_on    lat    lon         l1               l2  \\\n",
              "10710  2020-11-05  2020-08-11 -34.61 -58.39  Argentina  Capital Federal   \n",
              "29945  2021-03-27  2020-11-07 -34.55 -58.46  Argentina  Capital Federal   \n",
              "12655  2020-09-17  2020-05-30 -34.57 -58.45  Argentina  Capital Federal   \n",
              "16519  2021-05-19  2021-04-27 -34.62 -58.40  Argentina  Capital Federal   \n",
              "\n",
              "              l3   l4  l5  l6  rooms  bedrooms  bathrooms  surface_total  \\\n",
              "10710   Congreso  NaN NaN NaN   4.00      2.00       1.00         141.00   \n",
              "29945      Nuñez  NaN NaN NaN   3.00      2.00       1.00            NaN   \n",
              "12655   Belgrano  NaN NaN NaN   1.00      0.00       1.00            NaN   \n",
              "16519  Balvanera  NaN NaN NaN   2.00      1.00       1.00          64.00   \n",
              "\n",
              "       surface_covered     price currency  price_period  \\\n",
              "10710           136.00 175000.00      USD           NaN   \n",
              "29945              NaN 365000.00      USD           NaN   \n",
              "12655              NaN  85000.00      USD           NaN   \n",
              "16519            56.00  99000.00      USD           NaN   \n",
              "\n",
              "                                                   title  \\\n",
              "10710  PH ANTIGUO REFACCIONADO FTE BALCON 4 AMB.+ E/P...   \n",
              "29945         La Lucila - Departamento Venta USD 365.000   \n",
              "12655  Departamento en Venta en Belgrano, Capital fed...   \n",
              "16519  VENTA Ph 2 amb patio PB en Balvanera - OPORTUN...   \n",
              "\n",
              "                                             description property_type  \\\n",
              "10710  Corredor Responsable: Ariel Champanier - C.U.C...            PH   \n",
              "29945  Dos Torres residenciales de lujo entre el Av. ...  Departamento   \n",
              "12655  Excelente monoambiente ubicado a 1 cuadra Subt...  Departamento   \n",
              "16519  Corredor Responsable: Martin Macagno - CUCICBA...            PH   \n",
              "\n",
              "      operation_type  \n",
              "10710          Venta  \n",
              "29945          Venta  \n",
              "12655          Venta  \n",
              "16519          Venta  "
            ]
          },
          "execution_count": 2,
          "metadata": {},
          "output_type": "execute_result"
        }
      ],
      "source": [
        "# Importamos el dataset e imprimimos algunos registros\n",
        "df = pd.read_csv(\"./properati_capital.csv\")\n",
        "df.sample(4)"
      ]
    },
    {
      "cell_type": "code",
      "execution_count": 3,
      "metadata": {
        "id": "U9actxtfz3ah"
      },
      "outputs": [
        {
          "data": {
            "text/plain": [
              "(38656, 26)"
            ]
          },
          "execution_count": 3,
          "metadata": {},
          "output_type": "execute_result"
        }
      ],
      "source": [
        "# Vemos las dimensiones del dataset\n",
        "df.shape"
      ]
    },
    {
      "cell_type": "markdown",
      "metadata": {
        "id": "HHvlmO9oz3ai"
      },
      "source": [
        "### EDA"
      ]
    },
    {
      "cell_type": "markdown",
      "metadata": {
        "id": "2PFlVTYMz3ai"
      },
      "source": [
        "#### Distribucion del precio"
      ]
    },
    {
      "cell_type": "code",
      "execution_count": 4,
      "metadata": {
        "id": "Y_ja8LoSz3ai"
      },
      "outputs": [
        {
          "data": {
            "image/png": "[encoded data removed]",
            "text/plain": [
              "<Figure size 800x600 with 1 Axes>"
            ]
          },
          "metadata": {},
          "output_type": "display_data"
        }
      ],
      "source": [
        "# Crear un boxplot para la columna \"price\"\n",
        "plt.figure(figsize=(8, 6))  # Tamaño opcional del gráfico\n",
        "plt.boxplot(df['price'])\n",
        "plt.title('Boxplot de Precio')\n",
        "plt.ylabel('Precio')\n",
        "plt.show()"
      ]
    },
    {
      "cell_type": "code",
      "execution_count": 5,
      "metadata": {
        "id": "eWxBk5Jdz3aj"
      },
      "outputs": [
        {
          "data": {
            "text/plain": [
              "count     38656.00\n",
              "mean     195918.13\n",
              "std      228924.52\n",
              "min       10000.00\n",
              "25%       95593.25\n",
              "50%      139000.00\n",
              "75%      215000.00\n",
              "max     5500000.00\n",
              "Name: price, dtype: float64"
            ]
          },
          "execution_count": 5,
          "metadata": {},
          "output_type": "execute_result"
        }
      ],
      "source": [
        "# Analizamos estadisticamente la columna precio\n",
        "df.price.describe().T"
      ]
    },
    {
      "cell_type": "markdown",
      "metadata": {
        "id": "B9pDgbpZz3aj"
      },
      "source": [
        "Como vemos, tenemos valores atípicos.\n",
        "\n",
        "Por este motivo vamos a evaluar los percentiles 99 y 1"
      ]
    },
    {
      "cell_type": "code",
      "execution_count": 6,
      "metadata": {
        "id": "6-3-DXo9z3aj"
      },
      "outputs": [
        {
          "name": "stdout",
          "output_type": "stream",
          "text": [
            "El valor del percentil 99 es: 1190000.0\n",
            "El valor del percentil 1 es: 47000.0\n"
          ]
        }
      ],
      "source": [
        "# Calcular el percentil 99 de la columna 'price'\n",
        "\n",
        "percentil_99 = df['price'].quantile(0.99)\n",
        "print(f\"El valor del percentil 99 es: {percentil_99}\")\n",
        "percentil_01 = df['price'].quantile(0.01)\n",
        "print(f\"El valor del percentil 1 es: {percentil_01}\")"
      ]
    },
    {
      "cell_type": "code",
      "execution_count": 7,
      "metadata": {
        "id": "KIq2HkxWz3ak"
      },
      "outputs": [
        {
          "data": {
            "text/plain": [
              "(37857, 26)"
            ]
          },
          "execution_count": 7,
          "metadata": {},
          "output_type": "execute_result"
        }
      ],
      "source": [
        "# Nos vamos a quedar con los registros que esten entre estos valores\n",
        "\n",
        "df = df[(df['price'] > percentil_01) & (df['price'] < percentil_99)]\n",
        "df.shape"
      ]
    },
    {
      "cell_type": "code",
      "execution_count": 8,
      "metadata": {
        "id": "CYv4fDqbz3ak"
      },
      "outputs": [
        {
          "data": {
            "image/png": "[encoded data removed]",
            "text/plain": [
              "<Figure size 800x600 with 1 Axes>"
            ]
          },
          "metadata": {},
          "output_type": "display_data"
        }
      ],
      "source": [
        "# Crear un boxplot para la columna \"price\"\n",
        "plt.figure(figsize=(8, 6))  # Tamaño opcional del gráfico\n",
        "plt.boxplot(df['price'])\n",
        "plt.title('Boxplot de Precio')\n",
        "plt.ylabel('Precio')\n",
        "plt.show()"
      ]
    },
    {
      "cell_type": "markdown",
      "metadata": {
        "id": "aYKEr_wRz3ak"
      },
      "source": [
        "## EDA"
      ]
    },
    {
      "cell_type": "markdown",
      "metadata": {
        "id": "S9vVQh1iz3ak"
      },
      "source": [
        "- Analizaremos las columnas que tenemos y sus tipos de datos\n",
        "- Enriquecemos nuestro dataset con otra fuente de datos\n",
        "- Seleccionaremos las variables relevantes\n",
        "- Tratamiento de valores faltantes\n",
        "- Tratamiendo de valores atípicos\n",
        "- Creacion de nuevas variables\n"
      ]
    },
    {
      "cell_type": "code",
      "execution_count": 9,
      "metadata": {
        "id": "qwGMRdkKz3ak"
      },
      "outputs": [
        {
          "data": {
            "text/plain": [
              "Index(['Unnamed: 0', 'id', 'ad_type', 'start_date', 'end_date', 'created_on',\n",
              "       'lat', 'lon', 'l1', 'l2', 'l3', 'l4', 'l5', 'l6', 'rooms', 'bedrooms',\n",
              "       'bathrooms', 'surface_total', 'surface_covered', 'price', 'currency',\n",
              "       'price_period', 'title', 'description', 'property_type',\n",
              "       'operation_type'],\n",
              "      dtype='object')"
            ]
          },
          "execution_count": 9,
          "metadata": {},
          "output_type": "execute_result"
        }
      ],
      "source": [
        "# Imprimimos los nombres de variables\n",
        "df.columns"
      ]
    },
    {
      "cell_type": "code",
      "execution_count": 10,
      "metadata": {
        "id": "ct7nPFkiz3al"
      },
      "outputs": [
        {
          "data": {
            "text/plain": [
              "(37857, 24)"
            ]
          },
          "execution_count": 10,
          "metadata": {},
          "output_type": "execute_result"
        }
      ],
      "source": [
        "# Eliminamos las variables \"Unnamed: 0\" y \"id\" ya que son variables keys del dataset y no nos aportan informacion\n",
        "\n",
        "ids_vars = [\"Unnamed: 0\", \"id\"] # creo una lista de las variables que decidimos eliminar\n",
        "df.drop(ids_vars, axis=1,inplace= True) # el parametro inplace nos permite guardar los nuevos cambios dentro de la variable existente\n",
        "df.shape"
      ]
    },
    {
      "cell_type": "markdown",
      "metadata": {
        "id": "K1Q8gnkiz3al"
      },
      "source": [
        "Veamos ahora los tipos de datos de estas columnas"
      ]
    },
    {
      "cell_type": "code",
      "execution_count": 11,
      "metadata": {
        "id": "sRxVIuakz3al"
      },
      "outputs": [
        {
          "name": "stdout",
          "output_type": "stream",
          "text": [
            "<class 'pandas.core.frame.DataFrame'>\n",
            "Index: 37857 entries, 0 to 38655\n",
            "Data columns (total 24 columns):\n",
            " #   Column           Non-Null Count  Dtype  \n",
            "---  ------           --------------  -----  \n",
            " 0   ad_type          37857 non-null  object \n",
            " 1   start_date       37857 non-null  object \n",
            " 2   end_date         37857 non-null  object \n",
            " 3   created_on       37857 non-null  object \n",
            " 4   lat              35862 non-null  float64\n",
            " 5   lon              35862 non-null  float64\n",
            " 6   l1               37857 non-null  object \n",
            " 7   l2               37857 non-null  object \n",
            " 8   l3               37727 non-null  object \n",
            " 9   l4               1071 non-null   object \n",
            " 10  l5               0 non-null      float64\n",
            " 11  l6               0 non-null      float64\n",
            " 12  rooms            35341 non-null  float64\n",
            " 13  bedrooms         30495 non-null  float64\n",
            " 14  bathrooms        35557 non-null  float64\n",
            " 15  surface_total    22113 non-null  float64\n",
            " 16  surface_covered  22143 non-null  float64\n",
            " 17  price            37857 non-null  float64\n",
            " 18  currency         37857 non-null  object \n",
            " 19  price_period     0 non-null      float64\n",
            " 20  title            37857 non-null  object \n",
            " 21  description      37857 non-null  object \n",
            " 22  property_type    37857 non-null  object \n",
            " 23  operation_type   37857 non-null  object \n",
            "dtypes: float64(11), object(13)\n",
            "memory usage: 7.2+ MB\n"
          ]
        }
      ],
      "source": [
        "df.info()"
      ]
    },
    {
      "cell_type": "markdown",
      "metadata": {
        "id": "GHpfk5c5z3al"
      },
      "source": [
        "Vemos que existen variables con muchos valores nulos.\n",
        "\n",
        "Hagamos este análisis de una manera mas precisa."
      ]
    },
    {
      "cell_type": "code",
      "execution_count": 12,
      "metadata": {
        "id": "FC4Ug6BYz3al"
      },
      "outputs": [
        {
          "data": {
            "text/html": [
              "<div>\n",
              "<style scoped>\n",
              "    .dataframe tbody tr th:only-of-type {\n",
              "        vertical-align: middle;\n",
              "    }\n",
              "\n",
              "    .dataframe tbody tr th {\n",
              "        vertical-align: top;\n",
              "    }\n",
              "\n",
              "    .dataframe thead th {\n",
              "        text-align: right;\n",
              "    }\n",
              "</style>\n",
              "<table border=\"1\" class=\"dataframe\">\n",
              "  <thead>\n",
              "    <tr style=\"text-align: right;\">\n",
              "      <th></th>\n",
              "      <th>Missing</th>\n",
              "    </tr>\n",
              "  </thead>\n",
              "  <tbody>\n",
              "    <tr>\n",
              "      <th>l5</th>\n",
              "      <td>1.00</td>\n",
              "    </tr>\n",
              "    <tr>\n",
              "      <th>l6</th>\n",
              "      <td>1.00</td>\n",
              "    </tr>\n",
              "    <tr>\n",
              "      <th>price_period</th>\n",
              "      <td>1.00</td>\n",
              "    </tr>\n",
              "    <tr>\n",
              "      <th>l4</th>\n",
              "      <td>0.97</td>\n",
              "    </tr>\n",
              "    <tr>\n",
              "      <th>surface_total</th>\n",
              "      <td>0.42</td>\n",
              "    </tr>\n",
              "    <tr>\n",
              "      <th>surface_covered</th>\n",
              "      <td>0.42</td>\n",
              "    </tr>\n",
              "    <tr>\n",
              "      <th>bedrooms</th>\n",
              "      <td>0.19</td>\n",
              "    </tr>\n",
              "    <tr>\n",
              "      <th>rooms</th>\n",
              "      <td>0.07</td>\n",
              "    </tr>\n",
              "    <tr>\n",
              "      <th>bathrooms</th>\n",
              "      <td>0.06</td>\n",
              "    </tr>\n",
              "    <tr>\n",
              "      <th>lat</th>\n",
              "      <td>0.05</td>\n",
              "    </tr>\n",
              "    <tr>\n",
              "      <th>lon</th>\n",
              "      <td>0.05</td>\n",
              "    </tr>\n",
              "    <tr>\n",
              "      <th>l3</th>\n",
              "      <td>0.00</td>\n",
              "    </tr>\n",
              "  </tbody>\n",
              "</table>\n",
              "</div>"
            ],
            "text/plain": [
              "                 Missing\n",
              "l5                  1.00\n",
              "l6                  1.00\n",
              "price_period        1.00\n",
              "l4                  0.97\n",
              "surface_total       0.42\n",
              "surface_covered     0.42\n",
              "bedrooms            0.19\n",
              "rooms               0.07\n",
              "bathrooms           0.06\n",
              "lat                 0.05\n",
              "lon                 0.05\n",
              "l3                  0.00"
            ]
          },
          "execution_count": 12,
          "metadata": {},
          "output_type": "execute_result"
        }
      ],
      "source": [
        "# Calculamos % los valores faltantes para cada una de las variables\n",
        "miss = pd.DataFrame(df.isnull().mean(), columns=[\"Missing\"])\n",
        "perc_miss = miss.loc[miss.Missing > 0]\n",
        "perc_miss.sort_values(\"Missing\", ascending = False)"
      ]
    },
    {
      "cell_type": "markdown",
      "metadata": {
        "id": "ol2rulbiz3al"
      },
      "source": [
        "Observamos que las variables l6, l5, price_period y l4 contienen un alto % de valores faltantes.\n",
        "\n",
        "Por este motivo vamos a eliminarlos de nuestro dataset"
      ]
    },
    {
      "cell_type": "code",
      "execution_count": 13,
      "metadata": {
        "id": "qHLsmPrxz3am"
      },
      "outputs": [
        {
          "data": {
            "text/plain": [
              "(37857, 20)"
            ]
          },
          "execution_count": 13,
          "metadata": {},
          "output_type": "execute_result"
        }
      ],
      "source": [
        "# Repetimos el método de eliminar columnas\n",
        "\n",
        "vars_nulls = [\"l6\", \"l5\", \"l4\", \"price_period\"]\n",
        "df.drop(vars_nulls, axis = 1, inplace= True )\n",
        "df.shape"
      ]
    },
    {
      "cell_type": "code",
      "execution_count": 14,
      "metadata": {
        "id": "NNARTkdTz3am"
      },
      "outputs": [
        {
          "data": {
            "text/html": [
              "<div>\n",
              "<style scoped>\n",
              "    .dataframe tbody tr th:only-of-type {\n",
              "        vertical-align: middle;\n",
              "    }\n",
              "\n",
              "    .dataframe tbody tr th {\n",
              "        vertical-align: top;\n",
              "    }\n",
              "\n",
              "    .dataframe thead th {\n",
              "        text-align: right;\n",
              "    }\n",
              "</style>\n",
              "<table border=\"1\" class=\"dataframe\">\n",
              "  <thead>\n",
              "    <tr style=\"text-align: right;\">\n",
              "      <th></th>\n",
              "      <th>ad_type</th>\n",
              "      <th>start_date</th>\n",
              "      <th>end_date</th>\n",
              "      <th>created_on</th>\n",
              "      <th>lat</th>\n",
              "      <th>lon</th>\n",
              "      <th>l1</th>\n",
              "      <th>l2</th>\n",
              "      <th>l3</th>\n",
              "      <th>rooms</th>\n",
              "      <th>bedrooms</th>\n",
              "      <th>bathrooms</th>\n",
              "      <th>surface_total</th>\n",
              "      <th>surface_covered</th>\n",
              "      <th>price</th>\n",
              "      <th>currency</th>\n",
              "      <th>title</th>\n",
              "      <th>description</th>\n",
              "      <th>property_type</th>\n",
              "      <th>operation_type</th>\n",
              "    </tr>\n",
              "  </thead>\n",
              "  <tbody>\n",
              "    <tr>\n",
              "      <th>38653</th>\n",
              "      <td>Propiedad</td>\n",
              "      <td>2020-12-31</td>\n",
              "      <td>2021-01-02</td>\n",
              "      <td>2020-12-31</td>\n",
              "      <td>-34.63</td>\n",
              "      <td>-58.44</td>\n",
              "      <td>Argentina</td>\n",
              "      <td>Capital Federal</td>\n",
              "      <td>Caballito</td>\n",
              "      <td>4.00</td>\n",
              "      <td>3.00</td>\n",
              "      <td>2.00</td>\n",
              "      <td>108.00</td>\n",
              "      <td>108.00</td>\n",
              "      <td>273060.00</td>\n",
              "      <td>USD</td>\n",
              "      <td>VENTA DEPARTAMENTO EN POZO EDIFICIO PREMIUM</td>\n",
              "      <td>Corredor Responsable: Ariel Champanier - C.U.C...</td>\n",
              "      <td>Departamento</td>\n",
              "      <td>Venta</td>\n",
              "    </tr>\n",
              "    <tr>\n",
              "      <th>38654</th>\n",
              "      <td>Propiedad</td>\n",
              "      <td>2021-04-30</td>\n",
              "      <td>9999-12-31</td>\n",
              "      <td>2021-04-30</td>\n",
              "      <td>-34.64</td>\n",
              "      <td>-58.49</td>\n",
              "      <td>Argentina</td>\n",
              "      <td>Capital Federal</td>\n",
              "      <td>Velez Sarsfield</td>\n",
              "      <td>1.00</td>\n",
              "      <td>1.00</td>\n",
              "      <td>1.00</td>\n",
              "      <td>NaN</td>\n",
              "      <td>NaN</td>\n",
              "      <td>68100.00</td>\n",
              "      <td>USD</td>\n",
              "      <td>Departamento en Venta en Velez sarsfield, Capi...</td>\n",
              "      <td>Venta de Departamento 2 AMBIENTES en Velez Sar...</td>\n",
              "      <td>Departamento</td>\n",
              "      <td>Venta</td>\n",
              "    </tr>\n",
              "    <tr>\n",
              "      <th>38655</th>\n",
              "      <td>Propiedad</td>\n",
              "      <td>2020-09-26</td>\n",
              "      <td>2020-10-10</td>\n",
              "      <td>2020-09-26</td>\n",
              "      <td>NaN</td>\n",
              "      <td>NaN</td>\n",
              "      <td>Argentina</td>\n",
              "      <td>Capital Federal</td>\n",
              "      <td>Belgrano</td>\n",
              "      <td>2.00</td>\n",
              "      <td>1.00</td>\n",
              "      <td>1.00</td>\n",
              "      <td>47.00</td>\n",
              "      <td>47.00</td>\n",
              "      <td>199000.00</td>\n",
              "      <td>USD</td>\n",
              "      <td>Departamento a Estrenar dos ambientes.</td>\n",
              "      <td>Hermoso departamento, en la mejor zona Bajo B...</td>\n",
              "      <td>Departamento</td>\n",
              "      <td>Venta</td>\n",
              "    </tr>\n",
              "  </tbody>\n",
              "</table>\n",
              "</div>"
            ],
            "text/plain": [
              "         ad_type  start_date    end_date  created_on    lat    lon         l1  \\\n",
              "38653  Propiedad  2020-12-31  2021-01-02  2020-12-31 -34.63 -58.44  Argentina   \n",
              "38654  Propiedad  2021-04-30  9999-12-31  2021-04-30 -34.64 -58.49  Argentina   \n",
              "38655  Propiedad  2020-09-26  2020-10-10  2020-09-26    NaN    NaN  Argentina   \n",
              "\n",
              "                    l2               l3  rooms  bedrooms  bathrooms  \\\n",
              "38653  Capital Federal        Caballito   4.00      3.00       2.00   \n",
              "38654  Capital Federal  Velez Sarsfield   1.00      1.00       1.00   \n",
              "38655  Capital Federal         Belgrano   2.00      1.00       1.00   \n",
              "\n",
              "       surface_total  surface_covered     price currency  \\\n",
              "38653         108.00           108.00 273060.00      USD   \n",
              "38654            NaN              NaN  68100.00      USD   \n",
              "38655          47.00            47.00 199000.00      USD   \n",
              "\n",
              "                                                   title  \\\n",
              "38653        VENTA DEPARTAMENTO EN POZO EDIFICIO PREMIUM   \n",
              "38654  Departamento en Venta en Velez sarsfield, Capi...   \n",
              "38655             Departamento a Estrenar dos ambientes.   \n",
              "\n",
              "                                             description property_type  \\\n",
              "38653  Corredor Responsable: Ariel Champanier - C.U.C...  Departamento   \n",
              "38654  Venta de Departamento 2 AMBIENTES en Velez Sar...  Departamento   \n",
              "38655   Hermoso departamento, en la mejor zona Bajo B...  Departamento   \n",
              "\n",
              "      operation_type  \n",
              "38653          Venta  \n",
              "38654          Venta  \n",
              "38655          Venta  "
            ]
          },
          "execution_count": 14,
          "metadata": {},
          "output_type": "execute_result"
        }
      ],
      "source": [
        "df.tail(3)"
      ]
    },
    {
      "cell_type": "markdown",
      "metadata": {
        "id": "ZoKuaaoyz3am"
      },
      "source": [
        "Sospechamos que existen columnas con un unico valor de dato.\n",
        "\n",
        "Si es asi estas columnas no nos aportan informacion para nuestra futura prediccion"
      ]
    },
    {
      "cell_type": "code",
      "execution_count": 15,
      "metadata": {
        "id": "UsSXr9yoz3am"
      },
      "outputs": [
        {
          "name": "stdout",
          "output_type": "stream",
          "text": [
            "Variable ad_type: 1\n",
            "Variable l1: 1\n",
            "Variable l2: 1\n",
            "Variable currency: 1\n",
            "Variable property_type: 2\n",
            "Variable operation_type: 1\n"
          ]
        }
      ],
      "source": [
        "# Contamos la cantidad de valores unicos que tiene cada columna\n",
        "\n",
        "for x in df.columns:\n",
        "    unique_vals = df[f\"{x}\"].nunique() # nunique() cuenta la cantidad de valores unicos que tiene una columna\n",
        "    if unique_vals > 2:\n",
        "        None\n",
        "    else:\n",
        "        print(f'Variable {x}:', unique_vals)"
      ]
    },
    {
      "cell_type": "markdown",
      "metadata": {
        "id": "N--LbUA1z3am"
      },
      "source": [
        "Podemos ver esto mismo usando el método value_counts()"
      ]
    },
    {
      "cell_type": "code",
      "execution_count": 16,
      "metadata": {
        "id": "8Uwl0qVDz3am"
      },
      "outputs": [
        {
          "data": {
            "text/plain": [
              "l1\n",
              "Argentina    37857\n",
              "Name: count, dtype: int64"
            ]
          },
          "execution_count": 16,
          "metadata": {},
          "output_type": "execute_result"
        }
      ],
      "source": [
        "# Vemos los valores para property_type y para l1\n",
        "\n",
        "df.l1.value_counts(dropna=False)"
      ]
    },
    {
      "cell_type": "code",
      "execution_count": 17,
      "metadata": {
        "id": "YQxkgbbDz3am"
      },
      "outputs": [
        {
          "data": {
            "text/plain": [
              "property_type\n",
              "Departamento    33802\n",
              "PH               4055\n",
              "Name: count, dtype: int64"
            ]
          },
          "execution_count": 17,
          "metadata": {},
          "output_type": "execute_result"
        }
      ],
      "source": [
        "df.property_type.value_counts(dropna=False)"
      ]
    },
    {
      "cell_type": "markdown",
      "metadata": {
        "id": "Y6tyJgaGz3am"
      },
      "source": [
        "Property_type tiene sentido que solo tenga dos valores posibles ya que son los tipos de propiedades que queremos predecir.\n",
        "\n",
        "Pero el resto de las variables que tienen valores unicos las eliminaremos."
      ]
    },
    {
      "cell_type": "code",
      "execution_count": 18,
      "metadata": {
        "id": "-xAuTwNLz3an"
      },
      "outputs": [
        {
          "data": {
            "text/html": [
              "<div>\n",
              "<style scoped>\n",
              "    .dataframe tbody tr th:only-of-type {\n",
              "        vertical-align: middle;\n",
              "    }\n",
              "\n",
              "    .dataframe tbody tr th {\n",
              "        vertical-align: top;\n",
              "    }\n",
              "\n",
              "    .dataframe thead th {\n",
              "        text-align: right;\n",
              "    }\n",
              "</style>\n",
              "<table border=\"1\" class=\"dataframe\">\n",
              "  <thead>\n",
              "    <tr style=\"text-align: right;\">\n",
              "      <th></th>\n",
              "      <th>start_date</th>\n",
              "      <th>end_date</th>\n",
              "      <th>created_on</th>\n",
              "      <th>lat</th>\n",
              "      <th>lon</th>\n",
              "      <th>l3</th>\n",
              "      <th>rooms</th>\n",
              "      <th>bedrooms</th>\n",
              "      <th>bathrooms</th>\n",
              "      <th>surface_total</th>\n",
              "      <th>surface_covered</th>\n",
              "      <th>price</th>\n",
              "      <th>title</th>\n",
              "      <th>description</th>\n",
              "      <th>property_type</th>\n",
              "    </tr>\n",
              "  </thead>\n",
              "  <tbody>\n",
              "    <tr>\n",
              "      <th>0</th>\n",
              "      <td>2020-07-06</td>\n",
              "      <td>2021-04-07</td>\n",
              "      <td>2020-07-06</td>\n",
              "      <td>-34.62</td>\n",
              "      <td>-58.48</td>\n",
              "      <td>Villa del Parque</td>\n",
              "      <td>2.00</td>\n",
              "      <td>1.00</td>\n",
              "      <td>1.00</td>\n",
              "      <td>NaN</td>\n",
              "      <td>NaN</td>\n",
              "      <td>89000.00</td>\n",
              "      <td>Galicia 2800 Depto 2 Ambientes Con Balcón Vill...</td>\n",
              "      <td>XINTEL(JUM-JUM-313)  \\n\\nExcelente departament...</td>\n",
              "      <td>Departamento</td>\n",
              "    </tr>\n",
              "    <tr>\n",
              "      <th>1</th>\n",
              "      <td>2020-07-17</td>\n",
              "      <td>9999-12-31</td>\n",
              "      <td>2020-07-17</td>\n",
              "      <td>-34.62</td>\n",
              "      <td>-58.45</td>\n",
              "      <td>Caballito</td>\n",
              "      <td>3.00</td>\n",
              "      <td>2.00</td>\n",
              "      <td>2.00</td>\n",
              "      <td>NaN</td>\n",
              "      <td>NaN</td>\n",
              "      <td>190000.00</td>\n",
              "      <td>DEPARTAMENTO A ESTRENAR AL FRENTE CON COCHERA</td>\n",
              "      <td>EXCELENTE DPTO A ESTRENAR AL FRENTE CON COCHER...</td>\n",
              "      <td>Departamento</td>\n",
              "    </tr>\n",
              "    <tr>\n",
              "      <th>2</th>\n",
              "      <td>2020-06-19</td>\n",
              "      <td>2020-12-03</td>\n",
              "      <td>2020-06-19</td>\n",
              "      <td>-34.59</td>\n",
              "      <td>-58.43</td>\n",
              "      <td>Palermo</td>\n",
              "      <td>3.00</td>\n",
              "      <td>2.00</td>\n",
              "      <td>2.00</td>\n",
              "      <td>98.00</td>\n",
              "      <td>68.00</td>\n",
              "      <td>360000.00</td>\n",
              "      <td>Excelente departamento 4 ambientes con terraza...</td>\n",
              "      <td>Patio El Salvador . inicio de obra nmarzo 2019...</td>\n",
              "      <td>Departamento</td>\n",
              "    </tr>\n",
              "    <tr>\n",
              "      <th>3</th>\n",
              "      <td>2021-02-24</td>\n",
              "      <td>2021-03-01</td>\n",
              "      <td>2021-02-24</td>\n",
              "      <td>-34.58</td>\n",
              "      <td>-58.49</td>\n",
              "      <td>Villa Urquiza</td>\n",
              "      <td>4.00</td>\n",
              "      <td>4.00</td>\n",
              "      <td>1.00</td>\n",
              "      <td>118.00</td>\n",
              "      <td>96.00</td>\n",
              "      <td>285000.00</td>\n",
              "      <td>Venta depto 4 ambientes/terraza en V. Urquiza</td>\n",
              "      <td>Corredor Responsable: MARIANO AUFSEHER - CPI 4...</td>\n",
              "      <td>Departamento</td>\n",
              "    </tr>\n",
              "    <tr>\n",
              "      <th>4</th>\n",
              "      <td>2020-11-17</td>\n",
              "      <td>2021-04-13</td>\n",
              "      <td>2020-11-17</td>\n",
              "      <td>-34.62</td>\n",
              "      <td>-58.44</td>\n",
              "      <td>Caballito</td>\n",
              "      <td>2.00</td>\n",
              "      <td>11.00</td>\n",
              "      <td>1.00</td>\n",
              "      <td>61.00</td>\n",
              "      <td>52.00</td>\n",
              "      <td>145000.00</td>\n",
              "      <td>Departamento de 2 ambientes c terraza a estrenar</td>\n",
              "      <td>Corredor Responsable: MARCELO GRUNBAUM - CMCPS...</td>\n",
              "      <td>Departamento</td>\n",
              "    </tr>\n",
              "  </tbody>\n",
              "</table>\n",
              "</div>"
            ],
            "text/plain": [
              "   start_date    end_date  created_on    lat    lon                l3  rooms  \\\n",
              "0  2020-07-06  2021-04-07  2020-07-06 -34.62 -58.48  Villa del Parque   2.00   \n",
              "1  2020-07-17  9999-12-31  2020-07-17 -34.62 -58.45         Caballito   3.00   \n",
              "2  2020-06-19  2020-12-03  2020-06-19 -34.59 -58.43           Palermo   3.00   \n",
              "3  2021-02-24  2021-03-01  2021-02-24 -34.58 -58.49     Villa Urquiza   4.00   \n",
              "4  2020-11-17  2021-04-13  2020-11-17 -34.62 -58.44         Caballito   2.00   \n",
              "\n",
              "   bedrooms  bathrooms  surface_total  surface_covered     price  \\\n",
              "0      1.00       1.00            NaN              NaN  89000.00   \n",
              "1      2.00       2.00            NaN              NaN 190000.00   \n",
              "2      2.00       2.00          98.00            68.00 360000.00   \n",
              "3      4.00       1.00         118.00            96.00 285000.00   \n",
              "4     11.00       1.00          61.00            52.00 145000.00   \n",
              "\n",
              "                                               title  \\\n",
              "0  Galicia 2800 Depto 2 Ambientes Con Balcón Vill...   \n",
              "1      DEPARTAMENTO A ESTRENAR AL FRENTE CON COCHERA   \n",
              "2  Excelente departamento 4 ambientes con terraza...   \n",
              "3      Venta depto 4 ambientes/terraza en V. Urquiza   \n",
              "4   Departamento de 2 ambientes c terraza a estrenar   \n",
              "\n",
              "                                         description property_type  \n",
              "0  XINTEL(JUM-JUM-313)  \\n\\nExcelente departament...  Departamento  \n",
              "1  EXCELENTE DPTO A ESTRENAR AL FRENTE CON COCHER...  Departamento  \n",
              "2  Patio El Salvador . inicio de obra nmarzo 2019...  Departamento  \n",
              "3  Corredor Responsable: MARIANO AUFSEHER - CPI 4...  Departamento  \n",
              "4  Corredor Responsable: MARCELO GRUNBAUM - CMCPS...  Departamento  "
            ]
          },
          "execution_count": 18,
          "metadata": {},
          "output_type": "execute_result"
        }
      ],
      "source": [
        "unique_vars = [\"ad_type\", \"l1\", \"l2\", \"currency\", \"operation_type\"]\n",
        "df.drop(unique_vars, axis = 1, inplace= True)\n",
        "df.head()"
      ]
    },
    {
      "cell_type": "markdown",
      "metadata": {
        "id": "JAsohvCrz3an"
      },
      "source": [
        "Las variables \"created_on\", \"start_date\", \"end_date\" no son variables útiles para lo que queremos hacer --> las eliminamos\n",
        "\n",
        "Se podrían crear variables muy relevantes para nuestro modelo a partir de la latitud y la longitud pero no las utilizaremos en nuestro entrenamiento.\n",
        "\n",
        "Algunas de las cosas que se pueden hacer pueden hacer pueden encontrarlas en este post: https://python.plainenglish.io/how-to-use-geo-location-for-feature-engineering-using-near-by-points-of-interest-563752e6ad26"
      ]
    },
    {
      "cell_type": "code",
      "execution_count": 19,
      "metadata": {
        "id": "F2TkZsT2z3an"
      },
      "outputs": [
        {
          "data": {
            "text/plain": [
              "(37857, 10)"
            ]
          },
          "execution_count": 19,
          "metadata": {},
          "output_type": "execute_result"
        }
      ],
      "source": [
        "drop_vars = [\"created_on\", \"start_date\", \"end_date\", \"lat\", \"lon\"]\n",
        "df.drop(drop_vars, axis=1, inplace= True)\n",
        "df.shape"
      ]
    },
    {
      "cell_type": "markdown",
      "metadata": {
        "id": "M1ANDZLtz3an"
      },
      "source": [
        "#### Enriquecimiento del dataset con una fuente externa"
      ]
    },
    {
      "cell_type": "markdown",
      "metadata": {
        "id": "FoBq81xVz3an"
      },
      "source": [
        "Importamos un dataset que extraemos de https://mudafy.com.ar/\n",
        "\n",
        "Este contiene la informacion del precio promedio de m2 por barrio y la Comuna que corresponde para cada barrio"
      ]
    },
    {
      "cell_type": "code",
      "execution_count": 20,
      "metadata": {
        "id": "7p9Lqg9Cz3ao"
      },
      "outputs": [],
      "source": [
        "df_m2 = pd.read_excel(\"./precio_prom_m2.xlsx\")"
      ]
    },
    {
      "cell_type": "code",
      "execution_count": 21,
      "metadata": {
        "id": "pjLggWOIz3ao"
      },
      "outputs": [
        {
          "data": {
            "text/html": [
              "<div>\n",
              "<style scoped>\n",
              "    .dataframe tbody tr th:only-of-type {\n",
              "        vertical-align: middle;\n",
              "    }\n",
              "\n",
              "    .dataframe tbody tr th {\n",
              "        vertical-align: top;\n",
              "    }\n",
              "\n",
              "    .dataframe thead th {\n",
              "        text-align: right;\n",
              "    }\n",
              "</style>\n",
              "<table border=\"1\" class=\"dataframe\">\n",
              "  <thead>\n",
              "    <tr style=\"text-align: right;\">\n",
              "      <th></th>\n",
              "      <th>Barrio</th>\n",
              "      <th>Comuna</th>\n",
              "      <th>Valor m2 (USD)</th>\n",
              "    </tr>\n",
              "  </thead>\n",
              "  <tbody>\n",
              "    <tr>\n",
              "      <th>0</th>\n",
              "      <td>Recoleta</td>\n",
              "      <td>Comuna 2</td>\n",
              "      <td>1978</td>\n",
              "    </tr>\n",
              "    <tr>\n",
              "      <th>1</th>\n",
              "      <td>Coghlan</td>\n",
              "      <td>Comuna 12</td>\n",
              "      <td>1803</td>\n",
              "    </tr>\n",
              "    <tr>\n",
              "      <th>2</th>\n",
              "      <td>Villa Urquiza</td>\n",
              "      <td>Comuna 12</td>\n",
              "      <td>1939</td>\n",
              "    </tr>\n",
              "    <tr>\n",
              "      <th>3</th>\n",
              "      <td>Saavedra</td>\n",
              "      <td>Comuna 12</td>\n",
              "      <td>1916</td>\n",
              "    </tr>\n",
              "    <tr>\n",
              "      <th>4</th>\n",
              "      <td>Villa Pueyrredon</td>\n",
              "      <td>Comuna 12</td>\n",
              "      <td>1677</td>\n",
              "    </tr>\n",
              "  </tbody>\n",
              "</table>\n",
              "</div>"
            ],
            "text/plain": [
              "             Barrio     Comuna  Valor m2 (USD)\n",
              "0          Recoleta   Comuna 2            1978\n",
              "1           Coghlan  Comuna 12            1803\n",
              "2     Villa Urquiza  Comuna 12            1939\n",
              "3          Saavedra  Comuna 12            1916\n",
              "4  Villa Pueyrredon  Comuna 12            1677"
            ]
          },
          "execution_count": 21,
          "metadata": {},
          "output_type": "execute_result"
        }
      ],
      "source": [
        "df_m2.head()"
      ]
    },
    {
      "cell_type": "code",
      "execution_count": 22,
      "metadata": {
        "id": "npEN8JKPz3at"
      },
      "outputs": [
        {
          "name": "stdout",
          "output_type": "stream",
          "text": [
            "<class 'pandas.core.frame.DataFrame'>\n",
            "RangeIndex: 46 entries, 0 to 45\n",
            "Data columns (total 3 columns):\n",
            " #   Column          Non-Null Count  Dtype \n",
            "---  ------          --------------  ----- \n",
            " 0   Barrio          46 non-null     object\n",
            " 1   Comuna          46 non-null     object\n",
            " 2   Valor m2 (USD)  46 non-null     int64 \n",
            "dtypes: int64(1), object(2)\n",
            "memory usage: 1.2+ KB\n"
          ]
        }
      ],
      "source": [
        "df_m2.info(verbose=True)"
      ]
    },
    {
      "cell_type": "code",
      "execution_count": 23,
      "metadata": {
        "id": "x8BfqHT5z3at"
      },
      "outputs": [
        {
          "data": {
            "text/plain": [
              "(37857, 12)"
            ]
          },
          "execution_count": 23,
          "metadata": {},
          "output_type": "execute_result"
        }
      ],
      "source": [
        "# Joineamos los dos df para traer las nuevas variables que seran de utildiad\n",
        "\n",
        "df_merged = pd.merge(df, df_m2, left_on = \"l3\", right_on = \"Barrio\", how= 'left')\n",
        "df_merged.drop([\"Barrio\"], axis=1, inplace=True)  # Eliminamos la variable Barrio ya que nos proporciona el mismo tipo de info que l3\n",
        "df_merged.rename(columns={\"Valor m2 (USD)\":\"valor_m2\"}, inplace=True) # Renombramos la variable por un nombre mas sencillo\n",
        "df_merged.shape"
      ]
    },
    {
      "cell_type": "markdown",
      "metadata": {
        "id": "H0U3ZBygz3at"
      },
      "source": [
        "#### Tratamiento de valores faltantes"
      ]
    },
    {
      "cell_type": "markdown",
      "metadata": {
        "id": "3XWhZnLbz3au"
      },
      "source": [
        "Volvemos hacer el análisis de missings para ver que tan poblada estan las nuevas variables"
      ]
    },
    {
      "cell_type": "code",
      "execution_count": 24,
      "metadata": {
        "id": "DEHJ5RmNz3au"
      },
      "outputs": [
        {
          "data": {
            "text/html": [
              "<div>\n",
              "<style scoped>\n",
              "    .dataframe tbody tr th:only-of-type {\n",
              "        vertical-align: middle;\n",
              "    }\n",
              "\n",
              "    .dataframe tbody tr th {\n",
              "        vertical-align: top;\n",
              "    }\n",
              "\n",
              "    .dataframe thead th {\n",
              "        text-align: right;\n",
              "    }\n",
              "</style>\n",
              "<table border=\"1\" class=\"dataframe\">\n",
              "  <thead>\n",
              "    <tr style=\"text-align: right;\">\n",
              "      <th></th>\n",
              "      <th>Missing</th>\n",
              "    </tr>\n",
              "  </thead>\n",
              "  <tbody>\n",
              "    <tr>\n",
              "      <th>surface_total</th>\n",
              "      <td>0.42</td>\n",
              "    </tr>\n",
              "    <tr>\n",
              "      <th>surface_covered</th>\n",
              "      <td>0.42</td>\n",
              "    </tr>\n",
              "    <tr>\n",
              "      <th>bedrooms</th>\n",
              "      <td>0.19</td>\n",
              "    </tr>\n",
              "    <tr>\n",
              "      <th>Comuna</th>\n",
              "      <td>0.09</td>\n",
              "    </tr>\n",
              "    <tr>\n",
              "      <th>valor_m2</th>\n",
              "      <td>0.09</td>\n",
              "    </tr>\n",
              "    <tr>\n",
              "      <th>rooms</th>\n",
              "      <td>0.07</td>\n",
              "    </tr>\n",
              "    <tr>\n",
              "      <th>bathrooms</th>\n",
              "      <td>0.06</td>\n",
              "    </tr>\n",
              "    <tr>\n",
              "      <th>l3</th>\n",
              "      <td>0.00</td>\n",
              "    </tr>\n",
              "  </tbody>\n",
              "</table>\n",
              "</div>"
            ],
            "text/plain": [
              "                 Missing\n",
              "surface_total       0.42\n",
              "surface_covered     0.42\n",
              "bedrooms            0.19\n",
              "Comuna              0.09\n",
              "valor_m2            0.09\n",
              "rooms               0.07\n",
              "bathrooms           0.06\n",
              "l3                  0.00"
            ]
          },
          "execution_count": 24,
          "metadata": {},
          "output_type": "execute_result"
        }
      ],
      "source": [
        "miss = pd.DataFrame(df_merged.isnull().mean(), columns=[\"Missing\"])\n",
        "perc_miss = miss.loc[miss.Missing > 0]\n",
        "perc_miss.sort_values(\"Missing\", ascending = False)"
      ]
    },
    {
      "cell_type": "code",
      "execution_count": 25,
      "metadata": {
        "id": "owzhwiLqz3au"
      },
      "outputs": [
        {
          "data": {
            "text/html": [
              "<div>\n",
              "<style scoped>\n",
              "    .dataframe tbody tr th:only-of-type {\n",
              "        vertical-align: middle;\n",
              "    }\n",
              "\n",
              "    .dataframe tbody tr th {\n",
              "        vertical-align: top;\n",
              "    }\n",
              "\n",
              "    .dataframe thead th {\n",
              "        text-align: right;\n",
              "    }\n",
              "</style>\n",
              "<table border=\"1\" class=\"dataframe\">\n",
              "  <thead>\n",
              "    <tr style=\"text-align: right;\">\n",
              "      <th></th>\n",
              "      <th>count</th>\n",
              "      <th>mean</th>\n",
              "      <th>std</th>\n",
              "      <th>min</th>\n",
              "      <th>25%</th>\n",
              "      <th>50%</th>\n",
              "      <th>75%</th>\n",
              "      <th>max</th>\n",
              "    </tr>\n",
              "  </thead>\n",
              "  <tbody>\n",
              "    <tr>\n",
              "      <th>bathrooms</th>\n",
              "      <td>35557.00</td>\n",
              "      <td>1.41</td>\n",
              "      <td>0.69</td>\n",
              "      <td>1.00</td>\n",
              "      <td>1.00</td>\n",
              "      <td>1.00</td>\n",
              "      <td>2.00</td>\n",
              "      <td>9.00</td>\n",
              "    </tr>\n",
              "    <tr>\n",
              "      <th>rooms</th>\n",
              "      <td>35341.00</td>\n",
              "      <td>2.54</td>\n",
              "      <td>1.23</td>\n",
              "      <td>1.00</td>\n",
              "      <td>2.00</td>\n",
              "      <td>2.00</td>\n",
              "      <td>3.00</td>\n",
              "      <td>22.00</td>\n",
              "    </tr>\n",
              "    <tr>\n",
              "      <th>bedrooms</th>\n",
              "      <td>30495.00</td>\n",
              "      <td>1.77</td>\n",
              "      <td>1.39</td>\n",
              "      <td>0.00</td>\n",
              "      <td>1.00</td>\n",
              "      <td>2.00</td>\n",
              "      <td>2.00</td>\n",
              "      <td>153.00</td>\n",
              "    </tr>\n",
              "    <tr>\n",
              "      <th>surface_total</th>\n",
              "      <td>22113.00</td>\n",
              "      <td>121.78</td>\n",
              "      <td>1617.91</td>\n",
              "      <td>11.00</td>\n",
              "      <td>43.00</td>\n",
              "      <td>61.00</td>\n",
              "      <td>92.00</td>\n",
              "      <td>140380.00</td>\n",
              "    </tr>\n",
              "    <tr>\n",
              "      <th>surface_covered</th>\n",
              "      <td>22143.00</td>\n",
              "      <td>92.15</td>\n",
              "      <td>969.40</td>\n",
              "      <td>1.00</td>\n",
              "      <td>40.00</td>\n",
              "      <td>55.00</td>\n",
              "      <td>80.00</td>\n",
              "      <td>63660.00</td>\n",
              "    </tr>\n",
              "    <tr>\n",
              "      <th>valor_m2</th>\n",
              "      <td>34441.00</td>\n",
              "      <td>1814.67</td>\n",
              "      <td>328.54</td>\n",
              "      <td>899.00</td>\n",
              "      <td>1570.00</td>\n",
              "      <td>1861.00</td>\n",
              "      <td>2020.00</td>\n",
              "      <td>3993.00</td>\n",
              "    </tr>\n",
              "  </tbody>\n",
              "</table>\n",
              "</div>"
            ],
            "text/plain": [
              "                   count    mean     std    min     25%     50%     75%  \\\n",
              "bathrooms       35557.00    1.41    0.69   1.00    1.00    1.00    2.00   \n",
              "rooms           35341.00    2.54    1.23   1.00    2.00    2.00    3.00   \n",
              "bedrooms        30495.00    1.77    1.39   0.00    1.00    2.00    2.00   \n",
              "surface_total   22113.00  121.78 1617.91  11.00   43.00   61.00   92.00   \n",
              "surface_covered 22143.00   92.15  969.40   1.00   40.00   55.00   80.00   \n",
              "valor_m2        34441.00 1814.67  328.54 899.00 1570.00 1861.00 2020.00   \n",
              "\n",
              "                      max  \n",
              "bathrooms            9.00  \n",
              "rooms               22.00  \n",
              "bedrooms           153.00  \n",
              "surface_total   140380.00  \n",
              "surface_covered  63660.00  \n",
              "valor_m2          3993.00  "
            ]
          },
          "execution_count": 25,
          "metadata": {},
          "output_type": "execute_result"
        }
      ],
      "source": [
        "# Analizamos algunos valores estadísticos de las variables \"bathrooms\", \"rooms\", \"bedrooms\", \"surface_total\", \"surface_covered\", \"valor_m2\"\n",
        "\n",
        "df_merged[[\"bathrooms\", \"rooms\", \"bedrooms\", \"surface_total\", \"surface_covered\", \"valor_m2\"]].describe().T"
      ]
    },
    {
      "cell_type": "markdown",
      "metadata": {
        "id": "i9tMuQ6Sz3au"
      },
      "source": [
        "Vemos que existen outliers para algunas de estas columnas, pero esto lo analizaremos luego."
      ]
    },
    {
      "cell_type": "markdown",
      "metadata": {
        "id": "ewh2ZE1az3au"
      },
      "source": [
        "Ahora nos concentraremos en la imputacion de valores faltantes aplicando distintas estrategias de imputacion segun la variable"
      ]
    },
    {
      "cell_type": "code",
      "execution_count": 26,
      "metadata": {
        "id": "9KS4c7ASz3au"
      },
      "outputs": [
        {
          "name": "stdout",
          "output_type": "stream",
          "text": [
            "Mediana de 'bathrooms': 1.0\n",
            "Mediana de 'rooms': 2.0\n",
            "Mediana de 'bedrooms': 2.0\n"
          ]
        }
      ],
      "source": [
        "# Para bathrooms, room y bedrooms --> imputaremos con la mediana ya que deberian ser valores enteros\n",
        "\n",
        "\n",
        "# Calculamos la media de cada columna\n",
        "median_bathrooms = df_merged['bathrooms'].median()\n",
        "median_rooms = df_merged['rooms'].median()\n",
        "median_bedrooms = df_merged['bedrooms'].median()\n",
        "\n",
        "# Imprime las medias\n",
        "print(f\"Mediana de 'bathrooms': {median_bathrooms}\")\n",
        "print(f\"Mediana de 'rooms': {median_rooms}\")\n",
        "print(f\"Mediana de 'bedrooms': {median_bedrooms}\")\n"
      ]
    },
    {
      "cell_type": "code",
      "execution_count": 27,
      "metadata": {
        "id": "MbXMemBHz3au"
      },
      "outputs": [
        {
          "name": "stderr",
          "output_type": "stream",
          "text": [
            "C:\\Users\\schas\\AppData\\Local\\Temp\\ipykernel_41696\\223016841.py:3: FutureWarning: A value is trying to be set on a copy of a DataFrame or Series through chained assignment using an inplace method.\n",
            "The behavior will change in pandas 3.0. This inplace method will never work because the intermediate object on which we are setting values always behaves as a copy.\n",
            "\n",
            "For example, when doing 'df[col].method(value, inplace=True)', try using 'df.method({col: value}, inplace=True)' or df[col] = df[col].method(value) instead, to perform the operation inplace on the original object.\n",
            "\n",
            "\n",
            "  df_merged['bathrooms'].fillna(median_bathrooms, inplace=True)\n",
            "C:\\Users\\schas\\AppData\\Local\\Temp\\ipykernel_41696\\223016841.py:4: FutureWarning: A value is trying to be set on a copy of a DataFrame or Series through chained assignment using an inplace method.\n",
            "The behavior will change in pandas 3.0. This inplace method will never work because the intermediate object on which we are setting values always behaves as a copy.\n",
            "\n",
            "For example, when doing 'df[col].method(value, inplace=True)', try using 'df.method({col: value}, inplace=True)' or df[col] = df[col].method(value) instead, to perform the operation inplace on the original object.\n",
            "\n",
            "\n",
            "  df_merged['rooms'].fillna(median_rooms, inplace=True)\n",
            "C:\\Users\\schas\\AppData\\Local\\Temp\\ipykernel_41696\\223016841.py:5: FutureWarning: A value is trying to be set on a copy of a DataFrame or Series through chained assignment using an inplace method.\n",
            "The behavior will change in pandas 3.0. This inplace method will never work because the intermediate object on which we are setting values always behaves as a copy.\n",
            "\n",
            "For example, when doing 'df[col].method(value, inplace=True)', try using 'df.method({col: value}, inplace=True)' or df[col] = df[col].method(value) instead, to perform the operation inplace on the original object.\n",
            "\n",
            "\n",
            "  df_merged['bedrooms'].fillna(median_bedrooms, inplace=True)\n"
          ]
        }
      ],
      "source": [
        "# Imputamos los valores\n",
        "\n",
        "df_merged['bathrooms'].fillna(median_bathrooms, inplace=True)\n",
        "df_merged['rooms'].fillna(median_rooms, inplace=True)\n",
        "df_merged['bedrooms'].fillna(median_bedrooms, inplace=True)"
      ]
    },
    {
      "cell_type": "code",
      "execution_count": 28,
      "metadata": {
        "id": "LrZOlbBTz3au"
      },
      "outputs": [
        {
          "name": "stdout",
          "output_type": "stream",
          "text": [
            "Media de 'surface_total': 121.77945100167322\n",
            "Media de 'surface_covered': 92.15124418552138\n",
            "Media de 'valor_m2': 1814.668186173456\n"
          ]
        }
      ],
      "source": [
        "# Como surface_total, surface_covered y valor_m2 pueden tomar valores decimales utilizamos la media para imputar sus nulos\n",
        "\n",
        "# Calculamos las medias para cada columna\n",
        "mean_surface_total = df_merged['surface_total'].mean()\n",
        "mean_surface_covered = df_merged['surface_covered'].mean()\n",
        "mean_valor_m2 = df_merged['valor_m2'].mean()\n",
        "\n",
        "# Imprimimos las medias\n",
        "print(f\"Media de 'surface_total': {mean_surface_total}\")\n",
        "print(f\"Media de 'surface_covered': {mean_surface_covered}\")\n",
        "print(f\"Media de 'valor_m2': {mean_valor_m2}\")"
      ]
    },
    {
      "cell_type": "code",
      "execution_count": 29,
      "metadata": {
        "id": "YhfvVJ-sz3av"
      },
      "outputs": [
        {
          "name": "stderr",
          "output_type": "stream",
          "text": [
            "C:\\Users\\schas\\AppData\\Local\\Temp\\ipykernel_41696\\2284474125.py:3: FutureWarning: A value is trying to be set on a copy of a DataFrame or Series through chained assignment using an inplace method.\n",
            "The behavior will change in pandas 3.0. This inplace method will never work because the intermediate object on which we are setting values always behaves as a copy.\n",
            "\n",
            "For example, when doing 'df[col].method(value, inplace=True)', try using 'df.method({col: value}, inplace=True)' or df[col] = df[col].method(value) instead, to perform the operation inplace on the original object.\n",
            "\n",
            "\n",
            "  df_merged['surface_total'].fillna(mean_surface_total, inplace=True)\n",
            "C:\\Users\\schas\\AppData\\Local\\Temp\\ipykernel_41696\\2284474125.py:4: FutureWarning: A value is trying to be set on a copy of a DataFrame or Series through chained assignment using an inplace method.\n",
            "The behavior will change in pandas 3.0. This inplace method will never work because the intermediate object on which we are setting values always behaves as a copy.\n",
            "\n",
            "For example, when doing 'df[col].method(value, inplace=True)', try using 'df.method({col: value}, inplace=True)' or df[col] = df[col].method(value) instead, to perform the operation inplace on the original object.\n",
            "\n",
            "\n",
            "  df_merged['surface_covered'].fillna(mean_surface_covered, inplace=True)\n",
            "C:\\Users\\schas\\AppData\\Local\\Temp\\ipykernel_41696\\2284474125.py:5: FutureWarning: A value is trying to be set on a copy of a DataFrame or Series through chained assignment using an inplace method.\n",
            "The behavior will change in pandas 3.0. This inplace method will never work because the intermediate object on which we are setting values always behaves as a copy.\n",
            "\n",
            "For example, when doing 'df[col].method(value, inplace=True)', try using 'df.method({col: value}, inplace=True)' or df[col] = df[col].method(value) instead, to perform the operation inplace on the original object.\n",
            "\n",
            "\n",
            "  df_merged['valor_m2'].fillna(mean_valor_m2, inplace=True)\n"
          ]
        }
      ],
      "source": [
        "# Imputamos los valores\n",
        "\n",
        "df_merged['surface_total'].fillna(mean_surface_total, inplace=True)\n",
        "df_merged['surface_covered'].fillna(mean_surface_covered, inplace=True)\n",
        "df_merged['valor_m2'].fillna(mean_valor_m2, inplace=True)"
      ]
    },
    {
      "cell_type": "markdown",
      "metadata": {
        "id": "jBVvawi9z3av"
      },
      "source": [
        "#### Imputacion de missings para variables categoricas"
      ]
    },
    {
      "cell_type": "code",
      "execution_count": 30,
      "metadata": {
        "id": "5wcnpX9kz3av"
      },
      "outputs": [
        {
          "name": "stderr",
          "output_type": "stream",
          "text": [
            "C:\\Users\\schas\\AppData\\Local\\Temp\\ipykernel_41696\\2808241958.py:1: FutureWarning: A value is trying to be set on a copy of a DataFrame or Series through chained assignment using an inplace method.\n",
            "The behavior will change in pandas 3.0. This inplace method will never work because the intermediate object on which we are setting values always behaves as a copy.\n",
            "\n",
            "For example, when doing 'df[col].method(value, inplace=True)', try using 'df.method({col: value}, inplace=True)' or df[col] = df[col].method(value) instead, to perform the operation inplace on the original object.\n",
            "\n",
            "\n",
            "  df_merged['l3'].fillna('sin_valor', inplace=True)\n",
            "C:\\Users\\schas\\AppData\\Local\\Temp\\ipykernel_41696\\2808241958.py:2: FutureWarning: A value is trying to be set on a copy of a DataFrame or Series through chained assignment using an inplace method.\n",
            "The behavior will change in pandas 3.0. This inplace method will never work because the intermediate object on which we are setting values always behaves as a copy.\n",
            "\n",
            "For example, when doing 'df[col].method(value, inplace=True)', try using 'df.method({col: value}, inplace=True)' or df[col] = df[col].method(value) instead, to perform the operation inplace on the original object.\n",
            "\n",
            "\n",
            "  df_merged['Comuna'].fillna('sin_valor', inplace=True)\n"
          ]
        }
      ],
      "source": [
        "df_merged['l3'].fillna('sin_valor', inplace=True)\n",
        "df_merged['Comuna'].fillna('sin_valor', inplace=True)"
      ]
    },
    {
      "cell_type": "code",
      "execution_count": 31,
      "metadata": {
        "id": "RBoZaGDEz3av"
      },
      "outputs": [
        {
          "data": {
            "text/plain": [
              "l3                 0\n",
              "rooms              0\n",
              "bedrooms           0\n",
              "bathrooms          0\n",
              "surface_total      0\n",
              "surface_covered    0\n",
              "price              0\n",
              "title              0\n",
              "description        0\n",
              "property_type      0\n",
              "Comuna             0\n",
              "valor_m2           0\n",
              "dtype: int64"
            ]
          },
          "execution_count": 31,
          "metadata": {},
          "output_type": "execute_result"
        }
      ],
      "source": [
        "# Verificamos los valores faltantes\n",
        "\n",
        "df_merged.isnull().sum()"
      ]
    },
    {
      "cell_type": "markdown",
      "metadata": {
        "id": "ZSbkVq0zz3av"
      },
      "source": [
        "#### Tratamiento de valores atípicos/outliers"
      ]
    },
    {
      "cell_type": "code",
      "execution_count": 32,
      "metadata": {
        "id": "5B_TOhYfz3aw"
      },
      "outputs": [
        {
          "data": {
            "text/html": [
              "<div>\n",
              "<style scoped>\n",
              "    .dataframe tbody tr th:only-of-type {\n",
              "        vertical-align: middle;\n",
              "    }\n",
              "\n",
              "    .dataframe tbody tr th {\n",
              "        vertical-align: top;\n",
              "    }\n",
              "\n",
              "    .dataframe thead th {\n",
              "        text-align: right;\n",
              "    }\n",
              "</style>\n",
              "<table border=\"1\" class=\"dataframe\">\n",
              "  <thead>\n",
              "    <tr style=\"text-align: right;\">\n",
              "      <th></th>\n",
              "      <th>count</th>\n",
              "      <th>mean</th>\n",
              "      <th>std</th>\n",
              "      <th>min</th>\n",
              "      <th>25%</th>\n",
              "      <th>50%</th>\n",
              "      <th>75%</th>\n",
              "      <th>max</th>\n",
              "    </tr>\n",
              "  </thead>\n",
              "  <tbody>\n",
              "    <tr>\n",
              "      <th>bathrooms</th>\n",
              "      <td>37857.00</td>\n",
              "      <td>1.38</td>\n",
              "      <td>0.68</td>\n",
              "      <td>1.00</td>\n",
              "      <td>1.00</td>\n",
              "      <td>1.00</td>\n",
              "      <td>2.00</td>\n",
              "      <td>9.00</td>\n",
              "    </tr>\n",
              "    <tr>\n",
              "      <th>rooms</th>\n",
              "      <td>37857.00</td>\n",
              "      <td>2.50</td>\n",
              "      <td>1.19</td>\n",
              "      <td>1.00</td>\n",
              "      <td>2.00</td>\n",
              "      <td>2.00</td>\n",
              "      <td>3.00</td>\n",
              "      <td>22.00</td>\n",
              "    </tr>\n",
              "    <tr>\n",
              "      <th>bedrooms</th>\n",
              "      <td>37857.00</td>\n",
              "      <td>1.82</td>\n",
              "      <td>1.25</td>\n",
              "      <td>0.00</td>\n",
              "      <td>1.00</td>\n",
              "      <td>2.00</td>\n",
              "      <td>2.00</td>\n",
              "      <td>153.00</td>\n",
              "    </tr>\n",
              "    <tr>\n",
              "      <th>surface_total</th>\n",
              "      <td>37857.00</td>\n",
              "      <td>121.78</td>\n",
              "      <td>1236.52</td>\n",
              "      <td>11.00</td>\n",
              "      <td>55.00</td>\n",
              "      <td>120.00</td>\n",
              "      <td>121.78</td>\n",
              "      <td>140380.00</td>\n",
              "    </tr>\n",
              "    <tr>\n",
              "      <th>surface_covered</th>\n",
              "      <td>37857.00</td>\n",
              "      <td>92.15</td>\n",
              "      <td>741.38</td>\n",
              "      <td>1.00</td>\n",
              "      <td>50.00</td>\n",
              "      <td>92.15</td>\n",
              "      <td>92.15</td>\n",
              "      <td>63660.00</td>\n",
              "    </tr>\n",
              "  </tbody>\n",
              "</table>\n",
              "</div>"
            ],
            "text/plain": [
              "                   count   mean     std   min   25%    50%    75%       max\n",
              "bathrooms       37857.00   1.38    0.68  1.00  1.00   1.00   2.00      9.00\n",
              "rooms           37857.00   2.50    1.19  1.00  2.00   2.00   3.00     22.00\n",
              "bedrooms        37857.00   1.82    1.25  0.00  1.00   2.00   2.00    153.00\n",
              "surface_total   37857.00 121.78 1236.52 11.00 55.00 120.00 121.78 140380.00\n",
              "surface_covered 37857.00  92.15  741.38  1.00 50.00  92.15  92.15  63660.00"
            ]
          },
          "execution_count": 32,
          "metadata": {},
          "output_type": "execute_result"
        }
      ],
      "source": [
        "# Volvemos a imprimir algunas metricas estadísticas para \"bathrooms\", \"rooms\", \"bedrooms\", \"surface_total\", \"surface_covered\"\n",
        "\n",
        "df_merged[[\"bathrooms\", \"rooms\", \"bedrooms\", \"surface_total\", \"surface_covered\"]].describe().T"
      ]
    },
    {
      "cell_type": "markdown",
      "metadata": {
        "id": "IsH8Or2Sz3aw"
      },
      "source": [
        "Vamos a utilizar la tecnica de capping para no perder registros para nuestro entrenamiento"
      ]
    },
    {
      "cell_type": "code",
      "execution_count": 33,
      "metadata": {
        "id": "hDZ0T0Nuz3aw"
      },
      "outputs": [
        {
          "data": {
            "text/html": [
              "<div>\n",
              "<style scoped>\n",
              "    .dataframe tbody tr th:only-of-type {\n",
              "        vertical-align: middle;\n",
              "    }\n",
              "\n",
              "    .dataframe tbody tr th {\n",
              "        vertical-align: top;\n",
              "    }\n",
              "\n",
              "    .dataframe thead th {\n",
              "        text-align: right;\n",
              "    }\n",
              "</style>\n",
              "<table border=\"1\" class=\"dataframe\">\n",
              "  <thead>\n",
              "    <tr style=\"text-align: right;\">\n",
              "      <th></th>\n",
              "      <th>count</th>\n",
              "      <th>mean</th>\n",
              "      <th>std</th>\n",
              "      <th>min</th>\n",
              "      <th>25%</th>\n",
              "      <th>50%</th>\n",
              "      <th>75%</th>\n",
              "      <th>max</th>\n",
              "    </tr>\n",
              "  </thead>\n",
              "  <tbody>\n",
              "    <tr>\n",
              "      <th>bathrooms</th>\n",
              "      <td>37857.00</td>\n",
              "      <td>1.38</td>\n",
              "      <td>0.66</td>\n",
              "      <td>1.00</td>\n",
              "      <td>1.00</td>\n",
              "      <td>1.00</td>\n",
              "      <td>2.00</td>\n",
              "      <td>4.00</td>\n",
              "    </tr>\n",
              "    <tr>\n",
              "      <th>rooms</th>\n",
              "      <td>37857.00</td>\n",
              "      <td>2.49</td>\n",
              "      <td>1.13</td>\n",
              "      <td>1.00</td>\n",
              "      <td>2.00</td>\n",
              "      <td>2.00</td>\n",
              "      <td>3.00</td>\n",
              "      <td>6.00</td>\n",
              "    </tr>\n",
              "    <tr>\n",
              "      <th>bedrooms</th>\n",
              "      <td>37857.00</td>\n",
              "      <td>1.80</td>\n",
              "      <td>0.86</td>\n",
              "      <td>0.00</td>\n",
              "      <td>1.00</td>\n",
              "      <td>2.00</td>\n",
              "      <td>2.00</td>\n",
              "      <td>4.00</td>\n",
              "    </tr>\n",
              "    <tr>\n",
              "      <th>surface_total</th>\n",
              "      <td>37857.00</td>\n",
              "      <td>95.62</td>\n",
              "      <td>43.91</td>\n",
              "      <td>11.00</td>\n",
              "      <td>55.00</td>\n",
              "      <td>120.00</td>\n",
              "      <td>121.78</td>\n",
              "      <td>271.00</td>\n",
              "    </tr>\n",
              "    <tr>\n",
              "      <th>surface_covered</th>\n",
              "      <td>37857.00</td>\n",
              "      <td>77.00</td>\n",
              "      <td>32.46</td>\n",
              "      <td>1.00</td>\n",
              "      <td>50.00</td>\n",
              "      <td>92.15</td>\n",
              "      <td>92.15</td>\n",
              "      <td>211.00</td>\n",
              "    </tr>\n",
              "  </tbody>\n",
              "</table>\n",
              "</div>"
            ],
            "text/plain": [
              "                   count  mean   std   min   25%    50%    75%    max\n",
              "bathrooms       37857.00  1.38  0.66  1.00  1.00   1.00   2.00   4.00\n",
              "rooms           37857.00  2.49  1.13  1.00  2.00   2.00   3.00   6.00\n",
              "bedrooms        37857.00  1.80  0.86  0.00  1.00   2.00   2.00   4.00\n",
              "surface_total   37857.00 95.62 43.91 11.00 55.00 120.00 121.78 271.00\n",
              "surface_covered 37857.00 77.00 32.46  1.00 50.00  92.15  92.15 211.00"
            ]
          },
          "execution_count": 33,
          "metadata": {},
          "output_type": "execute_result"
        }
      ],
      "source": [
        "# Capping superior\n",
        "# Lista de columnas a procesar\n",
        "cap_sup_cols = [\"bathrooms\", \"rooms\", \"bedrooms\", \"surface_total\", \"surface_covered\"]\n",
        "\n",
        "# Iteramos a través de las columnas y reemplazamos los valores que superan el percentil 99\n",
        "for columna in cap_sup_cols:\n",
        "    percentil_99 = np.percentile(df_merged[columna], 99)\n",
        "    df_merged[columna] = np.where(df_merged[columna] > percentil_99, percentil_99, df_merged[columna])\n",
        "\n",
        "df_merged[[\"bathrooms\", \"rooms\", \"bedrooms\", \"surface_total\", \"surface_covered\"]].describe().T"
      ]
    },
    {
      "cell_type": "code",
      "execution_count": 34,
      "metadata": {
        "id": "I3P1EJTLz3ax"
      },
      "outputs": [
        {
          "data": {
            "text/html": [
              "<div>\n",
              "<style scoped>\n",
              "    .dataframe tbody tr th:only-of-type {\n",
              "        vertical-align: middle;\n",
              "    }\n",
              "\n",
              "    .dataframe tbody tr th {\n",
              "        vertical-align: top;\n",
              "    }\n",
              "\n",
              "    .dataframe thead th {\n",
              "        text-align: right;\n",
              "    }\n",
              "</style>\n",
              "<table border=\"1\" class=\"dataframe\">\n",
              "  <thead>\n",
              "    <tr style=\"text-align: right;\">\n",
              "      <th></th>\n",
              "      <th>count</th>\n",
              "      <th>mean</th>\n",
              "      <th>std</th>\n",
              "      <th>min</th>\n",
              "      <th>25%</th>\n",
              "      <th>50%</th>\n",
              "      <th>75%</th>\n",
              "      <th>max</th>\n",
              "    </tr>\n",
              "  </thead>\n",
              "  <tbody>\n",
              "    <tr>\n",
              "      <th>bathrooms</th>\n",
              "      <td>37857.00</td>\n",
              "      <td>1.38</td>\n",
              "      <td>0.66</td>\n",
              "      <td>1.00</td>\n",
              "      <td>1.00</td>\n",
              "      <td>1.00</td>\n",
              "      <td>2.00</td>\n",
              "      <td>4.00</td>\n",
              "    </tr>\n",
              "    <tr>\n",
              "      <th>rooms</th>\n",
              "      <td>37857.00</td>\n",
              "      <td>2.49</td>\n",
              "      <td>1.13</td>\n",
              "      <td>1.00</td>\n",
              "      <td>2.00</td>\n",
              "      <td>2.00</td>\n",
              "      <td>3.00</td>\n",
              "      <td>6.00</td>\n",
              "    </tr>\n",
              "    <tr>\n",
              "      <th>bedrooms</th>\n",
              "      <td>37857.00</td>\n",
              "      <td>1.80</td>\n",
              "      <td>0.86</td>\n",
              "      <td>0.00</td>\n",
              "      <td>1.00</td>\n",
              "      <td>2.00</td>\n",
              "      <td>2.00</td>\n",
              "      <td>4.00</td>\n",
              "    </tr>\n",
              "    <tr>\n",
              "      <th>surface_total</th>\n",
              "      <td>37857.00</td>\n",
              "      <td>95.65</td>\n",
              "      <td>43.87</td>\n",
              "      <td>26.00</td>\n",
              "      <td>55.00</td>\n",
              "      <td>120.00</td>\n",
              "      <td>121.78</td>\n",
              "      <td>271.00</td>\n",
              "    </tr>\n",
              "    <tr>\n",
              "      <th>surface_covered</th>\n",
              "      <td>37857.00</td>\n",
              "      <td>77.04</td>\n",
              "      <td>32.37</td>\n",
              "      <td>25.00</td>\n",
              "      <td>50.00</td>\n",
              "      <td>92.15</td>\n",
              "      <td>92.15</td>\n",
              "      <td>211.00</td>\n",
              "    </tr>\n",
              "  </tbody>\n",
              "</table>\n",
              "</div>"
            ],
            "text/plain": [
              "                   count  mean   std   min   25%    50%    75%    max\n",
              "bathrooms       37857.00  1.38  0.66  1.00  1.00   1.00   2.00   4.00\n",
              "rooms           37857.00  2.49  1.13  1.00  2.00   2.00   3.00   6.00\n",
              "bedrooms        37857.00  1.80  0.86  0.00  1.00   2.00   2.00   4.00\n",
              "surface_total   37857.00 95.65 43.87 26.00 55.00 120.00 121.78 271.00\n",
              "surface_covered 37857.00 77.04 32.37 25.00 50.00  92.15  92.15 211.00"
            ]
          },
          "execution_count": 34,
          "metadata": {},
          "output_type": "execute_result"
        }
      ],
      "source": [
        "# Capping inferior\n",
        "\n",
        "cap_inf_cols = [\"surface_total\", \"surface_covered\"]\n",
        "\n",
        "# Itera a través de las columnas y reemplaza los valores según la condición\n",
        "for columna in cap_inf_cols:\n",
        "    percentil_1 = np.percentile(df_merged[columna], 1)\n",
        "    df_merged[columna] = np.where(df_merged[columna] < percentil_1, percentil_1, df_merged[columna])\n",
        "\n",
        "df_merged[[\"bathrooms\", \"rooms\", \"bedrooms\", \"surface_total\", \"surface_covered\"]].describe().T"
      ]
    },
    {
      "cell_type": "markdown",
      "metadata": {
        "id": "MhX86FOkz3ax"
      },
      "source": [
        "#### Búsqueda de keywords en variables de texto"
      ]
    },
    {
      "cell_type": "code",
      "execution_count": 35,
      "metadata": {
        "id": "HNWjKl6Jz3ax"
      },
      "outputs": [],
      "source": [
        "# Concatenamos las variables del titulo y la descripcion para trabajar con una unica variable\n",
        "\n",
        "df_merged['title_descr'] = df_merged['description'] + ' ' + df_merged['title']\n",
        "df_merged.drop([\"description\", \"title\"], axis=1, inplace=True) # eliminamos las variables originales"
      ]
    },
    {
      "cell_type": "markdown",
      "metadata": {
        "id": "OBk0OjoNz3ay"
      },
      "source": [
        "Utilizaremos la libreria regex que es de expresiones regulares.\n",
        "\n",
        "Documentacion: https://docs.python.org/3/library/re.html"
      ]
    },
    {
      "cell_type": "code",
      "execution_count": 36,
      "metadata": {
        "id": "Vbf7Qr1wz3ay"
      },
      "outputs": [],
      "source": [
        "# Importamos la libreria re (regex)\n",
        "import re\n",
        "\n",
        "# Definimos las palabras clave\n",
        "keywords = [\"sum\", \"pileta\", \"amenities\", \"cochera\"]\n",
        "\n",
        "# Crea una columna para cada palabra clave y asigna 0 como valor inicial\n",
        "for keyword in keywords:\n",
        "    df_merged[keyword] = 0\n",
        "\n",
        "# Itera a través de las palabras clave y asigna 1 si se encuentra la palabra clave en 'title_descr'\n",
        "for keyword in keywords:\n",
        "    # La siguiente línea crea un patrón de búsqueda de expresión regular (regex) para la palabra clave actual.\n",
        "    # - El patrón \\b{}\\\\b busca la palabra clave completa como una palabra independiente.\n",
        "    # - El flag re.IGNORECASE hace que la búsqueda sea insensible a mayúsculas y minúsculas.\n",
        "    pattern = re.compile(r'\\b{}\\b'.format(keyword), flags=re.IGNORECASE) #\n",
        "    df_merged[keyword] = df_merged['title_descr'].apply(lambda x: 1 if pattern.search(str(x)) else 0)"
      ]
    },
    {
      "cell_type": "code",
      "execution_count": 37,
      "metadata": {
        "id": "N4x2Hkjmz3ay"
      },
      "outputs": [
        {
          "data": {
            "text/plain": [
              "(37857, 15)"
            ]
          },
          "execution_count": 37,
          "metadata": {},
          "output_type": "execute_result"
        }
      ],
      "source": [
        "df_merged.shape"
      ]
    },
    {
      "cell_type": "code",
      "execution_count": 38,
      "metadata": {
        "id": "INCmMYOxz3ay"
      },
      "outputs": [
        {
          "name": "stdout",
          "output_type": "stream",
          "text": [
            "Value Counts para 'sum':\n",
            "sum\n",
            "0    31303\n",
            "1     6554\n",
            "Name: count, dtype: int64\n",
            "\n",
            "Value Counts para 'pileta':\n",
            "pileta\n",
            "0    34128\n",
            "1     3729\n",
            "Name: count, dtype: int64\n",
            "\n",
            "Value Counts para 'amenities':\n",
            "amenities\n",
            "0    31811\n",
            "1     6046\n",
            "Name: count, dtype: int64\n",
            "\n",
            "Value Counts para 'cochera':\n",
            "cochera\n",
            "0    29815\n",
            "1     8042\n",
            "Name: count, dtype: int64\n",
            "\n"
          ]
        }
      ],
      "source": [
        "# Iteramos a través de las columnas creadas y realiza un value_counts para cada una\n",
        "\n",
        "for keyword_column in keywords:\n",
        "    value_counts_keyword = df_merged[keyword_column].value_counts()\n",
        "    print(f\"Value Counts para '{keyword_column}':\")\n",
        "    print(value_counts_keyword)\n",
        "    print()"
      ]
    },
    {
      "cell_type": "code",
      "execution_count": 39,
      "metadata": {
        "id": "9XcJC43pz3ay"
      },
      "outputs": [],
      "source": [
        "# Ahora que tenemos nuestras columnas creadas podemos eliminar la columna de texto\n",
        "df_merged.drop([\"title_descr\"], axis= 1, inplace=True)"
      ]
    },
    {
      "cell_type": "code",
      "execution_count": 40,
      "metadata": {
        "id": "qOpKFpE8z3az"
      },
      "outputs": [
        {
          "data": {
            "text/plain": [
              "(37857, 14)"
            ]
          },
          "execution_count": 40,
          "metadata": {},
          "output_type": "execute_result"
        }
      ],
      "source": [
        "\n",
        "df_merged.shape"
      ]
    },
    {
      "cell_type": "markdown",
      "metadata": {
        "id": "G2nCIiPDz3az"
      },
      "source": [
        "### Creacion de variables segun el precio promedio por Barrio"
      ]
    },
    {
      "cell_type": "code",
      "execution_count": 41,
      "metadata": {
        "id": "4GXVH52Dz3az"
      },
      "outputs": [
        {
          "data": {
            "text/html": [
              "<div>\n",
              "<style scoped>\n",
              "    .dataframe tbody tr th:only-of-type {\n",
              "        vertical-align: middle;\n",
              "    }\n",
              "\n",
              "    .dataframe tbody tr th {\n",
              "        vertical-align: top;\n",
              "    }\n",
              "\n",
              "    .dataframe thead th {\n",
              "        text-align: right;\n",
              "    }\n",
              "</style>\n",
              "<table border=\"1\" class=\"dataframe\">\n",
              "  <thead>\n",
              "    <tr style=\"text-align: right;\">\n",
              "      <th></th>\n",
              "      <th>l3</th>\n",
              "      <th>mean_price_l3</th>\n",
              "    </tr>\n",
              "  </thead>\n",
              "  <tbody>\n",
              "    <tr>\n",
              "      <th>0</th>\n",
              "      <td>Abasto</td>\n",
              "      <td>107637.43</td>\n",
              "    </tr>\n",
              "    <tr>\n",
              "      <th>1</th>\n",
              "      <td>Agronomía</td>\n",
              "      <td>155960.55</td>\n",
              "    </tr>\n",
              "    <tr>\n",
              "      <th>2</th>\n",
              "      <td>Almagro</td>\n",
              "      <td>156838.33</td>\n",
              "    </tr>\n",
              "    <tr>\n",
              "      <th>3</th>\n",
              "      <td>Balvanera</td>\n",
              "      <td>119499.26</td>\n",
              "    </tr>\n",
              "    <tr>\n",
              "      <th>4</th>\n",
              "      <td>Barracas</td>\n",
              "      <td>159562.04</td>\n",
              "    </tr>\n",
              "    <tr>\n",
              "      <th>5</th>\n",
              "      <td>Barrio Norte</td>\n",
              "      <td>208864.53</td>\n",
              "    </tr>\n",
              "    <tr>\n",
              "      <th>6</th>\n",
              "      <td>Belgrano</td>\n",
              "      <td>252719.38</td>\n",
              "    </tr>\n",
              "    <tr>\n",
              "      <th>7</th>\n",
              "      <td>Boca</td>\n",
              "      <td>96774.28</td>\n",
              "    </tr>\n",
              "    <tr>\n",
              "      <th>8</th>\n",
              "      <td>Boedo</td>\n",
              "      <td>126383.17</td>\n",
              "    </tr>\n",
              "    <tr>\n",
              "      <th>9</th>\n",
              "      <td>Caballito</td>\n",
              "      <td>179064.71</td>\n",
              "    </tr>\n",
              "    <tr>\n",
              "      <th>10</th>\n",
              "      <td>Catalinas</td>\n",
              "      <td>74900.00</td>\n",
              "    </tr>\n",
              "    <tr>\n",
              "      <th>11</th>\n",
              "      <td>Centro / Microcentro</td>\n",
              "      <td>124447.05</td>\n",
              "    </tr>\n",
              "    <tr>\n",
              "      <th>12</th>\n",
              "      <td>Chacarita</td>\n",
              "      <td>137181.95</td>\n",
              "    </tr>\n",
              "    <tr>\n",
              "      <th>13</th>\n",
              "      <td>Coghlan</td>\n",
              "      <td>158826.41</td>\n",
              "    </tr>\n",
              "    <tr>\n",
              "      <th>14</th>\n",
              "      <td>Colegiales</td>\n",
              "      <td>167549.03</td>\n",
              "    </tr>\n",
              "    <tr>\n",
              "      <th>15</th>\n",
              "      <td>Congreso</td>\n",
              "      <td>128236.96</td>\n",
              "    </tr>\n",
              "    <tr>\n",
              "      <th>16</th>\n",
              "      <td>Constitución</td>\n",
              "      <td>101667.71</td>\n",
              "    </tr>\n",
              "    <tr>\n",
              "      <th>17</th>\n",
              "      <td>Flores</td>\n",
              "      <td>151008.83</td>\n",
              "    </tr>\n",
              "    <tr>\n",
              "      <th>18</th>\n",
              "      <td>Floresta</td>\n",
              "      <td>111749.02</td>\n",
              "    </tr>\n",
              "    <tr>\n",
              "      <th>19</th>\n",
              "      <td>Las Cañitas</td>\n",
              "      <td>272547.15</td>\n",
              "    </tr>\n",
              "    <tr>\n",
              "      <th>20</th>\n",
              "      <td>Liniers</td>\n",
              "      <td>143138.07</td>\n",
              "    </tr>\n",
              "    <tr>\n",
              "      <th>21</th>\n",
              "      <td>Mataderos</td>\n",
              "      <td>124702.02</td>\n",
              "    </tr>\n",
              "    <tr>\n",
              "      <th>22</th>\n",
              "      <td>Monserrat</td>\n",
              "      <td>120705.32</td>\n",
              "    </tr>\n",
              "    <tr>\n",
              "      <th>23</th>\n",
              "      <td>Monte Castro</td>\n",
              "      <td>140063.37</td>\n",
              "    </tr>\n",
              "    <tr>\n",
              "      <th>24</th>\n",
              "      <td>Nuñez</td>\n",
              "      <td>211229.58</td>\n",
              "    </tr>\n",
              "    <tr>\n",
              "      <th>25</th>\n",
              "      <td>Once</td>\n",
              "      <td>133668.04</td>\n",
              "    </tr>\n",
              "    <tr>\n",
              "      <th>26</th>\n",
              "      <td>Palermo</td>\n",
              "      <td>222774.81</td>\n",
              "    </tr>\n",
              "    <tr>\n",
              "      <th>27</th>\n",
              "      <td>Parque Avellaneda</td>\n",
              "      <td>114788.89</td>\n",
              "    </tr>\n",
              "    <tr>\n",
              "      <th>28</th>\n",
              "      <td>Parque Centenario</td>\n",
              "      <td>165222.20</td>\n",
              "    </tr>\n",
              "    <tr>\n",
              "      <th>29</th>\n",
              "      <td>Parque Chacabuco</td>\n",
              "      <td>136322.25</td>\n",
              "    </tr>\n",
              "    <tr>\n",
              "      <th>30</th>\n",
              "      <td>Parque Chas</td>\n",
              "      <td>138030.50</td>\n",
              "    </tr>\n",
              "    <tr>\n",
              "      <th>31</th>\n",
              "      <td>Parque Patricios</td>\n",
              "      <td>126941.26</td>\n",
              "    </tr>\n",
              "    <tr>\n",
              "      <th>32</th>\n",
              "      <td>Paternal</td>\n",
              "      <td>132069.78</td>\n",
              "    </tr>\n",
              "    <tr>\n",
              "      <th>33</th>\n",
              "      <td>Pompeya</td>\n",
              "      <td>110524.77</td>\n",
              "    </tr>\n",
              "    <tr>\n",
              "      <th>34</th>\n",
              "      <td>Puerto Madero</td>\n",
              "      <td>504060.98</td>\n",
              "    </tr>\n",
              "    <tr>\n",
              "      <th>35</th>\n",
              "      <td>Recoleta</td>\n",
              "      <td>257234.29</td>\n",
              "    </tr>\n",
              "    <tr>\n",
              "      <th>36</th>\n",
              "      <td>Retiro</td>\n",
              "      <td>228207.86</td>\n",
              "    </tr>\n",
              "    <tr>\n",
              "      <th>37</th>\n",
              "      <td>Saavedra</td>\n",
              "      <td>163045.24</td>\n",
              "    </tr>\n",
              "    <tr>\n",
              "      <th>38</th>\n",
              "      <td>San Cristobal</td>\n",
              "      <td>108700.36</td>\n",
              "    </tr>\n",
              "    <tr>\n",
              "      <th>39</th>\n",
              "      <td>San Nicolás</td>\n",
              "      <td>123376.67</td>\n",
              "    </tr>\n",
              "    <tr>\n",
              "      <th>40</th>\n",
              "      <td>San Telmo</td>\n",
              "      <td>129072.94</td>\n",
              "    </tr>\n",
              "    <tr>\n",
              "      <th>41</th>\n",
              "      <td>Tribunales</td>\n",
              "      <td>165872.09</td>\n",
              "    </tr>\n",
              "    <tr>\n",
              "      <th>42</th>\n",
              "      <td>Velez Sarsfield</td>\n",
              "      <td>119113.97</td>\n",
              "    </tr>\n",
              "    <tr>\n",
              "      <th>43</th>\n",
              "      <td>Versalles</td>\n",
              "      <td>128449.79</td>\n",
              "    </tr>\n",
              "    <tr>\n",
              "      <th>44</th>\n",
              "      <td>Villa Crespo</td>\n",
              "      <td>149723.11</td>\n",
              "    </tr>\n",
              "    <tr>\n",
              "      <th>45</th>\n",
              "      <td>Villa Devoto</td>\n",
              "      <td>174134.92</td>\n",
              "    </tr>\n",
              "    <tr>\n",
              "      <th>46</th>\n",
              "      <td>Villa General Mitre</td>\n",
              "      <td>122742.45</td>\n",
              "    </tr>\n",
              "    <tr>\n",
              "      <th>47</th>\n",
              "      <td>Villa Lugano</td>\n",
              "      <td>103802.55</td>\n",
              "    </tr>\n",
              "    <tr>\n",
              "      <th>48</th>\n",
              "      <td>Villa Luro</td>\n",
              "      <td>150586.34</td>\n",
              "    </tr>\n",
              "    <tr>\n",
              "      <th>49</th>\n",
              "      <td>Villa Ortuzar</td>\n",
              "      <td>146753.32</td>\n",
              "    </tr>\n",
              "    <tr>\n",
              "      <th>50</th>\n",
              "      <td>Villa Pueyrredón</td>\n",
              "      <td>155680.42</td>\n",
              "    </tr>\n",
              "    <tr>\n",
              "      <th>51</th>\n",
              "      <td>Villa Real</td>\n",
              "      <td>150874.75</td>\n",
              "    </tr>\n",
              "    <tr>\n",
              "      <th>52</th>\n",
              "      <td>Villa Riachuelo</td>\n",
              "      <td>95500.00</td>\n",
              "    </tr>\n",
              "    <tr>\n",
              "      <th>53</th>\n",
              "      <td>Villa Santa Rita</td>\n",
              "      <td>132303.49</td>\n",
              "    </tr>\n",
              "    <tr>\n",
              "      <th>54</th>\n",
              "      <td>Villa Soldati</td>\n",
              "      <td>121666.67</td>\n",
              "    </tr>\n",
              "    <tr>\n",
              "      <th>55</th>\n",
              "      <td>Villa Urquiza</td>\n",
              "      <td>168370.56</td>\n",
              "    </tr>\n",
              "    <tr>\n",
              "      <th>56</th>\n",
              "      <td>Villa del Parque</td>\n",
              "      <td>141329.18</td>\n",
              "    </tr>\n",
              "    <tr>\n",
              "      <th>57</th>\n",
              "      <td>sin_valor</td>\n",
              "      <td>121287.69</td>\n",
              "    </tr>\n",
              "  </tbody>\n",
              "</table>\n",
              "</div>"
            ],
            "text/plain": [
              "                      l3  mean_price_l3\n",
              "0                 Abasto      107637.43\n",
              "1              Agronomía      155960.55\n",
              "2                Almagro      156838.33\n",
              "3              Balvanera      119499.26\n",
              "4               Barracas      159562.04\n",
              "5           Barrio Norte      208864.53\n",
              "6               Belgrano      252719.38\n",
              "7                   Boca       96774.28\n",
              "8                  Boedo      126383.17\n",
              "9              Caballito      179064.71\n",
              "10             Catalinas       74900.00\n",
              "11  Centro / Microcentro      124447.05\n",
              "12             Chacarita      137181.95\n",
              "13               Coghlan      158826.41\n",
              "14            Colegiales      167549.03\n",
              "15              Congreso      128236.96\n",
              "16          Constitución      101667.71\n",
              "17                Flores      151008.83\n",
              "18              Floresta      111749.02\n",
              "19           Las Cañitas      272547.15\n",
              "20               Liniers      143138.07\n",
              "21             Mataderos      124702.02\n",
              "22             Monserrat      120705.32\n",
              "23          Monte Castro      140063.37\n",
              "24                 Nuñez      211229.58\n",
              "25                  Once      133668.04\n",
              "26               Palermo      222774.81\n",
              "27     Parque Avellaneda      114788.89\n",
              "28     Parque Centenario      165222.20\n",
              "29      Parque Chacabuco      136322.25\n",
              "30           Parque Chas      138030.50\n",
              "31      Parque Patricios      126941.26\n",
              "32              Paternal      132069.78\n",
              "33               Pompeya      110524.77\n",
              "34         Puerto Madero      504060.98\n",
              "35              Recoleta      257234.29\n",
              "36                Retiro      228207.86\n",
              "37              Saavedra      163045.24\n",
              "38         San Cristobal      108700.36\n",
              "39           San Nicolás      123376.67\n",
              "40             San Telmo      129072.94\n",
              "41            Tribunales      165872.09\n",
              "42       Velez Sarsfield      119113.97\n",
              "43             Versalles      128449.79\n",
              "44          Villa Crespo      149723.11\n",
              "45          Villa Devoto      174134.92\n",
              "46   Villa General Mitre      122742.45\n",
              "47          Villa Lugano      103802.55\n",
              "48            Villa Luro      150586.34\n",
              "49         Villa Ortuzar      146753.32\n",
              "50      Villa Pueyrredón      155680.42\n",
              "51            Villa Real      150874.75\n",
              "52       Villa Riachuelo       95500.00\n",
              "53      Villa Santa Rita      132303.49\n",
              "54         Villa Soldati      121666.67\n",
              "55         Villa Urquiza      168370.56\n",
              "56      Villa del Parque      141329.18\n",
              "57             sin_valor      121287.69"
            ]
          },
          "execution_count": 41,
          "metadata": {},
          "output_type": "execute_result"
        }
      ],
      "source": [
        "l3_grouped = df_merged.groupby('l3')['price'].mean().reset_index()\n",
        "l3_grouped = l3_grouped.rename(columns={'price': 'mean_price_l3'})\n",
        "l3_grouped"
      ]
    },
    {
      "cell_type": "code",
      "execution_count": 42,
      "metadata": {
        "id": "jH-cFCUHz3az"
      },
      "outputs": [],
      "source": [
        "df_merged = df_merged.merge(l3_grouped, on='l3', how='left')"
      ]
    },
    {
      "cell_type": "markdown",
      "metadata": {
        "id": "RWwI-khqz3az"
      },
      "source": [
        "#### Variables Categóricas"
      ]
    },
    {
      "cell_type": "code",
      "execution_count": 43,
      "metadata": {
        "id": "L3Vm-POPz3az"
      },
      "outputs": [],
      "source": [
        "y = df_merged[[\"price\"]]\n",
        "x = df_merged.drop(['price'], axis=1)"
      ]
    },
    {
      "cell_type": "code",
      "execution_count": 44,
      "metadata": {
        "id": "FJtfRUUHz3a0"
      },
      "outputs": [
        {
          "name": "stdout",
          "output_type": "stream",
          "text": [
            "<class 'pandas.core.frame.DataFrame'>\n",
            "RangeIndex: 37857 entries, 0 to 37856\n",
            "Data columns (total 14 columns):\n",
            " #   Column           Non-Null Count  Dtype  \n",
            "---  ------           --------------  -----  \n",
            " 0   l3               37857 non-null  object \n",
            " 1   rooms            37857 non-null  float64\n",
            " 2   bedrooms         37857 non-null  float64\n",
            " 3   bathrooms        37857 non-null  float64\n",
            " 4   surface_total    37857 non-null  float64\n",
            " 5   surface_covered  37857 non-null  float64\n",
            " 6   property_type    37857 non-null  object \n",
            " 7   Comuna           37857 non-null  object \n",
            " 8   valor_m2         37857 non-null  float64\n",
            " 9   sum              37857 non-null  int64  \n",
            " 10  pileta           37857 non-null  int64  \n",
            " 11  amenities        37857 non-null  int64  \n",
            " 12  cochera          37857 non-null  int64  \n",
            " 13  mean_price_l3    37857 non-null  float64\n",
            "dtypes: float64(7), int64(4), object(3)\n",
            "memory usage: 4.0+ MB\n"
          ]
        }
      ],
      "source": [
        "x.info()"
      ]
    },
    {
      "cell_type": "code",
      "execution_count": 45,
      "metadata": {
        "id": "GvUPTHLoz3a0"
      },
      "outputs": [
        {
          "data": {
            "text/html": [
              "<div>\n",
              "<style scoped>\n",
              "    .dataframe tbody tr th:only-of-type {\n",
              "        vertical-align: middle;\n",
              "    }\n",
              "\n",
              "    .dataframe tbody tr th {\n",
              "        vertical-align: top;\n",
              "    }\n",
              "\n",
              "    .dataframe thead th {\n",
              "        text-align: right;\n",
              "    }\n",
              "</style>\n",
              "<table border=\"1\" class=\"dataframe\">\n",
              "  <thead>\n",
              "    <tr style=\"text-align: right;\">\n",
              "      <th></th>\n",
              "      <th>rooms</th>\n",
              "      <th>bedrooms</th>\n",
              "      <th>bathrooms</th>\n",
              "      <th>surface_total</th>\n",
              "      <th>surface_covered</th>\n",
              "      <th>valor_m2</th>\n",
              "      <th>sum</th>\n",
              "      <th>pileta</th>\n",
              "      <th>amenities</th>\n",
              "      <th>cochera</th>\n",
              "      <th>mean_price_l3</th>\n",
              "      <th>property_type_Departamento</th>\n",
              "      <th>property_type_PH</th>\n",
              "      <th>l3_Abasto</th>\n",
              "      <th>l3_Agronomía</th>\n",
              "      <th>l3_Almagro</th>\n",
              "      <th>l3_Balvanera</th>\n",
              "      <th>l3_Barracas</th>\n",
              "      <th>l3_Barrio Norte</th>\n",
              "      <th>l3_Belgrano</th>\n",
              "      <th>l3_Boca</th>\n",
              "      <th>l3_Boedo</th>\n",
              "      <th>l3_Caballito</th>\n",
              "      <th>l3_Catalinas</th>\n",
              "      <th>l3_Centro / Microcentro</th>\n",
              "      <th>l3_Chacarita</th>\n",
              "      <th>l3_Coghlan</th>\n",
              "      <th>l3_Colegiales</th>\n",
              "      <th>l3_Congreso</th>\n",
              "      <th>l3_Constitución</th>\n",
              "      <th>l3_Flores</th>\n",
              "      <th>l3_Floresta</th>\n",
              "      <th>l3_Las Cañitas</th>\n",
              "      <th>l3_Liniers</th>\n",
              "      <th>l3_Mataderos</th>\n",
              "      <th>l3_Monserrat</th>\n",
              "      <th>l3_Monte Castro</th>\n",
              "      <th>l3_Nuñez</th>\n",
              "      <th>l3_Once</th>\n",
              "      <th>l3_Palermo</th>\n",
              "      <th>l3_Parque Avellaneda</th>\n",
              "      <th>l3_Parque Centenario</th>\n",
              "      <th>l3_Parque Chacabuco</th>\n",
              "      <th>l3_Parque Chas</th>\n",
              "      <th>l3_Parque Patricios</th>\n",
              "      <th>l3_Paternal</th>\n",
              "      <th>l3_Pompeya</th>\n",
              "      <th>l3_Puerto Madero</th>\n",
              "      <th>l3_Recoleta</th>\n",
              "      <th>l3_Retiro</th>\n",
              "      <th>l3_Saavedra</th>\n",
              "      <th>l3_San Cristobal</th>\n",
              "      <th>l3_San Nicolás</th>\n",
              "      <th>l3_San Telmo</th>\n",
              "      <th>l3_Tribunales</th>\n",
              "      <th>l3_Velez Sarsfield</th>\n",
              "      <th>l3_Versalles</th>\n",
              "      <th>l3_Villa Crespo</th>\n",
              "      <th>l3_Villa Devoto</th>\n",
              "      <th>l3_Villa General Mitre</th>\n",
              "      <th>l3_Villa Lugano</th>\n",
              "      <th>l3_Villa Luro</th>\n",
              "      <th>l3_Villa Ortuzar</th>\n",
              "      <th>l3_Villa Pueyrredón</th>\n",
              "      <th>l3_Villa Real</th>\n",
              "      <th>l3_Villa Riachuelo</th>\n",
              "      <th>l3_Villa Santa Rita</th>\n",
              "      <th>l3_Villa Soldati</th>\n",
              "      <th>l3_Villa Urquiza</th>\n",
              "      <th>l3_Villa del Parque</th>\n",
              "      <th>l3_sin_valor</th>\n",
              "      <th>Comuna_Comuna 1</th>\n",
              "      <th>Comuna_Comuna 10</th>\n",
              "      <th>Comuna_Comuna 11</th>\n",
              "      <th>Comuna_Comuna 12</th>\n",
              "      <th>Comuna_Comuna 13</th>\n",
              "      <th>Comuna_Comuna 14</th>\n",
              "      <th>Comuna_Comuna 15</th>\n",
              "      <th>Comuna_Comuna 2</th>\n",
              "      <th>Comuna_Comuna 3</th>\n",
              "      <th>Comuna_Comuna 4</th>\n",
              "      <th>Comuna_Comuna 5</th>\n",
              "      <th>Comuna_Comuna 6</th>\n",
              "      <th>Comuna_Comuna 7</th>\n",
              "      <th>Comuna_Comuna 8</th>\n",
              "      <th>Comuna_Comuna 9</th>\n",
              "      <th>Comuna_sin_valor</th>\n",
              "    </tr>\n",
              "  </thead>\n",
              "  <tbody>\n",
              "    <tr>\n",
              "      <th>0</th>\n",
              "      <td>2.00</td>\n",
              "      <td>1.00</td>\n",
              "      <td>1.00</td>\n",
              "      <td>121.78</td>\n",
              "      <td>92.15</td>\n",
              "      <td>1685.00</td>\n",
              "      <td>0</td>\n",
              "      <td>0</td>\n",
              "      <td>0</td>\n",
              "      <td>0</td>\n",
              "      <td>141329.18</td>\n",
              "      <td>True</td>\n",
              "      <td>False</td>\n",
              "      <td>False</td>\n",
              "      <td>False</td>\n",
              "      <td>False</td>\n",
              "      <td>False</td>\n",
              "      <td>False</td>\n",
              "      <td>False</td>\n",
              "      <td>False</td>\n",
              "      <td>False</td>\n",
              "      <td>False</td>\n",
              "      <td>False</td>\n",
              "      <td>False</td>\n",
              "      <td>False</td>\n",
              "      <td>False</td>\n",
              "      <td>False</td>\n",
              "      <td>False</td>\n",
              "      <td>False</td>\n",
              "      <td>False</td>\n",
              "      <td>False</td>\n",
              "      <td>False</td>\n",
              "      <td>False</td>\n",
              "      <td>False</td>\n",
              "      <td>False</td>\n",
              "      <td>False</td>\n",
              "      <td>False</td>\n",
              "      <td>False</td>\n",
              "      <td>False</td>\n",
              "      <td>False</td>\n",
              "      <td>False</td>\n",
              "      <td>False</td>\n",
              "      <td>False</td>\n",
              "      <td>False</td>\n",
              "      <td>False</td>\n",
              "      <td>False</td>\n",
              "      <td>False</td>\n",
              "      <td>False</td>\n",
              "      <td>False</td>\n",
              "      <td>False</td>\n",
              "      <td>False</td>\n",
              "      <td>False</td>\n",
              "      <td>False</td>\n",
              "      <td>False</td>\n",
              "      <td>False</td>\n",
              "      <td>False</td>\n",
              "      <td>False</td>\n",
              "      <td>False</td>\n",
              "      <td>False</td>\n",
              "      <td>False</td>\n",
              "      <td>False</td>\n",
              "      <td>False</td>\n",
              "      <td>False</td>\n",
              "      <td>False</td>\n",
              "      <td>False</td>\n",
              "      <td>False</td>\n",
              "      <td>False</td>\n",
              "      <td>False</td>\n",
              "      <td>False</td>\n",
              "      <td>True</td>\n",
              "      <td>False</td>\n",
              "      <td>False</td>\n",
              "      <td>False</td>\n",
              "      <td>True</td>\n",
              "      <td>False</td>\n",
              "      <td>False</td>\n",
              "      <td>False</td>\n",
              "      <td>False</td>\n",
              "      <td>False</td>\n",
              "      <td>False</td>\n",
              "      <td>False</td>\n",
              "      <td>False</td>\n",
              "      <td>False</td>\n",
              "      <td>False</td>\n",
              "      <td>False</td>\n",
              "      <td>False</td>\n",
              "      <td>False</td>\n",
              "    </tr>\n",
              "    <tr>\n",
              "      <th>1</th>\n",
              "      <td>3.00</td>\n",
              "      <td>2.00</td>\n",
              "      <td>2.00</td>\n",
              "      <td>121.78</td>\n",
              "      <td>92.15</td>\n",
              "      <td>1861.00</td>\n",
              "      <td>0</td>\n",
              "      <td>0</td>\n",
              "      <td>0</td>\n",
              "      <td>1</td>\n",
              "      <td>179064.71</td>\n",
              "      <td>True</td>\n",
              "      <td>False</td>\n",
              "      <td>False</td>\n",
              "      <td>False</td>\n",
              "      <td>False</td>\n",
              "      <td>False</td>\n",
              "      <td>False</td>\n",
              "      <td>False</td>\n",
              "      <td>False</td>\n",
              "      <td>False</td>\n",
              "      <td>False</td>\n",
              "      <td>True</td>\n",
              "      <td>False</td>\n",
              "      <td>False</td>\n",
              "      <td>False</td>\n",
              "      <td>False</td>\n",
              "      <td>False</td>\n",
              "      <td>False</td>\n",
              "      <td>False</td>\n",
              "      <td>False</td>\n",
              "      <td>False</td>\n",
              "      <td>False</td>\n",
              "      <td>False</td>\n",
              "      <td>False</td>\n",
              "      <td>False</td>\n",
              "      <td>False</td>\n",
              "      <td>False</td>\n",
              "      <td>False</td>\n",
              "      <td>False</td>\n",
              "      <td>False</td>\n",
              "      <td>False</td>\n",
              "      <td>False</td>\n",
              "      <td>False</td>\n",
              "      <td>False</td>\n",
              "      <td>False</td>\n",
              "      <td>False</td>\n",
              "      <td>False</td>\n",
              "      <td>False</td>\n",
              "      <td>False</td>\n",
              "      <td>False</td>\n",
              "      <td>False</td>\n",
              "      <td>False</td>\n",
              "      <td>False</td>\n",
              "      <td>False</td>\n",
              "      <td>False</td>\n",
              "      <td>False</td>\n",
              "      <td>False</td>\n",
              "      <td>False</td>\n",
              "      <td>False</td>\n",
              "      <td>False</td>\n",
              "      <td>False</td>\n",
              "      <td>False</td>\n",
              "      <td>False</td>\n",
              "      <td>False</td>\n",
              "      <td>False</td>\n",
              "      <td>False</td>\n",
              "      <td>False</td>\n",
              "      <td>False</td>\n",
              "      <td>False</td>\n",
              "      <td>False</td>\n",
              "      <td>False</td>\n",
              "      <td>False</td>\n",
              "      <td>False</td>\n",
              "      <td>False</td>\n",
              "      <td>False</td>\n",
              "      <td>False</td>\n",
              "      <td>False</td>\n",
              "      <td>False</td>\n",
              "      <td>False</td>\n",
              "      <td>False</td>\n",
              "      <td>False</td>\n",
              "      <td>True</td>\n",
              "      <td>False</td>\n",
              "      <td>False</td>\n",
              "      <td>False</td>\n",
              "      <td>False</td>\n",
              "    </tr>\n",
              "    <tr>\n",
              "      <th>2</th>\n",
              "      <td>3.00</td>\n",
              "      <td>2.00</td>\n",
              "      <td>2.00</td>\n",
              "      <td>98.00</td>\n",
              "      <td>68.00</td>\n",
              "      <td>2079.00</td>\n",
              "      <td>0</td>\n",
              "      <td>0</td>\n",
              "      <td>0</td>\n",
              "      <td>1</td>\n",
              "      <td>222774.81</td>\n",
              "      <td>True</td>\n",
              "      <td>False</td>\n",
              "      <td>False</td>\n",
              "      <td>False</td>\n",
              "      <td>False</td>\n",
              "      <td>False</td>\n",
              "      <td>False</td>\n",
              "      <td>False</td>\n",
              "      <td>False</td>\n",
              "      <td>False</td>\n",
              "      <td>False</td>\n",
              "      <td>False</td>\n",
              "      <td>False</td>\n",
              "      <td>False</td>\n",
              "      <td>False</td>\n",
              "      <td>False</td>\n",
              "      <td>False</td>\n",
              "      <td>False</td>\n",
              "      <td>False</td>\n",
              "      <td>False</td>\n",
              "      <td>False</td>\n",
              "      <td>False</td>\n",
              "      <td>False</td>\n",
              "      <td>False</td>\n",
              "      <td>False</td>\n",
              "      <td>False</td>\n",
              "      <td>False</td>\n",
              "      <td>False</td>\n",
              "      <td>True</td>\n",
              "      <td>False</td>\n",
              "      <td>False</td>\n",
              "      <td>False</td>\n",
              "      <td>False</td>\n",
              "      <td>False</td>\n",
              "      <td>False</td>\n",
              "      <td>False</td>\n",
              "      <td>False</td>\n",
              "      <td>False</td>\n",
              "      <td>False</td>\n",
              "      <td>False</td>\n",
              "      <td>False</td>\n",
              "      <td>False</td>\n",
              "      <td>False</td>\n",
              "      <td>False</td>\n",
              "      <td>False</td>\n",
              "      <td>False</td>\n",
              "      <td>False</td>\n",
              "      <td>False</td>\n",
              "      <td>False</td>\n",
              "      <td>False</td>\n",
              "      <td>False</td>\n",
              "      <td>False</td>\n",
              "      <td>False</td>\n",
              "      <td>False</td>\n",
              "      <td>False</td>\n",
              "      <td>False</td>\n",
              "      <td>False</td>\n",
              "      <td>False</td>\n",
              "      <td>False</td>\n",
              "      <td>False</td>\n",
              "      <td>False</td>\n",
              "      <td>False</td>\n",
              "      <td>False</td>\n",
              "      <td>False</td>\n",
              "      <td>False</td>\n",
              "      <td>True</td>\n",
              "      <td>False</td>\n",
              "      <td>False</td>\n",
              "      <td>False</td>\n",
              "      <td>False</td>\n",
              "      <td>False</td>\n",
              "      <td>False</td>\n",
              "      <td>False</td>\n",
              "      <td>False</td>\n",
              "      <td>False</td>\n",
              "      <td>False</td>\n",
              "    </tr>\n",
              "    <tr>\n",
              "      <th>3</th>\n",
              "      <td>4.00</td>\n",
              "      <td>4.00</td>\n",
              "      <td>1.00</td>\n",
              "      <td>118.00</td>\n",
              "      <td>96.00</td>\n",
              "      <td>1939.00</td>\n",
              "      <td>0</td>\n",
              "      <td>0</td>\n",
              "      <td>0</td>\n",
              "      <td>1</td>\n",
              "      <td>168370.56</td>\n",
              "      <td>True</td>\n",
              "      <td>False</td>\n",
              "      <td>False</td>\n",
              "      <td>False</td>\n",
              "      <td>False</td>\n",
              "      <td>False</td>\n",
              "      <td>False</td>\n",
              "      <td>False</td>\n",
              "      <td>False</td>\n",
              "      <td>False</td>\n",
              "      <td>False</td>\n",
              "      <td>False</td>\n",
              "      <td>False</td>\n",
              "      <td>False</td>\n",
              "      <td>False</td>\n",
              "      <td>False</td>\n",
              "      <td>False</td>\n",
              "      <td>False</td>\n",
              "      <td>False</td>\n",
              "      <td>False</td>\n",
              "      <td>False</td>\n",
              "      <td>False</td>\n",
              "      <td>False</td>\n",
              "      <td>False</td>\n",
              "      <td>False</td>\n",
              "      <td>False</td>\n",
              "      <td>False</td>\n",
              "      <td>False</td>\n",
              "      <td>False</td>\n",
              "      <td>False</td>\n",
              "      <td>False</td>\n",
              "      <td>False</td>\n",
              "      <td>False</td>\n",
              "      <td>False</td>\n",
              "      <td>False</td>\n",
              "      <td>False</td>\n",
              "      <td>False</td>\n",
              "      <td>False</td>\n",
              "      <td>False</td>\n",
              "      <td>False</td>\n",
              "      <td>False</td>\n",
              "      <td>False</td>\n",
              "      <td>False</td>\n",
              "      <td>False</td>\n",
              "      <td>False</td>\n",
              "      <td>False</td>\n",
              "      <td>False</td>\n",
              "      <td>False</td>\n",
              "      <td>False</td>\n",
              "      <td>False</td>\n",
              "      <td>False</td>\n",
              "      <td>False</td>\n",
              "      <td>False</td>\n",
              "      <td>False</td>\n",
              "      <td>False</td>\n",
              "      <td>False</td>\n",
              "      <td>False</td>\n",
              "      <td>True</td>\n",
              "      <td>False</td>\n",
              "      <td>False</td>\n",
              "      <td>False</td>\n",
              "      <td>False</td>\n",
              "      <td>False</td>\n",
              "      <td>True</td>\n",
              "      <td>False</td>\n",
              "      <td>False</td>\n",
              "      <td>False</td>\n",
              "      <td>False</td>\n",
              "      <td>False</td>\n",
              "      <td>False</td>\n",
              "      <td>False</td>\n",
              "      <td>False</td>\n",
              "      <td>False</td>\n",
              "      <td>False</td>\n",
              "      <td>False</td>\n",
              "      <td>False</td>\n",
              "    </tr>\n",
              "    <tr>\n",
              "      <th>4</th>\n",
              "      <td>2.00</td>\n",
              "      <td>4.00</td>\n",
              "      <td>1.00</td>\n",
              "      <td>61.00</td>\n",
              "      <td>52.00</td>\n",
              "      <td>1861.00</td>\n",
              "      <td>0</td>\n",
              "      <td>0</td>\n",
              "      <td>0</td>\n",
              "      <td>0</td>\n",
              "      <td>179064.71</td>\n",
              "      <td>True</td>\n",
              "      <td>False</td>\n",
              "      <td>False</td>\n",
              "      <td>False</td>\n",
              "      <td>False</td>\n",
              "      <td>False</td>\n",
              "      <td>False</td>\n",
              "      <td>False</td>\n",
              "      <td>False</td>\n",
              "      <td>False</td>\n",
              "      <td>False</td>\n",
              "      <td>True</td>\n",
              "      <td>False</td>\n",
              "      <td>False</td>\n",
              "      <td>False</td>\n",
              "      <td>False</td>\n",
              "      <td>False</td>\n",
              "      <td>False</td>\n",
              "      <td>False</td>\n",
              "      <td>False</td>\n",
              "      <td>False</td>\n",
              "      <td>False</td>\n",
              "      <td>False</td>\n",
              "      <td>False</td>\n",
              "      <td>False</td>\n",
              "      <td>False</td>\n",
              "      <td>False</td>\n",
              "      <td>False</td>\n",
              "      <td>False</td>\n",
              "      <td>False</td>\n",
              "      <td>False</td>\n",
              "      <td>False</td>\n",
              "      <td>False</td>\n",
              "      <td>False</td>\n",
              "      <td>False</td>\n",
              "      <td>False</td>\n",
              "      <td>False</td>\n",
              "      <td>False</td>\n",
              "      <td>False</td>\n",
              "      <td>False</td>\n",
              "      <td>False</td>\n",
              "      <td>False</td>\n",
              "      <td>False</td>\n",
              "      <td>False</td>\n",
              "      <td>False</td>\n",
              "      <td>False</td>\n",
              "      <td>False</td>\n",
              "      <td>False</td>\n",
              "      <td>False</td>\n",
              "      <td>False</td>\n",
              "      <td>False</td>\n",
              "      <td>False</td>\n",
              "      <td>False</td>\n",
              "      <td>False</td>\n",
              "      <td>False</td>\n",
              "      <td>False</td>\n",
              "      <td>False</td>\n",
              "      <td>False</td>\n",
              "      <td>False</td>\n",
              "      <td>False</td>\n",
              "      <td>False</td>\n",
              "      <td>False</td>\n",
              "      <td>False</td>\n",
              "      <td>False</td>\n",
              "      <td>False</td>\n",
              "      <td>False</td>\n",
              "      <td>False</td>\n",
              "      <td>False</td>\n",
              "      <td>False</td>\n",
              "      <td>False</td>\n",
              "      <td>False</td>\n",
              "      <td>True</td>\n",
              "      <td>False</td>\n",
              "      <td>False</td>\n",
              "      <td>False</td>\n",
              "      <td>False</td>\n",
              "    </tr>\n",
              "  </tbody>\n",
              "</table>\n",
              "</div>"
            ],
            "text/plain": [
              "   rooms  bedrooms  bathrooms  surface_total  surface_covered  valor_m2  sum  \\\n",
              "0   2.00      1.00       1.00         121.78            92.15   1685.00    0   \n",
              "1   3.00      2.00       2.00         121.78            92.15   1861.00    0   \n",
              "2   3.00      2.00       2.00          98.00            68.00   2079.00    0   \n",
              "3   4.00      4.00       1.00         118.00            96.00   1939.00    0   \n",
              "4   2.00      4.00       1.00          61.00            52.00   1861.00    0   \n",
              "\n",
              "   pileta  amenities  cochera  mean_price_l3  property_type_Departamento  \\\n",
              "0       0          0        0      141329.18                        True   \n",
              "1       0          0        1      179064.71                        True   \n",
              "2       0          0        1      222774.81                        True   \n",
              "3       0          0        1      168370.56                        True   \n",
              "4       0          0        0      179064.71                        True   \n",
              "\n",
              "   property_type_PH  l3_Abasto  l3_Agronomía  l3_Almagro  l3_Balvanera  \\\n",
              "0             False      False         False       False         False   \n",
              "1             False      False         False       False         False   \n",
              "2             False      False         False       False         False   \n",
              "3             False      False         False       False         False   \n",
              "4             False      False         False       False         False   \n",
              "\n",
              "   l3_Barracas  l3_Barrio Norte  l3_Belgrano  l3_Boca  l3_Boedo  l3_Caballito  \\\n",
              "0        False            False        False    False     False         False   \n",
              "1        False            False        False    False     False          True   \n",
              "2        False            False        False    False     False         False   \n",
              "3        False            False        False    False     False         False   \n",
              "4        False            False        False    False     False          True   \n",
              "\n",
              "   l3_Catalinas  l3_Centro / Microcentro  l3_Chacarita  l3_Coghlan  \\\n",
              "0         False                    False         False       False   \n",
              "1         False                    False         False       False   \n",
              "2         False                    False         False       False   \n",
              "3         False                    False         False       False   \n",
              "4         False                    False         False       False   \n",
              "\n",
              "   l3_Colegiales  l3_Congreso  l3_Constitución  l3_Flores  l3_Floresta  \\\n",
              "0          False        False            False      False        False   \n",
              "1          False        False            False      False        False   \n",
              "2          False        False            False      False        False   \n",
              "3          False        False            False      False        False   \n",
              "4          False        False            False      False        False   \n",
              "\n",
              "   l3_Las Cañitas  l3_Liniers  l3_Mataderos  l3_Monserrat  l3_Monte Castro  \\\n",
              "0           False       False         False         False            False   \n",
              "1           False       False         False         False            False   \n",
              "2           False       False         False         False            False   \n",
              "3           False       False         False         False            False   \n",
              "4           False       False         False         False            False   \n",
              "\n",
              "   l3_Nuñez  l3_Once  l3_Palermo  l3_Parque Avellaneda  l3_Parque Centenario  \\\n",
              "0     False    False       False                 False                 False   \n",
              "1     False    False       False                 False                 False   \n",
              "2     False    False        True                 False                 False   \n",
              "3     False    False       False                 False                 False   \n",
              "4     False    False       False                 False                 False   \n",
              "\n",
              "   l3_Parque Chacabuco  l3_Parque Chas  l3_Parque Patricios  l3_Paternal  \\\n",
              "0                False           False                False        False   \n",
              "1                False           False                False        False   \n",
              "2                False           False                False        False   \n",
              "3                False           False                False        False   \n",
              "4                False           False                False        False   \n",
              "\n",
              "   l3_Pompeya  l3_Puerto Madero  l3_Recoleta  l3_Retiro  l3_Saavedra  \\\n",
              "0       False             False        False      False        False   \n",
              "1       False             False        False      False        False   \n",
              "2       False             False        False      False        False   \n",
              "3       False             False        False      False        False   \n",
              "4       False             False        False      False        False   \n",
              "\n",
              "   l3_San Cristobal  l3_San Nicolás  l3_San Telmo  l3_Tribunales  \\\n",
              "0             False           False         False          False   \n",
              "1             False           False         False          False   \n",
              "2             False           False         False          False   \n",
              "3             False           False         False          False   \n",
              "4             False           False         False          False   \n",
              "\n",
              "   l3_Velez Sarsfield  l3_Versalles  l3_Villa Crespo  l3_Villa Devoto  \\\n",
              "0               False         False            False            False   \n",
              "1               False         False            False            False   \n",
              "2               False         False            False            False   \n",
              "3               False         False            False            False   \n",
              "4               False         False            False            False   \n",
              "\n",
              "   l3_Villa General Mitre  l3_Villa Lugano  l3_Villa Luro  l3_Villa Ortuzar  \\\n",
              "0                   False            False          False             False   \n",
              "1                   False            False          False             False   \n",
              "2                   False            False          False             False   \n",
              "3                   False            False          False             False   \n",
              "4                   False            False          False             False   \n",
              "\n",
              "   l3_Villa Pueyrredón  l3_Villa Real  l3_Villa Riachuelo  \\\n",
              "0                False          False               False   \n",
              "1                False          False               False   \n",
              "2                False          False               False   \n",
              "3                False          False               False   \n",
              "4                False          False               False   \n",
              "\n",
              "   l3_Villa Santa Rita  l3_Villa Soldati  l3_Villa Urquiza  \\\n",
              "0                False             False             False   \n",
              "1                False             False             False   \n",
              "2                False             False             False   \n",
              "3                False             False              True   \n",
              "4                False             False             False   \n",
              "\n",
              "   l3_Villa del Parque  l3_sin_valor  Comuna_Comuna 1  Comuna_Comuna 10  \\\n",
              "0                 True         False            False             False   \n",
              "1                False         False            False             False   \n",
              "2                False         False            False             False   \n",
              "3                False         False            False             False   \n",
              "4                False         False            False             False   \n",
              "\n",
              "   Comuna_Comuna 11  Comuna_Comuna 12  Comuna_Comuna 13  Comuna_Comuna 14  \\\n",
              "0              True             False             False             False   \n",
              "1             False             False             False             False   \n",
              "2             False             False             False              True   \n",
              "3             False              True             False             False   \n",
              "4             False             False             False             False   \n",
              "\n",
              "   Comuna_Comuna 15  Comuna_Comuna 2  Comuna_Comuna 3  Comuna_Comuna 4  \\\n",
              "0             False            False            False            False   \n",
              "1             False            False            False            False   \n",
              "2             False            False            False            False   \n",
              "3             False            False            False            False   \n",
              "4             False            False            False            False   \n",
              "\n",
              "   Comuna_Comuna 5  Comuna_Comuna 6  Comuna_Comuna 7  Comuna_Comuna 8  \\\n",
              "0            False            False            False            False   \n",
              "1            False             True            False            False   \n",
              "2            False            False            False            False   \n",
              "3            False            False            False            False   \n",
              "4            False             True            False            False   \n",
              "\n",
              "   Comuna_Comuna 9  Comuna_sin_valor  \n",
              "0            False             False  \n",
              "1            False             False  \n",
              "2            False             False  \n",
              "3            False             False  \n",
              "4            False             False  "
            ]
          },
          "execution_count": 45,
          "metadata": {},
          "output_type": "execute_result"
        }
      ],
      "source": [
        "x = pd.get_dummies(data=x, columns=['property_type','l3', 'Comuna'])\n",
        "x.head()"
      ]
    },
    {
      "cell_type": "code",
      "execution_count": 46,
      "metadata": {
        "id": "0fmaD-G7z3a0"
      },
      "outputs": [
        {
          "data": {
            "text/plain": [
              "(37857, 87)"
            ]
          },
          "execution_count": 46,
          "metadata": {},
          "output_type": "execute_result"
        }
      ],
      "source": [
        "x.shape"
      ]
    },
    {
      "cell_type": "markdown",
      "metadata": {
        "id": "csDzM63-z3a0"
      },
      "source": [
        "### Machine Learning"
      ]
    },
    {
      "cell_type": "code",
      "execution_count": 47,
      "metadata": {
        "id": "l7SW-ohbz3a0"
      },
      "outputs": [],
      "source": [
        "# Importamos librerias de Machine Learning\n",
        "\n",
        "\n",
        "from sklearn.model_selection import train_test_split, cross_val_score\n",
        "from sklearn.metrics import r2_score, mean_squared_error\n",
        "from sklearn.utils import shuffle\n",
        "from sklearn.preprocessing import StandardScaler\n",
        "from sklearn import preprocessing\n",
        "from sklearn.preprocessing import LabelEncoder\n",
        "from sklearn.linear_model import LinearRegression\n",
        "from sklearn.svm import SVR, LinearSVR\n",
        "from sklearn.neighbors import KNeighborsRegressor\n",
        "from sklearn.metrics import mean_squared_error, make_scorer\n",
        "from sklearn.model_selection import GridSearchCV\n",
        "from sklearn.model_selection import RandomizedSearchCV # Hace una busqueda de una cantidad determinada de parametros en lugar de todas las combinaciones posibles\n",
        "\n",
        "# Documentacion de RandonSearchCV: https://scikit-learn.org/stable/modules/generated/sklearn.model_selection.RandomizedSearchCV.html\n"
      ]
    },
    {
      "cell_type": "code",
      "execution_count": 48,
      "metadata": {
        "id": "pBDDxjZFz3a1"
      },
      "outputs": [],
      "source": [
        "# Train Test Split\n",
        "xtrain, xtest, ytrain, ytest = train_test_split(x, y, test_size=0.20, random_state=42)"
      ]
    },
    {
      "cell_type": "markdown",
      "metadata": {
        "id": "v2NWBL7_z3a1"
      },
      "source": [
        "#### Escalo la data"
      ]
    },
    {
      "cell_type": "code",
      "execution_count": 49,
      "metadata": {
        "id": "FyKvdzkvz3a1"
      },
      "outputs": [],
      "source": [
        "scaler = preprocessing.StandardScaler().fit(xtrain)\n",
        "xtrain_scal = scaler.transform(xtrain)\n",
        "xtest_scal = scaler.transform(xtest)"
      ]
    },
    {
      "cell_type": "markdown",
      "metadata": {
        "id": "h3RMsyyYz3a1"
      },
      "source": [
        "#### Linear Regression"
      ]
    },
    {
      "cell_type": "code",
      "execution_count": 50,
      "metadata": {
        "id": "IagZnnuvz3a1"
      },
      "outputs": [],
      "source": [
        "lr = LinearRegression()"
      ]
    },
    {
      "cell_type": "code",
      "execution_count": 51,
      "metadata": {
        "id": "X_hS49JNz3a2"
      },
      "outputs": [],
      "source": [
        "lr.fit(xtrain_scal, ytrain)\n",
        "ypred = lr.predict(xtest_scal)"
      ]
    },
    {
      "cell_type": "code",
      "execution_count": 52,
      "metadata": {
        "id": "_6iCOZajz3a2"
      },
      "outputs": [
        {
          "data": {
            "text/plain": [
              "77763.26629754662"
            ]
          },
          "execution_count": 52,
          "metadata": {},
          "output_type": "execute_result"
        }
      ],
      "source": [
        "np.sqrt(mean_squared_error(ytest, ypred))"
      ]
    },
    {
      "cell_type": "markdown",
      "metadata": {
        "id": "c5Qd73VJz3a2"
      },
      "source": [
        "#### KNN Regressor"
      ]
    },
    {
      "cell_type": "code",
      "execution_count": 53,
      "metadata": {
        "id": "MmdCztMbz3a2"
      },
      "outputs": [],
      "source": [
        "knn = KNeighborsRegressor(weights = \"distance\")\n",
        "parameters_k = np.arange(20,41,5)\n",
        "parameters_knn = [{'n_neighbors': parameters_k}]\n",
        "regressor_knn = GridSearchCV(knn, parameters_knn, refit = True, cv=5, scoring=\"neg_mean_squared_error\", verbose=True)"
      ]
    },
    {
      "cell_type": "code",
      "execution_count": 54,
      "metadata": {
        "id": "J3SgOsjnz3a2"
      },
      "outputs": [
        {
          "name": "stdout",
          "output_type": "stream",
          "text": [
            "Fitting 5 folds for each of 5 candidates, totalling 25 fits\n"
          ]
        },
        {
          "data": {
            "text/html": [
              "<style>#sk-container-id-1 {color: black;background-color: white;}#sk-container-id-1 pre{padding: 0;}#sk-container-id-1 div.sk-toggleable {background-color: white;}#sk-container-id-1 label.sk-toggleable__label {cursor: pointer;display: block;width: 100%;margin-bottom: 0;padding: 0.3em;box-sizing: border-box;text-align: center;}#sk-container-id-1 label.sk-toggleable__label-arrow:before {content: \"▸\";float: left;margin-right: 0.25em;color: #696969;}#sk-container-id-1 label.sk-toggleable__label-arrow:hover:before {color: black;}#sk-container-id-1 div.sk-estimator:hover label.sk-toggleable__label-arrow:before {color: black;}#sk-container-id-1 div.sk-toggleable__content {max-height: 0;max-width: 0;overflow: hidden;text-align: left;background-color: #f0f8ff;}#sk-container-id-1 div.sk-toggleable__content pre {margin: 0.2em;color: black;border-radius: 0.25em;background-color: #f0f8ff;}#sk-container-id-1 input.sk-toggleable__control:checked~div.sk-toggleable__content {max-height: 200px;max-width: 100%;overflow: auto;}#sk-container-id-1 input.sk-toggleable__control:checked~label.sk-toggleable__label-arrow:before {content: \"▾\";}#sk-container-id-1 div.sk-estimator input.sk-toggleable__control:checked~label.sk-toggleable__label {background-color: #d4ebff;}#sk-container-id-1 div.sk-label input.sk-toggleable__control:checked~label.sk-toggleable__label {background-color: #d4ebff;}#sk-container-id-1 input.sk-hidden--visually {border: 0;clip: rect(1px 1px 1px 1px);clip: rect(1px, 1px, 1px, 1px);height: 1px;margin: -1px;overflow: hidden;padding: 0;position: absolute;width: 1px;}#sk-container-id-1 div.sk-estimator {font-family: monospace;background-color: #f0f8ff;border: 1px dotted black;border-radius: 0.25em;box-sizing: border-box;margin-bottom: 0.5em;}#sk-container-id-1 div.sk-estimator:hover {background-color: #d4ebff;}#sk-container-id-1 div.sk-parallel-item::after {content: \"\";width: 100%;border-bottom: 1px solid gray;flex-grow: 1;}#sk-container-id-1 div.sk-label:hover label.sk-toggleable__label {background-color: #d4ebff;}#sk-container-id-1 div.sk-serial::before {content: \"\";position: absolute;border-left: 1px solid gray;box-sizing: border-box;top: 0;bottom: 0;left: 50%;z-index: 0;}#sk-container-id-1 div.sk-serial {display: flex;flex-direction: column;align-items: center;background-color: white;padding-right: 0.2em;padding-left: 0.2em;position: relative;}#sk-container-id-1 div.sk-item {position: relative;z-index: 1;}#sk-container-id-1 div.sk-parallel {display: flex;align-items: stretch;justify-content: center;background-color: white;position: relative;}#sk-container-id-1 div.sk-item::before, #sk-container-id-1 div.sk-parallel-item::before {content: \"\";position: absolute;border-left: 1px solid gray;box-sizing: border-box;top: 0;bottom: 0;left: 50%;z-index: -1;}#sk-container-id-1 div.sk-parallel-item {display: flex;flex-direction: column;z-index: 1;position: relative;background-color: white;}#sk-container-id-1 div.sk-parallel-item:first-child::after {align-self: flex-end;width: 50%;}#sk-container-id-1 div.sk-parallel-item:last-child::after {align-self: flex-start;width: 50%;}#sk-container-id-1 div.sk-parallel-item:only-child::after {width: 0;}#sk-container-id-1 div.sk-dashed-wrapped {border: 1px dashed gray;margin: 0 0.4em 0.5em 0.4em;box-sizing: border-box;padding-bottom: 0.4em;background-color: white;}#sk-container-id-1 div.sk-label label {font-family: monospace;font-weight: bold;display: inline-block;line-height: 1.2em;}#sk-container-id-1 div.sk-label-container {text-align: center;}#sk-container-id-1 div.sk-container {/* jupyter's `normalize.less` sets `[hidden] { display: none; }` but bootstrap.min.css set `[hidden] { display: none !important; }` so we also need the `!important` here to be able to override the default hidden behavior on the sphinx rendered scikit-learn.org. See: https://github.com/scikit-learn/scikit-learn/issues/21755 */display: inline-block !important;position: relative;}#sk-container-id-1 div.sk-text-repr-fallback {display: none;}</style><div id=\"sk-container-id-1\" class=\"sk-top-container\"><div class=\"sk-text-repr-fallback\"><pre>GridSearchCV(cv=5, estimator=KNeighborsRegressor(weights=&#x27;distance&#x27;),\n",
              "             param_grid=[{&#x27;n_neighbors&#x27;: array([20, 25, 30, 35, 40])}],\n",
              "             scoring=&#x27;neg_mean_squared_error&#x27;, verbose=True)</pre><b>In a Jupyter environment, please rerun this cell to show the HTML representation or trust the notebook. <br />On GitHub, the HTML representation is unable to render, please try loading this page with nbviewer.org.</b></div><div class=\"sk-container\" hidden><div class=\"sk-item sk-dashed-wrapped\"><div class=\"sk-label-container\"><div class=\"sk-label sk-toggleable\"><input class=\"sk-toggleable__control sk-hidden--visually\" id=\"sk-estimator-id-1\" type=\"checkbox\" ><label for=\"sk-estimator-id-1\" class=\"sk-toggleable__label sk-toggleable__label-arrow\">GridSearchCV</label><div class=\"sk-toggleable__content\"><pre>GridSearchCV(cv=5, estimator=KNeighborsRegressor(weights=&#x27;distance&#x27;),\n",
              "             param_grid=[{&#x27;n_neighbors&#x27;: array([20, 25, 30, 35, 40])}],\n",
              "             scoring=&#x27;neg_mean_squared_error&#x27;, verbose=True)</pre></div></div></div><div class=\"sk-parallel\"><div class=\"sk-parallel-item\"><div class=\"sk-item\"><div class=\"sk-label-container\"><div class=\"sk-label sk-toggleable\"><input class=\"sk-toggleable__control sk-hidden--visually\" id=\"sk-estimator-id-2\" type=\"checkbox\" ><label for=\"sk-estimator-id-2\" class=\"sk-toggleable__label sk-toggleable__label-arrow\">estimator: KNeighborsRegressor</label><div class=\"sk-toggleable__content\"><pre>KNeighborsRegressor(weights=&#x27;distance&#x27;)</pre></div></div></div><div class=\"sk-serial\"><div class=\"sk-item\"><div class=\"sk-estimator sk-toggleable\"><input class=\"sk-toggleable__control sk-hidden--visually\" id=\"sk-estimator-id-3\" type=\"checkbox\" ><label for=\"sk-estimator-id-3\" class=\"sk-toggleable__label sk-toggleable__label-arrow\">KNeighborsRegressor</label><div class=\"sk-toggleable__content\"><pre>KNeighborsRegressor(weights=&#x27;distance&#x27;)</pre></div></div></div></div></div></div></div></div></div></div>"
            ],
            "text/plain": [
              "GridSearchCV(cv=5, estimator=KNeighborsRegressor(weights='distance'),\n",
              "             param_grid=[{'n_neighbors': array([20, 25, 30, 35, 40])}],\n",
              "             scoring='neg_mean_squared_error', verbose=True)"
            ]
          },
          "execution_count": 54,
          "metadata": {},
          "output_type": "execute_result"
        }
      ],
      "source": [
        "regressor_knn.fit(xtrain_scal, ytrain)"
      ]
    },
    {
      "cell_type": "code",
      "execution_count": 55,
      "metadata": {
        "id": "rGu--R7Hz3a2"
      },
      "outputs": [
        {
          "data": {
            "text/plain": [
              "{'n_neighbors': 20}"
            ]
          },
          "execution_count": 55,
          "metadata": {},
          "output_type": "execute_result"
        }
      ],
      "source": [
        "regressor_knn.best_params_"
      ]
    },
    {
      "cell_type": "code",
      "execution_count": 56,
      "metadata": {
        "id": "ClLI_ebBz3a3"
      },
      "outputs": [
        {
          "data": {
            "text/plain": [
              "-3717191805.5077257"
            ]
          },
          "execution_count": 56,
          "metadata": {},
          "output_type": "execute_result"
        }
      ],
      "source": [
        "regressor_knn.best_score_"
      ]
    },
    {
      "cell_type": "code",
      "execution_count": 57,
      "metadata": {
        "id": "c2AaS4O1z3a3"
      },
      "outputs": [
        {
          "data": {
            "text/plain": [
              "55432.50909629843"
            ]
          },
          "execution_count": 57,
          "metadata": {},
          "output_type": "execute_result"
        }
      ],
      "source": [
        "ypred2 = regressor_knn.predict(xtest_scal)\n",
        "np.sqrt(mean_squared_error(ytest, ypred2))"
      ]
    },
    {
      "cell_type": "markdown",
      "metadata": {
        "id": "0YbC4D14z3a3"
      },
      "source": [
        "#### Support Vector Regressor"
      ]
    },
    {
      "cell_type": "code",
      "execution_count": 58,
      "metadata": {
        "id": "7YiO3RQjz3a3"
      },
      "outputs": [],
      "source": [
        "svreg = SVR()"
      ]
    },
    {
      "cell_type": "code",
      "execution_count": 59,
      "metadata": {
        "id": "Z9TsvnDQz3a3"
      },
      "outputs": [],
      "source": [
        "param_svreg = {'kernel':('linear', 'rbf'), 'C':[1, 10, 100 ], 'gamma':[ 0.1, 0.5, 1]}\n",
        "regressor_svr = RandomizedSearchCV(svreg, param_svreg, n_iter= 10, cv=3, scoring=\"neg_mean_squared_error\", verbose=True)\n"
      ]
    },
    {
      "cell_type": "code",
      "execution_count": 60,
      "metadata": {
        "id": "aVEBf6Vsz3a3"
      },
      "outputs": [
        {
          "name": "stdout",
          "output_type": "stream",
          "text": [
            "Fitting 3 folds for each of 10 candidates, totalling 30 fits\n"
          ]
        },
        {
          "name": "stderr",
          "output_type": "stream",
          "text": [
            "c:\\Users\\schas\\AppData\\Local\\Programs\\Python\\Python311\\Lib\\site-packages\\sklearn\\utils\\validation.py:1143: DataConversionWarning: A column-vector y was passed when a 1d array was expected. Please change the shape of y to (n_samples, ), for example using ravel().\n",
            "  y = column_or_1d(y, warn=True)\n",
            "c:\\Users\\schas\\AppData\\Local\\Programs\\Python\\Python311\\Lib\\site-packages\\sklearn\\utils\\validation.py:1143: DataConversionWarning: A column-vector y was passed when a 1d array was expected. Please change the shape of y to (n_samples, ), for example using ravel().\n",
            "  y = column_or_1d(y, warn=True)\n",
            "c:\\Users\\schas\\AppData\\Local\\Programs\\Python\\Python311\\Lib\\site-packages\\sklearn\\utils\\validation.py:1143: DataConversionWarning: A column-vector y was passed when a 1d array was expected. Please change the shape of y to (n_samples, ), for example using ravel().\n",
            "  y = column_or_1d(y, warn=True)\n",
            "c:\\Users\\schas\\AppData\\Local\\Programs\\Python\\Python311\\Lib\\site-packages\\sklearn\\utils\\validation.py:1143: DataConversionWarning: A column-vector y was passed when a 1d array was expected. Please change the shape of y to (n_samples, ), for example using ravel().\n",
            "  y = column_or_1d(y, warn=True)\n",
            "c:\\Users\\schas\\AppData\\Local\\Programs\\Python\\Python311\\Lib\\site-packages\\sklearn\\utils\\validation.py:1143: DataConversionWarning: A column-vector y was passed when a 1d array was expected. Please change the shape of y to (n_samples, ), for example using ravel().\n",
            "  y = column_or_1d(y, warn=True)\n"
          ]
        }
      ],
      "source": [
        "# Puede Tardar 60 mins con 10 iteraciones y 3 CV\n",
        "regressor_svr.fit(xtrain_scal, ytrain)"
      ]
    },
    {
      "cell_type": "code",
      "execution_count": null,
      "metadata": {
        "id": "91FrUEb7z3a4"
      },
      "outputs": [],
      "source": [
        "regressor_svr.best_params_"
      ]
    },
    {
      "cell_type": "code",
      "execution_count": null,
      "metadata": {
        "id": "fwKH8Pxsz3a4"
      },
      "outputs": [],
      "source": [
        "regressor_svr.best_score_"
      ]
    },
    {
      "cell_type": "code",
      "execution_count": null,
      "metadata": {
        "id": "XWHOmaa_z3a4"
      },
      "outputs": [],
      "source": [
        "ypred3 = regressor_svr.predict(xtest_scal)\n",
        "np.sqrt(mean_squared_error(ytest, ypred3))"
      ]
    },
    {
      "cell_type": "code",
      "execution_count": null,
      "metadata": {
        "id": "btzZnoVvz3a4"
      },
      "outputs": [],
      "source": []
    },
    {
      "cell_type": "code",
      "execution_count": null,
      "metadata": {},
      "outputs": [],
      "source": []
    }
  ],
  "metadata": {
    "colab": {
      "provenance": []
    },
    "kernelspec": {
      "display_name": "Python 3.10.6 64-bit",
      "language": "python",
      "name": "python3"
    },
    "language_info": {
      "codemirror_mode": {
        "name": "ipython",
        "version": 3
      },
      "file_extension": ".py",
      "mimetype": "text/x-python",
      "name": "python",
      "nbconvert_exporter": "python",
      "pygments_lexer": "ipython3",
      "version": "3.11.2"
    },
    "orig_nbformat": 4,
    "vscode": {
      "interpreter": {
        "hash": "c63d8c7d738c2960218a10995aedf0a7f67a49a231e71037adf0440953cdb45b"
      }
    }
  },
  "nbformat": 4,
  "nbformat_minor": 0
}
