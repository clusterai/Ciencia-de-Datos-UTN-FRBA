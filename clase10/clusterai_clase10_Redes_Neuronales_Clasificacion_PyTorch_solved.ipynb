{
 "cells": [
  {
   "cell_type": "markdown",
   "metadata": {
    "id": "BHzfMHbFqIKi"
   },
   "source": [
    "# ClusterAI 2024\n",
    "\n",
    "# Ciencia de Datos - Ingeniería Industrial - UTN BA\n",
    "\n",
    "# clase_10: Practica Redes Neuronales\n",
    "\n",
    "### Elaborado por: Aguirre Nicolas"
   ]
  },
  {
   "cell_type": "markdown",
   "metadata": {
    "id": "S8Y4IUeNrTH4"
   },
   "source": [
    "# IMPORTS"
   ]
  },
  {
   "cell_type": "code",
   "execution_count": null,
   "metadata": {
    "id": "zj2VEgN6qjDJ"
   },
   "outputs": [],
   "source": [
    "import numpy as np\n",
    "import pandas as pd\n",
    "import matplotlib.pyplot as plt\n",
    "import seaborn as sns\n",
    "from sklearn import preprocessing\n",
    "from sklearn.model_selection import train_test_split\n",
    "from sklearn.metrics import confusion_matrix\n",
    "pd.set_option('display.float_format', lambda x: '%.1d' % x) # Para acotar los decimales en pandas\n",
    "np.set_printoptions(precision=5, suppress=True)"
   ]
  },
  {
   "cell_type": "markdown",
   "metadata": {
    "id": "shZj2OGKs0Hl"
   },
   "source": [
    "# IRIS DATASET\n",
    "\n",
    "En esta primera ejercitacion vamos a retomar el dataset Iris (visto en la Clase 4)\n",
    "\n",
    "\n",
    "El conjunto de datos contiene 50 muestras de cada una de tres especies de Iris (Iris setosa, Iris virginica e Iris versicolor). Se midió cuatro rasgos de cada muestra: lo largo y lo ancho del sépalos y pétalos, en centímetros. Basado en la combinación de estos cuatro rasgos.\n",
    "\n",
    "https://es.wikipedia.org/wiki/Iris_flor_conjunto_de_datos\n",
    "\n",
    "Los datos son:\n",
    "\n",
    "| Columna | Descripcion |\n",
    "| --- | --- |\n",
    "| ID | Unique ID |\n",
    "| SepalLengthCm | Length of the sepal (cm) |\n",
    "| SepalWidthCm | Width of the sepal (cm) |\n",
    "| PetalLengthCm | Length of the petal (cm) |\n",
    "| PetalWidthCm | Width of the petal (cm) |\n",
    "| Species | name |\n"
   ]
  },
  {
   "cell_type": "code",
   "execution_count": null,
   "metadata": {
    "id": "GxUnNijVsmww"
   },
   "outputs": [],
   "source": [
    "# Primero cargamos los datos que ya vienen incluidos en la libreria sk-learn.\n",
    "from sklearn.datasets import load_iris\n",
    "iris = load_iris()\n",
    "\n",
    "X = iris.data\n",
    "Y = iris.target"
   ]
  },
  {
   "cell_type": "code",
   "execution_count": null,
   "metadata": {
    "id": "fIbBihoeU95Q"
   },
   "outputs": [],
   "source": [
    "n_features = np.shape(X)[0]\n",
    "n_samples = np.shape(X)[1]\n",
    "n_classes = np.unique(Y)\n",
    "print(f'Features: ',n_samples)\n",
    "print(f'Samples: ',n_features)\n",
    "print(f'Classes: ',n_classes)"
   ]
  },
  {
   "cell_type": "code",
   "execution_count": null,
   "metadata": {
    "id": "6hhudQ_Xs1yL"
   },
   "outputs": [],
   "source": [
    "# Veamos la primera sample\n",
    "print(f'X: {X[0]}')\n",
    "print(f'Y: {Y[0]}')"
   ]
  },
  {
   "cell_type": "markdown",
   "metadata": {
    "id": "--P7frv5qX51"
   },
   "source": [
    "## SPLIT"
   ]
  },
  {
   "cell_type": "code",
   "execution_count": null,
   "metadata": {
    "id": "uSP2IQWiq91_"
   },
   "outputs": [],
   "source": [
    "# Separamos train y test set\n",
    "x_train, x_test, y_train, y_test = train_test_split(X, Y, test_size=0.2, random_state=0)\n",
    "# Separamos train y validation set\n",
    "x_train, x_val, y_train, y_val = train_test_split(x_train, y_train, test_size=0.2, random_state=0)"
   ]
  },
  {
   "cell_type": "markdown",
   "metadata": {
    "id": "SFMeW20jqa52"
   },
   "source": [
    "## SCALING"
   ]
  },
  {
   "cell_type": "code",
   "execution_count": null,
   "metadata": {
    "id": "UReu6invWAGg"
   },
   "outputs": [],
   "source": [
    "# Noralizamos\n",
    "scaler = preprocessing.StandardScaler()\n",
    "scaler.fit(x_train)\n",
    "x_train_norm = scaler.transform(x_train)\n",
    "x_val_norm = scaler.transform(x_val)\n",
    "x_test_norm = scaler.transform(x_test)"
   ]
  },
  {
   "cell_type": "markdown",
   "metadata": {
    "id": "oPCxvrLMtFYc"
   },
   "source": [
    "# Modelo"
   ]
  },
  {
   "cell_type": "code",
   "execution_count": null,
   "metadata": {
    "id": "Dv5XmStNuTP0"
   },
   "outputs": [],
   "source": [
    "# Pytorch\n",
    "import torch\n",
    "print('Version de Pytorch: ',torch.__version__)\n",
    "import torch.nn as nn\n",
    "from torch.utils.data import TensorDataset,Dataset, DataLoader\n",
    "import torch.nn.functional as F\n",
    "device = torch.device(\"cuda\" if torch.cuda.is_available() else \"cpu\")\n",
    "print(device)"
   ]
  },
  {
   "cell_type": "markdown",
   "metadata": {
    "id": "x4wHwXuVtPg9"
   },
   "source": [
    "## Modelo"
   ]
  },
  {
   "cell_type": "markdown",
   "metadata": {
    "id": "LJfJ3XbtEfoa"
   },
   "source": [
    "Al igual que TensorFlow-Keras, PyTorch es una libreria para codear modelos de NN y tambien tiene su modelo Sequential.\n",
    "\n",
    "Pero a diferencia de TF-Keras, PyTorch no tiene nativamente las funciones **fit**, **evaluate** y **predict**.\n",
    "\n",
    "Por lo cual somos nosotros quienes vamos a tener codear el entrenamiento ..."
   ]
  },
  {
   "cell_type": "markdown",
   "metadata": {
    "id": "3_L2XfJcEF9Q"
   },
   "source": [
    "El tipo de arquitectura que vamos a utilizar es una NN *fully-conected*. Para esto utilizaremos la funcion *nn.Sequential()* a la cual le pasaremos los distintos componentes de la red.\n",
    "\n",
    "Cuando usamos una arquitectura secuencial, vamos construyendo el **foreward pass** de la red de manera tal que la red utiliza la salida de la capa inmediatamente anterior $z^{l-1}$ en la capa siguiente z^{l}, y asi sucecivamente hasta llegar al ultimo elemento de la red con el cual generamos el output.\n",
    "\n",
    "$$\n",
    "z^{l} = \\sigma~(Wz^{l-1}+b)\n",
    "$$\n",
    "\n",
    "Puntualmente, en este ejemplo utilizaremos unicamente dos componentes.\n",
    "\n",
    "* [**nn.Linear**](https://pytorch.org/docs/stable/generated/torch.nn.Linear.html#torch.nn.Linear) : Para aplicar la transformacion lineal $\\delta = Wx + b$,\n",
    "donde $\\delta$ es llamada tambien *pre-activacion* de la neurona.\n",
    "\n",
    "* [**nn.Sigmoid**](https://pytorch.org/docs/stable/generated/torch.nn.Sigmoid.html) : Para aplicar la funcion $\\sigma(\\delta) = \\frac{1}{1 + \\exp(-\\delta)}$\n",
    "\n",
    "En donde $W$ son los pesos (weights) que aprendera la red.\n",
    "\n",
    "\n",
    "Cada una de las capas de nn.Linear se construye dandole la informacion de la cantidad de features de entrada y de salida. Como en nuestro ejemplo tenemos 3 clases de flores, la ultima capa debera tener una salida de dimension = 3."
   ]
  },
  {
   "cell_type": "markdown",
   "metadata": {
    "id": "SLYaAH_I4LUm"
   },
   "source": [
    "<img src=\"NN.jpg\" width=\"1200\">"
   ]
  },
  {
   "cell_type": "markdown",
   "metadata": {
    "id": "QqLLol3Dxr3k"
   },
   "source": [
    "(Nota: ver `NN.jpg`)"
   ]
  },
  {
   "cell_type": "code",
   "execution_count": null,
   "metadata": {
    "id": "sdKlnGr2tFEd"
   },
   "outputs": [],
   "source": [
    "input_features = 4\n",
    "layers_features = 4\n",
    "output_dim = 3\n",
    "model = nn.Sequential(\n",
    "          nn.Linear(input_features,layers_features),\n",
    "          nn.Sigmoid(),\n",
    "          nn.Linear(layers_features,layers_features),\n",
    "          nn.Sigmoid(),\n",
    "          nn.Linear(layers_features,layers_features),\n",
    "          nn.Sigmoid(),\n",
    "          nn.Linear(layers_features,output_dim)\n",
    "          )"
   ]
  },
  {
   "cell_type": "code",
   "execution_count": null,
   "metadata": {
    "id": "90n1GM9SvPUK"
   },
   "outputs": [],
   "source": [
    "model"
   ]
  },
  {
   "cell_type": "markdown",
   "metadata": {
    "id": "0D4KxGcEEITI"
   },
   "source": [
    "## Ejemplo"
   ]
  },
  {
   "cell_type": "code",
   "execution_count": null,
   "metadata": {
    "id": "d_rf6pSH7T5y"
   },
   "outputs": [],
   "source": [
    "# Imaginemos ahora 2 muestras\n",
    "y_true_example = torch.tensor([0, 2], dtype=torch.long)\n",
    "\n",
    "# Para las cuales la red genera la siguiente salida del 'softmax'\n",
    "ejemplo_1 = torch.tensor([[3.5, 5, -3]])\n",
    "ejemplo_2 = torch.tensor([[0.25, 0.25, 0.5]])\n",
    "softmax_1 = torch.nn.functional.softmax(ejemplo_1, dim=1)\n",
    "softmax_2 = torch.nn.functional.softmax(ejemplo_2, dim=1)\n",
    "print(softmax_1.numpy())\n",
    "print(softmax_2.numpy())\n",
    "softmax =  torch.cat((softmax_1, softmax_2), dim=0)\n",
    "print(\"Softmax\")\n",
    "softmax"
   ]
  },
  {
   "cell_type": "markdown",
   "metadata": {
    "id": "pZ0Ckade6zcc"
   },
   "source": [
    "### Softmax\n",
    "$$\n",
    "\\hat y_j = \\mathrm{Softmax} (\\text{output}_j) = \\frac{\\exp(\\text{output}_j)}{\\sum_k \\exp(\\text{output}_k)}\\\\\n",
    "\\\\[5ex]\n",
    "$$\n",
    "\n",
    "\n",
    "$$\n",
    "Ejemplo:\\\\\n",
    "\\text{output}_0 = 3.5\\\\\n",
    "\\text{output}_1 = 5\\\\\n",
    "\\text{output}_2 = -3\\\\\n",
    "$$\n",
    "\n",
    "\n",
    "\\begin{align}\n",
    "\\hat y_0 =&~\\mathrm{Softmax} (\\text{output}_0) &=~& \\frac{\\exp(\\text{output}_0)}{\\exp(\\text{output}_0)+\\exp(\\text{output}_1)+\\exp(\\text{output}_2)}\\\\[5ex]\n",
    "\\hat y_0 =&                         &=~& \\frac{\\exp(3.5)}{\\exp(3.5)+\\exp(5)+\\exp(-3)}\\\\[5ex]\n",
    "\\hat y_0 =&                         &=~& \\frac{33.11}{33.11+148.41+0.04}\\\\[5ex]\n",
    "\\hat y_0 =&                         &=~& 0.182\n",
    "\\end{align}\n",
    "\n"
   ]
  },
  {
   "cell_type": "code",
   "execution_count": null,
   "metadata": {
    "id": "nNreD-Yi67tS"
   },
   "outputs": [],
   "source": [
    "# BIEN O MAL CLASIFICADO?\n",
    "y_pred_example = torch.cat((ejemplo_1, ejemplo_2), dim=0)\n",
    "y_pred_example"
   ]
  },
  {
   "cell_type": "markdown",
   "metadata": {
    "id": "e7GYmjj6Dtl3"
   },
   "source": [
    "### Cross-Entropy\n",
    "\n",
    "$H(P, Q) \\stackrel{\\mathrm{def}}{=} \\sum_j - P(j) \\log Q(j)$\n",
    "\n",
    "$\\mathcal{L}_{CE}( y, \\hat{y}) = - \\sum_{j=1}^{q} y_j \\log \\hat{y}_j$"
   ]
  },
  {
   "cell_type": "code",
   "execution_count": null,
   "metadata": {
    "id": "G80KaPMw6-lB"
   },
   "outputs": [],
   "source": [
    "# Veamos como varia la loss en base a las predicciones de la red\n",
    "loss_func = nn.CrossEntropyLoss(reduction='none')\n",
    "# El 'none' en la reduccion, es para obtener la loss individualmente.\n",
    "# Tiene otros usos, pero escapan al curso.\n",
    "\n",
    "# Ahora veamos como daria la loss en cada caso:\n",
    "loss_func(y_pred_example, y_true_example).numpy()"
   ]
  },
  {
   "cell_type": "markdown",
   "metadata": {
    "id": "4ALS8SLdDsNB"
   },
   "source": [
    "[Documentacion](https://pytorch.org/docs/stable/generated/torch.nn.CrossEntropyLoss.html)"
   ]
  },
  {
   "cell_type": "markdown",
   "metadata": {
    "id": "qQPx9xyYC-Yw"
   },
   "source": [
    "Confirmemos que lo que estamos haciendo es efecticamente la cross-entropy ..."
   ]
  },
  {
   "cell_type": "code",
   "execution_count": null,
   "metadata": {
    "id": "TQ-A4C05_eLw"
   },
   "outputs": [],
   "source": [
    "print(-np.log(softmax[0][0]))"
   ]
  },
  {
   "cell_type": "markdown",
   "metadata": {
    "id": "RlSnpr9ICHOA"
   },
   "source": [
    "## Optimizador y Loss function"
   ]
  },
  {
   "cell_type": "code",
   "execution_count": null,
   "metadata": {
    "id": "0QH9v8SqvYuX"
   },
   "outputs": [],
   "source": [
    "# Learning rate y Optimizador\n",
    "lr = 0.05\n",
    "optimizador = torch.optim.SGD(model.parameters(),lr=lr)\n",
    "# Funcion de penalizacion\n",
    "loss_func = nn.CrossEntropyLoss()"
   ]
  },
  {
   "cell_type": "markdown",
   "metadata": {
    "id": "GQqCg3n74MbG"
   },
   "source": [
    "# Tensor Dataset"
   ]
  },
  {
   "cell_type": "markdown",
   "metadata": {
    "id": "xse7iLVFH84T"
   },
   "source": [
    "En general, cuando entrenamos NN los datos deben estar contenidos en tensores.\n",
    "Un tensor es una generalización de los vectores y las matrices y se entiende fácilmente como una matriz multidimensional.\n",
    "\n",
    "Ejemplo:\n",
    "\n",
    "1. Un vector es un 1D tensor de dimension $1x5$\n",
    "\n",
    "2. Una matriz es un 2D tensor de dimension $2x5$\n",
    "\n",
    "En particular, dentro del área de Deep Learning se llama Tensor a aquellas estructura de datos que son capaces de realizar operaciones en **paralelo** dentro de las GPUs, aumentando significativamente nuestra capacidad/velocidad de computo."
   ]
  },
  {
   "cell_type": "markdown",
   "metadata": {
    "id": "4YcFpOAjK99Y"
   },
   "source": [
    "Por ultimo deberemos definir el generador de datos para entrenar en batches. Estos objetos se llaman Dataloaders.\n",
    "\n",
    "Para crearlo le pasamos nuestro dataset y el tamaño de nuestro batch."
   ]
  },
  {
   "cell_type": "code",
   "execution_count": null,
   "metadata": {
    "id": "zrWi1A7GwDFB"
   },
   "outputs": [],
   "source": [
    "# Batch size\n",
    "bs = 8\n",
    "\n",
    "# Pasamos nuestro numpy arrays, a Tensor\n",
    "x_train_norm_t, y_train_t = torch.Tensor(x_train_norm), torch.LongTensor(y_train) # Los Long Tensor son int\n",
    "x_val_norm_t, y_val_t = torch.Tensor(x_val_norm), torch.LongTensor(y_val)\n",
    "x_test_norm_t, y_test_t = torch.Tensor(x_test_norm), torch.LongTensor(y_test)\n",
    "\n",
    "# Creamos los Dataset\n",
    "train_ds = TensorDataset(x_train_norm_t,y_train_t)\n",
    "val_ds = TensorDataset(x_val_norm_t,y_val_t)\n",
    "test_ds = TensorDataset(x_test_norm_t,y_test_t)\n",
    "\n",
    "# Creamos los Dataloader\n",
    "train_dl = DataLoader(train_ds, batch_size=bs, shuffle=True)\n",
    "val_dl = DataLoader(val_ds, batch_size=bs, shuffle=True)\n",
    "test_dl = DataLoader(test_ds, batch_size=bs, shuffle=True)"
   ]
  },
  {
   "cell_type": "markdown",
   "metadata": {
    "id": "eCFJnJ86Bpmt"
   },
   "source": [
    "## Training"
   ]
  },
  {
   "cell_type": "markdown",
   "metadata": {
    "id": "v65OgSpRGM0q"
   },
   "source": [
    "En este punto ya contamos con todas las \"herramientras\" que necesitamos para entrenar un modelo de NN.\n",
    "\n",
    "* Datos\n",
    "* Optimizador\n",
    "* Funcion de Penalizacion\n",
    "* Red Neuronal\n",
    "\n",
    "Vamos a ver como es que esto elementos \"interactuan\" para actualizar los parametros/*weights* de la Red Neuronal ... es decir ... para entrenarla."
   ]
  },
  {
   "cell_type": "markdown",
   "metadata": {
    "id": "daiTNMzqQYGC"
   },
   "source": [
    "![NN_Flow.svg](data:image/svg+xml;base64,PD94bWwgdmVyc2lvbj0iMS4wIiBlbmNvZGluZz0iVVRGLTgiPz4KPCFET0NUWVBFIHN2ZyBQVUJMSUMgIi0vL1czQy8vRFREIFNWRyAxLjEvL0VOIiAiaHR0cDovL3d3dy53My5vcmcvR3JhcGhpY3MvU1ZHLzEuMS9EVEQvc3ZnMTEuZHRkIj4KPHN2ZyB2ZXJzaW9uPSIxLjIiIHdpZHRoPSIyOTdtbSIgaGVpZ2h0PSIyMTBtbSIgdmlld0JveD0iMCAwIDI5NzAwIDIxMDAwIiBwcmVzZXJ2ZUFzcGVjdFJhdGlvPSJ4TWlkWU1pZCIgZmlsbC1ydWxlPSJldmVub2RkIiBzdHJva2Utd2lkdGg9IjI4LjIyMiIgc3Ryb2tlLWxpbmVqb2luPSJyb3VuZCIgeG1sbnM9Imh0dHA6Ly93d3cudzMub3JnLzIwMDAvc3ZnIiB4bWxuczpvb289Imh0dHA6Ly94bWwub3Blbm9mZmljZS5vcmcvc3ZnL2V4cG9ydCIgeG1sbnM6eGxpbms9Imh0dHA6Ly93d3cudzMub3JnLzE5OTkveGxpbmsiIHhtbG5zOnByZXNlbnRhdGlvbj0iaHR0cDovL3N1bi5jb20veG1sbnMvc3Rhcm9mZmljZS9wcmVzZW50YXRpb24iIHhtbG5zOnNtaWw9Imh0dHA6Ly93d3cudzMub3JnLzIwMDEvU01JTDIwLyIgeG1sbnM6YW5pbT0idXJuOm9hc2lzOm5hbWVzOnRjOm9wZW5kb2N1bWVudDp4bWxuczphbmltYXRpb246MS4wIiB4bWw6c3BhY2U9InByZXNlcnZlIj4KIDxkZWZzIGNsYXNzPSJDbGlwUGF0aEdyb3VwIj4KICA8Y2xpcFBhdGggaWQ9InByZXNlbnRhdGlvbl9jbGlwX3BhdGgiIGNsaXBQYXRoVW5pdHM9InVzZXJTcGFjZU9uVXNlIj4KICAgPHJlY3QgeD0iMCIgeT0iMCIgd2lkdGg9IjI5NzAwIiBoZWlnaHQ9IjIxMDAwIi8+CiAgPC9jbGlwUGF0aD4KICA8Y2xpcFBhdGggaWQ9InByZXNlbnRhdGlvbl9jbGlwX3BhdGhfc2hyaW5rIiBjbGlwUGF0aFVuaXRzPSJ1c2VyU3BhY2VPblVzZSI+CiAgIDxyZWN0IHg9IjI5IiB5PSIyMSIgd2lkdGg9IjI5NjQxIiBoZWlnaHQ9IjIwOTU4Ii8+CiAgPC9jbGlwUGF0aD4KIDwvZGVmcz4KIDxkZWZzPgogIDxmb250IGlkPSJFbWJlZGRlZEZvbnRfMSIgaG9yaXotYWR2LXg9IjIwNDgiPgogICA8Zm9udC1mYWNlIGZvbnQtZmFtaWx5PSJMYXRpbiBNb2Rlcm4gTWF0aCBlbWJlZGRlZCIgdW5pdHMtcGVyLWVtPSIyMDQ4IiBmb250LXdlaWdodD0ibm9ybWFsIiBmb250LXN0eWxlPSJub3JtYWwiIGFzY2VudD0iMTY0MCIgZGVzY2VudD0iMzk3Ii8+CiAgIDxtaXNzaW5nLWdseXBoIGhvcml6LWFkdi14PSIyMDQ4IiBkPSJNIDAsMCBMIDIwNDcsMCAyMDQ3LDIwNDcgMCwyMDQ3IDAsMCBaIi8+CiAgIDxnbHlwaCB1bmljb2RlPSJ6IiBob3Jpei1hZHYteD0iNzY4IiBkPSJNIDgyMSwzODMgTCA3NzAsMzgzIEMgNzUyLDE0MSA3MDksNTEgNDcxLDUxIEwgMjI5LDUxIDc5OSw4MjEgQyA4MTcsODQ0IDgxNyw4NDggODE3LDg1NiA4MTcsODgzIDgwMSw4ODMgNzY0LDg4MyBMIDEwOSw4ODMgODYsNTUzIDEzNyw1NTMgQyAxNTAsNzYyIDE4OCw4MzggNDE0LDgzOCBMIDY0Nyw4MzggNzYsNjYgQyA1Nyw0MyA1NywzOSA1NywyOSA1NywwIDcyLDAgMTExLDAgTCA3ODYsMCA4MjEsMzgzIFoiLz4KICAgPGdseXBoIHVuaWNvZGU9InciIGhvcml6LWFkdi14PSIxNDMwIiBkPSJNIDE0NDAsODE5IEwgMTQ0MCw4ODMgQyAxMzk1LDg3OSAxMzM1LDg3NyAxMjkwLDg3NyBMIDExMDAsODgzIDExMDAsODE5IEMgMTE3NCw4MTcgMTIxOSw3ODAgMTIxOSw3MjEgMTIxOSw3MDkgMTIxOSw3MDUgMTIwOCw2NzggTCAxMDIyLDE1NCA4MTksNzI1IEMgODExLDc1MCA4MDksNzU0IDgwOSw3NjQgODA5LDgxOSA4ODksODE5IDkzMCw4MTkgTCA5MzAsODgzIDcxNyw4NzcgQyA2NTUsODc3IDU5Niw4NzkgNTM1LDg4MyBMIDUzNSw4MTkgQyA2MTAsODE5IDY0Myw4MTUgNjY0LDc4OCA2NzQsNzc2IDY5Niw3MTUgNzExLDY3NiBMIDUzNSwxODAgMzQwLDcyNyBDIDMzMCw3NTIgMzMwLDc1NiAzMzAsNzY0IDMzMCw4MTkgNDEwLDgxOSA0NTEsODE5IEwgNDUxLDg4MyAyMjcsODc3IDM3LDg4MyAzNyw4MTkgQyAxMzksODE5IDE2NCw4MTMgMTg4LDc0OCBMIDQ0NiwyMyBDIDQ1NywtNiA0NjMsLTIzIDQ4OSwtMjMgNTE2LC0yMyA1MjAsLTEwIDUzMCwxOCBMIDczNyw1OTggOTQ2LDE2IEMgOTU0LC02IDk2MSwtMjMgOTg3LC0yMyAxMDE0LC0yMyAxMDIwLC00IDEwMjgsMTYgTCAxMjY4LDY4OCBDIDEzMDUsNzkxIDEzNjgsODE3IDE0NDAsODE5IFoiLz4KICAgPGdseXBoIHVuaWNvZGU9InUiIGhvcml6LWFkdi14PSIxMDU5IiBkPSJNIDEwOTYsMCBMIDEwOTYsNjMgQyA5NTIsNjMgOTM2LDc4IDkzNiwxNzggTCA5MzYsOTA1IDYzNSw4ODMgNjM1LDgxOSBDIDc3OCw4MTkgNzk1LDgwNSA3OTUsNzA1IEwgNzk1LDM0MCBDIDc5NSwxNjIgNjk2LDIzIDU0NywyMyAzNzUsMjMgMzY3LDExOSAzNjcsMjI1IEwgMzY3LDkwNSA2Niw4ODMgNjYsODE5IEMgMjI1LDgxOSAyMjUsODEzIDIyNSw2MzEgTCAyMjUsMzI0IEMgMjI1LDE2NCAyMjUsLTIzIDUzNywtMjMgNjUxLC0yMyA3NDEsMzUgODAxLDE2MiBMIDgwMSwtMjMgMTA5NiwwIFoiLz4KICAgPGdseXBoIHVuaWNvZGU9InQiIGhvcml6LWFkdi14PSI2NjMiIGQ9Ik0gNjgwLDI1NCBMIDY4MCwzNzEgNjI5LDM3MSA2MjksMjU4IEMgNjI5LDEwNyA1NjcsMjkgNDkyLDI5IDM1NCwyOSAzNTQsMjE1IDM1NCwyNTAgTCAzNTQsODE5IDY0Nyw4MTkgNjQ3LDg4MyAzNTQsODgzIDM1NCwxMjYwIDMwMywxMjYwIEMgMzAxLDEwOTIgMjQwLDg3MiAzOSw4NjQgTCAzOSw4MTkgMjEzLDgxOSAyMTMsMjU0IEMgMjEzLDIgNDAzLC0yMyA0NzcsLTIzIDYyMywtMjMgNjgwLDEyMyA2ODAsMjU0IFoiLz4KICAgPGdseXBoIHVuaWNvZGU9InMiIGhvcml6LWFkdi14PSI2ODkiIGQ9Ik0gNzM3LDI2MiBDIDczNywzNzEgNjc2LDQzMiA2NTEsNDU3IDU4NCw1MjIgNTA0LDUzOSA0MTgsNTU1IDMwMyw1NzggMTY2LDYwNCAxNjYsNzIzIDE2Niw3OTUgMjE5LDg3OSAzOTUsODc5IDYyMSw4NzkgNjMxLDY5NCA2MzUsNjMxIDYzNyw2MTIgNjU5LDYxMiA2NTksNjEyIDY4Niw2MTIgNjg2LDYyMyA2ODYsNjYyIEwgNjg2LDg2OCBDIDY4Niw5MDMgNjg2LDkxOCA2NjQsOTE4IDY1Myw5MTggNjQ5LDkxOCA2MjMsODkzIDYxNiw4ODUgNTk2LDg2NiA1ODgsODYwIDUxMCw5MTggNDI2LDkxOCAzOTUsOTE4IDE0NSw5MTggNjgsNzgwIDY4LDY2NiA2OCw1OTQgMTAwLDUzNyAxNTYsNDkyIDIyMSw0MzggMjc5LDQyNiA0MjYsMzk3IDQ3MSwzODkgNjM5LDM1NiA2MzksMjA5IDYzOSwxMDQgNTY3LDIzIDQwOCwyMyAyMzYsMjMgMTYyLDEzOSAxMjMsMzEzIDExNywzNDAgMTE1LDM0OCA5NCwzNDggNjgsMzQ4IDY4LDMzNCA2OCwyOTcgTCA2OCwyNyBDIDY4LC04IDY4LC0yMyA5MCwtMjMgMTAwLC0yMyAxMDIsLTIwIDE0MSwxOCAxNDUsMjMgMTQ1LDI3IDE4Miw2NiAyNzIsLTIwIDM2NSwtMjMgNDA4LC0yMyA2NDMsLTIzIDczNywxMTUgNzM3LDI2MiBaIi8+CiAgIDxnbHlwaCB1bmljb2RlPSJyIiBob3Jpei1hZHYteD0iNzE1IiBkPSJNIDc0NSw3ODAgQyA3NDUsODQ2IDY4Miw5MDUgNTk0LDkwNSA0NDQsOTA1IDM3MSw3NjggMzQyLDY4MCBMIDM0Miw5MDUgNTcsODgzIDU3LDgxOSBDIDIwMSw4MTkgMjE3LDgwNSAyMTcsNzA1IEwgMjE3LDE1NiBDIDIxNyw2MyAxOTUsNjMgNTcsNjMgTCA1NywwIDI5MSw2IEMgMzczLDYgNDY5LDYgNTUxLDAgTCA1NTEsNjMgNTA4LDYzIEMgMzU2LDYzIDM1Miw4NiAzNTIsMTYwIEwgMzUyLDQ3NSBDIDM1Miw2NzggNDM4LDg2MCA1OTQsODYwIDYwOCw4NjAgNjEyLDg2MCA2MTYsODU4IDYxMCw4NTYgNTY5LDgzMSA1NjksNzc4IDU2OSw3MjEgNjEyLDY5MCA2NTcsNjkwIDY5NCw2OTAgNzQ1LDcxNSA3NDUsNzgwIFoiLz4KICAgPGdseXBoIHVuaWNvZGU9InAiIGhvcml6LWFkdi14PSIxMDMzIiBkPSJNIDEwNjcsNDQyIEMgMTA2Nyw3MDIgODY4LDkwNSA2MzksOTA1IDQ3OSw5MDUgMzkzLDgxNSAzNTIsNzcwIEwgMzUyLDkwNSA1Nyw4ODMgNTcsODE5IEMgMjAzLDgxOSAyMTcsODA3IDIxNyw3MTcgTCAyMTcsLTI0MiBDIDIxNywtMzM0IDE5NSwtMzM0IDU3LC0zMzQgTCA1NywtMzk3IDI4NywtMzkxIDUxOCwtMzk3IDUxOCwtMzM0IEMgMzgxLC0zMzQgMzU4LC0zMzQgMzU4LC0yNDIgTCAzNTgsMTAyIDM1OCwxMjEgQyAzNjksODggNDU1LC0yMyA2MTAsLTIzIDg1NCwtMjMgMTA2NywxNzggMTA2Nyw0NDIgWiBNIDg5Nyw0NDIgQyA4OTcsMTk1IDc1NCwyMyA2MDIsMjMgNTIwLDIzIDQ0Miw2MyAzODcsMTQ3IDM1OCwxOTAgMzU4LDE5MyAzNTgsMjMzIEwgMzU4LDY5MCBDIDQxOCw3OTUgNTE4LDg1NCA2MjMsODU0IDc3Miw4NTQgODk3LDY3NCA4OTcsNDQyIFoiLz4KICAgPGdseXBoIHVuaWNvZGU9Im8iIGhvcml6LWFkdi14PSI5MjciIGQ9Ik0gOTY1LDQzOCBDIDk2NSw3MDAgNzYwLDkxOCA1MTIsOTE4IDI1Niw5MTggNTcsNjk0IDU3LDQzOCA1NywxNzQgMjcwLC0yMyA1MTAsLTIzIDc1OCwtMjMgOTY1LDE3OCA5NjUsNDM4IFogTSA3OTUsNDU1IEMgNzk1LDM4MSA3OTUsMjcwIDc1MCwxODAgNzA1LDg4IDYxNCwyOSA1MTIsMjkgNDI0LDI5IDMzNCw3MiAyNzksMTY2IDIyNywyNTYgMjI3LDM4MSAyMjcsNDU1IDIyNyw1MzUgMjI3LDY0NSAyNzYsNzM1IDMzMiw4MjkgNDI4LDg3MiA1MTAsODcyIDYwMCw4NzIgNjg4LDgyNyA3NDEsNzM5IDc5NSw2NTEgNzk1LDUzMiA3OTUsNDU1IFoiLz4KICAgPGdseXBoIHVuaWNvZGU9Im4iIGhvcml6LWFkdi14PSIxMDU5IiBkPSJNIDEwOTYsMCBMIDEwOTYsNjMgQyA5ODksNjMgOTM4LDYzIDkzNiwxMjUgTCA5MzYsNTE2IEMgOTM2LDY5MiA5MzYsNzU2IDg3Miw4MjkgODQ0LDg2NCA3NzYsOTA1IDY1Nyw5MDUgNTA4LDkwNSA0MTIsODE3IDM1NCw2OTAgTCAzNTQsOTA1IDY2LDg4MyA2Niw4MTkgQyAyMDksODE5IDIyNSw4MDUgMjI1LDcwNSBMIDIyNSwxNTYgQyAyMjUsNjMgMjAzLDYzIDY2LDYzIEwgNjYsMCAyOTcsNiA1MjYsMCA1MjYsNjMgQyAzODksNjMgMzY3LDYzIDM2NywxNTYgTCAzNjcsNTMyIEMgMzY3LDc0NSA1MTIsODYwIDY0Myw4NjAgNzcyLDg2MCA3OTUsNzUwIDc5NSw2MzMgTCA3OTUsMTU2IEMgNzk1LDYzIDc3Miw2MyA2MzUsNjMgTCA2MzUsMCA4NjYsNiAxMDk2LDAgWiIvPgogICA8Z2x5cGggdW5pY29kZT0ibSIgaG9yaXotYWR2LXg9IjE2MTUiIGQ9Ik0gMTY2NSwwIEwgMTY2NSw2MyBDIDE1NTksNjMgMTUwNyw2MyAxNTA1LDEyNSBMIDE1MDUsNTE2IEMgMTUwNSw2OTIgMTUwNSw3NTYgMTQ0Miw4MjkgMTQxMyw4NjQgMTM0Niw5MDUgMTIyNyw5MDUgMTA1NSw5MDUgOTY1LDc4MiA5MzAsNzA1IDkwMSw4ODMgNzUwLDkwNSA2NTcsOTA1IDUwOCw5MDUgNDEyLDgxNyAzNTQsNjkwIEwgMzU0LDkwNSA2Niw4ODMgNjYsODE5IEMgMjA5LDgxOSAyMjUsODA1IDIyNSw3MDUgTCAyMjUsMTU2IEMgMjI1LDYzIDIwMyw2MyA2Niw2MyBMIDY2LDAgMjk3LDYgNTI2LDAgNTI2LDYzIEMgMzg5LDYzIDM2Nyw2MyAzNjcsMTU2IEwgMzY3LDUzMiBDIDM2Nyw3NDUgNTEyLDg2MCA2NDMsODYwIDc3Miw4NjAgNzk1LDc1MCA3OTUsNjMzIEwgNzk1LDE1NiBDIDc5NSw2MyA3NzIsNjMgNjM1LDYzIEwgNjM1LDAgODY2LDYgMTA5NiwwIDEwOTYsNjMgQyA5NTgsNjMgOTM2LDYzIDkzNiwxNTYgTCA5MzYsNTMyIEMgOTM2LDc0NSAxMDgxLDg2MCAxMjEyLDg2MCAxMzQxLDg2MCAxMzY0LDc1MCAxMzY0LDYzMyBMIDEzNjQsMTU2IEMgMTM2NCw2MyAxMzQxLDYzIDEyMDQsNjMgTCAxMjA0LDAgMTQzNiw2IDE2NjUsMCBaIi8+CiAgIDxnbHlwaCB1bmljb2RlPSJrIiBob3Jpei1hZHYteD0iMTAwNiIgZD0iTSAxMDQ3LDAgTCAxMDQ3LDYzIEMgOTcxLDYzIDkyNiw2MyA4NDgsMTcyIEwgNTg4LDUzOSBDIDU4Niw1NDMgNTc1LDU1NSA1NzUsNTYxIDU3NSw1NjkgNzIxLDY5MiA3NDEsNzA5IDg3MCw4MTMgOTU2LDgxNyA5OTksODE5IEwgOTk5LDg4MyBDIDk0MCw4NzcgOTEzLDg3NyA4NTYsODc3IDc4Miw4NzcgNjU1LDg4MSA2MjcsODgzIEwgNjI3LDgxOSBDIDY2Niw4MTcgNjg2LDc5NSA2ODYsNzY4IDY4Niw3MjcgNjU3LDcwMiA2NDEsNjg4IEwgMzUyLDQzOCAzNTIsMTQyMSA1NywxMzk5IDU3LDEzMzUgQyAyMDEsMTMzNSAyMTcsMTMyMSAyMTcsMTIyMSBMIDIxNywxNTYgQyAyMTcsNjMgMTk1LDYzIDU3LDYzIEwgNTcsMCAyODEsNiA1MDYsMCA1MDYsNjMgQyAzNjksNjMgMzQ2LDYzIDM0NiwxNTYgTCAzNDYsMzY3IDQ3Nyw0NzkgQyA2MzUsMjYyIDcyMSwxNDcgNzIxLDExMSA3MjEsNzIgNjg2LDYzIDY0Nyw2MyBMIDY0NywwIDg2OCw2IEMgOTI4LDYgOTg3LDQgMTA0NywwIFoiLz4KICAgPGdseXBoIHVuaWNvZGU9ImkiIGhvcml6LWFkdi14PSI0NzciIGQ9Ik0gNTA2LDAgTCA1MDYsNjMgQyAzNzEsNjMgMzYzLDc0IDM2MywxNTQgTCAzNjMsOTA1IDc2LDg4MyA3Niw4MTkgQyAyMDksODE5IDIyNyw4MDcgMjI3LDcwNyBMIDIyNywxNTYgQyAyMjcsNjMgMjA1LDYzIDY4LDYzIEwgNjgsMCAyOTMsNiBDIDM2NSw2IDQzNiwyIDUwNiwwIFogTSAzOTMsMTIzNyBDIDM5MywxMjkyIDM0NiwxMzQ2IDI4NSwxMzQ2IDIxNSwxMzQ2IDE3NCwxMjg4IDE3NCwxMjM3IDE3NCwxMTgyIDIyMSwxMTI4IDI4MywxMTI4IDM1MiwxMTI4IDM5MywxMTg2IDM5MywxMjM3IFoiLz4KICAgPGdseXBoIHVuaWNvZGU9ImgiIGhvcml6LWFkdi14PSIxMDU5IiBkPSJNIDEwOTYsMCBMIDEwOTYsNjMgQyA5ODksNjMgOTM4LDYzIDkzNiwxMjUgTCA5MzYsNTE2IEMgOTM2LDY5MiA5MzYsNzU2IDg3Miw4MjkgODQ0LDg2NCA3NzYsOTA1IDY1Nyw5MDUgNDg1LDkwNSAzOTUsNzgyIDM2Myw3MDkgTCAzNjAsNzA5IDM2MCwxNDIxIDY2LDEzOTkgNjYsMTMzNSBDIDIwOSwxMzM1IDIyNSwxMzIxIDIyNSwxMjIxIEwgMjI1LDE1NiBDIDIyNSw2MyAyMDMsNjMgNjYsNjMgTCA2NiwwIDI5Nyw2IDUyNiwwIDUyNiw2MyBDIDM4OSw2MyAzNjcsNjMgMzY3LDE1NiBMIDM2Nyw1MzIgQyAzNjcsNzQ1IDUxMiw4NjAgNjQzLDg2MCA3NzIsODYwIDc5NSw3NTAgNzk1LDYzMyBMIDc5NSwxNTYgQyA3OTUsNjMgNzcyLDYzIDYzNSw2MyBMIDYzNSwwIDg2Niw2IDEwOTYsMCBaIi8+CiAgIDxnbHlwaCB1bmljb2RlPSJnIiBob3Jpei1hZHYteD0iOTUzIiBkPSJNIDk5Myw4MjcgQyA5OTMsODYyIDk2OSw5MjggODg5LDkyOCA4NDgsOTI4IDc1OCw5MTUgNjcyLDgzMSA1ODYsODk5IDUwMCw5MDUgNDU1LDkwNSAyNjQsOTA1IDEyMyw3NjQgMTIzLDYwNiAxMjMsNTE2IDE2OCw0MzggMjE5LDM5NSAxOTMsMzY1IDE1NiwyOTcgMTU2LDIyNSAxNTYsMTYyIDE4Miw4NCAyNDYsNDMgMTIzLDggNTcsLTgwIDU3LC0xNjIgNTcsLTMwOSAyNjAsLTQyMiA1MTAsLTQyMiA3NTIsLTQyMiA5NjUsLTMxNyA5NjUsLTE1OCA5NjUsLTg2IDkzNiwxOCA4MzEsNzYgNzIzLDEzMyA2MDQsMTMzIDQ3OSwxMzMgNDI4LDEzMyAzNDAsMTMzIDMyNiwxMzUgMjYwLDE0MyAyMTcsMjA3IDIxNywyNzIgMjE3LDI4MSAyMTcsMzI4IDI1MiwzNjkgMzMyLDMxMSA0MTYsMzA1IDQ1NSwzMDUgNjQ1LDMwNSA3ODYsNDQ2IDc4Niw2MDQgNzg2LDY4MCA3NTQsNzU2IDcwMiw4MDMgNzc2LDg3MiA4NTAsODgzIDg4Nyw4ODMgODg3LDg4MyA5MDEsODgzIDkwNyw4ODEgODg1LDg3MiA4NzUsODUwIDg3NSw4MjUgODc1LDc5MSA5MDEsNzY2IDkzNCw3NjYgOTU0LDc2NiA5OTMsNzgwIDk5Myw4MjcgWiBNIDYzMyw2MDYgQyA2MzMsNTUxIDYzMSw0ODUgNjAwLDQzNCA1ODQsNDEwIDUzNywzNTIgNDU1LDM1MiAyNzYsMzUyIDI3Niw1NTcgMjc2LDYwNCAyNzYsNjU5IDI3OSw3MjUgMzA5LDc3NiAzMjYsODAxIDM3Myw4NTggNDU1LDg1OCA2MzMsODU4IDYzMyw2NTMgNjMzLDYwNiBaIE0gODU4LC0xNjIgQyA4NTgsLTI3MiA3MTMsLTM3NSA1MTIsLTM3NSAzMDUsLTM3NSAxNjQsLTI3MCAxNjQsLTE2MiAxNjQsLTY4IDI0Miw4IDMzMiwxNCBMIDQ1MywxNCBDIDYyOSwxNCA4NTgsMTQgODU4LC0xNjIgWiIvPgogICA8Z2x5cGggdW5pY29kZT0iZSIgaG9yaXotYWR2LXg9Ijc5NSIgZD0iTSA4NTAsMjQ0IEMgODUwLDI2NCA4MzQsMjY4IDgyMywyNjggODA1LDI2OCA4MDEsMjU2IDc5NywyNDAgNzI1LDI5IDU0MSwyOSA1MjAsMjkgNDE4LDI5IDMzNiw5MCAyODksMTY2IDIyNywyNjQgMjI3LDM5OSAyMjcsNDczIEwgNzk5LDQ3MyBDIDg0NCw0NzMgODUwLDQ3MyA4NTAsNTE2IDg1MCw3MTkgNzM5LDkxOCA0ODMsOTE4IDI0Niw5MTggNTcsNzA3IDU3LDQ1MSA1NywxNzYgMjcyLC0yMyA1MDgsLTIzIDc1OCwtMjMgODUwLDIwNSA4NTAsMjQ0IFogTSA3MTUsNTE2IEwgMjI5LDUxNiBDIDI0Miw4MjEgNDE0LDg3MiA0ODMsODcyIDY5NCw4NzIgNzE1LDU5NiA3MTUsNTE2IFoiLz4KICAgPGdseXBoIHVuaWNvZGU9ImQiIGhvcml6LWFkdi14PSIxMDMzIiBkPSJNIDEwNzksMCBMIDEwNzksNjMgQyA5MzYsNjMgOTIwLDc4IDkyMCwxNzggTCA5MjAsMTQyMSA2MjUsMTM5OSA2MjUsMTMzNSBDIDc2OCwxMzM1IDc4NCwxMzIxIDc4NCwxMjIxIEwgNzg0LDc3OCBDIDcyNSw4NTIgNjM3LDkwNSA1MjYsOTA1IDI4NSw5MDUgNzAsNzA1IDcwLDQ0MCA3MCwxODAgMjcwLC0yMyA1MDQsLTIzIDYzNSwtMjMgNzI3LDQ3IDc3OCwxMTMgTCA3NzgsLTIzIDEwNzksMCBaIE0gNzc4LDI0MiBDIDc3OCwyMDUgNzc4LDIwMSA3NTYsMTY2IDY5NCw2OCA2MDIsMjMgNTE0LDIzIDQyMiwyMyAzNDgsNzYgMjk5LDE1NCAyNDYsMjM4IDI0MCwzNTQgMjQwLDQzOCAyNDAsNTE0IDI0NCw2MzcgMzAzLDcyOSAzNDYsNzkzIDQyNCw4NjAgNTM1LDg2MCA2MDYsODYwIDY5Miw4MjkgNzU2LDczNyA3NzgsNzAyIDc3OCw2OTggNzc4LDY2MiBMIDc3OCwyNDIgWiIvPgogICA8Z2x5cGggdW5pY29kZT0iYyIgaG9yaXotYWR2LXg9Ijc5NSIgZD0iTSA4NTAsMjQ0IEMgODUwLDI2NCA4MjksMjY0IDgyMywyNjQgODA1LDI2NCA4MDEsMjU2IDc5NywyNDQgNzM3LDUzIDYwNCwyOSA1MjgsMjkgNDIwLDI5IDI0MCwxMTcgMjQwLDQ0NiAyNDAsNzgwIDQwOCw4NjYgNTE2LDg2NiA1MzUsODY2IDY2NCw4NjQgNzM1LDc5MSA2NTEsNzg0IDYzOSw3MjMgNjM5LDY5NiA2MzksNjQzIDY3Niw2MDIgNzMzLDYwMiA3ODYsNjAyIDgyNyw2MzcgODI3LDY5OCA4MjcsODM4IDY3Miw5MTggNTE0LDkxOCAyNTgsOTE4IDcwLDY5NiA3MCw0NDIgNzAsMTgwIDI3MiwtMjMgNTEwLC0yMyA3ODQsLTIzIDg1MCwyMjMgODUwLDI0NCBaIi8+CiAgIDxnbHlwaCB1bmljb2RlPSJhIiBob3Jpei1hZHYteD0iOTUzIiBkPSJNIDk4OSwxODIgTCA5ODksMjk3IDkzOCwyOTcgOTM4LDE4MiBDIDkzOCw2MyA4ODcsNTEgODY0LDUxIDc5Nyw1MSA3ODgsMTQzIDc4OCwxNTQgTCA3ODgsNTYzIEMgNzg4LDY0OSA3ODgsNzI5IDcxNSw4MDUgNjM1LDg4NSA1MzIsOTE4IDQzNCw5MTggMjY2LDkxOCAxMjUsODIxIDEyNSw2ODYgMTI1LDYyNSAxNjYsNTkwIDIxOSw1OTAgMjc2LDU5MCAzMTMsNjMxIDMxMyw2ODQgMzEzLDcwOSAzMDMsNzc2IDIwOSw3NzggMjY0LDg1MCAzNjUsODcyIDQzMCw4NzIgNTMwLDg3MiA2NDcsNzkzIDY0Nyw2MTAgTCA2NDcsNTM1IEMgNTQzLDUyOCAzOTksNTIyIDI3MCw0NjEgMTE3LDM5MSA2NiwyODUgNjYsMTk1IDY2LDI5IDI2NCwtMjMgMzkzLC0yMyA1MjgsLTIzIDYyMyw1OSA2NjIsMTU2IDY3MCw3NCA3MjUsLTEyIDgyMSwtMTIgODY0LC0xMiA5ODksMTYgOTg5LDE4MiBaIE0gNjQ3LDI4NyBDIDY0Nyw5MiA1MDAsMjMgNDA4LDIzIDMwNywyMyAyMjMsOTQgMjIzLDE5NyAyMjMsMzA5IDMwOSw0NzkgNjQ3LDQ5MiBMIDY0NywyODcgWiIvPgogICA8Z2x5cGggdW5pY29kZT0iVCIgaG9yaXotYWR2LXg9IjEzNTAiIGQ9Ik0gMTQwMyw5MjYgTCAxMzY0LDEzODcgMTEzLDEzODcgNzQsOTI2IDEyNSw5MjYgQyAxNTQsMTI1NSAxODQsMTMyMyA0OTQsMTMyMyA1MzAsMTMyMyA1ODQsMTMyMyA2MDQsMTMxOSA2NDcsMTMxMSA2NDcsMTI4OCA2NDcsMTI0MSBMIDY0NywxNjIgQyA2NDcsOTIgNjQ3LDYzIDQzMiw2MyBMIDM1MCw2MyAzNTAsMCBDIDQzNCw2IDY0Myw2IDczNyw2IDgzMSw2IDEwNDIsNiAxMTI2LDAgTCAxMTI2LDYzIDEwNDQsNjMgQyA4MjksNjMgODI5LDkyIDgyOSwxNjIgTCA4MjksMTI0MSBDIDgyOSwxMjgyIDgyOSwxMzExIDg2NiwxMzE5IDg4OSwxMzIzIDk0NCwxMzIzIDk4MywxMzIzIDEyOTIsMTMyMyAxMzIzLDEyNTUgMTM1Miw5MjYgTCAxNDAzLDkyNiBaIi8+CiAgIDxnbHlwaCB1bmljb2RlPSJPIiBob3Jpei1hZHYteD0iMTM3NyIgZD0iTSAxNDc3LDY5NCBDIDE0NzcsMTExMiAxMTY3LDE0NDQgNzk1LDE0NDQgNDI4LDE0NDQgMTE1LDExMTYgMTE1LDY5NCAxMTUsMjc0IDQzMCwtNDUgNzk1LC00NSAxMTY3LC00NSAxNDc3LDI4MSAxNDc3LDY5NCBaIE0gMTI2Niw3MjMgQyAxMjY2LDE4MCA5ODUsOCA3OTcsOCA2MDAsOCAzMjYsMTg4IDMyNiw3MjMgMzI2LDEyNTMgNjI1LDEzOTMgNzk1LDEzOTMgOTczLDEzOTMgMTI2NiwxMjQ3IDEyNjYsNzIzIFoiLz4KICAgPGdseXBoIHVuaWNvZGU9IkwiIGhvcml6LWFkdi14PSIxMTM5IiBkPSJNIDExOTIsNTI4IEwgMTE0MSw1MjggQyAxMTE4LDMxOSAxMDkwLDYzIDcyOSw2MyBMIDU2MSw2MyBDIDQ2NSw2MyA0NjEsNzggNDYxLDE0NSBMIDQ2MSwxMjM3IEMgNDYxLDEzMDcgNDYxLDEzMzUgNjU1LDEzMzUgTCA3MjMsMTMzNSA3MjMsMTM5OSBDIDY0OSwxMzkzIDQ2MywxMzkzIDM3OSwxMzkzIDI5OSwxMzkzIDEzOSwxMzkzIDY4LDEzOTkgTCA2OCwxMzM1IDExNywxMzM1IEMgMjc0LDEzMzUgMjc5LDEzMTMgMjc5LDEyMzkgTCAyNzksMTYwIEMgMjc5LDg2IDI3NCw2MyAxMTcsNjMgTCA2OCw2MyA2OCwwIDExMzUsMCAxMTkyLDUyOCBaIi8+CiAgIDxnbHlwaCB1bmljb2RlPSJJIiBob3Jpei1hZHYteD0iNjM2IiBkPSJNIDY4MiwwIEwgNjgyLDYzIDYyOSw2MyBDIDQ2Nyw2MyA0NjEsODYgNDYxLDE2MCBMIDQ2MSwxMjM5IEMgNDYxLDEzMTMgNDY3LDEzMzUgNjI5LDEzMzUgTCA2ODIsMTMzNSA2ODIsMTM5OSBDIDYxMCwxMzkzIDQ0OSwxMzkzIDM3MSwxMzkzIDI5MSwxMzkzIDEyOSwxMzkzIDU3LDEzOTkgTCA1NywxMzM1IDExMSwxMzM1IEMgMjcyLDEzMzUgMjc5LDEzMTMgMjc5LDEyMzkgTCAyNzksMTYwIEMgMjc5LDg2IDI3Miw2MyAxMTEsNjMgTCA1Nyw2MyA1NywwIEMgMTI5LDYgMjkxLDYgMzY5LDYgNDQ5LDYgNjEwLDYgNjgyLDAgWiIvPgogICA8Z2x5cGggdW5pY29kZT0iRyIgaG9yaXotYWR2LXg9IjE0MDMiIGQ9Ik0gMTUwNSw0OTYgTCAxNTA1LDU1OSAxMjU1LDU1MyBDIDExNzQsNTUzIDk5OSw1NTMgOTI2LDU1OSBMIDkyNiw0OTYgOTkxLDQ5NiBDIDExNzYsNDk2IDExODIsNDczIDExODIsMzk3IEwgMTE4MiwyNjYgQyAxMTgyLDM3IDkyMiwxOCA4NjQsMTggNzMxLDE4IDMyNiw5MCAzMjYsNzAwIDMyNiwxMzEzIDcyOSwxMzgwIDg1MiwxMzgwIDEwNzEsMTM4MCAxMjU3LDExOTYgMTI5OCw4OTUgMTMwMyw4NjYgMTMwMyw4NjAgMTMzMSw4NjAgMTM2NCw4NjAgMTM2NCw4NjYgMTM2NCw5MDkgTCAxMzY0LDEzOTUgQyAxMzY0LDE0MzAgMTM2NCwxNDQ0IDEzNDEsMTQ0NCAxMzMzLDE0NDQgMTMyNSwxNDQ0IDEzMDksMTQxOSBMIDEyMDYsMTI2OCBDIDExNDEsMTMzMyAxMDMwLDE0NDQgODI3LDE0NDQgNDQ2LDE0NDQgMTE1LDExMjAgMTE1LDcwMCAxMTUsMjgxIDQ0MiwtNDUgODMxLC00NSA5ODEsLTQ1IDExNDUsOCAxMjE0LDEyOSAxMjQxLDg0IDEzMjMsMiAxMzQ2LDIgMTM2NCwyIDEzNjQsMTggMTM2NCw0OSBMIDEzNjQsNDA2IEMgMTM2NCw0ODUgMTM3Miw0OTYgMTUwNSw0OTYgWiIvPgogICA8Z2x5cGggdW5pY29kZT0iRiIgaG9yaXotYWR2LXg9IjExOTIiIGQ9Ik0gMTI0OSw5MzIgTCAxMTkyLDEzOTMgNjgsMTM5MyA2OCwxMzI5IDExNywxMzI5IEMgMjc0LDEzMjkgMjc5LDEzMDcgMjc5LDEyMzMgTCAyNzksMTYwIEMgMjc5LDg2IDI3NCw2MyAxMTcsNjMgTCA2OCw2MyA2OCwwIEMgMTM5LDYgMjk5LDYgMzc5LDYgNDYzLDYgNjQ5LDYgNzIzLDAgTCA3MjMsNjMgNjU1LDYzIEMgNDYxLDYzIDQ2MSw5MCA0NjEsMTYyIEwgNDYxLDY2NiA2MzcsNjY2IEMgODM0LDY2NiA4NTQsNjAwIDg1NCw0MjYgTCA5MDUsNDI2IDkwNSw5NjkgODU0LDk2OSBDIDg1NCw3OTcgODM0LDcyOSA2MzcsNzI5IEwgNDYxLDcyOSA0NjEsMTI0NyBDIDQ2MSwxMzE1IDQ2NSwxMzI5IDU2MSwxMzI5IEwgODA3LDEzMjkgQyAxMTE0LDEzMjkgMTE2NSwxMjE0IDExOTgsOTMyIEwgMTI0OSw5MzIgWiIvPgogICA8Z2x5cGggdW5pY29kZT0iQiIgaG9yaXotYWR2LXg9IjEyOTciIGQ9Ik0gMTMzMywzNzUgQyAxMzMzLDU1MyAxMTY1LDcwNyA5MzgsNzMxIDExMzcsNzcwIDEyNzgsOTAxIDEyNzgsMTA1MyAxMjc4LDEyMzEgMTA5MCwxMzk5IDgyMywxMzk5IEwgNzQsMTM5OSA3NCwxMzM1IDEyMywxMzM1IEMgMjgxLDEzMzUgMjg1LDEzMTMgMjg1LDEyMzkgTCAyODUsMTYwIEMgMjg1LDg2IDI4MSw2MyAxMjMsNjMgTCA3NCw2MyA3NCwwIDg3NywwIEMgMTE0OSwwIDEzMzMsMTgyIDEzMzMsMzc1IFogTSAxMDc5LDEwNTMgQyAxMDc5LDkyMiA5NzksNzUwIDc1Miw3NTAgTCA0NTUsNzUwIDQ1NSwxMjUzIEMgNDU1LDEzMjEgNDU5LDEzMzUgNTU1LDEzMzUgTCA4MDksMTMzNSBDIDEwMDgsMTMzNSAxMDc5LDExNjEgMTA3OSwxMDUzIFogTSAxMTI4LDM3NyBDIDExMjgsMjMxIDEwMjIsNjMgODExLDYzIEwgNTU1LDYzIEMgNDU5LDYzIDQ1NSw3OCA0NTUsMTQ1IEwgNDU1LDcwNSA4NDAsNzA1IEMgMTA0Miw3MDUgMTEyOCw1MTQgMTEyOCwzNzcgWiIvPgogICA8Z2x5cGggdW5pY29kZT0iQSIgaG9yaXotYWR2LXg9IjE0MzAiIGQ9Ik0gMTQ2OCwwIEwgMTQ2OCw2MyAxNDMyLDYzIEMgMTMwOSw2MyAxMjgwLDc4IDEyNTcsMTQ1IEwgODE1LDE0MjUgQyA4MDUsMTQ1MiA4MDEsMTQ2NiA3NjgsMTQ2NiA3MzUsMTQ2NiA3MjksMTQ1NCA3MTksMTQyNSBMIDI5NSwyMDEgQyAyNTgsOTYgMTc2LDY2IDY2LDYzIEwgNjYsMCAyNzQsNiA1MTAsMCA1MTAsNjMgQyA0MDgsNjMgMzU2LDExNSAzNTYsMTY4IDM1NiwxNzQgMzU4LDE5NSAzNjAsMTk5IEwgNDU1LDQ2NyA5NjEsNDY3IDEwNjksMTU0IEMgMTA3MSwxNDUgMTA3NSwxMzMgMTA3NSwxMjUgMTA3NSw2MyA5NjEsNjMgOTA1LDYzIEwgOTA1LDAgQyA5NzksNiAxMTIyLDYgMTIwMCw2IEwgMTQ2OCwwIFogTSA5MzgsNTMwIEwgNDc3LDUzMCA3MDcsMTE5NiA5MzgsNTMwIFoiLz4KICA8L2ZvbnQ+CiA8L2RlZnM+CiA8ZGVmcz4KICA8Zm9udCBpZD0iRW1iZWRkZWRGb250XzIiIGhvcml6LWFkdi14PSIyMDQ4Ij4KICAgPGZvbnQtZmFjZSBmb250LWZhbWlseT0iTGF0aW4gTW9kZXJuIE1hdGggZW1iZWRkZWQiIHVuaXRzLXBlci1lbT0iMjA0OCIgZm9udC13ZWlnaHQ9ImJvbGQiIGZvbnQtc3R5bGU9Im5vcm1hbCIgYXNjZW50PSIxNjQwIiBkZXNjZW50PSIzOTciLz4KICAgPG1pc3NpbmctZ2x5cGggaG9yaXotYWR2LXg9IjIwNDgiIGQ9Ik0gMCwwIEwgMjA0NywwIDIwNDcsMjA0NyAwLDIwNDcgMCwwIFoiLz4KICAgPGdseXBoIHVuaWNvZGU9InUiIGhvcml6LWFkdi14PSIxMTM5IiBkPSJNIDExODEsMyBMIDExODEsMTQ5IEMgMTAxMSwxNDkgMTAyMSwxNDAgMTAyMSwyMjEgTCAxMDIxLDk5NCA2MzUsOTY1IDYzNSw4MTkgQyA4MDUsODE5IDc5NSw4MjggNzk1LDc0NyBMIDc5NSwzODMgQyA3OTUsMjE4IDcxNywxMDggNTg5LDEwOCA0NTcsMTA4IDQ1MiwxNjMgNDUyLDI2OCBMIDQ1Miw5OTQgNjYsOTY1IDY2LDgxOSBDIDI2Miw4NTYgMjI1LDg1NiAyMjUsNjczIEwgMjI1LDM2NiBDIDIyNSwyMDcgMjI1LC0yMyA1NzksLTIzIDcwNiwtMjMgODE3LDQ4IDgxMiw2NCBMIDgwMSwtMjYgMTE4MSwzIFoiLz4KICAgPGdseXBoIHVuaWNvZGU9InQiIGhvcml6LWFkdi14PSI3NDIiIGQ9Ik0gNzY1LDI5NyBMIDc2NSw0NTYgNjI5LDQ1NiA2MjksMzAxIEMgNjI5LDE2NCA1ODksMTE0IDUzNCwxMTQgNDQwLDExNCA0NDAsMjU4IDQ0MCwyOTMgTCA0NDAsODE5IDczMiw4MTkgNzMyLDk2OCA0NDAsOTY4IDQ0MCwxMzQ1IDMwNCwxMzQ1IEMgMzAxLDExNDAgMjUwLDk1NiAzOSw5NDggTCAzOSw4MTkgMjEzLDgxOSAyMTMsMjk3IEMgMjEzLDcgNDQzLC0yMyA1MjAsLTIzIDY5NCwtMjMgNzY1LDE1NyA3NjUsMjk3IFoiLz4KICAgPGdseXBoIHVuaWNvZGU9InMiIGhvcml6LWFkdi14PSI3NjgiIGQ9Ik0gODIzLDMwNSBDIDgyMyw0MzEgNzQ5LDUwNSA3MjQsNTMwIDY0Nyw2MDQgNTU1LDYyMyA0NjksNjQwIDM1NCw2NjIgMjUxLDY4MiAyNTEsNzY2IDI1MSw4MjUgMjg1LDg3OSA0MzgsODc5IDYyMyw4NzkgNjMxLDczNCA2MzUsNjcwIDY0MSw2MTIgNzAyLDYxMiA3MDIsNjEyIDc3MSw2MTIgNzcxLDY2NSA3NzEsNzA0IEwgNzcxLDkxMSBDIDc3MSw5NDYgNzcxLDEwMDMgNzA2LDEwMDMgNjk2LDEwMDMgNjc1LDEwMDMgNjMzLDk2NCA2MjcsOTU2IDYxMiw5NDIgNjMwLDkyMCA1NjcsMTAwMyA0NjksMTAwMyA0MzgsMTAwMyAxNjMsMTAwMyA2OCw4MzQgNjgsNzA4IDY4LDYyNSAxMTAsNTUxIDE3MSw1MDEgMjQ1LDQ0MSAzMTMsNDI3IDQ2MSwzOTggNTA2LDM5MCA2MzksMzY0IDYzOSwyNTIgNjM5LDE2MyA1OTEsMTA4IDQ1MCwxMDggMzAyLDEwOCAyNDQsMTk4IDIwNywzNjUgMjAxLDM5MyAxOTEsNDMzIDEzNyw0MzMgNjgsNDMzIDY4LDM3NiA2OCwzNDAgTCA2OCw2OSBDIDY4LDM0IDY4LC0yMyAxMzMsLTIzIDE2MSwtMjMgMTc1LC04IDIxNCwzMSAyMzEsNDggMTk4LDY1IDIyNiw0OCAyOTgsLTIwIDQwNywtMjMgNDUwLC0yMyA3MDgsLTIzIDgyMywxNDQgODIzLDMwNSBaIi8+CiAgIDxnbHlwaCB1bmljb2RlPSJyIiBob3Jpei1hZHYteD0iNzk1IiBkPSJNIDgzMSw4MjMgQyA4MzEsOTA3IDc0MSw5OTEgNjM3LDk5MSA0NjIsOTkxIDM3NCw4MjcgMzg1LDcyMyBMIDQyNyw5OTQgNTcsOTY1IDU3LDgxOSBDIDIyNyw4MTkgMjE3LDgyOCAyMTcsNzQ3IEwgMjE3LDE5OCBDIDIzNywxMjkgMjM3LDE0OSA1NywxNDkgTCA1NywtMSAzMzQsNiBDIDQxNSw2IDUxMCw2IDYzNiwtMyBMIDYzNiwxNDkgNTUxLDE0OSBDIDQyMiwxMzQgNDM4LDEzMyA0MzgsMjAyIEwgNDM4LDUxOCBDIDQzOCw3MTEgNTA4LDg2MCA2MzcsODYwIDY1MSw4NjAgNjUxLDg4NSA2NTQsOTAxIDYzNSw5MzggNTY5LDg5OCA1NjksODIxIDU2OSw3NDIgNjQxLDY5MCA3MDAsNjkwIDc0Nyw2OTAgODMxLDczMSA4MzEsODIzIFoiLz4KICAgPGdseXBoIHVuaWNvZGU9Im8iIGhvcml6LWFkdi14PSIxMDA2IiBkPSJNIDEwNTAsNDgxIEMgMTA1MCw3NjAgODIxLDEwMDMgNTU1LDEwMDMgMjgwLDEwMDMgNTcsNzUzIDU3LDQ4MSA1NywxOTggMjk2LC0yMyA1NTMsLTIzIDgxOCwtMjMgMTA1MCwyMDMgMTA1MCw0ODEgWiBNIDc5NSw0OTcgQyA3OTUsNDI0IDc5NSwzMjMgNzU0LDI0MiA3MTQsMTYwIDY0NCwxMTQgNTU1LDExNCA0NzYsMTE0IDQwNywxNDcgMzU4LDIzMCAzMTMsMzEwIDMxMyw0MjQgMzEzLDQ5NyAzMTMsNTc3IDMxMyw2NzcgMzU2LDc1NyA0MDQsODM5IDQ4MCw4NzIgNTUzLDg3MiA2MzIsODcyIDcwMSw4MzggNzQ4LDc2MCA3OTUsNjgyIDc5NSw1NzUgNzk1LDQ5NyBaIi8+CiAgIDxnbHlwaCB1bmljb2RlPSJuIiBob3Jpei1hZHYteD0iMTEzOSIgZD0iTSAxMTgxLC0xIEwgMTE4MSwxNDkgQyAxMDMyLDE0OSAxMDIyLDE0OSAxMDIxLDE2OCBMIDEwMjEsNTU5IEMgMTAyMSw3MzUgMTAyMSw4MTQgOTQ4LDkwMCA5MTUsOTQwIDgzMSw5OTEgNzAwLDk5MSA1MzQsOTkxIDQxOSw4ODUgNDI3LDg3MiBMIDQ0MCw5OTQgNjYsOTY1IDY2LDgxOSBDIDIzNiw4MTkgMjI1LDgyOCAyMjUsNzQ3IEwgMjI1LDE5OCBDIDI0NSwxMjkgMjQ1LDE0OSA2NiwxNDkgTCA2NiwtMSAzNDAsNiA2MTIsLTEgNjEyLDE0OSBDIDQzMiwxNDkgNDMyLDEyOSA0NTIsMTk4IEwgNDUyLDU3NSBDIDQ1Miw3NjcgNTY5LDg2MCA2ODYsODYwIDc4MCw4NjAgNzk1LDc4OCA3OTUsNjc1IEwgNzk1LDE5OCBDIDgxNSwxMjkgODE1LDE0OSA2MzUsMTQ5IEwgNjM1LC0xIDkwOSw2IDExODEsLTEgWiIvPgogICA8Z2x5cGggdW5pY29kZT0ibSIgaG9yaXotYWR2LXg9IjE2OTQiIGQ9Ik0gMTc1MCwtMSBMIDE3NTAsMTQ5IEMgMTYwMSwxNDkgMTU5MSwxNDkgMTU5MSwxNjggTCAxNTkxLDU1OSBDIDE1OTEsNzM1IDE1OTEsODE0IDE1MTcsOTAwIDE0ODQsOTQwIDE0MDAsOTkxIDEyNjksOTkxIDEwNzYsOTkxIDk3MCw4NDcgOTg0LDgzNSA5ODEsOTYzIDc5NSw5OTEgNzAwLDk5MSA1MzQsOTkxIDQxOSw4ODUgNDI3LDg3MiBMIDQ0MCw5OTQgNjYsOTY1IDY2LDgxOSBDIDIzNiw4MTkgMjI1LDgyOCAyMjUsNzQ3IEwgMjI1LDE5OCBDIDI0NSwxMjkgMjQ1LDE0OSA2NiwxNDkgTCA2NiwtMSAzNDAsNiA2MTIsLTEgNjEyLDE0OSBDIDQzMiwxNDkgNDMyLDEyOSA0NTIsMTk4IEwgNDUyLDU3NSBDIDQ1Miw3NjcgNTY5LDg2MCA2ODYsODYwIDc4MCw4NjAgNzk1LDc4OCA3OTUsNjc1IEwgNzk1LDE5OCBDIDgxNSwxMjkgODE1LDE0OSA2MzUsMTQ5IEwgNjM1LC0xIDkwOSw2IDExODEsLTEgMTE4MSwxNDkgQyAxMDAxLDE0OSAxMDAxLDEyOSAxMDIxLDE5OCBMIDEwMjEsNTc1IEMgMTAyMSw3NjcgMTEzOSw4NjAgMTI1NSw4NjAgMTM0OSw4NjAgMTM2NCw3ODggMTM2NCw2NzUgTCAxMzY0LDE5OCBDIDEzODQsMTI5IDEzODQsMTQ5IDEyMDQsMTQ5IEwgMTIwNCwtMSAxNDc4LDYgMTc1MCwtMSBaIi8+CiAgIDxnbHlwaCB1bmljb2RlPSJsIiBob3Jpei1hZHYteD0iNTU3IiBkPSJNIDYwOCwtMSBMIDYwOCwxNDkgQyA0MjgsMTQ5IDQyOCwxMjkgNDQ4LDE5OCBMIDQ0OCwxNTEwIDY4LDE0ODEgNjgsMTMzNSBDIDIzOCwxMzM1IDIyNywxMzQ0IDIyNywxMjYzIEwgMjI3LDE5OCBDIDI0NywxMjkgMjQ3LDE0OSA2OCwxNDkgTCA2OCwtMSAzMzgsNiA2MDgsLTEgWiIvPgogICA8Z2x5cGggdW5pY29kZT0iaSIgaG9yaXotYWR2LXg9IjU1NyIgZD0iTSA1OTEsLTEgTCA1OTEsMTQ5IEMgNDI2LDEzMyA0NDMsMTMwIDQ0OCwxOTYgTCA0NDgsOTk0IDc2LDk2NSA3Niw4MTkgQyAyMzksODE5IDIyOSw4MjcgMjI3LDc0OSBMIDIyNywxOTggQyAyNDcsMTI5IDI0NywxNDkgNjgsMTQ5IEwgNjgsLTEgMzM2LDYgQyA0MDYsNiA0NzcsMiA1OTEsLTEgWiBNIDQ3OSwxMjgwIEMgNDc5LDEzNTEgNDA4LDE0MzEgMzI3LDE0MzEgMjM2LDE0MzEgMTc0LDEzNDUgMTc0LDEyODAgMTc0LDEyMDggMjQ1LDExMjggMzI1LDExMjggNDE3LDExMjggNDc5LDEyMTUgNDc5LDEyODAgWiIvPgogICA8Z2x5cGggdW5pY29kZT0iZyIgaG9yaXotYWR2LXg9IjEwMzMiIGQ9Ik0gMTA3OSw4NzAgQyAxMDc5LDkxMyAxMDQxLDEwMTMgOTMxLDEwMTMgODg4LDEwMTMgNzgxLDk5OCA3MTEsOTMxIDY0NCw5ODMgNTQ0LDk5MSA0OTcsOTkxIDI4OSw5OTEgMTIzLDgyNCAxMjMsNjQ5IDEyMyw1NDcgMTc3LDQ1MyAyMDUsNDMzIDIwMCw0MzIgMTU2LDM1MCAxNTYsMjY4IDE1NiwxOTcgMTg5LDk5IDIwNiw5OCAxNDAsODggNTcsLTIzIDU3LC0xMTkgNTcsLTI5MiAyOTIsLTQyMiA1NTMsLTQyMiA4MDQsLTQyMiAxMDUwLC0zMDEgMTA1MCwtMTE1IDEwNTAsLTM4IDEwMTUsOTAgODk0LDE1NiA3NzYsMjE4IDY0NywyMTggNTIyLDIxOCA0NzEsMjE4IDM4NiwyMTggMzc0LDIyMCAzMjcsMjI2IDMwMiwyNjMgMzAyLDMxNSAzMDIsMzIzIDMwMiwzNTUgMzAyLDM1NCAzNTksMzEyIDQ1NywzMDUgNDk3LDMwNSA3MDUsMzA1IDg3Miw0NzEgODcyLDY0NyA4NzIsNzMxIDgzMiw4MjQgODA4LDg0NiA4MzgsODc1IDg5Niw4ODMgOTI5LDg4MyA5MjksODgzIDkzNyw4ODUgOTQzLDkyMyA4OTYsOTQ5IDg3NSw5MDIgODc1LDg2OCA4NzUsODE1IDkyNyw3NjYgOTc3LDc2NiAxMDA1LDc2NiAxMDc5LDc5MyAxMDc5LDg3MCBaIE0gNjMzLDY0OSBDIDYzMyw1OTQgNjMxLDU0MCA2MDcsNTAwIDU5Miw0NzggNTU5LDQzOCA0OTcsNDM4IDM2Miw0MzggMzYyLDYwMCAzNjIsNjQ3IDM2Miw3MDEgMzYzLDc1NSAzODgsNzk2IDQwMyw4MTggNDM2LDg1OCA0OTcsODU4IDYzMyw4NTggNjMzLDY5NiA2MzMsNjQ5IFogTSA4NTgsLTExOSBDIDg1OCwtMjA4IDc0MiwtMjg5IDU1NSwtMjg5IDM2MiwtMjg5IDI0OSwtMjA2IDI0OSwtMTE5IDI0OSwtNDMgMzAzLDkgMzc2LDE0IEwgNDk1LDE0IEMgNjcxLDE0IDg1OCwxNCA4NTgsLTExOSBaIi8+CiAgIDxnbHlwaCB1bmljb2RlPSJlIiBob3Jpei1hZHYteD0iOTAxIiBkPSJNIDkzNSwyODYgQyA5MzUsMzQwIDg4MSwzNTQgODY2LDM1NCA4MTcsMzU0IDgwMiwzMTEgNzk4LDI5NCA3MzcsMTE0IDU4MywxMTQgNTYzLDExNCA0NzUsMTE0IDQxMSwxNjIgMzY4LDIzMSAzMTMsMzE5IDMxMyw0NDIgMzEzLDQ3MyBMIDg0MSw0NzMgQyA4ODYsNDczIDkzNSw0NzMgOTM1LDU1OSA5MzUsNzczIDgwNywxMDAzIDUyNiwxMDAzIDI2OSwxMDAzIDU3LDc2NiA1Nyw0OTMgNTcsMjAwIDI5OCwtMjMgNTUxLC0yMyA4MjksLTIzIDkzNSwyMzkgOTM1LDI4NiBaIE0gNzE1LDYwMSBMIDMxNiw2MDEgQyAzMjYsODMyIDQ2Myw4NzIgNTI2LDg3MiA2OTcsODcyIDcxNSw2MzcgNzE1LDYwMSBaIi8+CiAgIDxnbHlwaCB1bmljb2RlPSJkIiBob3Jpei1hZHYteD0iMTExMiIgZD0iTSAxMTY1LDMgTCAxMTY1LDE0OSBDIDk5NSwxNDkgMTAwNSwxNDAgMTAwNSwyMjEgTCAxMDA1LDE1MTAgNjI1LDE0ODEgNjI1LDEzMzUgQyA3OTUsMTMzNSA3ODQsMTM0NCA3ODQsMTI2MyBMIDc5NCw5MTYgQyA3OTYsOTI3IDY5MSw5OTEgNTY5LDk5MSAzMTEsOTkxIDcwLDc2NiA3MCw0ODMgNzAsMjA1IDI5NSwtMjMgNTQ2LC0yMyA2OTIsLTIzIDgwMCw1OSA3OTIsNzIgTCA3NzgsLTI2IDExNjUsMyBaIE0gNzc4LDI4NCBDIDc3OCwyNDcgODA3LDI0NyA3NjIsMjMxIDcwNywxNDMgNjM1LDEwOCA1NTcsMTA4IDQ3OCwxMDggNDIyLDE0OCAzNzgsMjE5IDMzMCwyOTQgMzI1LDM5OCAzMjUsNDgxIDMyNSw1NTYgMzI5LDY2NiAzODEsNzQ4IDQyMSw4MDcgNDgzLDg2MCA1NzcsODYwIDY0MSw4NjAgNzA4LDgzNyA3NjMsNzU2IDgwNyw3NDEgNzc4LDc0MSA3NzgsNzA0IEwgNzc4LDI4NCBaIi8+CiAgIDxnbHlwaCB1bmljb2RlPSJhIiBob3Jpei1hZHYteD0iMTAzMyIgZD0iTSAxMDc1LDIyNSBMIDEwNzUsMzgyIDkzOCwzODIgOTM4LDIyNSBDIDkzOCwxNDAgOTI0LDEzNyA5MDcsMTM3IDg3OCwxMzcgODc0LDE4OCA4NzQsMTk2IEwgODc0LDYwNiBDIDg3NCw2OTIgODc0LDc4OSA3ODgsODc3IDcwMCw5NjUgNTgyLDEwMDMgNDc3LDEwMDMgMjk2LDEwMDMgMTI1LDg4NiAxMjUsNzI5IDEyNSw2NDggMTkzLDU5MCAyNjIsNTkwIDMzOCw1OTAgMzk5LDY1NyAzOTksNzI3IDM5OSw3NTQgMzgzLDg2MSAzMzcsODYyIDMzMSw4NTQgNDEyLDg3MiA0NzMsODcyIDU2MCw4NzIgNjQ3LDgxMyA2NDcsNjUzIEwgNjQ3LDYxNyBDIDU4Myw2MTQgNDMyLDYwNyAyOTUsNTQyIDEyOCw0NjYgNjYsMzM3IDY2LDIzNyA2NiwzOCAzMDEsLTIzIDQzNiwtMjMgNTg3LC0yMyA3MDEsNzcgNjkyLDExNCA2NzEsMTAyIDc0NCwtMTIgODY0LC0xMiA5MTIsLTEyIDEwNzUsMjUgMTA3NSwyMjUgWiBNIDY0NywzMjkgQyA2NDcsMTYyIDUzMywxMDggNDUwLDEwOCAzNjYsMTA4IDMwOSwxNTcgMzA5LDIzOSAzMDksMzQyIDM3OSw0ODAgNjQ3LDQ5MCBMIDY0NywzMjkgWiIvPgogICA8Z2x5cGggdW5pY29kZT0iUiIgaG9yaXotYWR2LXg9IjE1MzYiIGQ9Ik0gMTU4NCwyMjMgQyAxNTg0LDIzNSAxNTg0LDMwMCAxNTE1LDMwMCAxNDUwLDMwMCAxNDUwLDI0MiAxNDQ4LDIzMCAxNDM4LDEwNyAxMzk2LDg1IDEzNTUsODUgMTI5Miw4NSAxMjgxLDE1NCAxMjUyLDM0NCBMIDEyMjUsNTExIEMgMTE4Myw2NTkgMTA2NSw3MzkgMTA1OCw3MzMgMTE1MSw3NDkgMTMzNSw4OTIgMTMzNSwxMDczIDEzMzUsMTI5MSAxMDcyLDE0ODQgNzU3LDE0ODQgTCA3MiwxNDg0IDcyLDEzMzUgMTYzLDEzMzUgQyAyOTgsMTM1MSAyODMsMTM1MiAyODMsMTI4MiBMIDI4MywyMDIgQyAyODMsMTMzIDI5OCwxMzQgMTYzLDE0OSBMIDcyLDE0OSA3MiwtNCBDIDE5MCw2IDMzMyw2IDQxMyw2IDQ5Myw2IDYzNyw2IDc1NSwtNCBMIDc1NSwxNDkgNjYzLDE0OSBDIDUyOCwxMzQgNTQ0LDEzMyA1NDQsMjAyIEwgNTQ0LDY3OCA3MzcsNjc4IEMgNzcwLDY3OCA4MzgsNjc4IDg5OCw2MjAgOTYzLDU1OSA5NjMsNTE0IDk2MywzNzYgOTYzLDI0MyA5NjMsMTQzIDEwNjEsNTIgMTE1NSwtMzEgMTI4MywtNDUgMTM0NywtNDUgMTU0MiwtNDUgMTU4NCwxNjEgMTU4NCwyMjMgWiBNIDEwMzgsMTA3MyBDIDEwMzgsOTM4IDEwMDAsODA4IDcyOSw4MDggTCA1NDQsODA4IDU0NCwxMjk2IEMgNTQ0LDEzNDMgNTMwLDEzNDMgNTU0LDEzMzIgNTcxLDEzMzUgNjI2LDEzMzUgNjY3LDEzMzUgODUxLDEzMzUgMTAzOCwxMzI5IDEwMzgsMTA3MyBaIi8+CiAgIDxnbHlwaCB1bmljb2RlPSJOIiBob3Jpei1hZHYteD0iMTUwOSIgZD0iTSAxNTUyLDEzMzUgTCAxNTUyLDE0ODUgMTI2OSwxNDc4IDk4NywxNDg1IDk4NywxMzM1IEMgMTE5OCwxMzM1IDExOTgsMTI4MiAxMTk4LDEyMjYgTCAxMTk4LDQ5MCA1NTMsMTQ0MCBDIDUzMiwxNDY3IDUxNSwxNDg0IDQ1OCwxNDg0IEwgNjgsMTQ4NCA2OCwxMzM1IDE3MCwxMzM1IEMgMTk5LDEzMzUgMjM5LDEzMzMgMjY4LDEzMzEgMzE1LDEzNjAgMzE0LDEzNjMgMjc5LDEzMjcgTCAyNzksMjU4IEMgMjc5LDIwMiAyNzksMTQ5IDY4LDE0OSBMIDY4LC0xIDM1MCw2IDYzMiwtMSA2MzIsMTQ5IEMgNDIxLDE0OSA0MjEsMjAyIDQyMSwyNTggTCAzODUsMTMwOCBDIDM1OSwxMjgyIDM2OCwxMjkyIDM2NCwxMjc0IEwgMTIwMCw0NCBDIDEyMjEsMTcgMTIzNywwIDEyNjksMCAxMzQxLDAgMTM0MSw1NyAxMzQxLDk2IEwgMTM0MSwxMjI2IEMgMTM0MSwxMjgyIDEzNDEsMTMzNSAxNTUyLDEzMzUgWiIvPgogICA8Z2x5cGggdW5pY29kZT0iRSIgaG9yaXotYWR2LXg9IjEzNzciIGQ9Ik0gMTQyOCw2MTQgTCAxMjkwLDYxNCBDIDEyMzQsMjY2IDExOTcsMTQ5IDg3NiwxNDkgTCA2MDQsMTQ5IEMgNTIyLDEyNiA1NDYsMTI2IDU0NiwxODggTCA1NDYsNjkyIDY4OCw2OTIgQyA4NTYsNjkyIDg2Niw2NjIgODY2LDQ1MyBMIDEwMDMsNDUzIDEwMDMsMTA4MSA4NjYsMTA4MSBDIDg2Niw4NjkgODU2LDg0MSA2ODgsODQxIEwgNTQ2LDg0MSA1NDYsMTI5MCBDIDU0NiwxMzUyIDUyMiwxMzUyIDYwNCwxMzI5IEwgODY4LDEzMjkgQyAxMTU1LDEzMjkgMTE5NSwxMjQ3IDEyMzEsOTMyIEwgMTM2OSw5MzIgMTMwMSwxNDc4IDY4LDE0NzggNjgsMTMyOSAxNTksMTMyOSBDIDI5NCwxMzQ0IDI3OSwxMzQ1IDI3OSwxMjc2IEwgMjc5LDIwMiBDIDI3OSwxMzMgMjk0LDEzNCAxNTksMTQ5IEwgNjgsMTQ5IDY4LDAgMTMyOCwwIDE0MjgsNjE0IFoiLz4KICAgPGdseXBoIHVuaWNvZGU9IkQiIGhvcml6LWFkdi14PSIxNDgzIiBkPSJNIDE1MzMsNzMxIEMgMTUzMywxMTM2IDEyMzQsMTQ4NCA4NjQsMTQ4NCBMIDcyLDE0ODQgNzIsMTMzNSAxNjMsMTMzNSBDIDI5OCwxMzUxIDI4MywxMzUyIDI4MywxMjgyIEwgMjgzLDIwMiBDIDI4MywxMzMgMjk4LDEzNCAxNjMsMTQ5IEwgNzIsMTQ5IDcyLDAgODY0LDAgQyAxMjI3LDAgMTUzMywzMjkgMTUzMyw3MzEgWiBNIDEyNDMsNzMxIEMgMTI0Myw1MTAgMTIwOCw0MDAgMTEzOSwzMDYgMTEwMCwyNTMgOTk4LDE0OSA4MDksMTQ5IEwgNjAyLDE0OSBDIDUyMCwxMjYgNTQ0LDEyNiA1NDQsMTg4IEwgNTQ0LDEyOTYgQyA1NDQsMTM1OCA1MjAsMTM1OCA2MDIsMTMzNSBMIDgwNywxMzM1IEMgOTI3LDEzMzUgMTA0OCwxMjk3IDExNDUsMTE2MiAxMjI2LDEwNTEgMTI0Myw4ODggMTI0Myw3MzEgWiIvPgogICA8Z2x5cGggdW5pY29kZT0iICIgaG9yaXotYWR2LXg9IjY4OCIvPgogIDwvZm9udD4KIDwvZGVmcz4KIDxkZWZzIGNsYXNzPSJUZXh0U2hhcGVJbmRleCI+CiAgPGcgb29vOnNsaWRlPSJpZDEiIG9vbzppZC1saXN0PSJpZDMgaWQ0IGlkNSBpZDYgaWQ3IGlkOCBpZDkgaWQxMCBpZDExIGlkMTIgaWQxMyBpZDE0IGlkMTUgaWQxNiBpZDE3IGlkMTggaWQxOSBpZDIwIGlkMjEgaWQyMiBpZDIzIGlkMjQgaWQyNSBpZDI2IGlkMjcgaWQyOCBpZDI5IGlkMzAgaWQzMSBpZDMyIGlkMzMgaWQzNCBpZDM1IGlkMzYgaWQzNyBpZDM4IGlkMzkgaWQ0MCBpZDQxIGlkNDIgaWQ0MyBpZDQ0IGlkNDUgaWQ0NiBpZDQ3IGlkNDggaWQ0OSBpZDUwIGlkNTEgaWQ1MiBpZDUzIGlkNTQgaWQ1NSBpZDU2IGlkNTcgaWQ1OCBpZDU5IGlkNjAgaWQ2MSBpZDYyIGlkNjMgaWQ2NCBpZDY1IGlkNjYgaWQ2NyBpZDY4IGlkNjkiLz4KIDwvZGVmcz4KIDxkZWZzIGNsYXNzPSJFbWJlZGRlZEJ1bGxldENoYXJzIj4KICA8ZyBpZD0iYnVsbGV0LWNoYXItdGVtcGxhdGUtNTczNTYiIHRyYW5zZm9ybT0ic2NhbGUoMC4wMDA0ODgyODEyNSwtMC4wMDA0ODgyODEyNSkiPgogICA8cGF0aCBkPSJNIDU4MCwxMTQxIEwgMTE2Myw1NzEgNTgwLDAgLTQsNTcxIDU4MCwxMTQxIFoiLz4KICA8L2c+CiAgPGcgaWQ9ImJ1bGxldC1jaGFyLXRlbXBsYXRlLTU3MzU0IiB0cmFuc2Zvcm09InNjYWxlKDAuMDAwNDg4MjgxMjUsLTAuMDAwNDg4MjgxMjUpIj4KICAgPHBhdGggZD0iTSA4LDExMjggTCAxMTM3LDExMjggMTEzNywwIDgsMCA4LDExMjggWiIvPgogIDwvZz4KICA8ZyBpZD0iYnVsbGV0LWNoYXItdGVtcGxhdGUtMTAxNDYiIHRyYW5zZm9ybT0ic2NhbGUoMC4wMDA0ODgyODEyNSwtMC4wMDA0ODgyODEyNSkiPgogICA8cGF0aCBkPSJNIDE3NCwwIEwgNjAyLDczOSAxNzQsMTQ4MSAxNDU2LDczOSAxNzQsMCBaIE0gMTM1OCw3MzkgTCAzMDksMTM0NiA2NTksNzM5IDEzNTgsNzM5IFoiLz4KICA8L2c+CiAgPGcgaWQ9ImJ1bGxldC1jaGFyLXRlbXBsYXRlLTEwMTMyIiB0cmFuc2Zvcm09InNjYWxlKDAuMDAwNDg4MjgxMjUsLTAuMDAwNDg4MjgxMjUpIj4KICAgPHBhdGggZD0iTSAyMDE1LDczOSBMIDEyNzYsMCA3MTcsMCAxMjYwLDU0MyAxNzQsNTQzIDE3NCw5MzYgMTI2MCw5MzYgNzE3LDE0ODEgMTI3NCwxNDgxIDIwMTUsNzM5IFoiLz4KICA8L2c+CiAgPGcgaWQ9ImJ1bGxldC1jaGFyLXRlbXBsYXRlLTEwMDA3IiB0cmFuc2Zvcm09InNjYWxlKDAuMDAwNDg4MjgxMjUsLTAuMDAwNDg4MjgxMjUpIj4KICAgPHBhdGggZD0iTSAwLC0yIEMgLTcsMTQgLTE2LDI3IC0yNSwzNyBMIDM1Niw1NjcgQyAyNjIsODIzIDIxNSw5NTIgMjE1LDk1NCAyMTUsOTc5IDIyOCw5OTIgMjU1LDk5MiAyNjQsOTkyIDI3Niw5OTAgMjg5LDk4NyAzMTAsOTkxIDMzMSw5OTkgMzU0LDEwMTIgTCAzODEsOTk5IDQ5Miw3NDggNzcyLDEwNDkgODM2LDEwMjQgODYwLDEwNDkgQyA4ODEsMTAzOSA5MDEsMTAyNSA5MjIsMTAwNiA4ODYsOTM3IDgzNSw4NjMgNzcwLDc4NCA3NjksNzgzIDcxMCw3MTYgNTk0LDU4NCBMIDc3NCwyMjMgQyA3NzQsMTk2IDc1MywxNjggNzExLDEzOSBMIDcyNywxMTkgQyA3MTcsOTAgNjk5LDc2IDY3Miw3NiA2NDEsNzYgNTcwLDE3OCA0NTcsMzgxIEwgMTY0LC03NiBDIDE0MiwtMTEwIDExMSwtMTI3IDcyLC0xMjcgMzAsLTEyNyA5LC0xMTAgOCwtNzYgMSwtNjcgLTIsLTUyIC0yLC0zMiAtMiwtMjMgLTEsLTEzIDAsLTIgWiIvPgogIDwvZz4KICA8ZyBpZD0iYnVsbGV0LWNoYXItdGVtcGxhdGUtMTAwMDQiIHRyYW5zZm9ybT0ic2NhbGUoMC4wMDA0ODgyODEyNSwtMC4wMDA0ODgyODEyNSkiPgogICA8cGF0aCBkPSJNIDI4NSwtMzMgQyAxODIsLTMzIDExMSwzMCA3NCwxNTYgNTIsMjI4IDQxLDMzMyA0MSw0NzEgNDEsNTQ5IDU1LDYxNiA4Miw2NzIgMTE2LDc0MyAxNjksNzc4IDI0MCw3NzggMjkzLDc3OCAzMjgsNzQ3IDM0Niw2ODQgTCAzNjksNTA4IEMgMzc3LDQ0NCAzOTcsNDExIDQyOCw0MTAgTCAxMTYzLDExMTYgQyAxMTc0LDExMjcgMTE5NiwxMTMzIDEyMjksMTEzMyAxMjcxLDExMzMgMTI5MiwxMTE4IDEyOTIsMTA4NyBMIDEyOTIsOTY1IEMgMTI5Miw5MjkgMTI4Miw5MDEgMTI2Miw4ODEgTCA0NDIsNDcgQyAzOTAsLTYgMzM4LC0zMyAyODUsLTMzIFoiLz4KICA8L2c+CiAgPGcgaWQ9ImJ1bGxldC1jaGFyLXRlbXBsYXRlLTk2NzkiIHRyYW5zZm9ybT0ic2NhbGUoMC4wMDA0ODgyODEyNSwtMC4wMDA0ODgyODEyNSkiPgogICA8cGF0aCBkPSJNIDgxMywwIEMgNjMyLDAgNDg5LDU0IDM4MywxNjEgMjc2LDI2OCAyMjMsNDExIDIyMyw1OTIgMjIzLDc3MyAyNzYsOTE2IDM4MywxMDIzIDQ4OSwxMTMwIDYzMiwxMTg0IDgxMywxMTg0IDk5MiwxMTg0IDExMzYsMTEzMCAxMjQ1LDEwMjMgMTM1Myw5MTYgMTQwNyw3NzIgMTQwNyw1OTIgMTQwNyw0MTIgMTM1MywyNjggMTI0NSwxNjEgMTEzNiw1NCA5OTIsMCA4MTMsMCBaIi8+CiAgPC9nPgogIDxnIGlkPSJidWxsZXQtY2hhci10ZW1wbGF0ZS04MjI2IiB0cmFuc2Zvcm09InNjYWxlKDAuMDAwNDg4MjgxMjUsLTAuMDAwNDg4MjgxMjUpIj4KICAgPHBhdGggZD0iTSAzNDYsNDU3IEMgMjczLDQ1NyAyMDksNDgzIDE1NSw1MzUgMTAxLDU4NiA3NCw2NDkgNzQsNzIzIDc0LDc5NiAxMDEsODU5IDE1NSw5MTEgMjA5LDk2MyAyNzMsOTg5IDM0Niw5ODkgNDE5LDk4OSA0ODAsOTYzIDUzMSw5MTAgNTgyLDg1OSA2MDgsNzk2IDYwOCw3MjMgNjA4LDY0OCA1ODMsNTg2IDUzMiw1MzUgNDgyLDQ4MyA0MjAsNDU3IDM0Niw0NTcgWiIvPgogIDwvZz4KICA8ZyBpZD0iYnVsbGV0LWNoYXItdGVtcGxhdGUtODIxMSIgdHJhbnNmb3JtPSJzY2FsZSgwLjAwMDQ4ODI4MTI1LC0wLjAwMDQ4ODI4MTI1KSI+CiAgIDxwYXRoIGQ9Ik0gLTQsNDU5IEwgMTEzNSw0NTkgMTEzNSw2MDYgLTQsNjA2IC00LDQ1OSBaIi8+CiAgPC9nPgogIDxnIGlkPSJidWxsZXQtY2hhci10ZW1wbGF0ZS02MTU0OCIgdHJhbnNmb3JtPSJzY2FsZSgwLjAwMDQ4ODI4MTI1LC0wLjAwMDQ4ODI4MTI1KSI+CiAgIDxwYXRoIGQ9Ik0gMTczLDc0MCBDIDE3Myw5MDMgMjMxLDEwNDMgMzQ2LDExNTkgNDYyLDEyNzQgNjAxLDEzMzIgNzY1LDEzMzIgOTI4LDEzMzIgMTA2NywxMjc0IDExODMsMTE1OSAxMjk5LDEwNDMgMTM1Nyw5MDMgMTM1Nyw3NDAgMTM1Nyw1NzcgMTI5OSw0MzcgMTE4MywzMjIgMTA2NywyMDYgOTI4LDE0OCA3NjUsMTQ4IDYwMSwxNDggNDYyLDIwNiAzNDYsMzIyIDIzMSw0MzcgMTczLDU3NyAxNzMsNzQwIFoiLz4KICA8L2c+CiA8L2RlZnM+CiA8ZGVmcyBjbGFzcz0iVGV4dEVtYmVkZGVkQml0bWFwcyIvPgogPGc+CiAgPGcgaWQ9ImlkMiIgY2xhc3M9Ik1hc3Rlcl9TbGlkZSI+CiAgIDxnIGlkPSJiZy1pZDIiIGNsYXNzPSJCYWNrZ3JvdW5kIi8+CiAgIDxnIGlkPSJiby1pZDIiIGNsYXNzPSJCYWNrZ3JvdW5kT2JqZWN0cyIvPgogIDwvZz4KIDwvZz4KIDxnIGNsYXNzPSJTbGlkZUdyb3VwIj4KICA8Zz4KICAgPGcgaWQ9ImNvbnRhaW5lci1pZDEiPgogICAgPGcgaWQ9ImlkMSIgY2xhc3M9IlNsaWRlIiBjbGlwLXBhdGg9InVybCgjcHJlc2VudGF0aW9uX2NsaXBfcGF0aCkiPgogICAgIDxnIGNsYXNzPSJQYWdlIj4KICAgICAgPGcgY2xhc3M9Ikdyb3VwIj4KICAgICAgIDxnIGNsYXNzPSJjb20uc3VuLnN0YXIuZHJhd2luZy5DdXN0b21TaGFwZSI+CiAgICAgICAgPGcgaWQ9ImlkMyI+CiAgICAgICAgIDxyZWN0IGNsYXNzPSJCb3VuZGluZ0JveCIgc3Ryb2tlPSJub25lIiBmaWxsPSJub25lIiB4PSI0NDY2IiB5PSI3NzQzIiB3aWR0aD0iNzY2IiBoZWlnaHQ9Ijc2NiIvPgogICAgICAgICA8cGF0aCBmaWxsPSJyZ2IoMTE0LDE1OSwyMDcpIiBzdHJva2U9Im5vbmUiIGQ9Ik0gNDg0OCw3NzQ0IEMgNTA2NCw3NzQ0IDUyMjksNzkwOSA1MjI5LDgxMjUgNTIyOSw4MzQxIDUwNjQsODUwNiA0ODQ4LDg1MDYgNDYzMiw4NTA2IDQ0NjcsODM0MSA0NDY3LDgxMjUgNDQ2Nyw3OTA5IDQ2MzIsNzc0NCA0ODQ4LDc3NDQgWiBNIDQ0NjcsNzc0NCBMIDQ0NjcsNzc0NCBaIE0gNTIzMCw4NTA3IEwgNTIzMCw4NTA3IFoiLz4KICAgICAgICAgPHBhdGggZmlsbD0ibm9uZSIgc3Ryb2tlPSJyZ2IoNTIsMTAxLDE2NCkiIGQ9Ik0gNDg0OCw3NzQ0IEMgNTA2NCw3NzQ0IDUyMjksNzkwOSA1MjI5LDgxMjUgNTIyOSw4MzQxIDUwNjQsODUwNiA0ODQ4LDg1MDYgNDYzMiw4NTA2IDQ0NjcsODM0MSA0NDY3LDgxMjUgNDQ2Nyw3OTA5IDQ2MzIsNzc0NCA0ODQ4LDc3NDQgWiIvPgogICAgICAgICA8cGF0aCBmaWxsPSJub25lIiBzdHJva2U9InJnYig1MiwxMDEsMTY0KSIgZD0iTSA0NDY3LDc3NDQgTCA0NDY3LDc3NDQgWiIvPgogICAgICAgICA8cGF0aCBmaWxsPSJub25lIiBzdHJva2U9InJnYig1MiwxMDEsMTY0KSIgZD0iTSA1MjMwLDg1MDcgTCA1MjMwLDg1MDcgWiIvPgogICAgICAgIDwvZz4KICAgICAgIDwvZz4KICAgICAgIDxnIGNsYXNzPSJjb20uc3VuLnN0YXIuZHJhd2luZy5DdXN0b21TaGFwZSI+CiAgICAgICAgPGcgaWQ9ImlkNCI+CiAgICAgICAgIDxyZWN0IGNsYXNzPSJCb3VuZGluZ0JveCIgc3Ryb2tlPSJub25lIiBmaWxsPSJub25lIiB4PSI0NDY3IiB5PSIxMjk0NCIgd2lkdGg9Ijc2NiIgaGVpZ2h0PSI3NjYiLz4KICAgICAgICAgPHBhdGggZmlsbD0icmdiKDExNCwxNTksMjA3KSIgc3Ryb2tlPSJub25lIiBkPSJNIDQ4NDksMTI5NDUgQyA1MDY1LDEyOTQ1IDUyMzAsMTMxMTAgNTIzMCwxMzMyNiA1MjMwLDEzNTQyIDUwNjUsMTM3MDcgNDg0OSwxMzcwNyA0NjMzLDEzNzA3IDQ0NjgsMTM1NDIgNDQ2OCwxMzMyNiA0NDY4LDEzMTEwIDQ2MzMsMTI5NDUgNDg0OSwxMjk0NSBaIE0gNDQ2OCwxMjk0NSBMIDQ0NjgsMTI5NDUgWiBNIDUyMzEsMTM3MDggTCA1MjMxLDEzNzA4IFoiLz4KICAgICAgICAgPHBhdGggZmlsbD0ibm9uZSIgc3Ryb2tlPSJyZ2IoNTIsMTAxLDE2NCkiIGQ9Ik0gNDg0OSwxMjk0NSBDIDUwNjUsMTI5NDUgNTIzMCwxMzExMCA1MjMwLDEzMzI2IDUyMzAsMTM1NDIgNTA2NSwxMzcwNyA0ODQ5LDEzNzA3IDQ2MzMsMTM3MDcgNDQ2OCwxMzU0MiA0NDY4LDEzMzI2IDQ0NjgsMTMxMTAgNDYzMywxMjk0NSA0ODQ5LDEyOTQ1IFoiLz4KICAgICAgICAgPHBhdGggZmlsbD0ibm9uZSIgc3Ryb2tlPSJyZ2IoNTIsMTAxLDE2NCkiIGQ9Ik0gNDQ2OCwxMjk0NSBMIDQ0NjgsMTI5NDUgWiIvPgogICAgICAgICA8cGF0aCBmaWxsPSJub25lIiBzdHJva2U9InJnYig1MiwxMDEsMTY0KSIgZD0iTSA1MjMxLDEzNzA4IEwgNTIzMSwxMzcwOCBaIi8+CiAgICAgICAgPC9nPgogICAgICAgPC9nPgogICAgICAgPGcgY2xhc3M9ImNvbS5zdW4uc3Rhci5kcmF3aW5nLkN1c3RvbVNoYXBlIj4KICAgICAgICA8ZyBpZD0iaWQ1Ij4KICAgICAgICAgPHJlY3QgY2xhc3M9IkJvdW5kaW5nQm94IiBzdHJva2U9Im5vbmUiIGZpbGw9Im5vbmUiIHg9IjQ0NjkiIHk9IjExNDU2IiB3aWR0aD0iNzY2IiBoZWlnaHQ9Ijc2NiIvPgogICAgICAgICA8cGF0aCBmaWxsPSJyZ2IoMTE0LDE1OSwyMDcpIiBzdHJva2U9Im5vbmUiIGQ9Ik0gNDg1MSwxMTQ1NyBDIDUwNjcsMTE0NTcgNTIzMiwxMTYyMiA1MjMyLDExODM4IDUyMzIsMTIwNTQgNTA2NywxMjIxOSA0ODUxLDEyMjE5IDQ2MzUsMTIyMTkgNDQ3MCwxMjA1NCA0NDcwLDExODM4IDQ0NzAsMTE2MjIgNDYzNSwxMTQ1NyA0ODUxLDExNDU3IFogTSA0NDcwLDExNDU3IEwgNDQ3MCwxMTQ1NyBaIE0gNTIzMywxMjIyMCBMIDUyMzMsMTIyMjAgWiIvPgogICAgICAgICA8cGF0aCBmaWxsPSJub25lIiBzdHJva2U9InJnYig1MiwxMDEsMTY0KSIgZD0iTSA0ODUxLDExNDU3IEMgNTA2NywxMTQ1NyA1MjMyLDExNjIyIDUyMzIsMTE4MzggNTIzMiwxMjA1NCA1MDY3LDEyMjE5IDQ4NTEsMTIyMTkgNDYzNSwxMjIxOSA0NDcwLDEyMDU0IDQ0NzAsMTE4MzggNDQ3MCwxMTYyMiA0NjM1LDExNDU3IDQ4NTEsMTE0NTcgWiIvPgogICAgICAgICA8cGF0aCBmaWxsPSJub25lIiBzdHJva2U9InJnYig1MiwxMDEsMTY0KSIgZD0iTSA0NDcwLDExNDU3IEwgNDQ3MCwxMTQ1NyBaIi8+CiAgICAgICAgIDxwYXRoIGZpbGw9Im5vbmUiIHN0cm9rZT0icmdiKDUyLDEwMSwxNjQpIiBkPSJNIDUyMzMsMTIyMjAgTCA1MjMzLDEyMjIwIFoiLz4KICAgICAgICA8L2c+CiAgICAgICA8L2c+CiAgICAgICA8ZyBjbGFzcz0iY29tLnN1bi5zdGFyLmRyYXdpbmcuQ3VzdG9tU2hhcGUiPgogICAgICAgIDxnIGlkPSJpZDYiPgogICAgICAgICA8cmVjdCBjbGFzcz0iQm91bmRpbmdCb3giIHN0cm9rZT0ibm9uZSIgZmlsbD0ibm9uZSIgeD0iNDQ2NyIgeT0iOTIzNSIgd2lkdGg9Ijc2NiIgaGVpZ2h0PSI3NjYiLz4KICAgICAgICAgPHBhdGggZmlsbD0icmdiKDExNCwxNTksMjA3KSIgc3Ryb2tlPSJub25lIiBkPSJNIDQ4NDksOTIzNiBDIDUwNjUsOTIzNiA1MjMwLDk0MDEgNTIzMCw5NjE3IDUyMzAsOTgzMyA1MDY1LDk5OTggNDg0OSw5OTk4IDQ2MzMsOTk5OCA0NDY4LDk4MzMgNDQ2OCw5NjE3IDQ0NjgsOTQwMSA0NjMzLDkyMzYgNDg0OSw5MjM2IFogTSA0NDY4LDkyMzYgTCA0NDY4LDkyMzYgWiBNIDUyMzEsOTk5OSBMIDUyMzEsOTk5OSBaIi8+CiAgICAgICAgIDxwYXRoIGZpbGw9Im5vbmUiIHN0cm9rZT0icmdiKDUyLDEwMSwxNjQpIiBkPSJNIDQ4NDksOTIzNiBDIDUwNjUsOTIzNiA1MjMwLDk0MDEgNTIzMCw5NjE3IDUyMzAsOTgzMyA1MDY1LDk5OTggNDg0OSw5OTk4IDQ2MzMsOTk5OCA0NDY4LDk4MzMgNDQ2OCw5NjE3IDQ0NjgsOTQwMSA0NjMzLDkyMzYgNDg0OSw5MjM2IFoiLz4KICAgICAgICAgPHBhdGggZmlsbD0ibm9uZSIgc3Ryb2tlPSJyZ2IoNTIsMTAxLDE2NCkiIGQ9Ik0gNDQ2OCw5MjM2IEwgNDQ2OCw5MjM2IFoiLz4KICAgICAgICAgPHBhdGggZmlsbD0ibm9uZSIgc3Ryb2tlPSJyZ2IoNTIsMTAxLDE2NCkiIGQ9Ik0gNTIzMSw5OTk5IEwgNTIzMSw5OTk5IFoiLz4KICAgICAgICA8L2c+CiAgICAgICA8L2c+CiAgICAgICA8ZyBjbGFzcz0iY29tLnN1bi5zdGFyLmRyYXdpbmcuTGluZVNoYXBlIj4KICAgICAgICA8ZyBpZD0iaWQ3Ij4KICAgICAgICAgPHJlY3QgY2xhc3M9IkJvdW5kaW5nQm94IiBzdHJva2U9Im5vbmUiIGZpbGw9Im5vbmUiIHg9IjQxMzMiIHk9IjEwNjQ3IiB3aWR0aD0iMTgxMiIgaGVpZ2h0PSIxNjEiLz4KICAgICAgICAgPHBhdGggZmlsbD0ibm9uZSIgc3Ryb2tlPSJyZ2IoMCwwLDApIiBzdHJva2Utd2lkdGg9IjE1OSIgc3Ryb2tlLWxpbmVqb2luPSJyb3VuZCIgZD0iTSA0MjEzLDEwNzI3IEwgNDM3MiwxMDcyNyIvPgogICAgICAgICA8cGF0aCBmaWxsPSJub25lIiBzdHJva2U9InJnYigwLDAsMCkiIHN0cm9rZS13aWR0aD0iMTU5IiBzdHJva2UtbGluZWpvaW49InJvdW5kIiBkPSJNIDQ4MjksMTA3MjcgTCA0OTg4LDEwNzI3Ii8+CiAgICAgICAgIDxwYXRoIGZpbGw9Im5vbmUiIHN0cm9rZT0icmdiKDAsMCwwKSIgc3Ryb2tlLXdpZHRoPSIxNTkiIHN0cm9rZS1saW5lam9pbj0icm91bmQiIGQ9Ik0gNTQ0NSwxMDcyNyBMIDU2MDQsMTA3MjciLz4KICAgICAgICA8L2c+CiAgICAgICA8L2c+CiAgICAgIDwvZz4KICAgICAgPGcgY2xhc3M9Ikdyb3VwIj4KICAgICAgIDxnIGNsYXNzPSJjb20uc3VuLnN0YXIuZHJhd2luZy5DdXN0b21TaGFwZSI+CiAgICAgICAgPGcgaWQ9ImlkOCI+CiAgICAgICAgIDxyZWN0IGNsYXNzPSJCb3VuZGluZ0JveCIgc3Ryb2tlPSJub25lIiBmaWxsPSJub25lIiB4PSI3NzMxIiB5PSI3NzQzIiB3aWR0aD0iNzY2IiBoZWlnaHQ9Ijc2NiIvPgogICAgICAgICA8cGF0aCBmaWxsPSJyZ2IoMTE0LDE1OSwyMDcpIiBzdHJva2U9Im5vbmUiIGQ9Ik0gODExMyw3NzQ0IEMgODMyOSw3NzQ0IDg0OTQsNzkwOSA4NDk0LDgxMjUgODQ5NCw4MzQxIDgzMjksODUwNiA4MTEzLDg1MDYgNzg5Nyw4NTA2IDc3MzIsODM0MSA3NzMyLDgxMjUgNzczMiw3OTA5IDc4OTcsNzc0NCA4MTEzLDc3NDQgWiBNIDc3MzIsNzc0NCBMIDc3MzIsNzc0NCBaIE0gODQ5NSw4NTA3IEwgODQ5NSw4NTA3IFoiLz4KICAgICAgICAgPHBhdGggZmlsbD0ibm9uZSIgc3Ryb2tlPSJyZ2IoNTIsMTAxLDE2NCkiIGQ9Ik0gODExMyw3NzQ0IEMgODMyOSw3NzQ0IDg0OTQsNzkwOSA4NDk0LDgxMjUgODQ5NCw4MzQxIDgzMjksODUwNiA4MTEzLDg1MDYgNzg5Nyw4NTA2IDc3MzIsODM0MSA3NzMyLDgxMjUgNzczMiw3OTA5IDc4OTcsNzc0NCA4MTEzLDc3NDQgWiIvPgogICAgICAgICA8cGF0aCBmaWxsPSJub25lIiBzdHJva2U9InJnYig1MiwxMDEsMTY0KSIgZD0iTSA3NzMyLDc3NDQgTCA3NzMyLDc3NDQgWiIvPgogICAgICAgICA8cGF0aCBmaWxsPSJub25lIiBzdHJva2U9InJnYig1MiwxMDEsMTY0KSIgZD0iTSA4NDk1LDg1MDcgTCA4NDk1LDg1MDcgWiIvPgogICAgICAgIDwvZz4KICAgICAgIDwvZz4KICAgICAgIDxnIGNsYXNzPSJjb20uc3VuLnN0YXIuZHJhd2luZy5DdXN0b21TaGFwZSI+CiAgICAgICAgPGcgaWQ9ImlkOSI+CiAgICAgICAgIDxyZWN0IGNsYXNzPSJCb3VuZGluZ0JveCIgc3Ryb2tlPSJub25lIiBmaWxsPSJub25lIiB4PSI3NzMyIiB5PSIxMjk0NCIgd2lkdGg9Ijc2NiIgaGVpZ2h0PSI3NjYiLz4KICAgICAgICAgPHBhdGggZmlsbD0icmdiKDExNCwxNTksMjA3KSIgc3Ryb2tlPSJub25lIiBkPSJNIDgxMTQsMTI5NDUgQyA4MzMwLDEyOTQ1IDg0OTUsMTMxMTAgODQ5NSwxMzMyNiA4NDk1LDEzNTQyIDgzMzAsMTM3MDcgODExNCwxMzcwNyA3ODk4LDEzNzA3IDc3MzMsMTM1NDIgNzczMywxMzMyNiA3NzMzLDEzMTEwIDc4OTgsMTI5NDUgODExNCwxMjk0NSBaIE0gNzczMywxMjk0NSBMIDc3MzMsMTI5NDUgWiBNIDg0OTYsMTM3MDggTCA4NDk2LDEzNzA4IFoiLz4KICAgICAgICAgPHBhdGggZmlsbD0ibm9uZSIgc3Ryb2tlPSJyZ2IoNTIsMTAxLDE2NCkiIGQ9Ik0gODExNCwxMjk0NSBDIDgzMzAsMTI5NDUgODQ5NSwxMzExMCA4NDk1LDEzMzI2IDg0OTUsMTM1NDIgODMzMCwxMzcwNyA4MTE0LDEzNzA3IDc4OTgsMTM3MDcgNzczMywxMzU0MiA3NzMzLDEzMzI2IDc3MzMsMTMxMTAgNzg5OCwxMjk0NSA4MTE0LDEyOTQ1IFoiLz4KICAgICAgICAgPHBhdGggZmlsbD0ibm9uZSIgc3Ryb2tlPSJyZ2IoNTIsMTAxLDE2NCkiIGQ9Ik0gNzczMywxMjk0NSBMIDc3MzMsMTI5NDUgWiIvPgogICAgICAgICA8cGF0aCBmaWxsPSJub25lIiBzdHJva2U9InJnYig1MiwxMDEsMTY0KSIgZD0iTSA4NDk2LDEzNzA4IEwgODQ5NiwxMzcwOCBaIi8+CiAgICAgICAgPC9nPgogICAgICAgPC9nPgogICAgICAgPGcgY2xhc3M9ImNvbS5zdW4uc3Rhci5kcmF3aW5nLkN1c3RvbVNoYXBlIj4KICAgICAgICA8ZyBpZD0iaWQxMCI+CiAgICAgICAgIDxyZWN0IGNsYXNzPSJCb3VuZGluZ0JveCIgc3Ryb2tlPSJub25lIiBmaWxsPSJub25lIiB4PSI3NzM0IiB5PSIxMTQ1NiIgd2lkdGg9Ijc2NiIgaGVpZ2h0PSI3NjYiLz4KICAgICAgICAgPHBhdGggZmlsbD0icmdiKDExNCwxNTksMjA3KSIgc3Ryb2tlPSJub25lIiBkPSJNIDgxMTYsMTE0NTcgQyA4MzMyLDExNDU3IDg0OTcsMTE2MjIgODQ5NywxMTgzOCA4NDk3LDEyMDU0IDgzMzIsMTIyMTkgODExNiwxMjIxOSA3OTAwLDEyMjE5IDc3MzUsMTIwNTQgNzczNSwxMTgzOCA3NzM1LDExNjIyIDc5MDAsMTE0NTcgODExNiwxMTQ1NyBaIE0gNzczNSwxMTQ1NyBMIDc3MzUsMTE0NTcgWiBNIDg0OTgsMTIyMjAgTCA4NDk4LDEyMjIwIFoiLz4KICAgICAgICAgPHBhdGggZmlsbD0ibm9uZSIgc3Ryb2tlPSJyZ2IoNTIsMTAxLDE2NCkiIGQ9Ik0gODExNiwxMTQ1NyBDIDgzMzIsMTE0NTcgODQ5NywxMTYyMiA4NDk3LDExODM4IDg0OTcsMTIwNTQgODMzMiwxMjIxOSA4MTE2LDEyMjE5IDc5MDAsMTIyMTkgNzczNSwxMjA1NCA3NzM1LDExODM4IDc3MzUsMTE2MjIgNzkwMCwxMTQ1NyA4MTE2LDExNDU3IFoiLz4KICAgICAgICAgPHBhdGggZmlsbD0ibm9uZSIgc3Ryb2tlPSJyZ2IoNTIsMTAxLDE2NCkiIGQ9Ik0gNzczNSwxMTQ1NyBMIDc3MzUsMTE0NTcgWiIvPgogICAgICAgICA8cGF0aCBmaWxsPSJub25lIiBzdHJva2U9InJnYig1MiwxMDEsMTY0KSIgZD0iTSA4NDk4LDEyMjIwIEwgODQ5OCwxMjIyMCBaIi8+CiAgICAgICAgPC9nPgogICAgICAgPC9nPgogICAgICAgPGcgY2xhc3M9ImNvbS5zdW4uc3Rhci5kcmF3aW5nLkN1c3RvbVNoYXBlIj4KICAgICAgICA8ZyBpZD0iaWQxMSI+CiAgICAgICAgIDxyZWN0IGNsYXNzPSJCb3VuZGluZ0JveCIgc3Ryb2tlPSJub25lIiBmaWxsPSJub25lIiB4PSI3NzMyIiB5PSI5MjM1IiB3aWR0aD0iNzY2IiBoZWlnaHQ9Ijc2NiIvPgogICAgICAgICA8cGF0aCBmaWxsPSJyZ2IoMTE0LDE1OSwyMDcpIiBzdHJva2U9Im5vbmUiIGQ9Ik0gODExNCw5MjM2IEMgODMzMCw5MjM2IDg0OTUsOTQwMSA4NDk1LDk2MTcgODQ5NSw5ODMzIDgzMzAsOTk5OCA4MTE0LDk5OTggNzg5OCw5OTk4IDc3MzMsOTgzMyA3NzMzLDk2MTcgNzczMyw5NDAxIDc4OTgsOTIzNiA4MTE0LDkyMzYgWiBNIDc3MzMsOTIzNiBMIDc3MzMsOTIzNiBaIE0gODQ5Niw5OTk5IEwgODQ5Niw5OTk5IFoiLz4KICAgICAgICAgPHBhdGggZmlsbD0ibm9uZSIgc3Ryb2tlPSJyZ2IoNTIsMTAxLDE2NCkiIGQ9Ik0gODExNCw5MjM2IEMgODMzMCw5MjM2IDg0OTUsOTQwMSA4NDk1LDk2MTcgODQ5NSw5ODMzIDgzMzAsOTk5OCA4MTE0LDk5OTggNzg5OCw5OTk4IDc3MzMsOTgzMyA3NzMzLDk2MTcgNzczMyw5NDAxIDc4OTgsOTIzNiA4MTE0LDkyMzYgWiIvPgogICAgICAgICA8cGF0aCBmaWxsPSJub25lIiBzdHJva2U9InJnYig1MiwxMDEsMTY0KSIgZD0iTSA3NzMzLDkyMzYgTCA3NzMzLDkyMzYgWiIvPgogICAgICAgICA8cGF0aCBmaWxsPSJub25lIiBzdHJva2U9InJnYig1MiwxMDEsMTY0KSIgZD0iTSA4NDk2LDk5OTkgTCA4NDk2LDk5OTkgWiIvPgogICAgICAgIDwvZz4KICAgICAgIDwvZz4KICAgICAgIDxnIGNsYXNzPSJjb20uc3VuLnN0YXIuZHJhd2luZy5MaW5lU2hhcGUiPgogICAgICAgIDxnIGlkPSJpZDEyIj4KICAgICAgICAgPHJlY3QgY2xhc3M9IkJvdW5kaW5nQm94IiBzdHJva2U9Im5vbmUiIGZpbGw9Im5vbmUiIHg9IjczOTgiIHk9IjEwNjQ3IiB3aWR0aD0iMTgxMiIgaGVpZ2h0PSIxNjEiLz4KICAgICAgICAgPHBhdGggZmlsbD0ibm9uZSIgc3Ryb2tlPSJyZ2IoMCwwLDApIiBzdHJva2Utd2lkdGg9IjE1OSIgc3Ryb2tlLWxpbmVqb2luPSJyb3VuZCIgZD0iTSA3NDc4LDEwNzI3IEwgNzYzNywxMDcyNyIvPgogICAgICAgICA8cGF0aCBmaWxsPSJub25lIiBzdHJva2U9InJnYigwLDAsMCkiIHN0cm9rZS13aWR0aD0iMTU5IiBzdHJva2UtbGluZWpvaW49InJvdW5kIiBkPSJNIDgwOTQsMTA3MjcgTCA4MjUzLDEwNzI3Ii8+CiAgICAgICAgIDxwYXRoIGZpbGw9Im5vbmUiIHN0cm9rZT0icmdiKDAsMCwwKSIgc3Ryb2tlLXdpZHRoPSIxNTkiIHN0cm9rZS1saW5lam9pbj0icm91bmQiIGQ9Ik0gODcxMCwxMDcyNyBMIDg4NjksMTA3MjciLz4KICAgICAgICA8L2c+CiAgICAgICA8L2c+CiAgICAgIDwvZz4KICAgICAgPGcgY2xhc3M9Ikdyb3VwIj4KICAgICAgIDxnIGNsYXNzPSJjb20uc3VuLnN0YXIuZHJhd2luZy5DdXN0b21TaGFwZSI+CiAgICAgICAgPGcgaWQ9ImlkMTMiPgogICAgICAgICA8cmVjdCBjbGFzcz0iQm91bmRpbmdCb3giIHN0cm9rZT0ibm9uZSIgZmlsbD0ibm9uZSIgeD0iMTQyNjIiIHk9Ijc3NDMiIHdpZHRoPSI3NjYiIGhlaWdodD0iNzY2Ii8+CiAgICAgICAgIDxwYXRoIGZpbGw9InJnYigxMTQsMTU5LDIwNykiIHN0cm9rZT0ibm9uZSIgZD0iTSAxNDY0NCw3NzQ0IEMgMTQ4NjAsNzc0NCAxNTAyNSw3OTA5IDE1MDI1LDgxMjUgMTUwMjUsODM0MSAxNDg2MCw4NTA2IDE0NjQ0LDg1MDYgMTQ0MjgsODUwNiAxNDI2Myw4MzQxIDE0MjYzLDgxMjUgMTQyNjMsNzkwOSAxNDQyOCw3NzQ0IDE0NjQ0LDc3NDQgWiBNIDE0MjYzLDc3NDQgTCAxNDI2Myw3NzQ0IFogTSAxNTAyNiw4NTA3IEwgMTUwMjYsODUwNyBaIi8+CiAgICAgICAgIDxwYXRoIGZpbGw9Im5vbmUiIHN0cm9rZT0icmdiKDUyLDEwMSwxNjQpIiBkPSJNIDE0NjQ0LDc3NDQgQyAxNDg2MCw3NzQ0IDE1MDI1LDc5MDkgMTUwMjUsODEyNSAxNTAyNSw4MzQxIDE0ODYwLDg1MDYgMTQ2NDQsODUwNiAxNDQyOCw4NTA2IDE0MjYzLDgzNDEgMTQyNjMsODEyNSAxNDI2Myw3OTA5IDE0NDI4LDc3NDQgMTQ2NDQsNzc0NCBaIi8+CiAgICAgICAgIDxwYXRoIGZpbGw9Im5vbmUiIHN0cm9rZT0icmdiKDUyLDEwMSwxNjQpIiBkPSJNIDE0MjYzLDc3NDQgTCAxNDI2Myw3NzQ0IFoiLz4KICAgICAgICAgPHBhdGggZmlsbD0ibm9uZSIgc3Ryb2tlPSJyZ2IoNTIsMTAxLDE2NCkiIGQ9Ik0gMTUwMjYsODUwNyBMIDE1MDI2LDg1MDcgWiIvPgogICAgICAgIDwvZz4KICAgICAgIDwvZz4KICAgICAgIDxnIGNsYXNzPSJjb20uc3VuLnN0YXIuZHJhd2luZy5DdXN0b21TaGFwZSI+CiAgICAgICAgPGcgaWQ9ImlkMTQiPgogICAgICAgICA8cmVjdCBjbGFzcz0iQm91bmRpbmdCb3giIHN0cm9rZT0ibm9uZSIgZmlsbD0ibm9uZSIgeD0iMTQyNjMiIHk9IjEyOTQ0IiB3aWR0aD0iNzY2IiBoZWlnaHQ9Ijc2NiIvPgogICAgICAgICA8cGF0aCBmaWxsPSJyZ2IoMTE0LDE1OSwyMDcpIiBzdHJva2U9Im5vbmUiIGQ9Ik0gMTQ2NDUsMTI5NDUgQyAxNDg2MSwxMjk0NSAxNTAyNiwxMzExMCAxNTAyNiwxMzMyNiAxNTAyNiwxMzU0MiAxNDg2MSwxMzcwNyAxNDY0NSwxMzcwNyAxNDQyOSwxMzcwNyAxNDI2NCwxMzU0MiAxNDI2NCwxMzMyNiAxNDI2NCwxMzExMCAxNDQyOSwxMjk0NSAxNDY0NSwxMjk0NSBaIE0gMTQyNjQsMTI5NDUgTCAxNDI2NCwxMjk0NSBaIE0gMTUwMjcsMTM3MDggTCAxNTAyNywxMzcwOCBaIi8+CiAgICAgICAgIDxwYXRoIGZpbGw9Im5vbmUiIHN0cm9rZT0icmdiKDUyLDEwMSwxNjQpIiBkPSJNIDE0NjQ1LDEyOTQ1IEMgMTQ4NjEsMTI5NDUgMTUwMjYsMTMxMTAgMTUwMjYsMTMzMjYgMTUwMjYsMTM1NDIgMTQ4NjEsMTM3MDcgMTQ2NDUsMTM3MDcgMTQ0MjksMTM3MDcgMTQyNjQsMTM1NDIgMTQyNjQsMTMzMjYgMTQyNjQsMTMxMTAgMTQ0MjksMTI5NDUgMTQ2NDUsMTI5NDUgWiIvPgogICAgICAgICA8cGF0aCBmaWxsPSJub25lIiBzdHJva2U9InJnYig1MiwxMDEsMTY0KSIgZD0iTSAxNDI2NCwxMjk0NSBMIDE0MjY0LDEyOTQ1IFoiLz4KICAgICAgICAgPHBhdGggZmlsbD0ibm9uZSIgc3Ryb2tlPSJyZ2IoNTIsMTAxLDE2NCkiIGQ9Ik0gMTUwMjcsMTM3MDggTCAxNTAyNywxMzcwOCBaIi8+CiAgICAgICAgPC9nPgogICAgICAgPC9nPgogICAgICAgPGcgY2xhc3M9ImNvbS5zdW4uc3Rhci5kcmF3aW5nLkN1c3RvbVNoYXBlIj4KICAgICAgICA8ZyBpZD0iaWQxNSI+CiAgICAgICAgIDxyZWN0IGNsYXNzPSJCb3VuZGluZ0JveCIgc3Ryb2tlPSJub25lIiBmaWxsPSJub25lIiB4PSIxNDI2NSIgeT0iMTE0NTYiIHdpZHRoPSI3NjYiIGhlaWdodD0iNzY2Ii8+CiAgICAgICAgIDxwYXRoIGZpbGw9InJnYigxMTQsMTU5LDIwNykiIHN0cm9rZT0ibm9uZSIgZD0iTSAxNDY0NywxMTQ1NyBDIDE0ODYzLDExNDU3IDE1MDI4LDExNjIyIDE1MDI4LDExODM4IDE1MDI4LDEyMDU0IDE0ODYzLDEyMjE5IDE0NjQ3LDEyMjE5IDE0NDMxLDEyMjE5IDE0MjY2LDEyMDU0IDE0MjY2LDExODM4IDE0MjY2LDExNjIyIDE0NDMxLDExNDU3IDE0NjQ3LDExNDU3IFogTSAxNDI2NiwxMTQ1NyBMIDE0MjY2LDExNDU3IFogTSAxNTAyOSwxMjIyMCBMIDE1MDI5LDEyMjIwIFoiLz4KICAgICAgICAgPHBhdGggZmlsbD0ibm9uZSIgc3Ryb2tlPSJyZ2IoNTIsMTAxLDE2NCkiIGQ9Ik0gMTQ2NDcsMTE0NTcgQyAxNDg2MywxMTQ1NyAxNTAyOCwxMTYyMiAxNTAyOCwxMTgzOCAxNTAyOCwxMjA1NCAxNDg2MywxMjIxOSAxNDY0NywxMjIxOSAxNDQzMSwxMjIxOSAxNDI2NiwxMjA1NCAxNDI2NiwxMTgzOCAxNDI2NiwxMTYyMiAxNDQzMSwxMTQ1NyAxNDY0NywxMTQ1NyBaIi8+CiAgICAgICAgIDxwYXRoIGZpbGw9Im5vbmUiIHN0cm9rZT0icmdiKDUyLDEwMSwxNjQpIiBkPSJNIDE0MjY2LDExNDU3IEwgMTQyNjYsMTE0NTcgWiIvPgogICAgICAgICA8cGF0aCBmaWxsPSJub25lIiBzdHJva2U9InJnYig1MiwxMDEsMTY0KSIgZD0iTSAxNTAyOSwxMjIyMCBMIDE1MDI5LDEyMjIwIFoiLz4KICAgICAgICA8L2c+CiAgICAgICA8L2c+CiAgICAgICA8ZyBjbGFzcz0iY29tLnN1bi5zdGFyLmRyYXdpbmcuQ3VzdG9tU2hhcGUiPgogICAgICAgIDxnIGlkPSJpZDE2Ij4KICAgICAgICAgPHJlY3QgY2xhc3M9IkJvdW5kaW5nQm94IiBzdHJva2U9Im5vbmUiIGZpbGw9Im5vbmUiIHg9IjE0MjYzIiB5PSI5MjM1IiB3aWR0aD0iNzY2IiBoZWlnaHQ9Ijc2NiIvPgogICAgICAgICA8cGF0aCBmaWxsPSJyZ2IoMTE0LDE1OSwyMDcpIiBzdHJva2U9Im5vbmUiIGQ9Ik0gMTQ2NDUsOTIzNiBDIDE0ODYxLDkyMzYgMTUwMjYsOTQwMSAxNTAyNiw5NjE3IDE1MDI2LDk4MzMgMTQ4NjEsOTk5OCAxNDY0NSw5OTk4IDE0NDI5LDk5OTggMTQyNjQsOTgzMyAxNDI2NCw5NjE3IDE0MjY0LDk0MDEgMTQ0MjksOTIzNiAxNDY0NSw5MjM2IFogTSAxNDI2NCw5MjM2IEwgMTQyNjQsOTIzNiBaIE0gMTUwMjcsOTk5OSBMIDE1MDI3LDk5OTkgWiIvPgogICAgICAgICA8cGF0aCBmaWxsPSJub25lIiBzdHJva2U9InJnYig1MiwxMDEsMTY0KSIgZD0iTSAxNDY0NSw5MjM2IEMgMTQ4NjEsOTIzNiAxNTAyNiw5NDAxIDE1MDI2LDk2MTcgMTUwMjYsOTgzMyAxNDg2MSw5OTk4IDE0NjQ1LDk5OTggMTQ0MjksOTk5OCAxNDI2NCw5ODMzIDE0MjY0LDk2MTcgMTQyNjQsOTQwMSAxNDQyOSw5MjM2IDE0NjQ1LDkyMzYgWiIvPgogICAgICAgICA8cGF0aCBmaWxsPSJub25lIiBzdHJva2U9InJnYig1MiwxMDEsMTY0KSIgZD0iTSAxNDI2NCw5MjM2IEwgMTQyNjQsOTIzNiBaIi8+CiAgICAgICAgIDxwYXRoIGZpbGw9Im5vbmUiIHN0cm9rZT0icmdiKDUyLDEwMSwxNjQpIiBkPSJNIDE1MDI3LDk5OTkgTCAxNTAyNyw5OTk5IFoiLz4KICAgICAgICA8L2c+CiAgICAgICA8L2c+CiAgICAgICA8ZyBjbGFzcz0iY29tLnN1bi5zdGFyLmRyYXdpbmcuTGluZVNoYXBlIj4KICAgICAgICA8ZyBpZD0iaWQxNyI+CiAgICAgICAgIDxyZWN0IGNsYXNzPSJCb3VuZGluZ0JveCIgc3Ryb2tlPSJub25lIiBmaWxsPSJub25lIiB4PSIxMzkyOSIgeT0iMTA2NDciIHdpZHRoPSIxODEyIiBoZWlnaHQ9IjE2MSIvPgogICAgICAgICA8cGF0aCBmaWxsPSJub25lIiBzdHJva2U9InJnYigwLDAsMCkiIHN0cm9rZS13aWR0aD0iMTU5IiBzdHJva2UtbGluZWpvaW49InJvdW5kIiBkPSJNIDE0MDA5LDEwNzI3IEwgMTQxNjgsMTA3MjciLz4KICAgICAgICAgPHBhdGggZmlsbD0ibm9uZSIgc3Ryb2tlPSJyZ2IoMCwwLDApIiBzdHJva2Utd2lkdGg9IjE1OSIgc3Ryb2tlLWxpbmVqb2luPSJyb3VuZCIgZD0iTSAxNDYyNSwxMDcyNyBMIDE0Nzg0LDEwNzI3Ii8+CiAgICAgICAgIDxwYXRoIGZpbGw9Im5vbmUiIHN0cm9rZT0icmdiKDAsMCwwKSIgc3Ryb2tlLXdpZHRoPSIxNTkiIHN0cm9rZS1saW5lam9pbj0icm91bmQiIGQ9Ik0gMTUyNDEsMTA3MjcgTCAxNTQwMCwxMDcyNyIvPgogICAgICAgIDwvZz4KICAgICAgIDwvZz4KICAgICAgPC9nPgogICAgICA8ZyBjbGFzcz0iR3JvdXAiPgogICAgICAgPGcgY2xhc3M9ImNvbS5zdW4uc3Rhci5kcmF3aW5nLkxpbmVTaGFwZSI+CiAgICAgICAgPGcgaWQ9ImlkMTgiPgogICAgICAgICA8cmVjdCBjbGFzcz0iQm91bmRpbmdCb3giIHN0cm9rZT0ibm9uZSIgZmlsbD0ibm9uZSIgeD0iMTA2NjQiIHk9IjEwNzI1IiB3aWR0aD0iMTgxMiIgaGVpZ2h0PSIxNjEiLz4KICAgICAgICAgPHBhdGggZmlsbD0ibm9uZSIgc3Ryb2tlPSJyZ2IoMCwwLDApIiBzdHJva2Utd2lkdGg9IjE1OSIgc3Ryb2tlLWxpbmVqb2luPSJyb3VuZCIgZD0iTSAxMDc0NCwxMDgwNSBMIDEwOTAzLDEwODA1Ii8+CiAgICAgICAgIDxwYXRoIGZpbGw9Im5vbmUiIHN0cm9rZT0icmdiKDAsMCwwKSIgc3Ryb2tlLXdpZHRoPSIxNTkiIHN0cm9rZS1saW5lam9pbj0icm91bmQiIGQ9Ik0gMTEzNjAsMTA4MDUgTCAxMTUxOSwxMDgwNSIvPgogICAgICAgICA8cGF0aCBmaWxsPSJub25lIiBzdHJva2U9InJnYigwLDAsMCkiIHN0cm9rZS13aWR0aD0iMTU5IiBzdHJva2UtbGluZWpvaW49InJvdW5kIiBkPSJNIDExOTc2LDEwODA1IEwgMTIxMzUsMTA4MDUiLz4KICAgICAgICA8L2c+CiAgICAgICA8L2c+CiAgICAgICA8ZyBjbGFzcz0iY29tLnN1bi5zdGFyLmRyYXdpbmcuTGluZVNoYXBlIj4KICAgICAgICA8ZyBpZD0iaWQxOSI+CiAgICAgICAgIDxyZWN0IGNsYXNzPSJCb3VuZGluZ0JveCIgc3Ryb2tlPSJub25lIiBmaWxsPSJub25lIiB4PSIxMDY2NSIgeT0iOTM4NSIgd2lkdGg9IjE4MTIiIGhlaWdodD0iMTYxIi8+CiAgICAgICAgIDxwYXRoIGZpbGw9Im5vbmUiIHN0cm9rZT0icmdiKDAsMCwwKSIgc3Ryb2tlLXdpZHRoPSIxNTkiIHN0cm9rZS1saW5lam9pbj0icm91bmQiIGQ9Ik0gMTA3NDUsOTQ2NSBMIDEwOTA0LDk0NjUiLz4KICAgICAgICAgPHBhdGggZmlsbD0ibm9uZSIgc3Ryb2tlPSJyZ2IoMCwwLDApIiBzdHJva2Utd2lkdGg9IjE1OSIgc3Ryb2tlLWxpbmVqb2luPSJyb3VuZCIgZD0iTSAxMTM2MSw5NDY1IEwgMTE1MjAsOTQ2NSIvPgogICAgICAgICA8cGF0aCBmaWxsPSJub25lIiBzdHJva2U9InJnYigwLDAsMCkiIHN0cm9rZS13aWR0aD0iMTU5IiBzdHJva2UtbGluZWpvaW49InJvdW5kIiBkPSJNIDExOTc3LDk0NjUgTCAxMjEzNiw5NDY1Ii8+CiAgICAgICAgPC9nPgogICAgICAgPC9nPgogICAgICAgPGcgY2xhc3M9ImNvbS5zdW4uc3Rhci5kcmF3aW5nLkxpbmVTaGFwZSI+CiAgICAgICAgPGcgaWQ9ImlkMjAiPgogICAgICAgICA8cmVjdCBjbGFzcz0iQm91bmRpbmdCb3giIHN0cm9rZT0ibm9uZSIgZmlsbD0ibm9uZSIgeD0iMTA2NjUiIHk9IjgwNDUiIHdpZHRoPSIxODEyIiBoZWlnaHQ9IjE2MSIvPgogICAgICAgICA8cGF0aCBmaWxsPSJub25lIiBzdHJva2U9InJnYigwLDAsMCkiIHN0cm9rZS13aWR0aD0iMTU5IiBzdHJva2UtbGluZWpvaW49InJvdW5kIiBkPSJNIDEwNzQ1LDgxMjUgTCAxMDkwNCw4MTI1Ii8+CiAgICAgICAgIDxwYXRoIGZpbGw9Im5vbmUiIHN0cm9rZT0icmdiKDAsMCwwKSIgc3Ryb2tlLXdpZHRoPSIxNTkiIHN0cm9rZS1saW5lam9pbj0icm91bmQiIGQ9Ik0gMTEzNjEsODEyNSBMIDExNTIwLDgxMjUiLz4KICAgICAgICAgPHBhdGggZmlsbD0ibm9uZSIgc3Ryb2tlPSJyZ2IoMCwwLDApIiBzdHJva2Utd2lkdGg9IjE1OSIgc3Ryb2tlLWxpbmVqb2luPSJyb3VuZCIgZD0iTSAxMTk3Nyw4MTI1IEwgMTIxMzYsODEyNSIvPgogICAgICAgIDwvZz4KICAgICAgIDwvZz4KICAgICAgIDxnIGNsYXNzPSJjb20uc3VuLnN0YXIuZHJhd2luZy5MaW5lU2hhcGUiPgogICAgICAgIDxnIGlkPSJpZDIxIj4KICAgICAgICAgPHJlY3QgY2xhc3M9IkJvdW5kaW5nQm94IiBzdHJva2U9Im5vbmUiIGZpbGw9Im5vbmUiIHg9IjEwNjY1IiB5PSIxMjA2NSIgd2lkdGg9IjE4MTIiIGhlaWdodD0iMTYxIi8+CiAgICAgICAgIDxwYXRoIGZpbGw9Im5vbmUiIHN0cm9rZT0icmdiKDAsMCwwKSIgc3Ryb2tlLXdpZHRoPSIxNTkiIHN0cm9rZS1saW5lam9pbj0icm91bmQiIGQ9Ik0gMTA3NDUsMTIxNDUgTCAxMDkwNCwxMjE0NSIvPgogICAgICAgICA8cGF0aCBmaWxsPSJub25lIiBzdHJva2U9InJnYigwLDAsMCkiIHN0cm9rZS13aWR0aD0iMTU5IiBzdHJva2UtbGluZWpvaW49InJvdW5kIiBkPSJNIDExMzYxLDEyMTQ1IEwgMTE1MjAsMTIxNDUiLz4KICAgICAgICAgPHBhdGggZmlsbD0ibm9uZSIgc3Ryb2tlPSJyZ2IoMCwwLDApIiBzdHJva2Utd2lkdGg9IjE1OSIgc3Ryb2tlLWxpbmVqb2luPSJyb3VuZCIgZD0iTSAxMTk3NywxMjE0NSBMIDEyMTM2LDEyMTQ1Ii8+CiAgICAgICAgPC9nPgogICAgICAgPC9nPgogICAgICAgPGcgY2xhc3M9ImNvbS5zdW4uc3Rhci5kcmF3aW5nLkxpbmVTaGFwZSI+CiAgICAgICAgPGcgaWQ9ImlkMjIiPgogICAgICAgICA8cmVjdCBjbGFzcz0iQm91bmRpbmdCb3giIHN0cm9rZT0ibm9uZSIgZmlsbD0ibm9uZSIgeD0iMTA2NjUiIHk9IjEzMjQ1IiB3aWR0aD0iMTgxMiIgaGVpZ2h0PSIxNjEiLz4KICAgICAgICAgPHBhdGggZmlsbD0ibm9uZSIgc3Ryb2tlPSJyZ2IoMCwwLDApIiBzdHJva2Utd2lkdGg9IjE1OSIgc3Ryb2tlLWxpbmVqb2luPSJyb3VuZCIgZD0iTSAxMDc0NSwxMzMyNSBMIDEwOTA0LDEzMzI1Ii8+CiAgICAgICAgIDxwYXRoIGZpbGw9Im5vbmUiIHN0cm9rZT0icmdiKDAsMCwwKSIgc3Ryb2tlLXdpZHRoPSIxNTkiIHN0cm9rZS1saW5lam9pbj0icm91bmQiIGQ9Ik0gMTEzNjEsMTMzMjUgTCAxMTUyMCwxMzMyNSIvPgogICAgICAgICA8cGF0aCBmaWxsPSJub25lIiBzdHJva2U9InJnYigwLDAsMCkiIHN0cm9rZS13aWR0aD0iMTU5IiBzdHJva2UtbGluZWpvaW49InJvdW5kIiBkPSJNIDExOTc3LDEzMzI1IEwgMTIxMzYsMTMzMjUiLz4KICAgICAgICA8L2c+CiAgICAgICA8L2c+CiAgICAgIDwvZz4KICAgICAgPGcgY2xhc3M9Ikdyb3VwIj4KICAgICAgIDxnIGNsYXNzPSJjb20uc3VuLnN0YXIuZHJhd2luZy5DdXN0b21TaGFwZSI+CiAgICAgICAgPGcgaWQ9ImlkMjMiPgogICAgICAgICA8cmVjdCBjbGFzcz0iQm91bmRpbmdCb3giIHN0cm9rZT0ibm9uZSIgZmlsbD0ibm9uZSIgeD0iMTczNjciIHk9Ijc3NDMiIHdpZHRoPSI3NjYiIGhlaWdodD0iNzY2Ii8+CiAgICAgICAgIDxwYXRoIGZpbGw9InJnYigxMTQsMTU5LDIwNykiIHN0cm9rZT0ibm9uZSIgZD0iTSAxNzc0OSw3NzQ0IEMgMTc5NjUsNzc0NCAxODEzMCw3OTA5IDE4MTMwLDgxMjUgMTgxMzAsODM0MSAxNzk2NSw4NTA2IDE3NzQ5LDg1MDYgMTc1MzMsODUwNiAxNzM2OCw4MzQxIDE3MzY4LDgxMjUgMTczNjgsNzkwOSAxNzUzMyw3NzQ0IDE3NzQ5LDc3NDQgWiBNIDE3MzY4LDc3NDQgTCAxNzM2OCw3NzQ0IFogTSAxODEzMSw4NTA3IEwgMTgxMzEsODUwNyBaIi8+CiAgICAgICAgIDxwYXRoIGZpbGw9Im5vbmUiIHN0cm9rZT0icmdiKDUyLDEwMSwxNjQpIiBkPSJNIDE3NzQ5LDc3NDQgQyAxNzk2NSw3NzQ0IDE4MTMwLDc5MDkgMTgxMzAsODEyNSAxODEzMCw4MzQxIDE3OTY1LDg1MDYgMTc3NDksODUwNiAxNzUzMyw4NTA2IDE3MzY4LDgzNDEgMTczNjgsODEyNSAxNzM2OCw3OTA5IDE3NTMzLDc3NDQgMTc3NDksNzc0NCBaIi8+CiAgICAgICAgIDxwYXRoIGZpbGw9Im5vbmUiIHN0cm9rZT0icmdiKDUyLDEwMSwxNjQpIiBkPSJNIDE3MzY4LDc3NDQgTCAxNzM2OCw3NzQ0IFoiLz4KICAgICAgICAgPHBhdGggZmlsbD0ibm9uZSIgc3Ryb2tlPSJyZ2IoNTIsMTAxLDE2NCkiIGQ9Ik0gMTgxMzEsODUwNyBMIDE4MTMxLDg1MDcgWiIvPgogICAgICAgIDwvZz4KICAgICAgIDwvZz4KICAgICAgIDxnIGNsYXNzPSJjb20uc3VuLnN0YXIuZHJhd2luZy5DdXN0b21TaGFwZSI+CiAgICAgICAgPGcgaWQ9ImlkMjQiPgogICAgICAgICA8cmVjdCBjbGFzcz0iQm91bmRpbmdCb3giIHN0cm9rZT0ibm9uZSIgZmlsbD0ibm9uZSIgeD0iMTczNjgiIHk9IjEyOTQ0IiB3aWR0aD0iNzY2IiBoZWlnaHQ9Ijc2NiIvPgogICAgICAgICA8cGF0aCBmaWxsPSJyZ2IoMTE0LDE1OSwyMDcpIiBzdHJva2U9Im5vbmUiIGQ9Ik0gMTc3NTAsMTI5NDUgQyAxNzk2NiwxMjk0NSAxODEzMSwxMzExMCAxODEzMSwxMzMyNiAxODEzMSwxMzU0MiAxNzk2NiwxMzcwNyAxNzc1MCwxMzcwNyAxNzUzNCwxMzcwNyAxNzM2OSwxMzU0MiAxNzM2OSwxMzMyNiAxNzM2OSwxMzExMCAxNzUzNCwxMjk0NSAxNzc1MCwxMjk0NSBaIE0gMTczNjksMTI5NDUgTCAxNzM2OSwxMjk0NSBaIE0gMTgxMzIsMTM3MDggTCAxODEzMiwxMzcwOCBaIi8+CiAgICAgICAgIDxwYXRoIGZpbGw9Im5vbmUiIHN0cm9rZT0icmdiKDUyLDEwMSwxNjQpIiBkPSJNIDE3NzUwLDEyOTQ1IEMgMTc5NjYsMTI5NDUgMTgxMzEsMTMxMTAgMTgxMzEsMTMzMjYgMTgxMzEsMTM1NDIgMTc5NjYsMTM3MDcgMTc3NTAsMTM3MDcgMTc1MzQsMTM3MDcgMTczNjksMTM1NDIgMTczNjksMTMzMjYgMTczNjksMTMxMTAgMTc1MzQsMTI5NDUgMTc3NTAsMTI5NDUgWiIvPgogICAgICAgICA8cGF0aCBmaWxsPSJub25lIiBzdHJva2U9InJnYig1MiwxMDEsMTY0KSIgZD0iTSAxNzM2OSwxMjk0NSBMIDE3MzY5LDEyOTQ1IFoiLz4KICAgICAgICAgPHBhdGggZmlsbD0ibm9uZSIgc3Ryb2tlPSJyZ2IoNTIsMTAxLDE2NCkiIGQ9Ik0gMTgxMzIsMTM3MDggTCAxODEzMiwxMzcwOCBaIi8+CiAgICAgICAgPC9nPgogICAgICAgPC9nPgogICAgICAgPGcgY2xhc3M9ImNvbS5zdW4uc3Rhci5kcmF3aW5nLkN1c3RvbVNoYXBlIj4KICAgICAgICA8ZyBpZD0iaWQyNSI+CiAgICAgICAgIDxyZWN0IGNsYXNzPSJCb3VuZGluZ0JveCIgc3Ryb2tlPSJub25lIiBmaWxsPSJub25lIiB4PSIxNzM3MCIgeT0iMTE0NTYiIHdpZHRoPSI3NjYiIGhlaWdodD0iNzY2Ii8+CiAgICAgICAgIDxwYXRoIGZpbGw9InJnYigxMTQsMTU5LDIwNykiIHN0cm9rZT0ibm9uZSIgZD0iTSAxNzc1MiwxMTQ1NyBDIDE3OTY4LDExNDU3IDE4MTMzLDExNjIyIDE4MTMzLDExODM4IDE4MTMzLDEyMDU0IDE3OTY4LDEyMjE5IDE3NzUyLDEyMjE5IDE3NTM2LDEyMjE5IDE3MzcxLDEyMDU0IDE3MzcxLDExODM4IDE3MzcxLDExNjIyIDE3NTM2LDExNDU3IDE3NzUyLDExNDU3IFogTSAxNzM3MSwxMTQ1NyBMIDE3MzcxLDExNDU3IFogTSAxODEzNCwxMjIyMCBMIDE4MTM0LDEyMjIwIFoiLz4KICAgICAgICAgPHBhdGggZmlsbD0ibm9uZSIgc3Ryb2tlPSJyZ2IoNTIsMTAxLDE2NCkiIGQ9Ik0gMTc3NTIsMTE0NTcgQyAxNzk2OCwxMTQ1NyAxODEzMywxMTYyMiAxODEzMywxMTgzOCAxODEzMywxMjA1NCAxNzk2OCwxMjIxOSAxNzc1MiwxMjIxOSAxNzUzNiwxMjIxOSAxNzM3MSwxMjA1NCAxNzM3MSwxMTgzOCAxNzM3MSwxMTYyMiAxNzUzNiwxMTQ1NyAxNzc1MiwxMTQ1NyBaIi8+CiAgICAgICAgIDxwYXRoIGZpbGw9Im5vbmUiIHN0cm9rZT0icmdiKDUyLDEwMSwxNjQpIiBkPSJNIDE3MzcxLDExNDU3IEwgMTczNzEsMTE0NTcgWiIvPgogICAgICAgICA8cGF0aCBmaWxsPSJub25lIiBzdHJva2U9InJnYig1MiwxMDEsMTY0KSIgZD0iTSAxODEzNCwxMjIyMCBMIDE4MTM0LDEyMjIwIFoiLz4KICAgICAgICA8L2c+CiAgICAgICA8L2c+CiAgICAgICA8ZyBjbGFzcz0iY29tLnN1bi5zdGFyLmRyYXdpbmcuQ3VzdG9tU2hhcGUiPgogICAgICAgIDxnIGlkPSJpZDI2Ij4KICAgICAgICAgPHJlY3QgY2xhc3M9IkJvdW5kaW5nQm94IiBzdHJva2U9Im5vbmUiIGZpbGw9Im5vbmUiIHg9IjE3MzY4IiB5PSI5MjM1IiB3aWR0aD0iNzY2IiBoZWlnaHQ9Ijc2NiIvPgogICAgICAgICA8cGF0aCBmaWxsPSJyZ2IoMTE0LDE1OSwyMDcpIiBzdHJva2U9Im5vbmUiIGQ9Ik0gMTc3NTAsOTIzNiBDIDE3OTY2LDkyMzYgMTgxMzEsOTQwMSAxODEzMSw5NjE3IDE4MTMxLDk4MzMgMTc5NjYsOTk5OCAxNzc1MCw5OTk4IDE3NTM0LDk5OTggMTczNjksOTgzMyAxNzM2OSw5NjE3IDE3MzY5LDk0MDEgMTc1MzQsOTIzNiAxNzc1MCw5MjM2IFogTSAxNzM2OSw5MjM2IEwgMTczNjksOTIzNiBaIE0gMTgxMzIsOTk5OSBMIDE4MTMyLDk5OTkgWiIvPgogICAgICAgICA8cGF0aCBmaWxsPSJub25lIiBzdHJva2U9InJnYig1MiwxMDEsMTY0KSIgZD0iTSAxNzc1MCw5MjM2IEMgMTc5NjYsOTIzNiAxODEzMSw5NDAxIDE4MTMxLDk2MTcgMTgxMzEsOTgzMyAxNzk2Niw5OTk4IDE3NzUwLDk5OTggMTc1MzQsOTk5OCAxNzM2OSw5ODMzIDE3MzY5LDk2MTcgMTczNjksOTQwMSAxNzUzNCw5MjM2IDE3NzUwLDkyMzYgWiIvPgogICAgICAgICA8cGF0aCBmaWxsPSJub25lIiBzdHJva2U9InJnYig1MiwxMDEsMTY0KSIgZD0iTSAxNzM2OSw5MjM2IEwgMTczNjksOTIzNiBaIi8+CiAgICAgICAgIDxwYXRoIGZpbGw9Im5vbmUiIHN0cm9rZT0icmdiKDUyLDEwMSwxNjQpIiBkPSJNIDE4MTMyLDk5OTkgTCAxODEzMiw5OTk5IFoiLz4KICAgICAgICA8L2c+CiAgICAgICA8L2c+CiAgICAgICA8ZyBjbGFzcz0iY29tLnN1bi5zdGFyLmRyYXdpbmcuTGluZVNoYXBlIj4KICAgICAgICA8ZyBpZD0iaWQyNyI+CiAgICAgICAgIDxyZWN0IGNsYXNzPSJCb3VuZGluZ0JveCIgc3Ryb2tlPSJub25lIiBmaWxsPSJub25lIiB4PSIxNzAzNCIgeT0iMTA2NDciIHdpZHRoPSIxODEyIiBoZWlnaHQ9IjE2MSIvPgogICAgICAgICA8cGF0aCBmaWxsPSJub25lIiBzdHJva2U9InJnYigwLDAsMCkiIHN0cm9rZS13aWR0aD0iMTU5IiBzdHJva2UtbGluZWpvaW49InJvdW5kIiBkPSJNIDE3MTE0LDEwNzI3IEwgMTcyNzMsMTA3MjciLz4KICAgICAgICAgPHBhdGggZmlsbD0ibm9uZSIgc3Ryb2tlPSJyZ2IoMCwwLDApIiBzdHJva2Utd2lkdGg9IjE1OSIgc3Ryb2tlLWxpbmVqb2luPSJyb3VuZCIgZD0iTSAxNzczMCwxMDcyNyBMIDE3ODg5LDEwNzI3Ii8+CiAgICAgICAgIDxwYXRoIGZpbGw9Im5vbmUiIHN0cm9rZT0icmdiKDAsMCwwKSIgc3Ryb2tlLXdpZHRoPSIxNTkiIHN0cm9rZS1saW5lam9pbj0icm91bmQiIGQ9Ik0gMTgzNDYsMTA3MjcgTCAxODUwNSwxMDcyNyIvPgogICAgICAgIDwvZz4KICAgICAgIDwvZz4KICAgICAgPC9nPgogICAgICA8ZyBjbGFzcz0iY29tLnN1bi5zdGFyLmRyYXdpbmcuQ29ubmVjdG9yU2hhcGUiPgogICAgICAgPGcgaWQ9ImlkMjgiPgogICAgICAgIDxyZWN0IGNsYXNzPSJCb3VuZGluZ0JveCIgc3Ryb2tlPSJub25lIiBmaWxsPSJub25lIiB4PSI1MjI4IiB5PSI3OTc1IiB3aWR0aD0iMjUwNSIgaGVpZ2h0PSIzMDEiLz4KICAgICAgICA8cGF0aCBmaWxsPSJub25lIiBzdHJva2U9InJnYigwLDAsMCkiIGQ9Ik0gNTIyOSw4MTI1IEwgNzMwMiw4MTI1Ii8+CiAgICAgICAgPHBhdGggZmlsbD0icmdiKDAsMCwwKSIgc3Ryb2tlPSJub25lIiBkPSJNIDc3MzIsODEyNSBMIDcyODIsNzk3NSA3MjgyLDgyNzUgNzczMiw4MTI1IFoiLz4KICAgICAgIDwvZz4KICAgICAgPC9nPgogICAgICA8ZyBjbGFzcz0iY29tLnN1bi5zdGFyLmRyYXdpbmcuQ29ubmVjdG9yU2hhcGUiPgogICAgICAgPGcgaWQ9ImlkMjkiPgogICAgICAgIDxyZWN0IGNsYXNzPSJCb3VuZGluZ0JveCIgc3Ryb2tlPSJub25lIiBmaWxsPSJub25lIiB4PSI1MjI4IiB5PSI4MTI0IiB3aWR0aD0iMjUwNiIgaGVpZ2h0PSIxNDk0Ii8+CiAgICAgICAgPHBhdGggZmlsbD0ibm9uZSIgc3Ryb2tlPSJyZ2IoMCwwLDApIiBkPSJNIDUyMjksODEyNSBMIDczNjQsOTM5NyIvPgogICAgICAgIDxwYXRoIGZpbGw9InJnYigwLDAsMCkiIHN0cm9rZT0ibm9uZSIgZD0iTSA3NzMzLDk2MTcgTCA3NDIzLDkyNTggNzI3MCw5NTE2IDc3MzMsOTYxNyBaIi8+CiAgICAgICA8L2c+CiAgICAgIDwvZz4KICAgICAgPGcgY2xhc3M9ImNvbS5zdW4uc3Rhci5kcmF3aW5nLkNvbm5lY3RvclNoYXBlIj4KICAgICAgIDxnIGlkPSJpZDMwIj4KICAgICAgICA8cmVjdCBjbGFzcz0iQm91bmRpbmdCb3giIHN0cm9rZT0ibm9uZSIgZmlsbD0ibm9uZSIgeD0iNTIyOCIgeT0iODEyNCIgd2lkdGg9IjI1MDgiIGhlaWdodD0iMzcxNSIvPgogICAgICAgIDxwYXRoIGZpbGw9Im5vbmUiIHN0cm9rZT0icmdiKDAsMCwwKSIgZD0iTSA1MjI5LDgxMjUgTCA3NDk0LDExNDgyIi8+CiAgICAgICAgPHBhdGggZmlsbD0icmdiKDAsMCwwKSIgc3Ryb2tlPSJub25lIiBkPSJNIDc3MzUsMTE4MzggTCA3NjA4LDExMzgxIDczNTksMTE1NDkgNzczNSwxMTgzOCBaIi8+CiAgICAgICA8L2c+CiAgICAgIDwvZz4KICAgICAgPGcgY2xhc3M9ImNvbS5zdW4uc3Rhci5kcmF3aW5nLkNvbm5lY3RvclNoYXBlIj4KICAgICAgIDxnIGlkPSJpZDMxIj4KICAgICAgICA8cmVjdCBjbGFzcz0iQm91bmRpbmdCb3giIHN0cm9rZT0ibm9uZSIgZmlsbD0ibm9uZSIgeD0iNTIyOCIgeT0iODEyNCIgd2lkdGg9IjI1MDYiIGhlaWdodD0iNTIwMyIvPgogICAgICAgIDxwYXRoIGZpbGw9Im5vbmUiIHN0cm9rZT0icmdiKDAsMCwwKSIgZD0iTSA1MjI5LDgxMjUgTCA3NTQ2LDEyOTM5Ii8+CiAgICAgICAgPHBhdGggZmlsbD0icmdiKDAsMCwwKSIgc3Ryb2tlPSJub25lIiBkPSJNIDc3MzMsMTMzMjYgTCA3NjczLDEyODU1IDc0MDMsMTI5ODYgNzczMywxMzMyNiBaIi8+CiAgICAgICA8L2c+CiAgICAgIDwvZz4KICAgICAgPGcgY2xhc3M9ImNvbS5zdW4uc3Rhci5kcmF3aW5nLkN1c3RvbVNoYXBlIj4KICAgICAgIDxnIGlkPSJpZDMyIj4KICAgICAgICA8cmVjdCBjbGFzcz0iQm91bmRpbmdCb3giIHN0cm9rZT0ibm9uZSIgZmlsbD0ibm9uZSIgeD0iMTUwNiIgeT0iNzEwNCIgd2lkdGg9Ijg5MiIgaGVpZ2h0PSI3MjQyIi8+CiAgICAgICAgPHBhdGggZmlsbD0ibm9uZSIgc3Ryb2tlPSJyZ2IoMCwwLDApIiBkPSJNIDE5NTIsMTQzNDQgTCAxNTA3LDE0MzQ0IDE1MDcsNzEwNSAyMzk2LDcxMDUgMjM5NiwxNDM0NCAxOTUyLDE0MzQ0IFoiLz4KICAgICAgIDwvZz4KICAgICAgPC9nPgogICAgICA8ZyBjbGFzcz0iR3JvdXAiPgogICAgICAgPGcgY2xhc3M9Ikdyb3VwIj4KICAgICAgICA8ZyBjbGFzcz0iY29tLnN1bi5zdGFyLmRyYXdpbmcuQ3VzdG9tU2hhcGUiPgogICAgICAgICA8ZyBpZD0iaWQzMyI+CiAgICAgICAgICA8cmVjdCBjbGFzcz0iQm91bmRpbmdCb3giIHN0cm9rZT0ibm9uZSIgZmlsbD0ibm9uZSIgeD0iMTk4NjgiIHk9Ijc3NzEiIHdpZHRoPSI3NjYiIGhlaWdodD0iNzY2Ii8+CiAgICAgICAgICA8cGF0aCBmaWxsPSJyZ2IoMTQzLDE0NywxOTkpIiBzdHJva2U9Im5vbmUiIGQ9Ik0gMjAyNTAsNzc3MiBDIDIwNDY2LDc3NzIgMjA2MzEsNzkzNyAyMDYzMSw4MTUzIDIwNjMxLDgzNjkgMjA0NjYsODUzNCAyMDI1MCw4NTM0IDIwMDM0LDg1MzQgMTk4NjksODM2OSAxOTg2OSw4MTUzIDE5ODY5LDc5MzcgMjAwMzQsNzc3MiAyMDI1MCw3NzcyIFogTSAxOTg2OSw3NzcyIEwgMTk4NjksNzc3MiBaIE0gMjA2MzIsODUzNSBMIDIwNjMyLDg1MzUgWiIvPgogICAgICAgICAgPHBhdGggZmlsbD0ibm9uZSIgc3Ryb2tlPSJyZ2IoMCwwLDApIiBkPSJNIDIwMjUwLDc3NzIgQyAyMDQ2Niw3NzcyIDIwNjMxLDc5MzcgMjA2MzEsODE1MyAyMDYzMSw4MzY5IDIwNDY2LDg1MzQgMjAyNTAsODUzNCAyMDAzNCw4NTM0IDE5ODY5LDgzNjkgMTk4NjksODE1MyAxOTg2OSw3OTM3IDIwMDM0LDc3NzIgMjAyNTAsNzc3MiBaIi8+CiAgICAgICAgICA8cGF0aCBmaWxsPSJub25lIiBzdHJva2U9InJnYigwLDAsMCkiIGQ9Ik0gMTk4NjksNzc3MiBMIDE5ODY5LDc3NzIgWiIvPgogICAgICAgICAgPHBhdGggZmlsbD0ibm9uZSIgc3Ryb2tlPSJyZ2IoMCwwLDApIiBkPSJNIDIwNjMyLDg1MzUgTCAyMDYzMiw4NTM1IFoiLz4KICAgICAgICAgPC9nPgogICAgICAgIDwvZz4KICAgICAgICA8ZyBjbGFzcz0iY29tLnN1bi5zdGFyLmRyYXdpbmcuQ3VzdG9tU2hhcGUiPgogICAgICAgICA8ZyBpZD0iaWQzNCI+CiAgICAgICAgICA8cmVjdCBjbGFzcz0iQm91bmRpbmdCb3giIHN0cm9rZT0ibm9uZSIgZmlsbD0ibm9uZSIgeD0iMTk4NjkiIHk9IjEyOTcyIiB3aWR0aD0iNzY2IiBoZWlnaHQ9Ijc2NiIvPgogICAgICAgICAgPHBhdGggZmlsbD0icmdiKDE0MywxNDcsMTk5KSIgc3Ryb2tlPSJub25lIiBkPSJNIDIwMjUxLDEyOTczIEMgMjA0NjcsMTI5NzMgMjA2MzIsMTMxMzggMjA2MzIsMTMzNTQgMjA2MzIsMTM1NzAgMjA0NjcsMTM3MzUgMjAyNTEsMTM3MzUgMjAwMzUsMTM3MzUgMTk4NzAsMTM1NzAgMTk4NzAsMTMzNTQgMTk4NzAsMTMxMzggMjAwMzUsMTI5NzMgMjAyNTEsMTI5NzMgWiBNIDE5ODcwLDEyOTczIEwgMTk4NzAsMTI5NzMgWiBNIDIwNjMzLDEzNzM2IEwgMjA2MzMsMTM3MzYgWiIvPgogICAgICAgICAgPHBhdGggZmlsbD0ibm9uZSIgc3Ryb2tlPSJyZ2IoMCwwLDApIiBkPSJNIDIwMjUxLDEyOTczIEMgMjA0NjcsMTI5NzMgMjA2MzIsMTMxMzggMjA2MzIsMTMzNTQgMjA2MzIsMTM1NzAgMjA0NjcsMTM3MzUgMjAyNTEsMTM3MzUgMjAwMzUsMTM3MzUgMTk4NzAsMTM1NzAgMTk4NzAsMTMzNTQgMTk4NzAsMTMxMzggMjAwMzUsMTI5NzMgMjAyNTEsMTI5NzMgWiIvPgogICAgICAgICAgPHBhdGggZmlsbD0ibm9uZSIgc3Ryb2tlPSJyZ2IoMCwwLDApIiBkPSJNIDE5ODcwLDEyOTczIEwgMTk4NzAsMTI5NzMgWiIvPgogICAgICAgICAgPHBhdGggZmlsbD0ibm9uZSIgc3Ryb2tlPSJyZ2IoMCwwLDApIiBkPSJNIDIwNjMzLDEzNzM2IEwgMjA2MzMsMTM3MzYgWiIvPgogICAgICAgICA8L2c+CiAgICAgICAgPC9nPgogICAgICAgIDxnIGNsYXNzPSJjb20uc3VuLnN0YXIuZHJhd2luZy5DdXN0b21TaGFwZSI+CiAgICAgICAgIDxnIGlkPSJpZDM1Ij4KICAgICAgICAgIDxyZWN0IGNsYXNzPSJCb3VuZGluZ0JveCIgc3Ryb2tlPSJub25lIiBmaWxsPSJub25lIiB4PSIxOTg2OSIgeT0iMTAzNzMiIHdpZHRoPSI3NjYiIGhlaWdodD0iNzY2Ii8+CiAgICAgICAgICA8cGF0aCBmaWxsPSJyZ2IoMTQzLDE0NywxOTkpIiBzdHJva2U9Im5vbmUiIGQ9Ik0gMjAyNTEsMTAzNzQgQyAyMDQ2NywxMDM3NCAyMDYzMiwxMDUzOSAyMDYzMiwxMDc1NSAyMDYzMiwxMDk3MSAyMDQ2NywxMTEzNiAyMDI1MSwxMTEzNiAyMDAzNSwxMTEzNiAxOTg3MCwxMDk3MSAxOTg3MCwxMDc1NSAxOTg3MCwxMDUzOSAyMDAzNSwxMDM3NCAyMDI1MSwxMDM3NCBaIE0gMTk4NzAsMTAzNzQgTCAxOTg3MCwxMDM3NCBaIE0gMjA2MzMsMTExMzcgTCAyMDYzMywxMTEzNyBaIi8+CiAgICAgICAgICA8cGF0aCBmaWxsPSJub25lIiBzdHJva2U9InJnYigwLDAsMCkiIGQ9Ik0gMjAyNTEsMTAzNzQgQyAyMDQ2NywxMDM3NCAyMDYzMiwxMDUzOSAyMDYzMiwxMDc1NSAyMDYzMiwxMDk3MSAyMDQ2NywxMTEzNiAyMDI1MSwxMTEzNiAyMDAzNSwxMTEzNiAxOTg3MCwxMDk3MSAxOTg3MCwxMDc1NSAxOTg3MCwxMDUzOSAyMDAzNSwxMDM3NCAyMDI1MSwxMDM3NCBaIi8+CiAgICAgICAgICA8cGF0aCBmaWxsPSJub25lIiBzdHJva2U9InJnYigwLDAsMCkiIGQ9Ik0gMTk4NzAsMTAzNzQgTCAxOTg3MCwxMDM3NCBaIi8+CiAgICAgICAgICA8cGF0aCBmaWxsPSJub25lIiBzdHJva2U9InJnYigwLDAsMCkiIGQ9Ik0gMjA2MzMsMTExMzcgTCAyMDYzMywxMTEzNyBaIi8+CiAgICAgICAgIDwvZz4KICAgICAgICA8L2c+CiAgICAgICA8L2c+CiAgICAgICA8ZyBjbGFzcz0iY29tLnN1bi5zdGFyLmRyYXdpbmcuQ3VzdG9tU2hhcGUiPgogICAgICAgIDxnIGlkPSJpZDM2Ij4KICAgICAgICAgPHJlY3QgY2xhc3M9IkJvdW5kaW5nQm94IiBzdHJva2U9Im5vbmUiIGZpbGw9Im5vbmUiIHg9IjE5Nzg2IiB5PSI3MTA0IiB3aWR0aD0iOTkyIiBoZWlnaHQ9IjcyNDIiLz4KICAgICAgICAgPHBhdGggZmlsbD0ibm9uZSIgc3Ryb2tlPSJyZ2IoMCwwLDApIiBkPSJNIDIwMjgyLDE0MzQ0IEwgMTk3ODcsMTQzNDQgMTk3ODcsNzEwNSAyMDc3Niw3MTA1IDIwNzc2LDE0MzQ0IDIwMjgyLDE0MzQ0IFoiLz4KICAgICAgICA8L2c+CiAgICAgICA8L2c+CiAgICAgIDwvZz4KICAgICAgPGcgY2xhc3M9ImNvbS5zdW4uc3Rhci5kcmF3aW5nLkN1c3RvbVNoYXBlIj4KICAgICAgIDxnIGlkPSJpZDM3Ij4KICAgICAgICA8cmVjdCBjbGFzcz0iQm91bmRpbmdCb3giIHN0cm9rZT0ibm9uZSIgZmlsbD0ibm9uZSIgeD0iMjM1ODIiIHk9IjE2MzI1IiB3aWR0aD0iMzAwNSIgaGVpZ2h0PSIyODc4Ii8+CiAgICAgICAgPHBhdGggZmlsbD0icmdiKDI0NywxNjEsMTU0KSIgc3Ryb2tlPSJub25lIiBkPSJNIDI1MDg0LDE2MzY2IEwgMjY1NDUsMTc3NjMgMjUwODQsMTkxNjEgMjM2MjMsMTc3NjMgMjUwODQsMTYzNjYgMjUwODQsMTYzNjYgWiBNIDIzNjIzLDE2MzY2IEwgMjM2MjMsMTYzNjYgWiBNIDI2NTQ1LDE5MTYxIEwgMjY1NDUsMTkxNjEgWiIvPgogICAgICAgIDxwYXRoIGZpbGw9Im5vbmUiIHN0cm9rZT0icmdiKDAsMCwwKSIgc3Ryb2tlLXdpZHRoPSI4MSIgc3Ryb2tlLWxpbmVqb2luPSJyb3VuZCIgZD0iTSAyNTA4NCwxNjM2NiBMIDI2NTQ1LDE3NzYzIDI1MDg0LDE5MTYxIDIzNjIzLDE3NzYzIDI1MDg0LDE2MzY2IDI1MDg0LDE2MzY2IFoiLz4KICAgICAgICA8dGV4dCBjbGFzcz0iVGV4dFNoYXBlIj48dHNwYW4gY2xhc3M9IlRleHRQYXJhZ3JhcGgiIGZvbnQtZmFtaWx5PSJMYXRpbiBNb2Rlcm4gTWF0aCIgZm9udC1zaXplPSI2MzVweCIgZm9udC13ZWlnaHQ9IjQwMCI+PHRzcGFuIGNsYXNzPSJUZXh0UG9zaXRpb24iIHg9IjI0NDc2IiB5PSIxNzk1OCI+PHRzcGFuIGZpbGw9InJnYigwLDAsMCkiIHN0cm9rZT0ibm9uZSI+TG9zczwvdHNwYW4+PC90c3Bhbj48L3RzcGFuPjwvdGV4dD4KICAgICAgIDwvZz4KICAgICAgPC9nPgogICAgICA8ZyBjbGFzcz0iR3JvdXAiPgogICAgICAgPGcgY2xhc3M9Ikdyb3VwIj4KICAgICAgICA8ZyBjbGFzcz0iR3JvdXAiPgogICAgICAgICA8ZyBjbGFzcz0iY29tLnN1bi5zdGFyLmRyYXdpbmcuQ3VzdG9tU2hhcGUiPgogICAgICAgICAgPGcgaWQ9ImlkMzgiPgogICAgICAgICAgIDxyZWN0IGNsYXNzPSJCb3VuZGluZ0JveCIgc3Ryb2tlPSJub25lIiBmaWxsPSJub25lIiB4PSIyNzA2OCIgeT0iNzc0MiIgd2lkdGg9Ijc2NiIgaGVpZ2h0PSI3NjYiLz4KICAgICAgICAgICA8cGF0aCBmaWxsPSJyZ2IoMTk0LDIyNCwxNzQpIiBzdHJva2U9Im5vbmUiIGQ9Ik0gMjc0NTAsNzc0MyBDIDI3NjY2LDc3NDMgMjc4MzEsNzkwOCAyNzgzMSw4MTI0IDI3ODMxLDgzNDAgMjc2NjYsODUwNSAyNzQ1MCw4NTA1IDI3MjM0LDg1MDUgMjcwNjksODM0MCAyNzA2OSw4MTI0IDI3MDY5LDc5MDggMjcyMzQsNzc0MyAyNzQ1MCw3NzQzIFogTSAyNzA2OSw3NzQzIEwgMjcwNjksNzc0MyBaIE0gMjc4MzIsODUwNiBMIDI3ODMyLDg1MDYgWiIvPgogICAgICAgICAgIDxwYXRoIGZpbGw9Im5vbmUiIHN0cm9rZT0icmdiKDAsMCwwKSIgZD0iTSAyNzQ1MCw3NzQzIEMgMjc2NjYsNzc0MyAyNzgzMSw3OTA4IDI3ODMxLDgxMjQgMjc4MzEsODM0MCAyNzY2Niw4NTA1IDI3NDUwLDg1MDUgMjcyMzQsODUwNSAyNzA2OSw4MzQwIDI3MDY5LDgxMjQgMjcwNjksNzkwOCAyNzIzNCw3NzQzIDI3NDUwLDc3NDMgWiIvPgogICAgICAgICAgIDxwYXRoIGZpbGw9Im5vbmUiIHN0cm9rZT0icmdiKDAsMCwwKSIgZD0iTSAyNzA2OSw3NzQzIEwgMjcwNjksNzc0MyBaIi8+CiAgICAgICAgICAgPHBhdGggZmlsbD0ibm9uZSIgc3Ryb2tlPSJyZ2IoMCwwLDApIiBkPSJNIDI3ODMyLDg1MDYgTCAyNzgzMiw4NTA2IFoiLz4KICAgICAgICAgIDwvZz4KICAgICAgICAgPC9nPgogICAgICAgICA8ZyBjbGFzcz0iY29tLnN1bi5zdGFyLmRyYXdpbmcuQ3VzdG9tU2hhcGUiPgogICAgICAgICAgPGcgaWQ9ImlkMzkiPgogICAgICAgICAgIDxyZWN0IGNsYXNzPSJCb3VuZGluZ0JveCIgc3Ryb2tlPSJub25lIiBmaWxsPSJub25lIiB4PSIyNzA2OSIgeT0iMTI5NDMiIHdpZHRoPSI3NjYiIGhlaWdodD0iNzY2Ii8+CiAgICAgICAgICAgPHBhdGggZmlsbD0icmdiKDE5NCwyMjQsMTc0KSIgc3Ryb2tlPSJub25lIiBkPSJNIDI3NDUxLDEyOTQ0IEMgMjc2NjcsMTI5NDQgMjc4MzIsMTMxMDkgMjc4MzIsMTMzMjUgMjc4MzIsMTM1NDEgMjc2NjcsMTM3MDYgMjc0NTEsMTM3MDYgMjcyMzUsMTM3MDYgMjcwNzAsMTM1NDEgMjcwNzAsMTMzMjUgMjcwNzAsMTMxMDkgMjcyMzUsMTI5NDQgMjc0NTEsMTI5NDQgWiBNIDI3MDcwLDEyOTQ0IEwgMjcwNzAsMTI5NDQgWiBNIDI3ODMzLDEzNzA3IEwgMjc4MzMsMTM3MDcgWiIvPgogICAgICAgICAgIDxwYXRoIGZpbGw9Im5vbmUiIHN0cm9rZT0icmdiKDAsMCwwKSIgZD0iTSAyNzQ1MSwxMjk0NCBDIDI3NjY3LDEyOTQ0IDI3ODMyLDEzMTA5IDI3ODMyLDEzMzI1IDI3ODMyLDEzNTQxIDI3NjY3LDEzNzA2IDI3NDUxLDEzNzA2IDI3MjM1LDEzNzA2IDI3MDcwLDEzNTQxIDI3MDcwLDEzMzI1IDI3MDcwLDEzMTA5IDI3MjM1LDEyOTQ0IDI3NDUxLDEyOTQ0IFoiLz4KICAgICAgICAgICA8cGF0aCBmaWxsPSJub25lIiBzdHJva2U9InJnYigwLDAsMCkiIGQ9Ik0gMjcwNzAsMTI5NDQgTCAyNzA3MCwxMjk0NCBaIi8+CiAgICAgICAgICAgPHBhdGggZmlsbD0ibm9uZSIgc3Ryb2tlPSJyZ2IoMCwwLDApIiBkPSJNIDI3ODMzLDEzNzA3IEwgMjc4MzMsMTM3MDcgWiIvPgogICAgICAgICAgPC9nPgogICAgICAgICA8L2c+CiAgICAgICAgIDxnIGNsYXNzPSJjb20uc3VuLnN0YXIuZHJhd2luZy5DdXN0b21TaGFwZSI+CiAgICAgICAgICA8ZyBpZD0iaWQ0MCI+CiAgICAgICAgICAgPHJlY3QgY2xhc3M9IkJvdW5kaW5nQm94IiBzdHJva2U9Im5vbmUiIGZpbGw9Im5vbmUiIHg9IjI3MDY5IiB5PSIxMDM0NCIgd2lkdGg9Ijc2NiIgaGVpZ2h0PSI3NjYiLz4KICAgICAgICAgICA8cGF0aCBmaWxsPSJyZ2IoMTk0LDIyNCwxNzQpIiBzdHJva2U9Im5vbmUiIGQ9Ik0gMjc0NTEsMTAzNDUgQyAyNzY2NywxMDM0NSAyNzgzMiwxMDUxMCAyNzgzMiwxMDcyNiAyNzgzMiwxMDk0MiAyNzY2NywxMTEwNyAyNzQ1MSwxMTEwNyAyNzIzNSwxMTEwNyAyNzA3MCwxMDk0MiAyNzA3MCwxMDcyNiAyNzA3MCwxMDUxMCAyNzIzNSwxMDM0NSAyNzQ1MSwxMDM0NSBaIE0gMjcwNzAsMTAzNDUgTCAyNzA3MCwxMDM0NSBaIE0gMjc4MzMsMTExMDggTCAyNzgzMywxMTEwOCBaIi8+CiAgICAgICAgICAgPHBhdGggZmlsbD0ibm9uZSIgc3Ryb2tlPSJyZ2IoMCwwLDApIiBkPSJNIDI3NDUxLDEwMzQ1IEMgMjc2NjcsMTAzNDUgMjc4MzIsMTA1MTAgMjc4MzIsMTA3MjYgMjc4MzIsMTA5NDIgMjc2NjcsMTExMDcgMjc0NTEsMTExMDcgMjcyMzUsMTExMDcgMjcwNzAsMTA5NDIgMjcwNzAsMTA3MjYgMjcwNzAsMTA1MTAgMjcyMzUsMTAzNDUgMjc0NTEsMTAzNDUgWiIvPgogICAgICAgICAgIDxwYXRoIGZpbGw9Im5vbmUiIHN0cm9rZT0icmdiKDAsMCwwKSIgZD0iTSAyNzA3MCwxMDM0NSBMIDI3MDcwLDEwMzQ1IFoiLz4KICAgICAgICAgICA8cGF0aCBmaWxsPSJub25lIiBzdHJva2U9InJnYigwLDAsMCkiIGQ9Ik0gMjc4MzMsMTExMDggTCAyNzgzMywxMTEwOCBaIi8+CiAgICAgICAgICA8L2c+CiAgICAgICAgIDwvZz4KICAgICAgICA8L2c+CiAgICAgICAgPGcgY2xhc3M9ImNvbS5zdW4uc3Rhci5kcmF3aW5nLkN1c3RvbVNoYXBlIj4KICAgICAgICAgPGcgaWQ9ImlkNDEiPgogICAgICAgICAgPHJlY3QgY2xhc3M9IkJvdW5kaW5nQm94IiBzdHJva2U9Im5vbmUiIGZpbGw9Im5vbmUiIHg9IjI2OTg2IiB5PSI3MTA0IiB3aWR0aD0iOTkyIiBoZWlnaHQ9IjcyNDIiLz4KICAgICAgICAgIDxwYXRoIGZpbGw9Im5vbmUiIHN0cm9rZT0icmdiKDAsMCwwKSIgZD0iTSAyNzQ4MiwxNDM0NCBMIDI2OTg3LDE0MzQ0IDI2OTg3LDcxMDUgMjc5NzYsNzEwNSAyNzk3NiwxNDM0NCAyNzQ4MiwxNDM0NCBaIi8+CiAgICAgICAgIDwvZz4KICAgICAgICA8L2c+CiAgICAgICA8L2c+CiAgICAgICA8ZyBjbGFzcz0iR3JvdXAiPgogICAgICAgIDxnIGNsYXNzPSJHcm91cCI+CiAgICAgICAgIDxnIGNsYXNzPSJjb20uc3VuLnN0YXIuZHJhd2luZy5DdXN0b21TaGFwZSI+CiAgICAgICAgICA8ZyBpZD0iaWQ0MiI+CiAgICAgICAgICAgPHJlY3QgY2xhc3M9IkJvdW5kaW5nQm94IiBzdHJva2U9Im5vbmUiIGZpbGw9Im5vbmUiIHg9IjIyMjY4IiB5PSI3NzcxIiB3aWR0aD0iNzY2IiBoZWlnaHQ9Ijc2NiIvPgogICAgICAgICAgIDxwYXRoIGZpbGw9InJnYigxNDMsMTQ3LDE5OSkiIHN0cm9rZT0ibm9uZSIgZD0iTSAyMjY1MCw3NzcyIEMgMjI4NjYsNzc3MiAyMzAzMSw3OTM3IDIzMDMxLDgxNTMgMjMwMzEsODM2OSAyMjg2Niw4NTM0IDIyNjUwLDg1MzQgMjI0MzQsODUzNCAyMjI2OSw4MzY5IDIyMjY5LDgxNTMgMjIyNjksNzkzNyAyMjQzNCw3NzcyIDIyNjUwLDc3NzIgWiBNIDIyMjY5LDc3NzIgTCAyMjI2OSw3NzcyIFogTSAyMzAzMiw4NTM1IEwgMjMwMzIsODUzNSBaIi8+CiAgICAgICAgICAgPHBhdGggZmlsbD0ibm9uZSIgc3Ryb2tlPSJyZ2IoMCwwLDApIiBkPSJNIDIyNjUwLDc3NzIgQyAyMjg2Niw3NzcyIDIzMDMxLDc5MzcgMjMwMzEsODE1MyAyMzAzMSw4MzY5IDIyODY2LDg1MzQgMjI2NTAsODUzNCAyMjQzNCw4NTM0IDIyMjY5LDgzNjkgMjIyNjksODE1MyAyMjI2OSw3OTM3IDIyNDM0LDc3NzIgMjI2NTAsNzc3MiBaIi8+CiAgICAgICAgICAgPHBhdGggZmlsbD0ibm9uZSIgc3Ryb2tlPSJyZ2IoMCwwLDApIiBkPSJNIDIyMjY5LDc3NzIgTCAyMjI2OSw3NzcyIFoiLz4KICAgICAgICAgICA8cGF0aCBmaWxsPSJub25lIiBzdHJva2U9InJnYigwLDAsMCkiIGQ9Ik0gMjMwMzIsODUzNSBMIDIzMDMyLDg1MzUgWiIvPgogICAgICAgICAgPC9nPgogICAgICAgICA8L2c+CiAgICAgICAgIDxnIGNsYXNzPSJjb20uc3VuLnN0YXIuZHJhd2luZy5DdXN0b21TaGFwZSI+CiAgICAgICAgICA8ZyBpZD0iaWQ0MyI+CiAgICAgICAgICAgPHJlY3QgY2xhc3M9IkJvdW5kaW5nQm94IiBzdHJva2U9Im5vbmUiIGZpbGw9Im5vbmUiIHg9IjIyMjY5IiB5PSIxMjk3MiIgd2lkdGg9Ijc2NiIgaGVpZ2h0PSI3NjYiLz4KICAgICAgICAgICA8cGF0aCBmaWxsPSJyZ2IoMTQzLDE0NywxOTkpIiBzdHJva2U9Im5vbmUiIGQ9Ik0gMjI2NTEsMTI5NzMgQyAyMjg2NywxMjk3MyAyMzAzMiwxMzEzOCAyMzAzMiwxMzM1NCAyMzAzMiwxMzU3MCAyMjg2NywxMzczNSAyMjY1MSwxMzczNSAyMjQzNSwxMzczNSAyMjI3MCwxMzU3MCAyMjI3MCwxMzM1NCAyMjI3MCwxMzEzOCAyMjQzNSwxMjk3MyAyMjY1MSwxMjk3MyBaIE0gMjIyNzAsMTI5NzMgTCAyMjI3MCwxMjk3MyBaIE0gMjMwMzMsMTM3MzYgTCAyMzAzMywxMzczNiBaIi8+CiAgICAgICAgICAgPHBhdGggZmlsbD0ibm9uZSIgc3Ryb2tlPSJyZ2IoMCwwLDApIiBkPSJNIDIyNjUxLDEyOTczIEMgMjI4NjcsMTI5NzMgMjMwMzIsMTMxMzggMjMwMzIsMTMzNTQgMjMwMzIsMTM1NzAgMjI4NjcsMTM3MzUgMjI2NTEsMTM3MzUgMjI0MzUsMTM3MzUgMjIyNzAsMTM1NzAgMjIyNzAsMTMzNTQgMjIyNzAsMTMxMzggMjI0MzUsMTI5NzMgMjI2NTEsMTI5NzMgWiIvPgogICAgICAgICAgIDxwYXRoIGZpbGw9Im5vbmUiIHN0cm9rZT0icmdiKDAsMCwwKSIgZD0iTSAyMjI3MCwxMjk3MyBMIDIyMjcwLDEyOTczIFoiLz4KICAgICAgICAgICA8cGF0aCBmaWxsPSJub25lIiBzdHJva2U9InJnYigwLDAsMCkiIGQ9Ik0gMjMwMzMsMTM3MzYgTCAyMzAzMywxMzczNiBaIi8+CiAgICAgICAgICA8L2c+CiAgICAgICAgIDwvZz4KICAgICAgICAgPGcgY2xhc3M9ImNvbS5zdW4uc3Rhci5kcmF3aW5nLkN1c3RvbVNoYXBlIj4KICAgICAgICAgIDxnIGlkPSJpZDQ0Ij4KICAgICAgICAgICA8cmVjdCBjbGFzcz0iQm91bmRpbmdCb3giIHN0cm9rZT0ibm9uZSIgZmlsbD0ibm9uZSIgeD0iMjIyNjkiIHk9IjEwMzczIiB3aWR0aD0iNzY2IiBoZWlnaHQ9Ijc2NiIvPgogICAgICAgICAgIDxwYXRoIGZpbGw9InJnYigxNDMsMTQ3LDE5OSkiIHN0cm9rZT0ibm9uZSIgZD0iTSAyMjY1MSwxMDM3NCBDIDIyODY3LDEwMzc0IDIzMDMyLDEwNTM5IDIzMDMyLDEwNzU1IDIzMDMyLDEwOTcxIDIyODY3LDExMTM2IDIyNjUxLDExMTM2IDIyNDM1LDExMTM2IDIyMjcwLDEwOTcxIDIyMjcwLDEwNzU1IDIyMjcwLDEwNTM5IDIyNDM1LDEwMzc0IDIyNjUxLDEwMzc0IFogTSAyMjI3MCwxMDM3NCBMIDIyMjcwLDEwMzc0IFogTSAyMzAzMywxMTEzNyBMIDIzMDMzLDExMTM3IFoiLz4KICAgICAgICAgICA8cGF0aCBmaWxsPSJub25lIiBzdHJva2U9InJnYigwLDAsMCkiIGQ9Ik0gMjI2NTEsMTAzNzQgQyAyMjg2NywxMDM3NCAyMzAzMiwxMDUzOSAyMzAzMiwxMDc1NSAyMzAzMiwxMDk3MSAyMjg2NywxMTEzNiAyMjY1MSwxMTEzNiAyMjQzNSwxMTEzNiAyMjI3MCwxMDk3MSAyMjI3MCwxMDc1NSAyMjI3MCwxMDUzOSAyMjQzNSwxMDM3NCAyMjY1MSwxMDM3NCBaIi8+CiAgICAgICAgICAgPHBhdGggZmlsbD0ibm9uZSIgc3Ryb2tlPSJyZ2IoMCwwLDApIiBkPSJNIDIyMjcwLDEwMzc0IEwgMjIyNzAsMTAzNzQgWiIvPgogICAgICAgICAgIDxwYXRoIGZpbGw9Im5vbmUiIHN0cm9rZT0icmdiKDAsMCwwKSIgZD0iTSAyMzAzMywxMTEzNyBMIDIzMDMzLDExMTM3IFoiLz4KICAgICAgICAgIDwvZz4KICAgICAgICAgPC9nPgogICAgICAgIDwvZz4KICAgICAgICA8ZyBjbGFzcz0iY29tLnN1bi5zdGFyLmRyYXdpbmcuQ3VzdG9tU2hhcGUiPgogICAgICAgICA8ZyBpZD0iaWQ0NSI+CiAgICAgICAgICA8cmVjdCBjbGFzcz0iQm91bmRpbmdCb3giIHN0cm9rZT0ibm9uZSIgZmlsbD0ibm9uZSIgeD0iMjIxODYiIHk9IjcxMDQiIHdpZHRoPSI5OTIiIGhlaWdodD0iNzI0MiIvPgogICAgICAgICAgPHBhdGggZmlsbD0ibm9uZSIgc3Ryb2tlPSJyZ2IoMCwwLDApIiBkPSJNIDIyNjgyLDE0MzQ0IEwgMjIxODcsMTQzNDQgMjIxODcsNzEwNSAyMzE3Niw3MTA1IDIzMTc2LDE0MzQ0IDIyNjgyLDE0MzQ0IFoiLz4KICAgICAgICAgPC9nPgogICAgICAgIDwvZz4KICAgICAgIDwvZz4KICAgICAgPC9nPgogICAgICA8ZyBjbGFzcz0iY29tLnN1bi5zdGFyLmRyYXdpbmcuQ29ubmVjdG9yU2hhcGUiPgogICAgICAgPGcgaWQ9ImlkNDYiPgogICAgICAgIDxyZWN0IGNsYXNzPSJCb3VuZGluZ0JveCIgc3Ryb2tlPSJub25lIiBmaWxsPSJub25lIiB4PSIyMzE3NiIgeT0iMTA3MjQiIHdpZHRoPSIyMDYwIiBoZWlnaHQ9IjU2NDMiLz4KICAgICAgICA8cGF0aCBmaWxsPSJub25lIiBzdHJva2U9InJnYigwLDAsMCkiIGQ9Ik0gMjMxNzcsMTA3MjUgTCAyNTA4NSwxMDcyNSAyNTA4NSwxNTkzNiIvPgogICAgICAgIDxwYXRoIGZpbGw9InJnYigwLDAsMCkiIHN0cm9rZT0ibm9uZSIgZD0iTSAyNTA4NSwxNjM2NiBMIDI1MjM1LDE1OTE2IDI0OTM1LDE1OTE2IDI1MDg1LDE2MzY2IFoiLz4KICAgICAgIDwvZz4KICAgICAgPC9nPgogICAgICA8ZyBjbGFzcz0iY29tLnN1bi5zdGFyLmRyYXdpbmcuQ29ubmVjdG9yU2hhcGUiPgogICAgICAgPGcgaWQ9ImlkNDciPgogICAgICAgIDxyZWN0IGNsYXNzPSJCb3VuZGluZ0JveCIgc3Ryb2tlPSJub25lIiBmaWxsPSJub25lIiB4PSIyNDkzNSIgeT0iMTA3MjQiIHdpZHRoPSIyMDU1IiBoZWlnaHQ9IjU2NDMiLz4KICAgICAgICA8cGF0aCBmaWxsPSJub25lIiBzdHJva2U9InJnYigwLDAsMCkiIGQ9Ik0gMjY5ODgsMTA3MjUgTCAyNTA4NSwxMDcyNSAyNTA4NSwxNTkzNiIvPgogICAgICAgIDxwYXRoIGZpbGw9InJnYigwLDAsMCkiIHN0cm9rZT0ibm9uZSIgZD0iTSAyNTA4NSwxNjM2NiBMIDI1MjM1LDE1OTE2IDI0OTM1LDE1OTE2IDI1MDg1LDE2MzY2IFoiLz4KICAgICAgIDwvZz4KICAgICAgPC9nPgogICAgICA8ZyBjbGFzcz0iY29tLnN1bi5zdGFyLmRyYXdpbmcuQ3VzdG9tU2hhcGUiPgogICAgICAgPGcgaWQ9ImlkNDgiPgogICAgICAgIDxyZWN0IGNsYXNzPSJCb3VuZGluZ0JveCIgc3Ryb2tlPSJub25lIiBmaWxsPSJub25lIiB4PSIyOTY4IiB5PSIxNTY2NCIgd2lkdGg9IjQxOTkiIGhlaWdodD0iNDE5OSIvPgogICAgICAgIDxwYXRoIGZpbGw9InJnYigxOTQsMjI0LDE3NCkiIHN0cm9rZT0ibm9uZSIgZD0iTSA1MDY3LDE1NzA1IEwgNzEyNSwxNzc2MyA1MDY3LDE5ODIxIDMwMDksMTc3NjMgNTA2NywxNTcwNSA1MDY3LDE1NzA1IFogTSAzMDA5LDE1NzA1IEwgMzAwOSwxNTcwNSBaIE0gNzEyNSwxOTgyMSBMIDcxMjUsMTk4MjEgWiIvPgogICAgICAgIDxwYXRoIGZpbGw9Im5vbmUiIHN0cm9rZT0icmdiKDAsMCwwKSIgc3Ryb2tlLXdpZHRoPSI4MSIgc3Ryb2tlLWxpbmVqb2luPSJyb3VuZCIgZD0iTSA1MDY3LDE1NzA1IEwgNzEyNSwxNzc2MyA1MDY3LDE5ODIxIDMwMDksMTc3NjMgNTA2NywxNTcwNSA1MDY3LDE1NzA1IFoiLz4KICAgICAgICA8dGV4dCBjbGFzcz0iVGV4dFNoYXBlIj48dHNwYW4gY2xhc3M9IlRleHRQYXJhZ3JhcGgiIGZvbnQtZmFtaWx5PSJMYXRpbiBNb2Rlcm4gTWF0aCIgZm9udC1zaXplPSI2MzVweCIgZm9udC13ZWlnaHQ9IjQwMCI+PHRzcGFuIGNsYXNzPSJUZXh0UG9zaXRpb24iIHg9IjM2NzAiIHk9IjE3OTU4Ij48dHNwYW4gZmlsbD0icmdiKDAsMCwwKSIgc3Ryb2tlPSJub25lIj5PcHRpbWl6ZXI8L3RzcGFuPjwvdHNwYW4+PC90c3Bhbj48L3RleHQ+CiAgICAgICA8L2c+CiAgICAgIDwvZz4KICAgICAgPGcgY2xhc3M9ImNvbS5zdW4uc3Rhci5kcmF3aW5nLkNvbm5lY3RvclNoYXBlIj4KICAgICAgIDxnIGlkPSJpZDQ5Ij4KICAgICAgICA8cmVjdCBjbGFzcz0iQm91bmRpbmdCb3giIHN0cm9rZT0ibm9uZSIgZmlsbD0ibm9uZSIgeD0iNDg5MCIgeT0iMTM3MDYiIHdpZHRoPSIzMDIiIGhlaWdodD0iMjAwMiIvPgogICAgICAgIDxwYXRoIGZpbGw9Im5vbmUiIHN0cm9rZT0icmdiKDIzNywyOCwzNikiIGQ9Ik0gNTA2OCwxNTcwNiBMIDUwNDIsMTM5ODciLz4KICAgICAgICA8cGF0aCBmaWxsPSJyZ2IoMjM3LDI4LDM2KSIgc3Ryb2tlPSJub25lIiBkPSJNIDUwMTUsMTQwMDQgTCA0OTg4LDEzOTk3IDQ5NjEsMTM5ODQgNDkzNiwxMzk2NSA0OTE2LDEzOTQwIDQ5MDIsMTM5MTQgNDg5NCwxMzg4NyA0ODkwLDEzODU5IDQ4OTMsMTM4MzIgNDkwMSwxMzgwNCA0OTE0LDEzNzc2IDQ5MzIsMTM3NTIgNDk1NywxMzczMyA0OTg0LDEzNzE5IDUwMTEsMTM3MTAgNTAzOSwxMzcwNyA1MDY1LDEzNzA5IDUwOTQsMTM3MTggNTEyMCwxMzczMCA1MTQ1LDEzNzQ5IDUxNjQsMTM3NzIgNTE3OCwxMzc5OSA1MTg2LDEzODI3IDUxOTAsMTM4NTQgNTE4NywxMzg4MiA1MTgwLDEzOTA5IDUxNjcsMTM5MzcgNTE0OCwxMzk2MiA1MTI0LDEzOTgxIDUwOTgsMTM5OTUgNTA3MCwxNDAwMyA1MDQzLDE0MDA3IDUwMTUsMTQwMDQgWiIvPgogICAgICAgPC9nPgogICAgICA8L2c+CiAgICAgIDxnIGNsYXNzPSJjb20uc3VuLnN0YXIuZHJhd2luZy5Db25uZWN0b3JTaGFwZSI+CiAgICAgICA8ZyBpZD0iaWQ1MCI+CiAgICAgICAgPHJlY3QgY2xhc3M9IkJvdW5kaW5nQm94IiBzdHJva2U9Im5vbmUiIGZpbGw9Im5vbmUiIHg9IjUwNjciIHk9IjEzNjM1IiB3aWR0aD0iMzI1OSIgaGVpZ2h0PSIyMDczIi8+CiAgICAgICAgPHBhdGggZmlsbD0ibm9uZSIgc3Ryb2tlPSJyZ2IoMjM3LDI4LDM2KSIgZD0iTSA1MDY4LDE1NzA2IEwgODA2NSwxMzg1NCIvPgogICAgICAgIDxwYXRoIGZpbGw9InJnYigyMzcsMjgsMzYpIiBzdHJva2U9Im5vbmUiIGQ9Ik0gODAzNiwxMzg0MCBMIDgwMjksMTM4MTIgODAyNiwxMzc4MiA4MDI5LDEzNzUxIDgwNDAsMTM3MjIgODA1NiwxMzY5NiA4MDc1LDEzNjc2IDgwOTcsMTM2NTggODEyMiwxMzY0NyA4MTUwLDEzNjM5IDgxODAsMTM2MzYgODIxMCwxMzY0MCA4MjM5LDEzNjUxIDgyNjUsMTM2NjcgODI4NywxMzY4NSA4MzAzLDEzNzA4IDgzMTUsMTM3MzIgODMyMywxMzc2MCA4MzI1LDEzNzg5IDgzMjIsMTM4MjAgODMxMiwxMzg0OSA4Mjk2LDEzODc1IDgyNzYsMTM4OTYgODI1NSwxMzkxMyA4MjI5LDEzOTI1IDgyMDIsMTM5MzMgODE3MiwxMzkzNSA4MTQxLDEzOTMyIDgxMTIsMTM5MjEgODA4NiwxMzkwNiA4MDY1LDEzODg2IDgwNDgsMTM4NjUgODAzNiwxMzg0MCBaIi8+CiAgICAgICA8L2c+CiAgICAgIDwvZz4KICAgICAgPGcgY2xhc3M9ImNvbS5zdW4uc3Rhci5kcmF3aW5nLkNvbm5lY3RvclNoYXBlIj4KICAgICAgIDxnIGlkPSJpZDUxIj4KICAgICAgICA8cmVjdCBjbGFzcz0iQm91bmRpbmdCb3giIHN0cm9rZT0ibm9uZSIgZmlsbD0ibm9uZSIgeD0iNTA2NyIgeT0iMTM1ODciIHdpZHRoPSI5NzcyIiBoZWlnaHQ9IjIxMjEiLz4KICAgICAgICA8cGF0aCBmaWxsPSJub25lIiBzdHJva2U9InJnYigyMzcsMjgsMzYpIiBkPSJNIDUwNjgsMTU3MDYgTCAxNDU2MCwxMzc2MyIvPgogICAgICAgIDxwYXRoIGZpbGw9InJnYigyMzcsMjgsMzYpIiBzdHJva2U9Im5vbmUiIGQ9Ik0gMTQ1MzgsMTM3NDAgTCAxNDU0MCwxMzcxMiAxNDU0OCwxMzY4MiAxNDU2MiwxMzY1NCAxNDU4MiwxMzYzMSAxNDYwNiwxMzYxMiAxNDYzMSwxMzU5OSAxNDY1NywxMzU5MCAxNDY4NSwxMzU4OCAxNDcxNCwxMzU5MCAxNDc0MywxMzU5OCAxNDc3MCwxMzYxMiAxNDc5MywxMzYzMiAxNDgxMiwxMzY1NiAxNDgyNiwxMzY4MSAxNDgzNCwxMzcwOCAxNDgzNywxMzczNCAxNDgzNCwxMzc2NCAxNDgyNiwxMzc5MiAxNDgxMiwxMzgyMCAxNDc5MywxMzg0MyAxNDc2OSwxMzg2MiAxNDc0MywxMzg3NSAxNDcxOCwxMzg4NCAxNDY5MCwxMzg4NiAxNDY2MSwxMzg4NCAxNDYzMiwxMzg3NiAxNDYwNCwxMzg2MiAxNDU4MSwxMzg0MiAxNDU2MiwxMzgxOSAxNDU0OSwxMzc5MyAxNDU0MCwxMzc2OCAxNDUzOCwxMzc0MCBaIi8+CiAgICAgICA8L2c+CiAgICAgIDwvZz4KICAgICAgPGcgY2xhc3M9ImNvbS5zdW4uc3Rhci5kcmF3aW5nLkNvbm5lY3RvclNoYXBlIj4KICAgICAgIDxnIGlkPSJpZDUyIj4KICAgICAgICA8cmVjdCBjbGFzcz0iQm91bmRpbmdCb3giIHN0cm9rZT0ibm9uZSIgZmlsbD0ibm9uZSIgeD0iNTA2NyIgeT0iMTM1ODAiIHdpZHRoPSIxMjg3NSIgaGVpZ2h0PSIyMTI4Ii8+CiAgICAgICAgPHBhdGggZmlsbD0ibm9uZSIgc3Ryb2tlPSJyZ2IoMjM3LDI4LDM2KSIgZD0iTSA1MDY4LDE1NzA2IEwgMTc2NjIsMTM3NTAiLz4KICAgICAgICA8cGF0aCBmaWxsPSJyZ2IoMjM3LDI4LDM2KSIgc3Ryb2tlPSJub25lIiBkPSJNIDE3NjQyLDEzNzI1IEwgMTc2NDUsMTM2OTcgMTc2NTQsMTM2NjkgMTc2NjksMTM2NDEgMTc2OTEsMTM2MTkgMTc3MTYsMTM2MDEgMTc3NDEsMTM1ODkgMTc3NjgsMTM1ODIgMTc3OTUsMTM1ODEgMTc4MjQsMTM1ODQgMTc4NTMsMTM1OTMgMTc4NzksMTM2MDkgMTc5MDIsMTM2MzAgMTc5MTksMTM2NTUgMTc5MzIsMTM2ODAgMTc5MzksMTM3MDggMTc5NDEsMTM3MzQgMTc5MzYsMTM3NjQgMTc5MjcsMTM3OTEgMTc5MTIsMTM4MTkgMTc4OTIsMTM4NDEgMTc4NjcsMTM4NTkgMTc4NDAsMTM4NzEgMTc4MTQsMTM4NzggMTc3ODYsMTM4NzkgMTc3NTgsMTM4NzYgMTc3MjksMTM4NjYgMTc3MDIsMTM4NTEgMTc2NzksMTM4MzAgMTc2NjIsMTM4MDYgMTc2NTAsMTM3ODAgMTc2NDMsMTM3NTQgMTc2NDIsMTM3MjUgWiIvPgogICAgICAgPC9nPgogICAgICA8L2c+CiAgICAgIDxnIGNsYXNzPSJHcm91cCI+CiAgICAgICA8ZyBjbGFzcz0iY29tLnN1bi5zdGFyLmRyYXdpbmcuQ3VzdG9tU2hhcGUiPgogICAgICAgIDxnIGlkPSJpZDUzIj4KICAgICAgICAgPHJlY3QgY2xhc3M9IkJvdW5kaW5nQm94IiBzdHJva2U9Im5vbmUiIGZpbGw9Im5vbmUiIHg9IjE1NjciIHk9Ijc3NDMiIHdpZHRoPSI3NjYiIGhlaWdodD0iNzY2Ii8+CiAgICAgICAgIDxwYXRoIGZpbGw9InJnYigxMTQsMTU5LDIwNykiIHN0cm9rZT0ibm9uZSIgZD0iTSAxOTQ5LDc3NDQgQyAyMTY1LDc3NDQgMjMzMCw3OTA5IDIzMzAsODEyNSAyMzMwLDgzNDEgMjE2NSw4NTA2IDE5NDksODUwNiAxNzMzLDg1MDYgMTU2OCw4MzQxIDE1NjgsODEyNSAxNTY4LDc5MDkgMTczMyw3NzQ0IDE5NDksNzc0NCBaIE0gMTU2OCw3NzQ0IEwgMTU2OCw3NzQ0IFogTSAyMzMxLDg1MDcgTCAyMzMxLDg1MDcgWiIvPgogICAgICAgICA8cGF0aCBmaWxsPSJub25lIiBzdHJva2U9InJnYig1MiwxMDEsMTY0KSIgZD0iTSAxOTQ5LDc3NDQgQyAyMTY1LDc3NDQgMjMzMCw3OTA5IDIzMzAsODEyNSAyMzMwLDgzNDEgMjE2NSw4NTA2IDE5NDksODUwNiAxNzMzLDg1MDYgMTU2OCw4MzQxIDE1NjgsODEyNSAxNTY4LDc5MDkgMTczMyw3NzQ0IDE5NDksNzc0NCBaIi8+CiAgICAgICAgIDxwYXRoIGZpbGw9Im5vbmUiIHN0cm9rZT0icmdiKDUyLDEwMSwxNjQpIiBkPSJNIDE1NjgsNzc0NCBMIDE1NjgsNzc0NCBaIi8+CiAgICAgICAgIDxwYXRoIGZpbGw9Im5vbmUiIHN0cm9rZT0icmdiKDUyLDEwMSwxNjQpIiBkPSJNIDIzMzEsODUwNyBMIDIzMzEsODUwNyBaIi8+CiAgICAgICAgPC9nPgogICAgICAgPC9nPgogICAgICAgPGcgY2xhc3M9ImNvbS5zdW4uc3Rhci5kcmF3aW5nLkN1c3RvbVNoYXBlIj4KICAgICAgICA8ZyBpZD0iaWQ1NCI+CiAgICAgICAgIDxyZWN0IGNsYXNzPSJCb3VuZGluZ0JveCIgc3Ryb2tlPSJub25lIiBmaWxsPSJub25lIiB4PSIxNTY4IiB5PSIxMjk0NCIgd2lkdGg9Ijc2NiIgaGVpZ2h0PSI3NjYiLz4KICAgICAgICAgPHBhdGggZmlsbD0icmdiKDExNCwxNTksMjA3KSIgc3Ryb2tlPSJub25lIiBkPSJNIDE5NTAsMTI5NDUgQyAyMTY2LDEyOTQ1IDIzMzEsMTMxMTAgMjMzMSwxMzMyNiAyMzMxLDEzNTQyIDIxNjYsMTM3MDcgMTk1MCwxMzcwNyAxNzM0LDEzNzA3IDE1NjksMTM1NDIgMTU2OSwxMzMyNiAxNTY5LDEzMTEwIDE3MzQsMTI5NDUgMTk1MCwxMjk0NSBaIE0gMTU2OSwxMjk0NSBMIDE1NjksMTI5NDUgWiBNIDIzMzIsMTM3MDggTCAyMzMyLDEzNzA4IFoiLz4KICAgICAgICAgPHBhdGggZmlsbD0ibm9uZSIgc3Ryb2tlPSJyZ2IoNTIsMTAxLDE2NCkiIGQ9Ik0gMTk1MCwxMjk0NSBDIDIxNjYsMTI5NDUgMjMzMSwxMzExMCAyMzMxLDEzMzI2IDIzMzEsMTM1NDIgMjE2NiwxMzcwNyAxOTUwLDEzNzA3IDE3MzQsMTM3MDcgMTU2OSwxMzU0MiAxNTY5LDEzMzI2IDE1NjksMTMxMTAgMTczNCwxMjk0NSAxOTUwLDEyOTQ1IFoiLz4KICAgICAgICAgPHBhdGggZmlsbD0ibm9uZSIgc3Ryb2tlPSJyZ2IoNTIsMTAxLDE2NCkiIGQ9Ik0gMTU2OSwxMjk0NSBMIDE1NjksMTI5NDUgWiIvPgogICAgICAgICA8cGF0aCBmaWxsPSJub25lIiBzdHJva2U9InJnYig1MiwxMDEsMTY0KSIgZD0iTSAyMzMyLDEzNzA4IEwgMjMzMiwxMzcwOCBaIi8+CiAgICAgICAgPC9nPgogICAgICAgPC9nPgogICAgICAgPGcgY2xhc3M9ImNvbS5zdW4uc3Rhci5kcmF3aW5nLkN1c3RvbVNoYXBlIj4KICAgICAgICA8ZyBpZD0iaWQ1NSI+CiAgICAgICAgIDxyZWN0IGNsYXNzPSJCb3VuZGluZ0JveCIgc3Ryb2tlPSJub25lIiBmaWxsPSJub25lIiB4PSIxNTcwIiB5PSIxMTQ1NiIgd2lkdGg9Ijc2NiIgaGVpZ2h0PSI3NjYiLz4KICAgICAgICAgPHBhdGggZmlsbD0icmdiKDExNCwxNTksMjA3KSIgc3Ryb2tlPSJub25lIiBkPSJNIDE5NTIsMTE0NTcgQyAyMTY4LDExNDU3IDIzMzMsMTE2MjIgMjMzMywxMTgzOCAyMzMzLDEyMDU0IDIxNjgsMTIyMTkgMTk1MiwxMjIxOSAxNzM2LDEyMjE5IDE1NzEsMTIwNTQgMTU3MSwxMTgzOCAxNTcxLDExNjIyIDE3MzYsMTE0NTcgMTk1MiwxMTQ1NyBaIE0gMTU3MSwxMTQ1NyBMIDE1NzEsMTE0NTcgWiBNIDIzMzQsMTIyMjAgTCAyMzM0LDEyMjIwIFoiLz4KICAgICAgICAgPHBhdGggZmlsbD0ibm9uZSIgc3Ryb2tlPSJyZ2IoNTIsMTAxLDE2NCkiIGQ9Ik0gMTk1MiwxMTQ1NyBDIDIxNjgsMTE0NTcgMjMzMywxMTYyMiAyMzMzLDExODM4IDIzMzMsMTIwNTQgMjE2OCwxMjIxOSAxOTUyLDEyMjE5IDE3MzYsMTIyMTkgMTU3MSwxMjA1NCAxNTcxLDExODM4IDE1NzEsMTE2MjIgMTczNiwxMTQ1NyAxOTUyLDExNDU3IFoiLz4KICAgICAgICAgPHBhdGggZmlsbD0ibm9uZSIgc3Ryb2tlPSJyZ2IoNTIsMTAxLDE2NCkiIGQ9Ik0gMTU3MSwxMTQ1NyBMIDE1NzEsMTE0NTcgWiIvPgogICAgICAgICA8cGF0aCBmaWxsPSJub25lIiBzdHJva2U9InJnYig1MiwxMDEsMTY0KSIgZD0iTSAyMzM0LDEyMjIwIEwgMjMzNCwxMjIyMCBaIi8+CiAgICAgICAgPC9nPgogICAgICAgPC9nPgogICAgICAgPGcgY2xhc3M9ImNvbS5zdW4uc3Rhci5kcmF3aW5nLkN1c3RvbVNoYXBlIj4KICAgICAgICA8ZyBpZD0iaWQ1NiI+CiAgICAgICAgIDxyZWN0IGNsYXNzPSJCb3VuZGluZ0JveCIgc3Ryb2tlPSJub25lIiBmaWxsPSJub25lIiB4PSIxNTY4IiB5PSI5MjM1IiB3aWR0aD0iNzY2IiBoZWlnaHQ9Ijc2NiIvPgogICAgICAgICA8cGF0aCBmaWxsPSJyZ2IoMTE0LDE1OSwyMDcpIiBzdHJva2U9Im5vbmUiIGQ9Ik0gMTk1MCw5MjM2IEMgMjE2Niw5MjM2IDIzMzEsOTQwMSAyMzMxLDk2MTcgMjMzMSw5ODMzIDIxNjYsOTk5OCAxOTUwLDk5OTggMTczNCw5OTk4IDE1NjksOTgzMyAxNTY5LDk2MTcgMTU2OSw5NDAxIDE3MzQsOTIzNiAxOTUwLDkyMzYgWiBNIDE1NjksOTIzNiBMIDE1NjksOTIzNiBaIE0gMjMzMiw5OTk5IEwgMjMzMiw5OTk5IFoiLz4KICAgICAgICAgPHBhdGggZmlsbD0ibm9uZSIgc3Ryb2tlPSJyZ2IoNTIsMTAxLDE2NCkiIGQ9Ik0gMTk1MCw5MjM2IEMgMjE2Niw5MjM2IDIzMzEsOTQwMSAyMzMxLDk2MTcgMjMzMSw5ODMzIDIxNjYsOTk5OCAxOTUwLDk5OTggMTczNCw5OTk4IDE1NjksOTgzMyAxNTY5LDk2MTcgMTU2OSw5NDAxIDE3MzQsOTIzNiAxOTUwLDkyMzYgWiIvPgogICAgICAgICA8cGF0aCBmaWxsPSJub25lIiBzdHJva2U9InJnYig1MiwxMDEsMTY0KSIgZD0iTSAxNTY5LDkyMzYgTCAxNTY5LDkyMzYgWiIvPgogICAgICAgICA8cGF0aCBmaWxsPSJub25lIiBzdHJva2U9InJnYig1MiwxMDEsMTY0KSIgZD0iTSAyMzMyLDk5OTkgTCAyMzMyLDk5OTkgWiIvPgogICAgICAgIDwvZz4KICAgICAgIDwvZz4KICAgICAgPC9nPgogICAgICA8ZyBjbGFzcz0iY29tLnN1bi5zdGFyLmRyYXdpbmcuVGV4dFNoYXBlIj4KICAgICAgIDxnIGlkPSJpZDU3Ij4KICAgICAgICA8cmVjdCBjbGFzcz0iQm91bmRpbmdCb3giIHN0cm9rZT0ibm9uZSIgZmlsbD0ibm9uZSIgeD0iODc1NSIgeT0iNjg1MSIgd2lkdGg9IjU0NjIiIGhlaWdodD0iMTM5OCIvPgogICAgICAgIDx0ZXh0IGNsYXNzPSJUZXh0U2hhcGUiPjx0c3BhbiBjbGFzcz0iVGV4dFBhcmFncmFwaCIgZm9udC1mYW1pbHk9IkxhdGluIE1vZGVybiBNYXRoIiBmb250LXNpemU9Ijg0N3B4IiBmb250LXdlaWdodD0iNDAwIj48dHNwYW4gY2xhc3M9IlRleHRQb3NpdGlvbiIgeD0iOTAwNSIgeT0iNzY1OCI+PHRzcGFuIGZpbGw9InJnYigwLDAsMCkiIHN0cm9rZT0ibm9uZSI+QXJjaGl0ZWN0dXJlPC90c3Bhbj48L3RzcGFuPjwvdHNwYW4+PC90ZXh0PgogICAgICAgPC9nPgogICAgICA8L2c+CiAgICAgIDxnIGNsYXNzPSJjb20uc3VuLnN0YXIuZHJhd2luZy5UZXh0U2hhcGUiPgogICAgICAgPGcgaWQ9ImlkNTgiPgogICAgICAgIDxyZWN0IGNsYXNzPSJCb3VuZGluZ0JveCIgc3Ryb2tlPSJub25lIiBmaWxsPSJub25lIiB4PSIxMjU0IiB5PSI1ODc4IiB3aWR0aD0iMzkzOCIgaGVpZ2h0PSI4OTAiLz4KICAgICAgICA8dGV4dCBjbGFzcz0iVGV4dFNoYXBlIj48dHNwYW4gY2xhc3M9IlRleHRQYXJhZ3JhcGgiIGZvbnQtZmFtaWx5PSJMYXRpbiBNb2Rlcm4gTWF0aCIgZm9udC1zaXplPSI2MzVweCIgZm9udC13ZWlnaHQ9IjQwMCI+PHRzcGFuIGNsYXNzPSJUZXh0UG9zaXRpb24iIHg9IjE1MDQiIHk9IjY1MTUiPjx0c3BhbiBmaWxsPSJyZ2IoMCwwLDApIiBzdHJva2U9Im5vbmUiPklucHV0PC90c3Bhbj48L3RzcGFuPjwvdHNwYW4+PC90ZXh0PgogICAgICAgPC9nPgogICAgICA8L2c+CiAgICAgIDxnIGNsYXNzPSJjb20uc3VuLnN0YXIuZHJhd2luZy5UZXh0U2hhcGUiPgogICAgICAgPGcgaWQ9ImlkNTkiPgogICAgICAgIDxyZWN0IGNsYXNzPSJCb3VuZGluZ0JveCIgc3Ryb2tlPSJub25lIiBmaWxsPSJub25lIiB4PSIyMTQ0NyIgeT0iNjEzMiIgd2lkdGg9IjM5MzgiIGhlaWdodD0iODkwIi8+CiAgICAgICAgPHRleHQgY2xhc3M9IlRleHRTaGFwZSI+PHRzcGFuIGNsYXNzPSJUZXh0UGFyYWdyYXBoIiBmb250LWZhbWlseT0iTGF0aW4gTW9kZXJuIE1hdGgiIGZvbnQtc2l6ZT0iNjM1cHgiIGZvbnQtd2VpZ2h0PSI0MDAiPjx0c3BhbiBjbGFzcz0iVGV4dFBvc2l0aW9uIiB4PSIyMTY5NyIgeT0iNjc2OSI+PHRzcGFuIGZpbGw9InJnYigwLDAsMCkiIHN0cm9rZT0ibm9uZSI+T3V0cHV0PC90c3Bhbj48L3RzcGFuPjwvdHNwYW4+PC90ZXh0PgogICAgICAgPC9nPgogICAgICA8L2c+CiAgICAgIDxnIGNsYXNzPSJjb20uc3VuLnN0YXIuZHJhd2luZy5UZXh0U2hhcGUiPgogICAgICAgPGcgaWQ9ImlkNjAiPgogICAgICAgIDxyZWN0IGNsYXNzPSJCb3VuZGluZ0JveCIgc3Ryb2tlPSJub25lIiBmaWxsPSJub25lIiB4PSIyNjAxOSIgeT0iNjEzMiIgd2lkdGg9IjM5MzgiIGhlaWdodD0iODkwIi8+CiAgICAgICAgPHRleHQgY2xhc3M9IlRleHRTaGFwZSI+PHRzcGFuIGNsYXNzPSJUZXh0UGFyYWdyYXBoIiBmb250LWZhbWlseT0iTGF0aW4gTW9kZXJuIE1hdGgiIGZvbnQtc2l6ZT0iNjM1cHgiIGZvbnQtd2VpZ2h0PSI0MDAiPjx0c3BhbiBjbGFzcz0iVGV4dFBvc2l0aW9uIiB4PSIyNjI2OSIgeT0iNjc2OSI+PHRzcGFuIGZpbGw9InJnYigwLDAsMCkiIHN0cm9rZT0ibm9uZSI+VHJ1ZTwvdHNwYW4+PC90c3Bhbj48L3RzcGFuPjwvdGV4dD4KICAgICAgIDwvZz4KICAgICAgPC9nPgogICAgICA8ZyBjbGFzcz0iY29tLnN1bi5zdGFyLmRyYXdpbmcuQ3VzdG9tU2hhcGUiPgogICAgICAgPGcgaWQ9ImlkNjEiPgogICAgICAgIDxyZWN0IGNsYXNzPSJCb3VuZGluZ0JveCIgc3Ryb2tlPSJub25lIiBmaWxsPSJub25lIiB4PSIxMjU5NyIgeT0iMTYzNDgiIHdpZHRoPSI5MzA5IiBoZWlnaHQ9IjI4MzIiLz4KICAgICAgICA8Zz4KICAgICAgICAgPGRlZnM+CiAgICAgICAgICA8bGluZWFyR3JhZGllbnQgaWQ9ImdyYWRpZW50MSIgeDE9IjEyNjE1IiB5MT0iMTc3NjMiIHgyPSIyMTg4OCIgeTI9IjE3NzYzIiBncmFkaWVudFVuaXRzPSJ1c2VyU3BhY2VPblVzZSI+CiAgICAgICAgICAgPHN0b3Agb2Zmc2V0PSIwIiBzdHlsZT0ic3RvcC1jb2xvcjpyZ2IoMTI1LDE2NywyMTYpIi8+CiAgICAgICAgICAgPHN0b3Agb2Zmc2V0PSIxIiBzdHlsZT0ic3RvcC1jb2xvcjpyZ2IoMjQzLDEyMywxMTIpIi8+CiAgICAgICAgICA8L2xpbmVhckdyYWRpZW50PgogICAgICAgICA8L2RlZnM+CiAgICAgICAgIDxwYXRoIHN0eWxlPSJmaWxsOnVybCgjZ3JhZGllbnQxKSIgZD0iTSAyMTg4NywxNzI3MCBMIDE1MDA5LDE3MjcwIDE1MDA5LDE2MzY2IDEyNjE1LDE3NzYzIDE1MDA5LDE5MTYxIDE1MDA5LDE4MjU3IDIxODg3LDE4MjU3IDIxODg3LDE3MjcwIFoiLz4KICAgICAgICA8L2c+CiAgICAgICAgPHBhdGggZmlsbD0ibm9uZSIgc3Ryb2tlPSJyZ2IoMCwwLDApIiBzdHJva2Utd2lkdGg9IjM1IiBzdHJva2UtbGluZWpvaW49InJvdW5kIiBkPSJNIDIxODg3LDE3MjcwIEwgMTUwMDksMTcyNzAgMTUwMDksMTYzNjYgMTI2MTUsMTc3NjMgMTUwMDksMTkxNjEgMTUwMDksMTgyNTcgMjE4ODcsMTgyNTcgMjE4ODcsMTcyNzAgWiIvPgogICAgICAgIDx0ZXh0IGNsYXNzPSJUZXh0U2hhcGUiPjx0c3BhbiBjbGFzcz0iVGV4dFBhcmFncmFwaCIgZm9udC1mYW1pbHk9IkxhdGluIE1vZGVybiBNYXRoIiBmb250LXNpemU9IjYzNXB4IiBmb250LXdlaWdodD0iNDAwIj48dHNwYW4gY2xhc3M9IlRleHRQb3NpdGlvbiIgeD0iMTUzMjQiIHk9IjE3OTU4Ij48dHNwYW4gZmlsbD0icmdiKDAsMCwwKSIgc3Ryb2tlPSJub25lIj5CYWNrcHJvcGFnYXRpb248L3RzcGFuPjwvdHNwYW4+PC90c3Bhbj48L3RleHQ+CiAgICAgICA8L2c+CiAgICAgIDwvZz4KICAgICAgPGcgY2xhc3M9ImNvbS5zdW4uc3Rhci5kcmF3aW5nLlRleHRTaGFwZSI+CiAgICAgICA8ZyBpZD0iaWQ2MiI+CiAgICAgICAgPHJlY3QgY2xhc3M9IkJvdW5kaW5nQm94IiBzdHJva2U9Im5vbmUiIGZpbGw9Im5vbmUiIHg9IjgxMjIiIHk9IjE3MzE4IiB3aWR0aD0iNDMyMSIgaGVpZ2h0PSI4OTIiLz4KICAgICAgICA8cGF0aCBmaWxsPSJyZ2IoMjIxLDIyMSwyMjEpIiBzdHJva2U9Im5vbmUiIGQ9Ik0gMTAyODIsMTgyMDggTCA4MTIzLDE4MjA4IDgxMjMsMTczMTkgMTI0NDEsMTczMTkgMTI0NDEsMTgyMDggMTAyODIsMTgyMDggWiIvPgogICAgICAgIDxwYXRoIGZpbGw9Im5vbmUiIHN0cm9rZT0icmdiKDAsMCwwKSIgZD0iTSAxMDI4MiwxODIwOCBMIDgxMjMsMTgyMDggODEyMywxNzMxOSAxMjQ0MSwxNzMxOSAxMjQ0MSwxODIwOCAxMDI4MiwxODIwOCBaIi8+CiAgICAgICAgPHRleHQgY2xhc3M9IlRleHRTaGFwZSI+PHRzcGFuIGNsYXNzPSJUZXh0UGFyYWdyYXBoIiBmb250LWZhbWlseT0iTGF0aW4gTW9kZXJuIE1hdGgiIGZvbnQtc2l6ZT0iNjM1cHgiIGZvbnQtd2VpZ2h0PSI0MDAiPjx0c3BhbiBjbGFzcz0iVGV4dFBvc2l0aW9uIiB4PSI4OTE5IiB5PSIxNzk1NiI+PHRzcGFuIGZpbGw9InJnYigwLDAsMCkiIHN0cm9rZT0ibm9uZSI+R3JhZGllbnRzPC90c3Bhbj48L3RzcGFuPjwvdHNwYW4+PC90ZXh0PgogICAgICAgPC9nPgogICAgICA8L2c+CiAgICAgIDxnIGNsYXNzPSJjb20uc3VuLnN0YXIuZHJhd2luZy5DdXN0b21TaGFwZSI+CiAgICAgICA8ZyBpZD0iaWQ2MyI+CiAgICAgICAgPHJlY3QgY2xhc3M9IkJvdW5kaW5nQm94IiBzdHJva2U9Im5vbmUiIGZpbGw9Im5vbmUiIHg9IjM4NzkiIHk9IjY2NzMiIHdpZHRoPSIxNzMyMCIgaGVpZ2h0PSI4MTA0Ii8+CiAgICAgICAgPHBhdGggZmlsbD0ibm9uZSIgc3Ryb2tlPSJyZ2IoMCwwLDApIiBzdHJva2Utd2lkdGg9IjgxIiBzdHJva2UtbGluZWpvaW49InJvdW5kIiBkPSJNIDEyNTM5LDE0NzM1IEwgMzkyMCwxNDczNSAzOTIwLDY3MTQgMjExNTcsNjcxNCAyMTE1NywxNDczNSAxMjUzOSwxNDczNSBaIi8+CiAgICAgICA8L2c+CiAgICAgIDwvZz4KICAgICAgPGcgY2xhc3M9ImNvbS5zdW4uc3Rhci5kcmF3aW5nLkN1c3RvbVNoYXBlIj4KICAgICAgIDxnIGlkPSJpZDY0Ij4KICAgICAgICA8cmVjdCBjbGFzcz0iQm91bmRpbmdCb3giIHN0cm9rZT0ibm9uZSIgZmlsbD0ibm9uZSIgeD0iNjk0OCIgeT0iMzg0OSIgd2lkdGg9IjkzMDkiIGhlaWdodD0iMjgzMiIvPgogICAgICAgIDxwYXRoIGZpbGw9InJnYigyNTUsMjQ5LDE3NCkiIHN0cm9rZT0ibm9uZSIgZD0iTSA2OTY2LDQ3MzAgTCAxMzg4OSw0NzMwIDEzODg5LDM4NjcgMTYyMzgsNTI2NCAxMzg4OSw2NjYyIDEzODg5LDU3OTkgNjk2Niw1Nzk5IDY5NjYsNDczMCBaIE0gMTYyMzgsMzg2NyBMIDE2MjM4LDM4NjcgWiBNIDY5NjYsNjY2MiBMIDY5NjYsNjY2MiBaIi8+CiAgICAgICAgPHBhdGggZmlsbD0ibm9uZSIgc3Ryb2tlPSJyZ2IoMCwwLDApIiBzdHJva2Utd2lkdGg9IjM1IiBzdHJva2UtbGluZWpvaW49InJvdW5kIiBkPSJNIDY5NjYsNDczMCBMIDEzODg5LDQ3MzAgMTM4ODksMzg2NyAxNjIzOCw1MjY0IDEzODg5LDY2NjIgMTM4ODksNTc5OSA2OTY2LDU3OTkgNjk2Niw0NzMwIFoiLz4KICAgICAgICA8dGV4dCBjbGFzcz0iVGV4dFNoYXBlIj48dHNwYW4gY2xhc3M9IlRleHRQYXJhZ3JhcGgiIGZvbnQtZmFtaWx5PSJMYXRpbiBNb2Rlcm4gTWF0aCIgZm9udC1zaXplPSI2MzVweCIgZm9udC13ZWlnaHQ9IjQwMCI+PHRzcGFuIGNsYXNzPSJUZXh0UG9zaXRpb24iIHg9IjEwNDIzIiB5PSI1NDU5Ij48dHNwYW4gZmlsbD0icmdiKDAsMCwwKSIgc3Ryb2tlPSJub25lIj5Gb3J3YXJkPC90c3Bhbj48L3RzcGFuPjwvdHNwYW4+PC90ZXh0PgogICAgICAgPC9nPgogICAgICA8L2c+CiAgICAgIDxnIGNsYXNzPSJjb20uc3VuLnN0YXIuZHJhd2luZy5UZXh0U2hhcGUiPgogICAgICAgPGcgaWQ9ImlkNjUiPgogICAgICAgIDxyZWN0IGNsYXNzPSJCb3VuZGluZ0JveCIgc3Ryb2tlPSJub25lIiBmaWxsPSJub25lIiB4PSI0MTE5IiB5PSIxMjE5IiB3aWR0aD0iMjE0NjQiIGhlaWdodD0iMjQxNCIvPgogICAgICAgIDx0ZXh0IGNsYXNzPSJUZXh0U2hhcGUiPjx0c3BhbiBjbGFzcz0iVGV4dFBhcmFncmFwaCIgZm9udC1mYW1pbHk9IkxhdGluIE1vZGVybiBNYXRoIiBmb250LXNpemU9IjkxN3B4IiBmb250LXdlaWdodD0iNzAwIj48dHNwYW4gY2xhc3M9IlRleHRQb3NpdGlvbiIgeD0iNDgxOCIgeT0iMjA4NSI+PHRzcGFuIGZpbGw9InJnYigwLDAsMCkiIHN0cm9rZT0ibm9uZSI+RGlhZ3JhbWEgZGUgRW50cmVuYW1pZW50byBkZSBSZWRlcyBOZXVyb25hbGVzPC90c3Bhbj48L3RzcGFuPjwvdHNwYW4+PC90ZXh0PgogICAgICAgPC9nPgogICAgICA8L2c+CiAgICAgIDxnIGNsYXNzPSJjb20uc3VuLnN0YXIuZHJhd2luZy5Db25uZWN0b3JTaGFwZSI+CiAgICAgICA8ZyBpZD0iaWQ2NiI+CiAgICAgICAgPHJlY3QgY2xhc3M9IkJvdW5kaW5nQm94IiBzdHJva2U9Im5vbmUiIGZpbGw9Im5vbmUiIHg9IjIxODg3IiB5PSIxNzYxMyIgd2lkdGg9IjE3MzkiIGhlaWdodD0iMzAxIi8+CiAgICAgICAgPHBhdGggZmlsbD0ibm9uZSIgc3Ryb2tlPSJyZ2IoMCwwLDApIiBkPSJNIDIzNjI0LDE3NzYzIEwgMjIzMTcsMTc3NjMiLz4KICAgICAgICA8cGF0aCBmaWxsPSJyZ2IoMCwwLDApIiBzdHJva2U9Im5vbmUiIGQ9Ik0gMjE4ODcsMTc3NjMgTCAyMjMzNywxNzkxMyAyMjMzNywxNzYxMyAyMTg4NywxNzc2MyBaIi8+CiAgICAgICA8L2c+CiAgICAgIDwvZz4KICAgICAgPGcgY2xhc3M9ImNvbS5zdW4uc3Rhci5kcmF3aW5nLkNvbm5lY3RvclNoYXBlIj4KICAgICAgIDxnIGlkPSJpZDY3Ij4KICAgICAgICA8cmVjdCBjbGFzcz0iQm91bmRpbmdCb3giIHN0cm9rZT0ibm9uZSIgZmlsbD0ibm9uZSIgeD0iNzEyNSIgeT0iMTc2MTMiIHdpZHRoPSIxMDAwIiBoZWlnaHQ9IjMwMiIvPgogICAgICAgIDxwYXRoIGZpbGw9Im5vbmUiIHN0cm9rZT0icmdiKDAsMCwwKSIgZD0iTSA4MTIzLDE3NzYzIEwgNzU1NSwxNzc2NCIvPgogICAgICAgIDxwYXRoIGZpbGw9InJnYigwLDAsMCkiIHN0cm9rZT0ibm9uZSIgZD0iTSA3MTI1LDE3NzY0IEwgNzU3NSwxNzkxNCA3NTc1LDE3NjE0IDcxMjUsMTc3NjQgWiIvPgogICAgICAgPC9nPgogICAgICA8L2c+CiAgICAgIDxnIGNsYXNzPSJjb20uc3VuLnN0YXIuZHJhd2luZy5Db25uZWN0b3JTaGFwZSI+CiAgICAgICA8ZyBpZD0iaWQ2OCI+CiAgICAgICAgPHJlY3QgY2xhc3M9IkJvdW5kaW5nQm94IiBzdHJva2U9Im5vbmUiIGZpbGw9Im5vbmUiIHg9IjIzMzIiIHk9IjEwNTc1IiB3aWR0aD0iMTU5MCIgaGVpZ2h0PSIzMDEiLz4KICAgICAgICA8cGF0aCBmaWxsPSJub25lIiBzdHJva2U9InJnYigwLDAsMCkiIGQ9Ik0gMjMzMywxMDcyNSBMIDM0OTEsMTA3MjUiLz4KICAgICAgICA8cGF0aCBmaWxsPSJyZ2IoMCwwLDApIiBzdHJva2U9Im5vbmUiIGQ9Ik0gMzkyMSwxMDcyNSBMIDM0NzEsMTA1NzUgMzQ3MSwxMDg3NSAzOTIxLDEwNzI1IFoiLz4KICAgICAgIDwvZz4KICAgICAgPC9nPgogICAgICA8ZyBjbGFzcz0iY29tLnN1bi5zdGFyLmRyYXdpbmcuQ29ubmVjdG9yU2hhcGUiPgogICAgICAgPGcgaWQ9ImlkNjkiPgogICAgICAgIDxyZWN0IGNsYXNzPSJCb3VuZGluZ0JveCIgc3Ryb2tlPSJub25lIiBmaWxsPSJub25lIiB4PSIyMDc3NiIgeT0iMTA1NzUiIHdpZHRoPSIxNDEzIiBoZWlnaHQ9IjMwMSIvPgogICAgICAgIDxwYXRoIGZpbGw9Im5vbmUiIHN0cm9rZT0icmdiKDAsMCwwKSIgZD0iTSAyMDc3NywxMDcyNSBMIDIxNzU4LDEwNzI1Ii8+CiAgICAgICAgPHBhdGggZmlsbD0icmdiKDAsMCwwKSIgc3Ryb2tlPSJub25lIiBkPSJNIDIyMTg4LDEwNzI1IEwgMjE3MzgsMTA1NzUgMjE3MzgsMTA4NzUgMjIxODgsMTA3MjUgWiIvPgogICAgICAgPC9nPgogICAgICA8L2c+CiAgICAgPC9nPgogICAgPC9nPgogICA8L2c+CiAgPC9nPgogPC9nPgo8L3N2Zz4=)"
   ]
  },
  {
   "cell_type": "markdown",
   "metadata": {
    "id": "pAwFcarcVMsH"
   },
   "source": [
    "<img src=\"NN_Flow.jpg\" width=\"1200\">"
   ]
  },
  {
   "cell_type": "code",
   "execution_count": null,
   "metadata": {
    "id": "NapSjQIkwDD4"
   },
   "outputs": [],
   "source": [
    "# Cantidad de Epochs\n",
    "n_epochs = 900\n",
    "\n",
    "# Generamos un diccionario donde vamos a guaradr historial de entrenamiento\n",
    "training = {'train':{'loss':[],\n",
    "                    'acc':[]},\n",
    "           'val':{'loss':[],\n",
    "                  'acc':[]}\n",
    "           }"
   ]
  },
  {
   "cell_type": "code",
   "execution_count": null,
   "metadata": {
    "id": "NJx1qPJ3wDAu"
   },
   "outputs": [],
   "source": [
    "################################################\n",
    "# TRAINING: Epochs\n",
    "################################################\n",
    "for epoch in range(n_epochs):\n",
    "  # Ahora nosotros vamos a tener que definir estas variables ...\n",
    "  train_loss = 0\n",
    "  cls_correctas_train = 0\n",
    "  train_acc = 0\n",
    "  ################################################\n",
    "  # TRAINING: Batch\n",
    "  ################################################\n",
    "  for i , (x_batch, y_batch) in enumerate(train_dl):\n",
    "    # Limpiamos todos los gradientes cargados en el optimizador\n",
    "    optimizador.zero_grad()\n",
    "    # Con un x_batch generamos una prediccion\n",
    "    y_pred = model(x_batch)\n",
    "    # La clase predicha será el índice de máximo valor luego del\n",
    "    # softmax (integrado en CrossEntropyLoss)\n",
    "    _, predicted = torch.max(y_pred.data, 1)\n",
    "    # Calculamos la loss\n",
    "    batch_loss = loss_func(y_pred,y_batch)\n",
    "    # Calculamos el gradiente de la loss\n",
    "    # Aca es donde sucede el back-propagation a.k.a. \"la magia\"\n",
    "    batch_loss.backward()\n",
    "    # Ajustamos los parametros del modelo con el optimizador\n",
    "    optimizador.step()\n",
    "    # Acumulamos la loss\n",
    "    train_loss += batch_loss.item()\n",
    "    # Sumamos la cantidad de clases correctas en el batch\n",
    "    correct_i = (predicted == y_batch).sum().item()\n",
    "    # Acumulamos corrects\n",
    "    cls_correctas_train += correct_i\n",
    "\n",
    "  ################################################\n",
    "  # TRAINING: Validation\n",
    "  ################################################\n",
    "  val_loss = 0\n",
    "  cls_correctas_val = 0\n",
    "  val_acc = 0\n",
    "  with torch.torch.inference_mode():\n",
    "    for x_batch, y_batch in val_dl:\n",
    "      y_pred = model(x_batch)\n",
    "      _, predicted = torch.max(y_pred.data, 1)\n",
    "      batch_loss = loss_func(y_pred,y_batch)\n",
    "      val_loss += batch_loss.item()\n",
    "      correct_i = (predicted == y_batch).sum().item()\n",
    "      cls_correctas_val += correct_i\n",
    "\n",
    "  # Calculamos el accuracy\n",
    "  train_acc = (cls_correctas_train / len(train_ds))*100    # Calculamos el accuracy\n",
    "  val_acc = (cls_correctas_val / len(val_ds))*100\n",
    "  mean_train_loss = train_loss/len(train_ds)\n",
    "  mean_val_loss = val_loss/len(val_ds)\n",
    "\n",
    "  # Imprimimos en pantalla\n",
    "  print('Epoch: {} T_Loss: {:.4f} T_Acc: {:.2f}%  V_Loss: {:.4f} V_Acc: {:.2f} %'.format(\n",
    "      epoch,mean_train_loss,train_acc,mean_val_loss,val_acc))\n",
    "\n",
    "  # Guardamos en el historial de entrenamiento ...\n",
    "  training['train']['loss'].append(mean_train_loss)\n",
    "  training['train']['acc'].append(train_acc)\n",
    "  training['val']['loss'].append(mean_val_loss)\n",
    "  training['val']['acc'].append(val_acc)"
   ]
  },
  {
   "cell_type": "code",
   "execution_count": null,
   "metadata": {
    "id": "jcTsBG9UAYJe"
   },
   "outputs": [],
   "source": [
    "#Loss\n",
    "train_loss_h = training['train']['loss']\n",
    "val_loss_h = training['val']['loss']\n",
    "# Acc\n",
    "train_acc_h = training['train']['acc']\n",
    "val_acc_h = training['val']['acc']\n",
    "lepochs = range(1, len(train_loss_h) + 1)\n",
    "\n",
    "fig,(axs1,axs2) = plt.subplots(1,2,figsize=(16,6))\n",
    "axs1.plot(lepochs, train_loss_h, 'b', label='Train loss')\n",
    "axs1.plot(lepochs, val_loss_h, 'r', label='Val loss')\n",
    "axs1.set_title('Training and validation Loss',fontsize=20)\n",
    "axs1.set_ylabel('Loss',fontsize=16)\n",
    "axs1.legend(fontsize=16)\n",
    "axs2.plot(lepochs, train_acc_h, 'b', label='Train Accuracy')\n",
    "axs2.plot(lepochs, val_acc_h, 'r', label='Validation Accuracy')\n",
    "axs2.set_title('Training and validation Accuracy',fontsize=20)\n",
    "axs2.set_ylabel('Accuracy [%]',fontsize=16)\n",
    "axs2.legend(fontsize=16)\n",
    "plt.show()"
   ]
  },
  {
   "cell_type": "markdown",
   "metadata": {
    "id": "79yqU-Uunu5O"
   },
   "source": [
    "# **PREGUNTAS**:\n",
    "```\n",
    "1) Es correcto que nuestra loss de train y de validacion disminuyan, y sin embargo el accuracy se mantenga igual/baje ? Por que ?\n",
    "\n",
    "2) Que cambios podriamos hacer para intentar solucionar el entrenamiento con la sigmoid function?\n",
    "```\n",
    "\n"
   ]
  },
  {
   "cell_type": "markdown",
   "metadata": {
    "id": "US03jef4exdE"
   },
   "source": [
    "# DESAFIO"
   ]
  },
  {
   "cell_type": "markdown",
   "metadata": {
    "id": "PvxWJk1ve6VV"
   },
   "source": [
    "Generar una funcion llamada **`func_train()`** y **`func_val()`** para reemplezar en el for loop de entrenamiento.\n",
    "\n",
    "Luego, generar una fucion llamada **`func_fit()`** la cual reemplace todo el entrenamiento y validacion (debe contener dentro de si **`func_train()`** y **`func_val()`** ).\n",
    "\n",
    "Ayuda:\n",
    "\n",
    "`func_fit()` debe recibir como argumentos (inputs)\n",
    "\n",
    "* el `modelo`, `optimizador`, `loss function`, `dataloaders`, `datasets` y la cantidad de `epochs` a entrenar\n",
    "\n",
    "* el return de la funcion es el `modelo` ya entrenado y el `historial` de entrenamiento.\n",
    "\n"
   ]
  },
  {
   "cell_type": "code",
   "execution_count": null,
   "metadata": {
    "id": "oF8i9BUie-kD"
   },
   "outputs": [],
   "source": [
    "def func_train(model, train_dl,train_ds, loss_func, optimizador):\n",
    "  train_loss = 0\n",
    "  cls_correctas_train = 0\n",
    "  train_acc = 0\n",
    "  ################################################\n",
    "  # TRAINING\n",
    "  ################################################\n",
    "  for i , (x_batch, y_batch) in enumerate(train_dl):\n",
    "    # Limpiamos todos los gradientes cargados en el optimizador\n",
    "    optimizador.zero_grad()\n",
    "    # Con un x_batch generamos una prediccion\n",
    "    y_pred = model(x_batch)\n",
    "    # La clase predicha será el índice de máximo valor luego del\n",
    "    # softmax (integrado en CrossEntropyLoss)\n",
    "    _, predicted = torch.max(y_pred.data, 1)\n",
    "    # Calculamos la loss\n",
    "    batch_loss = loss_func(y_pred,y_batch)\n",
    "    # Calculamos el gradiente de la loss\n",
    "    # Aca es donde sucede el back-propagation a.k.a. \"la magia\"\n",
    "    batch_loss.backward()\n",
    "    # Ajustamos los parametros del modelo con el optimizador\n",
    "    optimizador.step()\n",
    "    # Acumulamos la loss\n",
    "    train_loss += batch_loss.item()\n",
    "    # Sumamos la cantidad de clases correctas en el batch\n",
    "    correct_i = (predicted == y_batch).sum().item()\n",
    "    # Acumulamos corrects\n",
    "    cls_correctas_train += correct_i\n",
    "  # Calculamos el accuracy\n",
    "  train_acc = (cls_correctas_train / len(train_ds))*100    # Calculamos el accuracy\n",
    "  mean_train_loss = train_loss/len(train_ds)\n",
    "\n",
    "  return (model, mean_train_loss,  cls_correctas_train,  train_acc)"
   ]
  },
  {
   "cell_type": "code",
   "execution_count": null,
   "metadata": {
    "id": "GNJUtIYyhkzO"
   },
   "outputs": [],
   "source": [
    "def func_validation(model, val_dl,val_ds,loss_func):\n",
    "  val_loss = 0\n",
    "  cls_correctas_val = 0\n",
    "  val_acc = 0\n",
    "  ################################################\n",
    "  # VALIDATION\n",
    "  ################################################\n",
    "  with torch.torch.inference_mode():\n",
    "    for x_batch, y_batch in val_dl:\n",
    "      y_pred = model(x_batch)\n",
    "      _, predicted = torch.max(y_pred.data, 1)\n",
    "      batch_loss = loss_func(y_pred,y_batch)\n",
    "      val_loss += batch_loss.item()\n",
    "      correct_i = (predicted == y_batch).sum().item()\n",
    "      cls_correctas_val += correct_i\n",
    "  # Calculamos el accuracy\n",
    "  val_acc = (cls_correctas_val / len(val_ds))*100\n",
    "  mean_val_loss = val_loss/len(val_ds)\n",
    "  return (mean_val_loss, cls_correctas_val, val_acc)"
   ]
  },
  {
   "cell_type": "code",
   "execution_count": null,
   "metadata": {
    "id": "7Ufv-Lyqhms-"
   },
   "outputs": [],
   "source": [
    "def func_fit(n_epochs,model,\n",
    "             train_dl,train_ds,val_dl,val_ds,\n",
    "             loss_func,optimizador):\n",
    "\n",
    "  # Generamos un diccionario donde vamos a guaradr historial de entrenamiento\n",
    "  training = {'train':{'loss':[],\n",
    "                      'acc':[]},\n",
    "            'val':{'loss':[],\n",
    "                    'acc':[]}\n",
    "            }\n",
    "  # For loop epochs\n",
    "  for epoch in range(n_epochs):\n",
    "    model,mean_train_loss, cls_correctas_train, train_acc =  func_train(model, train_dl,train_ds, loss_func, optimizador)\n",
    "    mean_val_loss, cls_correctas_val, val_acc = func_validation(model, val_dl,val_ds,loss_func)\n",
    "    # Imprimimos en pantalla\n",
    "    print('Epoch: {} T_Loss: {:.4f} T_Acc: {:.2f}%  V_Loss: {:.4f} V_Acc: {:.2f} %'.format(\n",
    "        epoch,mean_train_loss,train_acc,mean_val_loss,val_acc))\n",
    "\n",
    "    # Guardamos en el historial de entrenamiento ...\n",
    "    training['train']['loss'].append(mean_train_loss)\n",
    "    training['train']['acc'].append(train_acc)\n",
    "    training['val']['loss'].append(mean_val_loss)\n",
    "    training['val']['acc'].append(val_acc)\n",
    "  return (model,training)"
   ]
  },
  {
   "cell_type": "code",
   "execution_count": null,
   "metadata": {
    "id": "77gbWM6CiwAs"
   },
   "outputs": [],
   "source": [
    "# Cantidad de Epochs a entrenar\n",
    "n_epochs = 800\n",
    "\n",
    "model,training = func_fit( n_epochs,model,train_dl,train_ds,val_dl,val_ds,loss_func,optimizador)"
   ]
  },
  {
   "cell_type": "markdown",
   "metadata": {
    "id": "ULAa37jNjq8q"
   },
   "source": [
    "# Creacion del Modelos\n",
    "## (Avanzado y No Obligatorio para el curso !)\n",
    "En la siguiente seccion veremos como se definen los modelos de NN de un modo mas avanzado.\n"
   ]
  },
  {
   "cell_type": "code",
   "execution_count": null,
   "metadata": {
    "id": "0D7l-1x0lLw6"
   },
   "outputs": [],
   "source": [
    "class Red_Neuronal_Personalizada(nn.Module):\n",
    "    def __init__(self,input_features,layers_features,output_dim):\n",
    "        super(Red_Neuronal_Personalizada, self).__init__()\n",
    "        # Primera Capa\n",
    "        self.layer_1 = nn.Linear(input_features,layers_features)\n",
    "        self.act_1 = nn.Sigmoid()\n",
    "        # Segunda Capa\n",
    "        self.layer_2 = nn.Linear(layers_features,layers_features)\n",
    "        self.act_2 = nn.Sigmoid()\n",
    "        # Tercera Capa\n",
    "        self.layer_3 = nn.Linear(layers_features,layers_features)\n",
    "        self.act_3 = nn.Sigmoid()\n",
    "        # Ultima Capa\n",
    "        self.layer_4 = nn.Linear(layers_features,output_dim)\n",
    "\n",
    "    def forward(self, x):\n",
    "        z = self.act_1(self.layer_1(x))\n",
    "        z = self.act_2(self.layer_2(z))\n",
    "        z = self.act_3(self.layer_3(z))\n",
    "        output = self.layer_4(z)\n",
    "        return output"
   ]
  },
  {
   "cell_type": "markdown",
   "metadata": {
    "id": "4L3Sk8EtlQ94"
   },
   "source": [
    "Esto a primera vista puede ser un poco abrumador, pero vayamos viendo de a poco que es lo que hace cada parte del codigo.\n",
    "\n",
    "\n",
    "\n",
    "```python\n",
    "class Red_Neuronal_Personalizada(nn.Module):\n",
    "```\n",
    "En esta parte definimos una clase que llamamos **Red_Neuronal_Personalizada**, que nos permitira luego crear unaobjetos/instancias de dicha clase.\n",
    "\n",
    "```python\n",
    "modelo = Red_Neuronal_Personalizada()\n",
    "```\n",
    "Es similiar a cuando definimos una funcion, solo que es con objetos de PyThon.\n",
    "\n",
    "```python\n",
    "def func_propia():\n",
    "\n",
    "class clase_propia():\n",
    "```\n",
    "\n",
    "Con respecto a la siguiente parte del código\n",
    "```python\n",
    "    def __init__(self):\n",
    "        super(Red_Neuronal_Personalizada, self).__init__()\n",
    "```        \n",
    "\n",
    "Simplemente le estamos diciendo de que partes/atributos estará compuesta nuestra clase/modelo cuando lo creemos.\n",
    "\n",
    "La funcion __init__ es una funcion interna de Python que se ejecuta cuando creamos una instancia de nuestro objeto. Es decir, cuando ejecutemos\n",
    "\n",
    "```python\n",
    "modelo = Red_Neuronal_Personalizada()\n",
    "```\n",
    "\n",
    "---"
   ]
  },
  {
   "cell_type": "markdown",
   "metadata": {
    "id": "C4kuQ6KulfZI"
   },
   "source": [
    "\n",
    "Hasta este punto las partes de nuestro modelo aun no las hemos definido, asi que es lo que haremos en la siguientes lineas:\n",
    "\n",
    "```python\n",
    "class Red_Neuronal_Personalizada(nn.Module):\n",
    "    def __init__(self):\n",
    "        super(Red_Neuronal_Personalizada, self).__init__()\n",
    "        # Primera Capa\n",
    "        self.layer_1 = nn.Linear(input_features,layers_features)\n",
    "        self.act_1 = nn.Sigmoid()\n",
    "        # Segunda Capa\n",
    "        self.layer_2 = nn.Linear(layers_features,layers_features)\n",
    "        self.act_2 = nn.Sigmoid()\n",
    "        # Tercera Capa\n",
    "        self.layer_3 = nn.Linear(layers_features,layers_features)\n",
    "        self.act_3 = nn.Sigmoid()\n",
    "        # Ultima Capa\n",
    "        self.layer_4 = n.Linear(layers_features,output_dim)\n",
    "```\n",
    "\n",
    "* `self.` : Siempre que definimos las partes (formalmente llamado **atributo**) de las que estara compuesta un objeto en python, se **TIENE** que anteponer la palabra `self.nombre_parte`. De esta manera, cuando querramos que nuestro objeto utilice de alguna manera dicha parte, lo indicaremos de la misma manera: `self.nombre_parte()`\n",
    "\n",
    "En este ejemplo concreto, nuestro modelo / objeto tendra 7 componentes:\n",
    "\n",
    "* Layers 1, 2, 3 y 4\n",
    "* Activaciones 1, 2 y 3\n",
    "\n",
    "Todas estas componentes son objetos que importamos de la libreria PyTorch.\n",
    "\n",
    "---\n"
   ]
  },
  {
   "cell_type": "markdown",
   "metadata": {
    "id": "QcYWFrw0uGUF"
   },
   "source": [
    "Veamos la siguiente linea de nuestro codigo:\n",
    "```python\n",
    "def forward(self, x):\n",
    "```  \n",
    "\n",
    "En esta seccion definiremos el forward pass nosotros mismo. Como vemos, forward es una funcion que pertenecera a nuestro objeto y se utilizara cuando durante el entrenamiento pasemos la siguiente info.\n",
    "\n",
    "```python\n",
    "prediccion = model (x_batch)\n",
    "```\n",
    "`x_batch` en esta parte hace referencia a la **x** en:\n",
    "\n",
    "```python\n",
    "def forward(self, x):\n",
    "```\n",
    "\n",
    "y `self`, se lo pasaremos SIEMPRE que definimos una funcion en nuestro objeto que necesitemos que tenga acceso a los atributos que definimos en la seccion `____init ____`\n",
    "\n",
    "Bueno, sabiendo ya lo que haremos en esta funcion, pasemos a la siguiente parte del codigo ...\n"
   ]
  },
  {
   "cell_type": "markdown",
   "metadata": {
    "id": "bBk0ZHR0wKN9"
   },
   "source": [
    "```python\n",
    "    def forward(self, x):\n",
    "        z = self.act_1(self.layer_1(x))\n",
    "        z = self.act_2(self.layer_2(z))\n",
    "        z = self.act_3(self.layer_3(z))\n",
    "        output = self.layer_4(z)\n",
    "        return output\n",
    "```        "
   ]
  },
  {
   "cell_type": "markdown",
   "metadata": {
    "id": "EcuY6FB0wMM0"
   },
   "source": [
    "En cada una de las lineas, obtenemos la salida de cada una de las capas. Fijense en particular que llamamos a las partes/atributos con **`self.`**\n",
    "\n",
    "En particular :\n",
    "```python\n",
    "z = self.act_1(self.layer_1(x))\n",
    "```\n",
    "\n",
    "Equivale a:       $z = \\sigma ( W \\cdot X + b)$\n",
    "\n",
    "---"
   ]
  },
  {
   "cell_type": "markdown",
   "metadata": {
    "id": "WMGV76WawvA-"
   },
   "source": [
    "Con esto ultimo quedo definida la arquitectura de nuestra red!\n",
    "\n",
    "Vamos ahora a crear una instancia!"
   ]
  },
  {
   "cell_type": "markdown",
   "metadata": {
    "id": "z2DobiImxwav"
   },
   "source": [
    "Si observamos nuevamente en la funcion que genera los objetos\n",
    "\n",
    "\n",
    "\n",
    "\n",
    "```python\n",
    "def __init__(self,input_features,layers_features,output_dim):\n",
    "```\n",
    "\n",
    "Le pasamos los argumentos:\n",
    "\n",
    "* input_features\n",
    "* layers_features\n",
    "* output_dim\n",
    "\n",
    "Asi que vamos a definirlos para crear una intancia llamada **modelo_personalizado** de nuestra clase **Red_Neuronal_Personalizada**\n"
   ]
  },
  {
   "cell_type": "code",
   "execution_count": null,
   "metadata": {
    "id": "Vbs50MUflbnA"
   },
   "outputs": [],
   "source": [
    "input_features = 4\n",
    "layers_features = 4\n",
    "output_dim = 3\n",
    "modelo_personalizado = Red_Neuronal_Personalizada(input_features,layers_features,output_dim)"
   ]
  },
  {
   "cell_type": "code",
   "execution_count": null,
   "metadata": {
    "id": "Zfimw41hyUkG"
   },
   "outputs": [],
   "source": [
    "type(modelo_personalizado)"
   ]
  },
  {
   "cell_type": "code",
   "execution_count": null,
   "metadata": {
    "id": "SNE7Ox0I09z7"
   },
   "outputs": [],
   "source": [
    "modelo_personalizado"
   ]
  },
  {
   "cell_type": "markdown",
   "metadata": {
    "id": "WRSXzvUNy1Sr"
   },
   "source": [
    "Listo!\n",
    "\n",
    "Ahora entendemos que es lo que suecede internamente en **`nn.Sequential()`**, con la gran diferencia que ahora tenemos plena capacidad para definir las partes de nuestra red, su interaccion y el **forward pass**.\n",
    "\n",
    "\n"
   ]
  }
 ],
 "metadata": {
  "colab": {
   "provenance": [],
   "toc_visible": true
  },
  "kernelspec": {
   "display_name": "Python 3.9.13 ('PhD')",
   "language": "python",
   "name": "python3"
  },
  "language_info": {
   "codemirror_mode": {
    "name": "ipython",
    "version": 3
   },
   "file_extension": ".py",
   "mimetype": "text/x-python",
   "name": "python",
   "nbconvert_exporter": "python",
   "pygments_lexer": "ipython3",
   "version": "3.9.13"
  },
  "vscode": {
   "interpreter": {
    "hash": "4c3760444b418b510111f445cc2c46200fe77d738ac8bb8298f5c5cbe546de8e"
   }
  }
 },
 "nbformat": 4,
 "nbformat_minor": 0
}
