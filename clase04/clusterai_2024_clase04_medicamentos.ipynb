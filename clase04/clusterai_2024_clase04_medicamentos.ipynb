{
 "cells": [
  {
   "cell_type": "markdown",
   "metadata": {},
   "source": [
    "____\n",
    "**Universidad Tecnológica Nacional, Buenos Aires**\n",
    "\n",
    "**Ingeniería Industrial**\n",
    "\n",
    "**Cátedra de Ciencia de Datos - Turno jueves noche**\n",
    "\n",
    "**Elaborado por: Mareque Lucas**\n",
    "\n",
    "**Editado por: Aguirre Nicolas**\n",
    "____"
   ]
  },
  {
   "cell_type": "markdown",
   "metadata": {
    "heading_collapsed": true
   },
   "source": [
    "# Librerias"
   ]
  },
  {
   "cell_type": "code",
   "execution_count": null,
   "metadata": {
    "_cell_guid": "b1076dfc-b9ad-4769-8c92-a6c4dae69d19",
    "_uuid": "8f2839f25d086af736a60e9eeb907d3b93b6e0e5",
    "execution": {
     "iopub.execute_input": "2020-09-08T12:00:24.465724Z",
     "iopub.status.busy": "2020-09-08T12:00:24.464871Z",
     "iopub.status.idle": "2020-09-08T12:00:25.345639Z",
     "shell.execute_reply": "2020-09-08T12:00:25.346326Z"
    },
    "hidden": true,
    "papermill": {
     "duration": 0.911312,
     "end_time": "2020-09-08T12:00:25.346542",
     "exception": false,
     "start_time": "2020-09-08T12:00:24.435230",
     "status": "completed"
    },
    "tags": []
   },
   "outputs": [],
   "source": [
    "import matplotlib.pyplot as plt\n",
    "import pandas as pd\n",
    "import seaborn as sns\n",
    "from sklearn.metrics import (\n",
    "    confusion_matrix,\n",
    ")\n",
    "from sklearn.model_selection import GridSearchCV, train_test_split\n",
    "from sklearn.preprocessing import LabelEncoder, StandardScaler\n",
    "from sklearn.svm import SVC"
   ]
  },
  {
   "cell_type": "markdown",
   "metadata": {
    "heading_collapsed": true
   },
   "source": [
    "# Dataset"
   ]
  },
  {
   "cell_type": "markdown",
   "metadata": {
    "hidden": true
   },
   "source": [
    "El objetivo es tratar de predecir  el tipo de medicamento que podría ser adecuado para un paciente.\n",
    "\n",
    "Las características que se utilizarán como base para la predicción incluyen:\n",
    "\n",
    "- **Edad**\n",
    "- **Sexo**\n",
    "- **Niveles de presión arterial (BP)**\n",
    "- **Niveles de colesterol**\n",
    "- **Relación sodio/potasio**\n",
    "\n",
    "Los tipos de medicamentos analizados son **Y, C, X, A o B**. Dado que existen cinco clases posibles, se trata de un problema de clasificación multiclase.\n",
    "\n",
    "[Fuente del dataset](https://www.kaggle.com/datasets/prathamtripathi/drug-classification/data)"
   ]
  },
  {
   "cell_type": "code",
   "execution_count": null,
   "metadata": {
    "hidden": true
   },
   "outputs": [],
   "source": [
    "pwd"
   ]
  },
  {
   "cell_type": "code",
   "execution_count": null,
   "metadata": {
    "_cell_guid": "79c7e3d0-c299-4dcb-8224-4455121ee9b0",
    "_uuid": "d629ff2d2480ee46fbb7e2d37f6b5fab8052498a",
    "execution": {
     "iopub.execute_input": "2020-09-08T12:00:25.395741Z",
     "iopub.status.busy": "2020-09-08T12:00:25.394973Z",
     "iopub.status.idle": "2020-09-08T12:00:25.411123Z",
     "shell.execute_reply": "2020-09-08T12:00:25.410436Z"
    },
    "hidden": true,
    "papermill": {
     "duration": 0.044314,
     "end_time": "2020-09-08T12:00:25.411250",
     "exception": false,
     "start_time": "2020-09-08T12:00:25.366936",
     "status": "completed"
    },
    "tags": []
   },
   "outputs": [],
   "source": [
    "csv_path = \"path/to/dataset_medicamentos.csv\"\n",
    "df = pd.read_csv(csv_path)"
   ]
  },
  {
   "cell_type": "code",
   "execution_count": null,
   "metadata": {
    "execution": {
     "iopub.execute_input": "2020-09-08T12:00:25.467797Z",
     "iopub.status.busy": "2020-09-08T12:00:25.466693Z",
     "iopub.status.idle": "2020-09-08T12:00:25.477389Z",
     "shell.execute_reply": "2020-09-08T12:00:25.476780Z"
    },
    "hidden": true,
    "papermill": {
     "duration": 0.0453,
     "end_time": "2020-09-08T12:00:25.477526",
     "exception": false,
     "start_time": "2020-09-08T12:00:25.432226",
     "status": "completed"
    },
    "scrolled": true,
    "tags": []
   },
   "outputs": [],
   "source": [
    "df.head()"
   ]
  },
  {
   "cell_type": "markdown",
   "metadata": {
    "heading_collapsed": true
   },
   "source": [
    "# EDA"
   ]
  },
  {
   "cell_type": "markdown",
   "metadata": {
    "hidden": true
   },
   "source": [
    "**Tarea:**\n",
    "\n",
    "- Imprimir la matriz de correlación\n",
    "\n",
    "- Histograma para Na_to_K\n",
    "\n",
    "- Boxplot para ver Edad en función de la clase (BP)."
   ]
  },
  {
   "cell_type": "markdown",
   "metadata": {
    "heading_collapsed": true
   },
   "source": [
    "# Preprocessing"
   ]
  },
  {
   "cell_type": "code",
   "execution_count": null,
   "metadata": {
    "hidden": true
   },
   "outputs": [],
   "source": [
    "# Verificamos si hay valores no validos\n",
    "total = df.isnull().sum().sort_values(ascending=False)\n",
    "percent = (df.isnull().sum()/df.isnull().count()).sort_values(ascending=False)\n",
    "missing_data = pd.concat([total, percent], axis=1, keys=['Total', 'Percent'])\n",
    "missing_data.head(6)"
   ]
  },
  {
   "cell_type": "code",
   "execution_count": null,
   "metadata": {
    "hidden": true
   },
   "outputs": [],
   "source": [
    "# Son pocas las filas con NaN, asi que las eliminamos\n",
    "df.dropna(inplace=True)"
   ]
  },
  {
   "cell_type": "code",
   "execution_count": null,
   "metadata": {
    "hidden": true,
    "scrolled": true
   },
   "outputs": [],
   "source": [
    "# Información del dataframe\n",
    "df.info()"
   ]
  },
  {
   "cell_type": "markdown",
   "metadata": {
    "hidden": true,
    "papermill": {
     "duration": 0.020833,
     "end_time": "2020-09-08T12:00:25.581451",
     "exception": false,
     "start_time": "2020-09-08T12:00:25.560618",
     "status": "completed"
    },
    "tags": []
   },
   "source": [
    "En la columna Dtype hay varios tipos de datos diferentes: int64, float64 y object.\n",
    "Los datos con tipo object son datos categóricos, por lo que después se debe realizar un preprocesamiento para convertirlos en datos numéricos."
   ]
  },
  {
   "cell_type": "code",
   "execution_count": null,
   "metadata": {
    "hidden": true
   },
   "outputs": [],
   "source": [
    "# Separamos las features del target\n",
    "\n",
    "features = ['Age', 'Sex', 'BP', 'Cholesterol', 'Na_to_K',]\n",
    "target = ['Drug']\n",
    "\n",
    "\n",
    "X = df.loc[:,features]\n",
    "Y = df.loc[:,target]"
   ]
  },
  {
   "cell_type": "code",
   "execution_count": null,
   "metadata": {},
   "outputs": [],
   "source": [
    "Y"
   ]
  },
  {
   "cell_type": "markdown",
   "metadata": {
    "hidden": true
   },
   "source": [
    "- **Para convertir las features categoricas en datos numéricos**, podemos utilizar get_dummies de la librería Pandas."
   ]
  },
  {
   "cell_type": "code",
   "execution_count": null,
   "metadata": {
    "execution": {
     "iopub.execute_input": "2020-09-08T12:00:25.993569Z",
     "iopub.status.busy": "2020-09-08T12:00:25.992442Z",
     "iopub.status.idle": "2020-09-08T12:00:25.996857Z",
     "shell.execute_reply": "2020-09-08T12:00:25.996110Z"
    },
    "hidden": true,
    "papermill": {
     "duration": 0.037623,
     "end_time": "2020-09-08T12:00:25.996980",
     "exception": false,
     "start_time": "2020-09-08T12:00:25.959357",
     "status": "completed"
    },
    "tags": []
   },
   "outputs": [],
   "source": [
    "categorical_data = ['Sex','BP','Cholesterol']\n",
    "X = pd.get_dummies(X, columns=categorical_data)\n",
    "X.head()"
   ]
  },
  {
   "cell_type": "markdown",
   "metadata": {
    "hidden": true,
    "papermill": {
     "duration": 0.021747,
     "end_time": "2020-09-08T12:00:26.100890",
     "exception": false,
     "start_time": "2020-09-08T12:00:26.079143",
     "status": "completed"
    },
    "tags": []
   },
   "source": [
    "Ahora se puede observar que las variables categoricas son reemplazadas por columnas por cada clase. Por ejemplo, en la columna BP hay tres clases: BP_HIGH,\tBP_LOW y BP_NORMAL.\n"
   ]
  },
  {
   "cell_type": "markdown",
   "metadata": {
    "hidden": true
   },
   "source": [
    "- **Para convertir el target en datos numéricos**, podemos utilizar LabelEncoder de sklearn."
   ]
  },
  {
   "cell_type": "code",
   "execution_count": null,
   "metadata": {
    "hidden": true
   },
   "outputs": [],
   "source": [
    "# Definimos la instancia del objeto LabelEncoder\n",
    "le = LabelEncoder()\n",
    "# Ajustamos y transformamos la variable objetivo\n",
    "Y_encoded = le.fit_transform(Y)\n",
    "\n",
    "print(\"Clases:\", le.classes_)"
   ]
  },
  {
   "cell_type": "code",
   "execution_count": null,
   "metadata": {},
   "outputs": [],
   "source": [
    "df_temp = pd.DataFrame({\n",
    "    \"Drug_original\": Y.values.ravel(),\n",
    "    \"Label\": Y_encoded\n",
    "})\n",
    "\n",
    "df_temp"
   ]
  },
  {
   "cell_type": "markdown",
   "metadata": {
    "heading_collapsed": true,
    "papermill": {
     "duration": 0.023658,
     "end_time": "2020-09-08T12:00:28.585846",
     "exception": false,
     "start_time": "2020-09-08T12:00:28.562188",
     "status": "completed"
    },
    "tags": []
   },
   "source": [
    "# Train & Evaluate"
   ]
  },
  {
   "cell_type": "code",
   "execution_count": null,
   "metadata": {
    "execution": {
     "iopub.execute_input": "2020-09-08T12:00:28.763357Z",
     "iopub.status.busy": "2020-09-08T12:00:28.762421Z",
     "iopub.status.idle": "2020-09-08T12:00:28.767424Z",
     "shell.execute_reply": "2020-09-08T12:00:28.766797Z"
    },
    "hidden": true,
    "papermill": {
     "duration": 0.035396,
     "end_time": "2020-09-08T12:00:28.767586",
     "exception": false,
     "start_time": "2020-09-08T12:00:28.732190",
     "status": "completed"
    },
    "tags": []
   },
   "outputs": [],
   "source": [
    "# Separamos train y test\n",
    "\n",
    "x_train, x_test, y_train, y_test = train_test_split(X, Y_encoded, test_size=0.2, random_state=34)\n",
    "\n",
    "print(x_train.shape,y_train.shape)\n",
    "print(x_test.shape,y_test.shape)\n",
    "print(f\"Los datos se dividieron en cuatro partes: {x_train.shape[0]} datos para entrenamiento y {x_test.shape[0]} datos para test\")"
   ]
  },
  {
   "cell_type": "markdown",
   "metadata": {
    "hidden": true
   },
   "source": [
    "\n",
    "- **Utilizamos StandardScaler** para la variable numérica Na_to_K"
   ]
  },
  {
   "cell_type": "code",
   "execution_count": null,
   "metadata": {
    "hidden": true
   },
   "outputs": [],
   "source": [
    "scaler = StandardScaler()\n",
    "scaler.fit(x_train[[\"Na_to_K\"]])\n",
    "\n",
    "x_train[\"Na_to_K\"] = scaler.transform(x_train[[\"Na_to_K\"]])\n",
    "x_test[\"Na_to_K\"] = scaler.transform(x_test[[\"Na_to_K\"]])"
   ]
  },
  {
   "cell_type": "markdown",
   "metadata": {
    "hidden": true
   },
   "source": [
    "Los datos de testeo no se utilizan para el entrenamiento, unicamente se transforman. Sino le estamos pasando información que influyen en el resultado del perfomance del modelo ==> **Data leakage** "
   ]
  },
  {
   "cell_type": "markdown",
   "metadata": {
    "heading_collapsed": true,
    "hidden": true
   },
   "source": [
    "## SVC "
   ]
  },
  {
   "cell_type": "code",
   "execution_count": null,
   "metadata": {
    "execution": {
     "iopub.execute_input": "2020-09-08T12:00:29.380747Z",
     "iopub.status.busy": "2020-09-08T12:00:29.379913Z",
     "iopub.status.idle": "2020-09-08T12:00:29.383582Z",
     "shell.execute_reply": "2020-09-08T12:00:29.382924Z"
    },
    "hidden": true,
    "papermill": {
     "duration": 0.081983,
     "end_time": "2020-09-08T12:00:29.383708",
     "exception": false,
     "start_time": "2020-09-08T12:00:29.301725",
     "status": "completed"
    },
    "tags": []
   },
   "outputs": [],
   "source": [
    "# Creamos una instancia de la clase SVC con el nombre model.\n",
    "model = SVC()\n",
    "\n",
    "model.fit(x_train,y_train)  # entrenamos con los datos que separamos\n",
    "prediction = model.predict(x_test) # obtenemos las predicciones y las guardamos en una variable"
   ]
  },
  {
   "cell_type": "code",
   "execution_count": null,
   "metadata": {
    "execution": {
     "iopub.execute_input": "2020-09-08T12:00:29.610406Z",
     "iopub.status.busy": "2020-09-08T12:00:29.609483Z",
     "iopub.status.idle": "2020-09-08T12:00:29.613829Z",
     "shell.execute_reply": "2020-09-08T12:00:29.614362Z"
    },
    "hidden": true,
    "papermill": {
     "duration": 0.044918,
     "end_time": "2020-09-08T12:00:29.614593",
     "exception": false,
     "start_time": "2020-09-08T12:00:29.569675",
     "status": "completed"
    },
    "tags": []
   },
   "outputs": [],
   "source": [
    "prediction"
   ]
  },
  {
   "cell_type": "code",
   "execution_count": null,
   "metadata": {
    "execution": {
     "iopub.execute_input": "2020-09-08T12:00:29.674662Z",
     "iopub.status.busy": "2020-09-08T12:00:29.673814Z",
     "iopub.status.idle": "2020-09-08T12:00:29.679833Z",
     "shell.execute_reply": "2020-09-08T12:00:29.679123Z"
    },
    "hidden": true,
    "papermill": {
     "duration": 0.038717,
     "end_time": "2020-09-08T12:00:29.679958",
     "exception": false,
     "start_time": "2020-09-08T12:00:29.641241",
     "status": "completed"
    },
    "tags": []
   },
   "outputs": [],
   "source": [
    "# Evaluamos el modelo\n",
    "model.score(x_test,y_test)"
   ]
  },
  {
   "cell_type": "code",
   "execution_count": null,
   "metadata": {
    "hidden": true
   },
   "outputs": [],
   "source": [
    "# Veamos la matriz de confusion ...\n",
    "cm1 = confusion_matrix(y_test, prediction)\n",
    "# Visualizamos la matriz de confusión\n",
    "plt.figure(figsize=(10,7))\n",
    "sns.heatmap(cm1, annot=True)\n",
    "plt.xlabel('Predicted Value')\n",
    "plt.ylabel('True Value')"
   ]
  },
  {
   "cell_type": "markdown",
   "metadata": {
    "hidden": true
   },
   "source": [
    "## Discusion: \n",
    "**Que se observa?**"
   ]
  },
  {
   "cell_type": "markdown",
   "metadata": {
    "heading_collapsed": true,
    "hidden": true,
    "papermill": {
     "duration": 0.025788,
     "end_time": "2020-09-08T12:00:30.347743",
     "exception": false,
     "start_time": "2020-09-08T12:00:30.321955",
     "status": "completed"
    },
    "tags": []
   },
   "source": [
    "## Grid search "
   ]
  },
  {
   "cell_type": "code",
   "execution_count": null,
   "metadata": {
    "execution": {
     "iopub.execute_input": "2020-09-08T12:00:30.468308Z",
     "iopub.status.busy": "2020-09-08T12:00:30.467201Z",
     "iopub.status.idle": "2020-09-08T12:00:30.471584Z",
     "shell.execute_reply": "2020-09-08T12:00:30.470850Z"
    },
    "hidden": true,
    "papermill": {
     "duration": 0.037032,
     "end_time": "2020-09-08T12:00:30.471713",
     "exception": false,
     "start_time": "2020-09-08T12:00:30.434681",
     "status": "completed"
    },
    "tags": []
   },
   "outputs": [],
   "source": [
    "# Creemos un dict con los hyperparametros que queremos optimizar de un SVC.\n",
    "grid = {\n",
    "    'C':[0.001, 0.01,0.1,1,10],\n",
    "    'kernel' : [\"linear\",\"poly\",\"rbf\",\"sigmoid\"],\n",
    "    'degree' : [1,3,5,7],\n",
    "    'gamma' : [0.001, 0.01, 1]\n",
    "}\n",
    "\n",
    "# Creamos la instancia del modelo\n",
    "svm  = SVC ()\n",
    "# Creamos la instancia del GridSearchCV a la que le pasamos el modelo, la grilla de hyperparametros y la cantidad de folds para cross validation.\n",
    "svm_cv = GridSearchCV(\n",
    "    estimator= svm, # El modelo que queremos optimizar\n",
    "    param_grid= grid, # La grilla de hyperparametros donde vamos a buscar\n",
    "    cv = 5, # Numero de folds para cross validation\n",
    "    refit=True, # Volver a entrenar el modelo con los mejores parametros\n",
    "    verbose=1\n",
    "    )"
   ]
  },
  {
   "cell_type": "code",
   "execution_count": null,
   "metadata": {},
   "outputs": [],
   "source": [
    "svm_cv.fit(x_train,y_train)"
   ]
  },
  {
   "cell_type": "code",
   "execution_count": null,
   "metadata": {},
   "outputs": [],
   "source": [
    "# Vemos los mejores parametros encontrados y los scores\n",
    "print(\"Best Parameters:\",svm_cv.best_params_)\n",
    "print(\"Train Score:\",svm_cv.best_score_)\n",
    "print(\"Test Score:\",svm_cv.score(x_test,y_test))"
   ]
  },
  {
   "cell_type": "markdown",
   "metadata": {},
   "source": [
    "El usar refit=True en GridSearchCV nos evita tener luego que definir nuevamente el modelo con los mejores hiperparametros,\n",
    "\n",
    "```python\n",
    "model_opt = SVC(\n",
    "    C=svm_cv.best_params_['C'], \n",
    "    degree=svm_cv.best_params_['degree'], \n",
    "    gamma=svm_cv.best_params_['gamma'], \n",
    "    kernel=svm_cv.best_params_['kernel']\n",
    ")\n",
    "model_opt.fit(x_train, y_train)  # entrenamos con los datos que separamos\n",
    "prediction = model_opt.predict(x_test) # obtenemos las predicciones y las guardamos en una variable\n",
    "```"
   ]
  },
  {
   "cell_type": "code",
   "execution_count": null,
   "metadata": {},
   "outputs": [],
   "source": [
    "# Al haber utilizado svm_cv con refit=True, el estimador ya se enbtreno una ultima vez\n",
    "# con los mejores parametros encontrados, pero ahora agregando el fold que faltaba.\n",
    "prediction = svm_cv.predict(x_test) # obtenemos las predicciones y las guardamos en una variable\n",
    "prediction"
   ]
  },
  {
   "cell_type": "code",
   "execution_count": null,
   "metadata": {
    "hidden": true
   },
   "outputs": [],
   "source": [
    "cm1 = confusion_matrix(y_test, prediction)\n",
    "plt.figure(figsize=(10,7))\n",
    "sns.heatmap(cm1,annot=True)\n",
    "plt.xlabel('Predicted Value')\n",
    "plt.ylabel('True Value')"
   ]
  },
  {
   "cell_type": "markdown",
   "metadata": {},
   "source": [
    "# Preguntas?"
   ]
  }
 ],
 "metadata": {
  "kernelspec": {
   "display_name": "caba-2027-eda-py3.12",
   "language": "python",
   "name": "python3"
  },
  "language_info": {
   "codemirror_mode": {
    "name": "ipython",
    "version": 3
   },
   "file_extension": ".py",
   "mimetype": "text/x-python",
   "name": "python",
   "nbconvert_exporter": "python",
   "pygments_lexer": "ipython3",
   "version": "3.12.3"
  },
  "papermill": {
   "duration": 14.17729,
   "end_time": "2020-09-08T12:00:34.192022",
   "environment_variables": {},
   "exception": null,
   "input_path": "__notebook__.ipynb",
   "output_path": "__notebook__.ipynb",
   "parameters": {},
   "start_time": "2020-09-08T12:00:20.014732",
   "version": "2.1.0"
  },
  "toc": {
   "base_numbering": 1,
   "nav_menu": {},
   "number_sections": true,
   "sideBar": true,
   "skip_h1_title": false,
   "title_cell": "Table of Contents",
   "title_sidebar": "Contents",
   "toc_cell": false,
   "toc_position": {},
   "toc_section_display": true,
   "toc_window_display": false
  }
 },
 "nbformat": 4,
 "nbformat_minor": 4
}
